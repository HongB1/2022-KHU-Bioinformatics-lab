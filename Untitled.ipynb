{
 "cells": [
  {
   "cell_type": "markdown",
   "id": "2a857b95",
   "metadata": {},
   "source": [
    "Lab03. 제어문 - if문  \n",
    "\n",
    "이번 장에서는 if, while, for 등의 제어문에 대해서 배우고자 한다. 제어문을 배우기 전에 집을 짓는 일을 생각해 보자.\n",
    "\n",
    "집을 지을 때 나무, 돌, 시멘트 등은 재료가 되고, 철근은 집의 뼈대가 된다. 프로그램을 만드는 것도 집 짓기와 매우 비슷한 면이 있다. 나무, 돌, 시멘트와 같은 재료는 자료형이 되고, 집의 뼈대를 이루는 철근은 이번 장에서 알아볼 제어문에 해당한다. 이번 장에서는 자료형을 바탕으로 제어문을 이용하여 프로그램의 구조를 만들어 보자.  \n",
    "\n",
    "# `if`문\n",
    "목차 :  \n",
    "1. `if`문은 왜 필요할까?  \n",
    "2. `if`문의 기본 구조\n",
    "3. 들여쓰기 \n",
    "4. 조건문이란 무엇인가? \n",
    "   1. 비교연산자\n",
    "   2. `and`, `or`, `not`\n",
    "   3. `x in s`, `x not in s`\n",
    "5. 다양한 조건을 판단하는 `elif`\n",
    "6. 조건부 표현식\n",
    "\n",
    "## 1. if문은 왜 필요할까?\n",
    "다음과 같은 상상을 해보자.\n",
    "\n",
    "\"배가 고프면 야식을 먹고, 고프지 않으면 먹지 않는다.\"\n",
    "\n",
    "우리 모두에게 일어날 수 있는 상황 중 하나이다. 프로그래밍도 사람이 하는 것이므로 위 문장처럼 주어진 조건을 판단한 후 그 상황에 맞게 처리해야 할 경우가 생긴다. 이렇듯 프로그래밍에서 조건을 판단하여 해당 조건에 맞는 상황을 수행하는 데 쓰는 것이 바로 if문이다.\n",
    "\n",
    "<img src=\"https://blog.kakaocdn.net/dn/bgCxCK/btqGtC5ZObh/wVMs6DhPVSbTZSKDFVdvc1/img.png\" width=\"400\" height=\"400\"/>  \n",
    "\n",
    "위와 같은 상황을 파이썬에서는 다음과 같이 표현할 수 있다.\n",
    "\n",
    "\n",
    "| 산자     | 내용            |\n",
    "|--------|---------------|\n",
    "| a < b  | a가 b보다 작다     |\n",
    "| a > b  | a가 b보다 크다     |\n",
    "| a == b | a와 b가 같다      |\n",
    "| a != b | a와 b가 같지 않다   |\n",
    "| a >= b | a가 b보다 크거나 같다 |\n",
    "| a <= b | a가 b보다 작거나 같다 |"
   ]
  },
  {
   "cell_type": "code",
   "execution_count": 2,
   "id": "818f560a",
   "metadata": {},
   "outputs": [
    {
     "name": "stdout",
     "output_type": "stream",
     "text": [
      "야식을 먹는다\n"
     ]
    }
   ],
   "source": [
    "hungry = True\n",
    "if hungry:\n",
    "    print(\"야식을 먹는다\")\n",
    "else : \n",
    "    print(\"먹지 않는다\")"
   ]
  },
  {
   "cell_type": "markdown",
   "id": "baf9b5a8",
   "metadata": {},
   "source": [
    "hungry에 True를 입력했으므로 hungry는 참이다. 따라서 if문 다음 문장이 수행되어 '야식을 먹는다'가 출력된다.\n",
    "\n",
    "## 2. if문의 기본 구조\n",
    "```\n",
    "if 조건문:\n",
    "    수행할 문장1\n",
    "    수행할 문장2\n",
    "    ...\n",
    "else:\n",
    "    수행할 문장A\n",
    "    수행할 문장B\n",
    "    ...\n",
    "\n",
    "\n",
    "\n",
    "조건문을 테스트해서 참이면 if문 바로 다음 문장(if 블록)들을 수행하고, 조건문이 거짓이면 else문 다음 문장(else 블록)들을 수행하게 된다. 그러므로 else문은 if문 없이 독립적으로 사용할 수 없다."
   ]
  },
  {
   "cell_type": "code",
   "execution_count": null,
   "id": "9d460f4e",
   "metadata": {},
   "outputs": [],
   "source": []
  }
 ],
 "metadata": {
  "interpreter": {
   "hash": "9132612d292018844046efb7d61620c385772bf99f2e53a3f7e93381535a3719"
  },
  "kernelspec": {
   "display_name": "Python 3.10.5 ('lab')",
   "language": "python",
   "name": "python3"
  },
  "language_info": {
   "codemirror_mode": {
    "name": "ipython",
    "version": 3
   },
   "file_extension": ".py",
   "mimetype": "text/x-python",
   "name": "python",
   "nbconvert_exporter": "python",
   "pygments_lexer": "ipython3",
   "version": "3.10.5"
  }
 },
 "nbformat": 4,
 "nbformat_minor": 5
}
