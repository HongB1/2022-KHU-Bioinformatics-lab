{
 "cells": [
  {
   "cell_type": "code",
   "execution_count": null,
   "metadata": {},
   "outputs": [],
   "source": [
    "import sys\n",
    "\n",
    "sys.path.append('/home/hb/python/DeepNeo/code/module')\n",
    "import pickle\n",
    "import numpy as np\n",
    "import pandas as pd\n",
    "from tqdm.notebook import tqdm\n",
    "from benchmark_util import prepare_test_dataset, LoadingModel, AttrDict\n",
    "import torch\n",
    "from efficientnet_new import *\n",
    "from sklearn.metrics import accuracy_score, precision_score, recall_score, f1_score, roc_auc_score\n",
    "import sklearn\n",
    "import seaborn as sns\n",
    "import matplotlib\n",
    "import matplotlib.pyplot as plt\n",
    "import numpy as np\n",
    "import statistics\n",
    "import itertools\n",
    "import os"
   ]
  },
  {
   "cell_type": "code",
   "execution_count": null,
   "metadata": {},
   "outputs": [],
   "source": [
    "test = pd.read_pickle(\"/home/hb/python/ssd/DeepNeo/total_pair/with_matrix/C_10.pkl\")\n",
    "\n",
    "os.chdir('/home/hb/python/DeepNeo/saved_model/bs512')\n",
    "print(os.listdir())\n",
    "filedir_list = []\n",
    "filedir_list = [f'{os.getcwd()}/{i}' for i in os.listdir()]\n",
    "filedir_list.sort()\n",
    "# filedir_list = filedir_list[:-1]\n",
    "print(filedir_list)\n"
   ]
  }
 ],
 "metadata": {
  "language_info": {
   "name": "python"
  },
  "orig_nbformat": 4
 },
 "nbformat": 4,
 "nbformat_minor": 2
}
