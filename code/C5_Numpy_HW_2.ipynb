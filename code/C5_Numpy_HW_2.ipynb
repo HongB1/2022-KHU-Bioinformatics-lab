{
 "cells": [
  {
   "cell_type": "markdown",
   "metadata": {},
   "source": [
    "[![Open In Colab](https://colab.research.google.com/assets/colab-badge.svg)](https://colab.research.google.com/github/HongB1/2022-KHU-Bioinformatics-lab/blob/master/code/C5_Numpy_HW_2.ipynb)"
   ]
  },
  {
   "cell_type": "code",
   "execution_count": 2,
   "metadata": {},
   "outputs": [],
   "source": [
    "# Indexing and Slicing Vector ndarrays\n",
    "# ndarray a에 대해 인덱싱 및 슬라이싱을 자유롭게 해보세요 => 5개 해보세요.\n",
    "import numpy as np\n",
    "\n",
    "a = np.arange(10)"
   ]
  },
  {
   "cell_type": "code",
   "execution_count": 3,
   "metadata": {},
   "outputs": [
    {
     "name": "stdout",
     "output_type": "stream",
     "text": [
      "[0 1 2] => 0, 1, 2\n",
      "[3 4 5] => 3, 4, 5\n",
      "[6 7 8] => 6, 7, 8\n",
      "0 - 1 - 2\n",
      "3 - 4 - 5\n",
      "6 - 7 - 8\n"
     ]
    }
   ],
   "source": [
    "# Indexing and Slicing Matrix ndarrays \n",
    "# Matrix 슬라이싱을 하는 방법은 다음과 같이 두가지 방법으로 할 수 있습니다.\n",
    "a = np.arange(9).reshape((3, -1))\n",
    "print(f'{a[0]} => {a[0][0]}, {a[0][1]}, {a[0][2]}')\n",
    "print(f'{a[1]} => {a[1][0]}, {a[1][1]}, {a[1][2]}')\n",
    "print(f'{a[2]} => {a[2][0]}, {a[2][1]}, {a[2][2]}')\n",
    "print(a[0, 0], a[0, 1], a[0, 2], sep=' - ') \n",
    "print(a[1, 0], a[1, 1], a[1, 2], sep=' - ') \n",
    "print(a[2, 0], a[2, 1], a[2, 2], sep=' - ')"
   ]
  },
  {
   "cell_type": "code",
   "execution_count": 4,
   "metadata": {},
   "outputs": [],
   "source": [
    "# Matrix ndarray를 생성한 후, (총 3가지를 출력하세요.) \n",
    "# 1. ndarray 출력\n",
    "# 2. size, shape, dimension 출력\n",
    "# 3. 위의 예시처럼 두 가지 방법으로 자유롭게 Matrix를 인덱싱 해보세요. => 각각 2개씩 총 4개"
   ]
  },
  {
   "cell_type": "code",
   "execution_count": 5,
   "metadata": {},
   "outputs": [],
   "source": [
    "# 위에서 생성한 Matrix ndarray를 자유롭게 슬라이싱해보세요."
   ]
  },
  {
   "cell_type": "markdown",
   "metadata": {},
   "source": [
    "## Indexing Vector with various int ndarrays\n",
    "### 1. Indexing Vector with vector int ndarrays \n",
    "### 2. Indexing Vector with matrix int ndarrays\n",
    "### 3. Indexing Vector with tensor int ndarrays"
   ]
  },
  {
   "cell_type": "code",
   "execution_count": 16,
   "metadata": {},
   "outputs": [
    {
     "name": "stdout",
     "output_type": "stream",
     "text": [
      "ndarray: \n",
      "[ 9  2 13 10 12 15 10 12  5 17]\n",
      "\n",
      "by vector_indices:  [ 9 10 12] \n",
      "\n",
      "(3,)\n"
     ]
    }
   ],
   "source": [
    "# Indexing Vector with vector int ndarrays \n",
    "# 1. a는 Vector ndarray\n",
    "a = np.random.randint(0, 20, size=(10, ))\n",
    "print(f'ndarray: \\n{a}\\n')\n",
    "\n",
    "# 2. 인덱싱 객체(indices)를 Vector로 생성\n",
    "vector_indices = np.array([0, 3, 4]) # a를 인덱싱하기 위해 인덱싱할 숫자로 이뤄진 ndarray 객체(indices) 생성\n",
    "\n",
    "# 3. a에 대해 인덱싱 출력\n",
    "print('by vector_indices: ', a[vector_indices], '\\n')\n",
    "\n",
    "# 4. a에 대해 인덱싱한 것 shape 출력\n",
    "print(a[vector_indices].shape)"
   ]
  },
  {
   "cell_type": "code",
   "execution_count": 17,
   "metadata": {},
   "outputs": [
    {
     "name": "stdout",
     "output_type": "stream",
     "text": [
      "ndarray: \n",
      "[ 7 10 11  6 15  7 13 13 11 18]\n",
      "\n"
     ]
    }
   ],
   "source": [
    "# Indexing Vector with matrix int ndarrays \n",
    "# 1. a는 그대로\n",
    "a = np.random.randint(0, 20, size=(10, ))\n",
    "print(f'ndarray: \\n{a}\\n')\n",
    "\n",
    "# 2. 이번엔 인덱싱 객체(indices)를 Matrix로 생성\n",
    "\n",
    "# 3. a에 대해 인덱싱 출력\n",
    "\n",
    "# 4. a에 대해 인덱싱한 것 shape 출력\n"
   ]
  },
  {
   "cell_type": "code",
   "execution_count": 18,
   "metadata": {},
   "outputs": [
    {
     "name": "stdout",
     "output_type": "stream",
     "text": [
      "ndarray: \n",
      "[15  0 12 10  3 13 10  1  9 13]\n",
      "\n"
     ]
    }
   ],
   "source": [
    "# Indexing Vector with tensor int ndarrays \n",
    "# 1. a는 그대로\n",
    "a = np.random.randint(0, 20, size=(10, ))\n",
    "print(f'ndarray: \\n{a}\\n')\n",
    "\n",
    "# 2. 이번엔 인덱싱 객체(indices)를 Tensor로 생성\n",
    "\n",
    "# 3. a에 대해 인덱싱 출력\n",
    "\n",
    "# 4. a에 대해 인덱싱한 것 shape 출력\n"
   ]
  },
  {
   "cell_type": "markdown",
   "metadata": {},
   "source": [
    "## Indexing Matrix with various int ndarrays\n",
    "### 1. Indexing Matrix with vector int ndarrays \n",
    "### 2. Indexing Matrix with matrix int ndarrays\n",
    "### 3. Indexing Matrix with tensor int ndarrays"
   ]
  },
  {
   "cell_type": "code",
   "execution_count": 20,
   "metadata": {},
   "outputs": [
    {
     "name": "stdout",
     "output_type": "stream",
     "text": [
      "ndarray: \n",
      "[[ 0  1  2  3]\n",
      " [ 4  5  6  7]\n",
      " [ 8  9 10 11]]\n",
      "\n",
      "indices: \n",
      "[0 2]\n",
      "\n",
      "a[indices]: \n",
      "[[ 0  1  2  3]\n",
      " [ 8  9 10 11]]\n"
     ]
    }
   ],
   "source": [
    "# Indexing Matrix with vector int ndarrays \n",
    "# 예시를 보여주기 위해 적어놨는데, 지우고 다른 케이스에 대해 새로 만들어서 해보세요.\n",
    "## 1. Matrix a 생성\n",
    "a = np.arange(12).reshape((3, 4)) \n",
    "print(f\"ndarray: \\n{a}\\n\")\n",
    "\n",
    "## 2. matrix형태의 인덱싱 객체(indices) 생성\n",
    "indices = np.array([0, 2])  # shape이 (2,) 인 벡터인 것\n",
    "print(f\"indices: \\n{indices}\\n\")\n",
    "\n",
    "# 3. a에 대해 인덱싱 출력\n",
    "print(f\"a[indices]: \\n{a[indices]}\") # 2짜리 안에 len=4인 vector가 2개 들어가는 것임"
   ]
  },
  {
   "cell_type": "code",
   "execution_count": 21,
   "metadata": {},
   "outputs": [
    {
     "name": "stdout",
     "output_type": "stream",
     "text": [
      "ndarray: \n",
      "[[ 0  1  2  3]\n",
      " [ 4  5  6  7]\n",
      " [ 8  9 10 11]]\n",
      "\n",
      "indices: \n",
      "[[0 1 0]\n",
      " [1 0 2]]\n",
      "\n",
      "a[indices]: \n",
      "[[[ 0  1  2  3]\n",
      "  [ 4  5  6  7]\n",
      "  [ 0  1  2  3]]\n",
      "\n",
      " [[ 4  5  6  7]\n",
      "  [ 0  1  2  3]\n",
      "  [ 8  9 10 11]]]\n"
     ]
    }
   ],
   "source": [
    "# Indexing Matrix with matrix int ndarrays \n",
    "# 예시를 보여주기 위해 적어놨는데, 지우고 다른 케이스에 대해 새로 만들어서 해보세요.\n",
    "## 1. Matrix a 생성\n",
    "a = np.arange(12).reshape((3, 4)) \n",
    "print(f\"ndarray: \\n{a}\\n\")\n",
    "\n",
    "## 2. matrix형태의 인덱싱 객체(indices) 생성\n",
    "indices = np.random.randint(0, 3, size=(2, 3))\n",
    "print(f\"indices: \\n{indices}\\n\")\n",
    "\n",
    "# 3. a에 대해 인덱싱 출력\n",
    "print(f\"a[indices]: \\n{a[indices]}\") # 2짜리 안에 len=4인 vector가 2개 들어가는 것임"
   ]
  },
  {
   "cell_type": "code",
   "execution_count": 22,
   "metadata": {},
   "outputs": [
    {
     "name": "stdout",
     "output_type": "stream",
     "text": [
      "ndarray: \n",
      "[[ 0  1  2  3]\n",
      " [ 4  5  6  7]\n",
      " [ 8  9 10 11]]\n",
      "\n",
      "indices: \n",
      "[[[1 0 1 1]\n",
      "  [0 2 1 1]]\n",
      "\n",
      " [[2 2 2 2]\n",
      "  [2 2 2 0]]]\n",
      "\n",
      "a[indices]: \n",
      "[[[[ 4  5  6  7]\n",
      "   [ 0  1  2  3]\n",
      "   [ 4  5  6  7]\n",
      "   [ 4  5  6  7]]\n",
      "\n",
      "  [[ 0  1  2  3]\n",
      "   [ 8  9 10 11]\n",
      "   [ 4  5  6  7]\n",
      "   [ 4  5  6  7]]]\n",
      "\n",
      "\n",
      " [[[ 8  9 10 11]\n",
      "   [ 8  9 10 11]\n",
      "   [ 8  9 10 11]\n",
      "   [ 8  9 10 11]]\n",
      "\n",
      "  [[ 8  9 10 11]\n",
      "   [ 8  9 10 11]\n",
      "   [ 8  9 10 11]\n",
      "   [ 0  1  2  3]]]]\n"
     ]
    }
   ],
   "source": [
    "# Indexing Matrix with tensor int ndarrays \n",
    "# 예시를 보여주기 위해 적어놨는데, 지우고 다른 케이스에 대해 새로 만들어서 해보세요.\n",
    "## 1. Matrix a 생성\n",
    "a = np.arange(12).reshape((3, 4)) \n",
    "print(f\"ndarray: \\n{a}\\n\")\n",
    "\n",
    "## 2. tensor 형태의 인덱싱 객체(indices) 생성\n",
    "indices = np.random.randint(0, 3, size=(2, 2, 4))\n",
    "print(f\"indices: \\n{indices}\\n\")\n",
    "\n",
    "# 3. a에 대해 인덱싱 출력\n",
    "print(f\"a[indices]: \\n{a[indices]}\") # 2짜리 안에 len=4인 vector가 2개 들어가는 것임"
   ]
  },
  {
   "cell_type": "code",
   "execution_count": 24,
   "metadata": {},
   "outputs": [
    {
     "name": "stdout",
     "output_type": "stream",
     "text": [
      "ndarray: \n",
      "[[[ 0  1  2  3]\n",
      "  [ 4  5  6  7]\n",
      "  [ 8  9 10 11]]\n",
      "\n",
      " [[12 13 14 15]\n",
      "  [16 17 18 19]\n",
      "  [20 21 22 23]]\n",
      "\n",
      " [[24 25 26 27]\n",
      "  [28 29 30 31]\n",
      "  [32 33 34 35]]]\n",
      "\n",
      "indices: \n",
      "[0 2]\n",
      "\n",
      "a[indices]: \n",
      "[[[ 0  1  2  3]\n",
      "  [ 4  5  6  7]\n",
      "  [ 8  9 10 11]]\n",
      "\n",
      " [[24 25 26 27]\n",
      "  [28 29 30 31]\n",
      "  [32 33 34 35]]]\n"
     ]
    }
   ],
   "source": [
    "\"\"\"\n",
    "Indexing Tensor with vector int ndarray\n",
    "\"\"\"\n",
    "# 예시를 보여주기 위해 적어놨는데, 지우고 다른 케이스에 대해 새로 만들어서 해보세요.\n",
    "\n",
    "## 1. Tensor a 생성\n",
    "a = np.arange(36).reshape((3, 3, 4)) \n",
    "print(f\"ndarray: \\n{a}\\n\")\n",
    "\n",
    "## 2. matrix형태의 인덱싱 객체(indices) 생성\n",
    "indices = np.array([0, 2])  # shape이 (2,) 인 벡터인 것\n",
    "print(f\"indices: \\n{indices}\\n\")\n",
    "\n",
    "# 3. a에 대해 인덱싱 출력\n",
    "print(f\"a[indices]: \\n{a[indices]}\") # 2짜리 안에 len=4인 vector가 2개 들어가는 것임"
   ]
  },
  {
   "cell_type": "markdown",
   "metadata": {},
   "source": [
    "# Indexing with bool ndarrays"
   ]
  },
  {
   "cell_type": "code",
   "execution_count": 26,
   "metadata": {},
   "outputs": [
    {
     "name": "stdout",
     "output_type": "stream",
     "text": [
      "ndarray: \n",
      "[0 1 2 3 4]\n",
      "b_indices: \n",
      "[ True False  True False  True]\n",
      "\n",
      "a[b_indices]: \n",
      "[0 2 4]\n"
     ]
    }
   ],
   "source": [
    "\"\"\"\n",
    "ndarray 객체를 생성한 후, Boolean값으로 이뤄진 ndarray객체를 만들어 인덱싱해보세요.\n",
    "\"\"\"\n",
    "# 예시를 보여주기 위해 적어놨는데, 지우고 다른 케이스에 대해 새로 만들어서 해보세요.\n",
    "\n",
    "# 1. ndarray 객체 생성\n",
    "a = np.arange(5) \n",
    "print(f\"ndarray: \\n{a}\")\n",
    "\n",
    "# 2. 인덱싱하기 위한 bool ndarrays(indices) 생성\n",
    "b_indices = np.array([True, False, True, False, True])\n",
    "print(f\"b_indices: \\n{b_indices}\\n\")\n",
    "\n",
    "# 3. indices를 이용하여 a를 인덱싱\n",
    "print(f\"a[b_indices]: \\n{a[b_indices]}\")"
   ]
  },
  {
   "cell_type": "code",
   "execution_count": 27,
   "metadata": {},
   "outputs": [
    {
     "name": "stdout",
     "output_type": "stream",
     "text": [
      "ndarray: \n",
      "[ 1 15 12 14  9  8 13  5 13  1]\n",
      "b_indices: \n",
      "[False False  True  True False  True False False False False]\n",
      "\n",
      "a[b_indices]: \n",
      "[12 14  8]\n"
     ]
    },
    {
     "data": {
      "text/plain": [
       "array([12, 14,  8])"
      ]
     },
     "execution_count": 27,
     "metadata": {},
     "output_type": "execute_result"
    }
   ],
   "source": [
    "\"\"\"\n",
    "ndarray 객체를 생성한 후, \n",
    "3으로 나눈 나머지가 0인 값만 True로 반환해주는 Boolean값으로 이뤄진 ndarray객체를 만들어 인덱싱해보세요.\n",
    "\"\"\"\n",
    "# 예시를 보여주기 위해 적어놨는데, 지우고 다른 케이스에 대해 새로 만들어서 해보세요.\n",
    "\n",
    "# 1. ndarray 객체 생성\n",
    "a = np.random.randint(0, 20, (10, )) \n",
    "print(f\"ndarray: \\n{a}\")\n",
    "\n",
    "# 2. 3으로 나눈 나머지가 0인 값만 True로 반환해주는 ndarray 객체 생성\n",
    "b_indices = (a % 2 == 0) # 2로 나눈 나머지가 0인 조건으로 예시를 들어놓은 것입니다. 지우고 제시한 조건에 맞게 다시 작성하세요.\n",
    "print(f\"b_indices: \\n{b_indices}\\n\")\n",
    "\n",
    "# 3. 2번에서 생성한 ndarray 객체로 a 인덱싱\n",
    "print(f\"a[b_indices]: \\n{a[b_indices]}\")\n"
   ]
  },
  {
   "cell_type": "code",
   "execution_count": 28,
   "metadata": {},
   "outputs": [
    {
     "name": "stdout",
     "output_type": "stream",
     "text": [
      "[[ 0 -1 -2 -1 -1]\n",
      " [ 0  0  0 -1  0]\n",
      " [-2 -1 -2 -2  0]\n",
      " [-1  0 -2 -2 -2]\n",
      " [-1  0 -1  0  0]]\n",
      "[-1 -2 -1 -1 -1 -2 -1 -2 -2 -1 -2 -2 -2 -1 -1]\n"
     ]
    }
   ],
   "source": [
    "\"\"\"\n",
    "np.nonzero()를 사용하여 0이 아닌 값만 인덱싱하기\n",
    "\"\"\"\n",
    "# 예시를 보여주기 위해 적어놨는데, 지우고 다른 케이스에 대해 새로 만들어서 해보세요.\n",
    "a = np.random.randint(-2, 1, size=(5, 5))\n",
    "\n",
    "a_nonzero = a[np.nonzero(a)]\n",
    "print(a)\n",
    "print(a_nonzero)\n"
   ]
  },
  {
   "cell_type": "code",
   "execution_count": 32,
   "metadata": {},
   "outputs": [
    {
     "name": "stdout",
     "output_type": "stream",
     "text": [
      "[[[ 1  3  5  4  4]\n",
      "  [-2  1  0  2  3]\n",
      "  [ 3  0  4  1  5]]\n",
      "\n",
      " [[ 5  1 -2  6  0]\n",
      "  [ 6  2  1  0 -1]\n",
      "  [-2  3 -2  4  5]]]\n",
      "[3 0 3 3 0 6 0 6 0 3]\n"
     ]
    }
   ],
   "source": [
    "\"\"\"\n",
    "np.where()를 사용하여 괄호 안에 조건을 설정하여, 해당 조건을 만족하는(=True) 값만 인덱싱해보세요.\n",
    "\"\"\"\n",
    "# 예시를 보여주기 위해 적어놨는데, 지우고 다른 케이스에 대해 새로 만들어서 해보세요.\n",
    "a = np.random.randint(-3, 7, size=(2, 3, 5))\n",
    "a_where = a[np.where(a%3==0)]\n",
    "print(a)\n",
    "print(a_where)"
   ]
  },
  {
   "cell_type": "markdown",
   "metadata": {},
   "source": [
    "# Axis 사용하기"
   ]
  },
  {
   "cell_type": "code",
   "execution_count": 36,
   "metadata": {},
   "outputs": [
    {
     "name": "stdout",
     "output_type": "stream",
     "text": [
      "ndarray: (2, 2, 4)\n",
      "[[[ 0  1  2  3]\n",
      "  [ 4  5  6  7]]\n",
      "\n",
      " [[ 8  9 10 11]\n",
      "  [12 13 14 15]]]\n",
      "\n",
      "ndarray.sum(axis=0): (2, 4)\n",
      "[[ 8 10 12 14]\n",
      " [16 18 20 22]]\n",
      "\n",
      "ndarray.sum(axis=1): (2, 4)\n",
      "[[ 4  6  8 10]\n",
      " [20 22 24 26]]\n",
      "\n",
      "ndarray.sum(axis=2): (2, 2)\n",
      "[[ 6 22]\n",
      " [38 54]]\n",
      "\n"
     ]
    }
   ],
   "source": [
    "\"\"\"\n",
    "np.sum & ndarray.sum\n",
    "of Matrix with axis Argument\n",
    "ndarray 객체를 생성한 후, 다양한 axis를 기준으로 sum을 사용해보세요.\n",
    "\"\"\"\n",
    "# 예시를 보여주기 위해 적어놨는데, 지우고 다른 케이스에 대해 새로 만들어서 해보세요.\n",
    "\n",
    "a = np.arange(16).reshape((2, 2, -1))\n",
    "sum_axis0 = a.sum(axis=0)\n",
    "sum_axis1 = a.sum(axis=1)\n",
    "sum_axis2 = a.sum(axis=2)\n",
    "\n",
    "print(\"ndarray: {}\\n{}\\n\".format(a.shape, a)) \n",
    "print(\"ndarray.sum(axis=0): {}\\n{}\\n\".format(sum_axis0.shape, sum_axis0))\n",
    "print(\"ndarray.sum(axis=1): {}\\n{}\\n\".format(sum_axis1.shape, sum_axis1))\n",
    "print(\"ndarray.sum(axis=2): {}\\n{}\\n\".format(sum_axis2.shape, sum_axis2))"
   ]
  },
  {
   "cell_type": "code",
   "execution_count": 38,
   "metadata": {},
   "outputs": [
    {
     "name": "stdout",
     "output_type": "stream",
     "text": [
      "ndarray: (2, 2, 4)\n",
      "[[[ 0  1  2  3]\n",
      "  [ 4  5  6  7]]\n",
      "\n",
      " [[ 8  9 10 11]\n",
      "  [12 13 14 15]]]\n",
      "\n",
      "ndarray.mean(axis=0): (2, 4)\n",
      "[[ 4.  5.  6.  7.]\n",
      " [ 8.  9. 10. 11.]]\n",
      "\n",
      "ndarray.mean(axis=1): (2, 4)\n",
      "[[ 2.  3.  4.  5.]\n",
      " [10. 11. 12. 13.]]\n",
      "\n",
      "ndarray.mean(axis=2): (2, 2)\n",
      "[[ 1.5  5.5]\n",
      " [ 9.5 13.5]]\n",
      "\n"
     ]
    }
   ],
   "source": [
    "\"\"\"\n",
    "np.sum & ndarray.sum\n",
    "of Matrix with axis Argument\n",
    "ndarray 객체를 생성한 후, 다양한 axis를 기준으로 sum을 사용해보세요.\n",
    "\"\"\"\n",
    "# 예시를 보여주기 위해 적어놨는데, 지우고 다른 케이스에 대해 새로 만들어서 해보세요.\n",
    "\n",
    "a = np.arange(16).reshape((2, 2, -1))\n",
    "mean_axis0 = a.mean(axis=0)\n",
    "mean_axis1 = a.mean(axis=1)\n",
    "mean_axis2 = a.mean(axis=2)\n",
    "\n",
    "print(\"ndarray: {}\\n{}\\n\".format(a.shape, a)) \n",
    "print(\"ndarray.mean(axis=0): {}\\n{}\\n\".format(mean_axis0.shape, mean_axis0))\n",
    "print(\"ndarray.mean(axis=1): {}\\n{}\\n\".format(mean_axis1.shape, mean_axis1))\n",
    "print(\"ndarray.mean(axis=2): {}\\n{}\\n\".format(mean_axis2.shape, mean_axis2))"
   ]
  },
  {
   "cell_type": "code",
   "execution_count": 42,
   "metadata": {},
   "outputs": [
    {
     "name": "stdout",
     "output_type": "stream",
     "text": [
      "a: (1, 3)\n",
      "[[3 5 9]]\n",
      "b: (1, 3)\n",
      "[[9 5 3]]\n",
      "\n",
      "vstack: (2, 3)\n",
      "[[3 5 9]\n",
      " [9 5 3]]\n",
      "hstack: (1, 6)\n",
      "[[3 5 9 9 5 3]]\n",
      "\n",
      "[[3 5 9]\n",
      " [9 5 3]]\n",
      "[[3 5 9 9 5 3]]\n"
     ]
    }
   ],
   "source": [
    "\"\"\" . \n",
    "1. ndarray 객체 생성\n",
    "2. vstack으로 쌓아보기\n",
    "3. hstack으로 쌓아보기\n",
    "4. 2번과 같은 결과가 나오게 np.concatenate으로 쌓아보기(axis이용)\n",
    "5. 3번과 같은 결과가 나오게 np.concatenate으로 쌓아보기(axis이용)\n",
    "\"\"\"\n",
    "# 예시를 보여주기 위해 적어놨는데, 지우고 다른 케이스에 대해 새로 만들어서 해보세요.\n",
    "# 1\n",
    "a = np.random.randint(0, 10, (1, 3)) \n",
    "b = np.random.randint(0, 10, (1, 3))\n",
    "\n",
    "print(f\"a: {a.shape}\\n{a}\") \n",
    "print(f\"b: {b.shape}\\n{b}\\n\")\n",
    "\n",
    "# 2\n",
    "vstack = np.vstack((a, b))\n",
    "print(f\"vstack: {vstack.shape}\\n{vstack}\") \n",
    "\n",
    "# 3\n",
    "hstack = np.hstack((a, b))\n",
    "print(f\"hstack: {hstack.shape}\\n{hstack}\\n\")\n",
    "\n",
    "# 4\n",
    "concat0 = np.concatenate([a, b], axis=0)\n",
    "print(concat0)\n",
    "\n",
    "# 5\n",
    "concat1 = np.concatenate([a, b], axis=1)\n",
    "print(concat1)"
   ]
  },
  {
   "cell_type": "code",
   "execution_count": 44,
   "metadata": {},
   "outputs": [
    {
     "ename": "ValueError",
     "evalue": "all the input arrays must have same number of dimensions, but the array at index 0 has 2 dimension(s) and the array at index 1 has 1 dimension(s)",
     "output_type": "error",
     "traceback": [
      "\u001b[0;31m---------------------------------------------------------------------------\u001b[0m",
      "\u001b[0;31mValueError\u001b[0m                                Traceback (most recent call last)",
      "\u001b[1;32m/Users/hongb/Dropbox/github/2022_Bioinformatics_lab/code/C5_Numpy_HW_2.ipynb 셀 24\u001b[0m in \u001b[0;36m<cell line: 9>\u001b[0;34m()\u001b[0m\n\u001b[1;32m      <a href='vscode-notebook-cell:/Users/hongb/Dropbox/github/2022_Bioinformatics_lab/code/C5_Numpy_HW_2.ipynb#ch0000058?line=6'>7</a>\u001b[0m a \u001b[39m=\u001b[39m np\u001b[39m.\u001b[39mrandom\u001b[39m.\u001b[39mrandint(\u001b[39m0\u001b[39m, \u001b[39m10\u001b[39m, (\u001b[39m3\u001b[39m, \u001b[39m4\u001b[39m)) \n\u001b[1;32m      <a href='vscode-notebook-cell:/Users/hongb/Dropbox/github/2022_Bioinformatics_lab/code/C5_Numpy_HW_2.ipynb#ch0000058?line=7'>8</a>\u001b[0m b \u001b[39m=\u001b[39m np\u001b[39m.\u001b[39mrandom\u001b[39m.\u001b[39mrandint(\u001b[39m0\u001b[39m, \u001b[39m10\u001b[39m, (\u001b[39m3\u001b[39m,))\n\u001b[0;32m----> <a href='vscode-notebook-cell:/Users/hongb/Dropbox/github/2022_Bioinformatics_lab/code/C5_Numpy_HW_2.ipynb#ch0000058?line=8'>9</a>\u001b[0m hstack \u001b[39m=\u001b[39m np\u001b[39m.\u001b[39;49mhstack([a, b]) \n\u001b[1;32m     <a href='vscode-notebook-cell:/Users/hongb/Dropbox/github/2022_Bioinformatics_lab/code/C5_Numpy_HW_2.ipynb#ch0000058?line=9'>10</a>\u001b[0m \u001b[39mprint\u001b[39m(\u001b[39mf\u001b[39m\u001b[39m\"\u001b[39m\u001b[39mhstack: \u001b[39m\u001b[39m{\u001b[39;00mhstack\u001b[39m.\u001b[39mshape\u001b[39m}\u001b[39;00m\u001b[39m\\n\u001b[39;00m\u001b[39m{\u001b[39;00mhstack\u001b[39m}\u001b[39;00m\u001b[39m\"\u001b[39m)\n",
      "File \u001b[0;32m<__array_function__ internals>:180\u001b[0m, in \u001b[0;36mhstack\u001b[0;34m(*args, **kwargs)\u001b[0m\n",
      "File \u001b[0;32m/opt/anaconda3/envs/lab/lib/python3.10/site-packages/numpy/core/shape_base.py:345\u001b[0m, in \u001b[0;36mhstack\u001b[0;34m(tup)\u001b[0m\n\u001b[1;32m    343\u001b[0m     \u001b[39mreturn\u001b[39;00m _nx\u001b[39m.\u001b[39mconcatenate(arrs, \u001b[39m0\u001b[39m)\n\u001b[1;32m    344\u001b[0m \u001b[39melse\u001b[39;00m:\n\u001b[0;32m--> 345\u001b[0m     \u001b[39mreturn\u001b[39;00m _nx\u001b[39m.\u001b[39;49mconcatenate(arrs, \u001b[39m1\u001b[39;49m)\n",
      "File \u001b[0;32m<__array_function__ internals>:180\u001b[0m, in \u001b[0;36mconcatenate\u001b[0;34m(*args, **kwargs)\u001b[0m\n",
      "\u001b[0;31mValueError\u001b[0m: all the input arrays must have same number of dimensions, but the array at index 0 has 2 dimension(s) and the array at index 1 has 1 dimension(s)"
     ]
    }
   ],
   "source": [
    "\"\"\"\n",
    "다음과 같이 에러가 나서 a, b를 horizontal 방향으로 쌓아주기 위해 b의 shape을 바꾸고자 합니다.\n",
    "1. 현재 b는 row vector인데 reshape을 이용해서 column vector로 바꿔준 후 \n",
    "2. a와 b를 hstack을 해보세요.\n",
    "\"\"\"\n",
    "\n",
    "a = np.random.randint(0, 10, (3, 4)) \n",
    "b = np.random.randint(0, 10, (3,))\n",
    "hstack = np.hstack([a, b]) \n",
    "print(f\"hstack: {hstack.shape}\\n{hstack}\")\n",
    "\n",
    "# 1. b의 shape 바꾸기\n",
    "\n",
    "\n",
    "# 2. a와 shape이 바뀐 b에 대하여 hsatck하기"
   ]
  },
  {
   "cell_type": "code",
   "execution_count": null,
   "metadata": {},
   "outputs": [],
   "source": []
  }
 ],
 "metadata": {
  "kernelspec": {
   "display_name": "Python 3.10.5 ('lab')",
   "language": "python",
   "name": "python3"
  },
  "language_info": {
   "codemirror_mode": {
    "name": "ipython",
    "version": 3
   },
   "file_extension": ".py",
   "mimetype": "text/x-python",
   "name": "python",
   "nbconvert_exporter": "python",
   "pygments_lexer": "ipython3",
   "version": "3.10.5"
  },
  "orig_nbformat": 4,
  "vscode": {
   "interpreter": {
    "hash": "9132612d292018844046efb7d61620c385772bf99f2e53a3f7e93381535a3719"
   }
  }
 },
 "nbformat": 4,
 "nbformat_minor": 2
}
