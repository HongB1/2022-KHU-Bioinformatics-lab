{
 "cells": [
  {
   "cell_type": "markdown",
   "metadata": {},
   "source": [
    "[![Open In Colab](https://colab.research.google.com/assets/colab-badge.svg)](https://colab.research.google.com/github/HongB1/2022-KHU-Bioinformatics-lab/blob/master/code/Chpater3%20Quiz.ipynb)"
   ]
  },
  {
   "cell_type": "markdown",
   "metadata": {},
   "source": [
    "# 220915 수업 퀴즈 정답"
   ]
  },
  {
   "cell_type": "code",
   "execution_count": null,
   "metadata": {},
   "outputs": [],
   "source": [
    "'''\n",
    "Quiz1. for 문을 사용해서 리스트에 저장된 값을 다음과 같이 출력하라.\n",
    "menu_list = [\"sandwich\", \"sushi\", \"cake\"]\n",
    "Today's menu: sandwich\n",
    "Today's menu: sushi\n",
    "Today's menu: cake\n",
    "'''\n",
    "menu_list = [\"sandwich\", \"sushi\", \"cake\"]\n",
    "for menu in menu_list:\n",
    "    print(f'오늘의 메뉴: {menu}')"
   ]
  },
  {
   "cell_type": "code",
   "execution_count": null,
   "metadata": {},
   "outputs": [],
   "source": [
    "'''\n",
    "Quiz2. 리스트에 회사 이름이 저장돼 있다.\n",
    "company_list = [\"Apple\", \"Hyundai\", \"SK\", \"Samsung\", \"LG\", \"Microsoft\"]\n",
    "저장된 문자열의 길이가 6이상이면 출력하지 않고, 6미만이면 문자열의 길이를 출력하여라.\n",
    "출력은 다음과 같이 하여라.\n",
    "\"1번째 회사 이름은 Apple이며, 길이는 2입니다.\"\n",
    "'''\n",
    "company_list = [\"Apple\", \"Hyundai\", \"SK\", \"Samsung\", \"LG\", \"Microsoft\"]\n",
    "for idx, company in enumerate(company_list):\n",
    "    if len(company) < 6:\n",
    "        print(f'{idx+1}번째 회사 이름은 {company}이며, 길이는 {len(company)}입니다.')"
   ]
  },
  {
   "cell_type": "code",
   "execution_count": 3,
   "metadata": {},
   "outputs": [
    {
     "name": "stdout",
     "output_type": "stream",
     "text": [
      "[0, 2, 4, 6, 8]\n"
     ]
    }
   ],
   "source": [
    "# Quiz3. 다음 코드를 리스트 컴프리핸션으로 바꿔라 : 2의 배수만 추출하기\n",
    "num = int(input())\n",
    "even_num = []\n",
    "\n",
    "for i in range(num):\n",
    "    if i % 2 == 0:\n",
    "        even_num.append(i)\n",
    "\n",
    "print(even_num)"
   ]
  },
  {
   "cell_type": "code",
   "execution_count": 15,
   "metadata": {},
   "outputs": [
    {
     "name": "stdout",
     "output_type": "stream",
     "text": [
      "[0, 2, 4, 6, 8]\n"
     ]
    }
   ],
   "source": [
    "# Quiz4\n",
    "num = int(input())\n",
    "even_num = [i for i in range(num) if i % 2 == 0]\n",
    "print(even_num)"
   ]
  },
  {
   "cell_type": "code",
   "execution_count": 16,
   "metadata": {},
   "outputs": [
    {
     "name": "stdout",
     "output_type": "stream",
     "text": [
      "[0, 1, 4, 9, 16, 25, 36, 49, 64, 81]\n"
     ]
    }
   ],
   "source": [
    "# Quiz5. 리스트 컴프리핸션을 이용해서 0~입력된 숫자에 대한 제곱값들이 들어 있는 리스트를 생성해보시오.\n",
    "num = int(input())\n",
    "pow2_num = [i*i for i in range(num+1)]\n",
    "print(pow2_num)"
   ]
  },
  {
   "cell_type": "code",
   "execution_count": 17,
   "metadata": {},
   "outputs": [
    {
     "name": "stdout",
     "output_type": "stream",
     "text": [
      "박은태학생, 10점 합격\n",
      "박효신학생, 8점 합격\n",
      "김소현학생, 9점 합격\n",
      "옥주현학생, 6점 합격\n"
     ]
    }
   ],
   "source": [
    "# Quiz6. 딕셔너리에 학생 이름과 점수가 나와있다. 6점 이상 학생만 \"{}학생, {}점 합격\" 이라고 출력하세요.\n",
    "dict_student = {\"박은태\": 10, \"박효신\": 8, \"신영숙\": 5, \"이지혜\": 4, \"김소현\": 9, \"조승우\": 3, \"옥주현\": 6}\n",
    "\n",
    "for name, score in dict_student.items():\n",
    "    if score < 6:\n",
    "        continue\n",
    "    print(f'{name}학생, {score}점 합격')"
   ]
  },
  {
   "cell_type": "code",
   "execution_count": 8,
   "metadata": {},
   "outputs": [
    {
     "name": "stdout",
     "output_type": "stream",
     "text": [
      "['박은태', '박효신', '김소현', '옥주현']\n"
     ]
    }
   ],
   "source": [
    "# Quiz7. 위 딕셔너리에서 6점이상의 학생만 student_list 이름의 리스트에 넣어라.\n",
    "dict_student = {\"박은태\":10, \"박효신\":8, \"신영숙\":5, \"이지혜\":4, \"김소현\":9, \"조승우\":3, \"옥주현\":6}\n",
    "student_list = []\n",
    "\n",
    "for name, score in dict_student.items():\n",
    "    if score < 6:\n",
    "        continue\n",
    "    student_list.append(name)\n",
    "\n",
    "print(student_list)"
   ]
  },
  {
   "cell_type": "code",
   "execution_count": 11,
   "metadata": {},
   "outputs": [],
   "source": [
    "# 위 코드 list comprehension\n",
    "student_list = [name for name in dict_student.keys() if dict_student[name] >= 6]"
   ]
  },
  {
   "cell_type": "code",
   "execution_count": 14,
   "metadata": {},
   "outputs": [
    {
     "name": "stdout",
     "output_type": "stream",
     "text": [
      "{'박은태': 10, '박효신': 8, '김소현': 9, '옥주현': 6}\n"
     ]
    }
   ],
   "source": [
    "# Quiz8. dictionary comprehension으로 이름, 점수 모두 저장하기\n",
    "cutline = int(input())\n",
    "\n",
    "dict_student = {\"박은태\":10, \"박효신\":8, \"신영숙\":5, \"이지혜\":4, \"김소현\":9, \"조승우\":3, \"옥주현\":6}\n",
    "dict_student_pass = {name: score for (name, score) in list(dict_student.items()) if score >= cutline}\n",
    "print(dict_student_pass)"
   ]
  },
  {
   "cell_type": "markdown",
   "metadata": {},
   "source": [
    "# 220913 수업 퀴즈 정답"
   ]
  },
  {
   "cell_type": "code",
   "execution_count": null,
   "metadata": {},
   "outputs": [],
   "source": [
    "'''\n",
    "Q1. \"만약 3000원 이상의 돈을 가지고 있으면 택시를 타고 그렇지 않으면 걸어 가라.\"\n",
    "'''\n",
    "money = int(input())\n",
    "if money >= 3000 :\n",
    "    print(\"Take a taxi\")\n",
    "else : # else는 if문과 들여쓰기를 맞춰준다.\n",
    "    print(\"Walk\")"
   ]
  },
  {
   "cell_type": "code",
   "execution_count": 6,
   "metadata": {},
   "outputs": [
    {
     "name": "stdout",
     "output_type": "stream",
     "text": [
      "Take a taxi\n"
     ]
    }
   ],
   "source": [
    "'''\n",
    "Q2. 다음은 가방 안에 들어있는 물건들의 리스트이다.\n",
    "만약 가방 안에 카드가 있으면 Take a taxi를, 없으면 Walk를 출력하는 조건문을 만들어봐라.\n",
    "'''\n",
    "money = 1000\n",
    "bag = ['IPAD', 'cellphone', 'card']\n",
    "if money >= 2000 or 'card' in bag:\n",
    "    print(\"Take a taxi\")\n",
    "else:\n",
    "    print(\"Walk\")"
   ]
  },
  {
   "cell_type": "code",
   "execution_count": null,
   "metadata": {},
   "outputs": [],
   "source": [
    "'''\n",
    "Quiz3. 변수 x가 11과 20 사이면 '11~20', 21과 30 사이면 '21~30', 아무것도 해당하지 않으면 '아무것도 해당하지 않음'이 출력되게 만드세요.\n",
    "'''\n",
    "\n",
    "x = int(input())\n",
    "\n",
    "if 11 <= x <= 20:\n",
    "    print('11~20')\n",
    "elif 21 <= x <= 30:\n",
    "    print('21~30')\n",
    "else:\n",
    "    print('아무것도 해당하지 않음')"
   ]
  },
  {
   "cell_type": "code",
   "execution_count": null,
   "metadata": {},
   "outputs": [],
   "source": [
    "'''\n",
    "Quiz4. 변수 두 개를 다르게 반복하기\n",
    "다음 소스 코드를 완성하여 정수 2 5, 4 4, 8 3, 16 2, 32 1이 각 줄에 출력되게 만드세요. while에 조건식은 두 개 지정하고, 두 변수를 모두 변화시켜야 합니다.\n",
    "'''\n",
    "i = 2\n",
    "j = 5\n",
    "while i <= 32 or j >=1 :\n",
    "    print(i, j)\n",
    "    i *= 2\n",
    "    j -= 1"
   ]
  },
  {
   "cell_type": "code",
   "execution_count": null,
   "metadata": {},
   "outputs": [],
   "source": [
    "'''\n",
    "Quiz5. 교통카드 잔액 출력하기\n",
    "표준 입력으로 금액(정수)이 입력됩니다. 1회당 요금은 1,350원이고, 교통카드를 사용했을 때마다의 잔액을 각 줄에 출력하는 프로그램을 만드세요(input에서 안내 문자열은 출력하지 않아야 합니다). 단, 최초 금액은 출력하지 않아야 합니다. 그리고 잔액은 음수가 될 수 없으며 잔액이 부족하면 출력을 끝냅니다.\n",
    "'''\n",
    "balance = int(input())\n",
    "while balance >= 1350:\n",
    "    balance -= 1350\n",
    "    print(f\"남은 잔액은 {balance}입니다.\")"
   ]
  },
  {
   "cell_type": "code",
   "execution_count": null,
   "metadata": {},
   "outputs": [],
   "source": []
  }
 ],
 "metadata": {
  "kernelspec": {
   "display_name": "Python 3.9.1 64-bit ('3.9.1')",
   "language": "python",
   "name": "python3"
  },
  "language_info": {
   "codemirror_mode": {
    "name": "ipython",
    "version": 3
   },
   "file_extension": ".py",
   "mimetype": "text/x-python",
   "name": "python",
   "nbconvert_exporter": "python",
   "pygments_lexer": "ipython3",
   "version": "3.9.1"
  },
  "orig_nbformat": 4,
  "vscode": {
   "interpreter": {
    "hash": "1688da3634d91066dd3ff12b743053dfee9eea8177f464778dec1bcb0ebd64e6"
   }
  }
 },
 "nbformat": 4,
 "nbformat_minor": 2
}
