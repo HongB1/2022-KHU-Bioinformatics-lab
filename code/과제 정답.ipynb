{
 "cells": [
  {
   "cell_type": "markdown",
   "metadata": {},
   "source": [
    "[![Open In Colab](https://colab.research.google.com/assets/colab-badge.svg)](https://colab.research.google.com/github/HongB1/2022-KHU-Bioinformatics-lab/blob/master/code/%EA%B3%BC%EC%A0%9C%20%EC%A0%95%EB%8B%B5.ipynb)"
   ]
  },
  {
   "cell_type": "markdown",
   "metadata": {},
   "source": [
    "# 220915 목요일 수업 과제 정답"
   ]
  },
  {
   "cell_type": "markdown",
   "metadata": {},
   "source": []
  },
  {
   "cell_type": "code",
   "execution_count": null,
   "metadata": {},
   "outputs": [],
   "source": [
    "num = int(input())\n",
    "if num <= 0:\n",
    "    print('1이상의 숫자를 입력해주세요')\n",
    "else:\n",
    "    print(f'{num}단')\n",
    "    for i in range(1,10):\n",
    "        if (i%2) == 0:\n",
    "            continue # 홀수만 출력해야 하니 출력하지 않습니다.\n",
    "        if (i*num) > 50:\n",
    "            continue # 50 초과는 출력하지 않습니다.\n",
    "        print(f'{num} x {i} = {i*num}')"
   ]
  },
  {
   "cell_type": "code",
   "execution_count": null,
   "metadata": {},
   "outputs": [],
   "source": [
    "numbers = [i for i in range(n, m+1)] \n",
    "\n",
    "numbers = []\n",
    "for i in range(n, m+1):\n",
    "    numbers.append(i)"
   ]
  },
  {
   "cell_type": "code",
   "execution_count": 5,
   "metadata": {},
   "outputs": [
    {
     "data": {
      "text/plain": [
       "[2, 3, 4, 5, 6, 7, 8, 9, 10, 11, 12, 13, 14, 15]"
      ]
     },
     "execution_count": 5,
     "metadata": {},
     "output_type": "execute_result"
    }
   ],
   "source": [
    "n = 2\n",
    "m = 15\n",
    "numbers = [i for i in range(n, m+1)] \n",
    "numbers"
   ]
  },
  {
   "cell_type": "code",
   "execution_count": 6,
   "metadata": {},
   "outputs": [],
   "source": [
    "median = numbers[(len(numbers)-1)//2]\n"
   ]
  },
  {
   "cell_type": "code",
   "execution_count": 7,
   "metadata": {},
   "outputs": [
    {
     "data": {
      "text/plain": [
       "8"
      ]
     },
     "execution_count": 7,
     "metadata": {},
     "output_type": "execute_result"
    }
   ],
   "source": [
    "median"
   ]
  },
  {
   "cell_type": "code",
   "execution_count": null,
   "metadata": {},
   "outputs": [],
   "source": [
    "n = int(input())\n",
    "m = int(input())\n",
    "numbers = [i for i in range(n, m+1)] \n",
    "numbers\n",
    "median = numbers[(len(numbers)-1)//2]\n",
    "for num in numbers:\n",
    "    if (num%2) == 0 :\n",
    "        if num == median:\n",
    "            # print(f'{num} 짝수')\n",
    "            print(f'{num} 짝수이며 중앙값')\n",
    "        else: print(f'{num} 짝수')"
   ]
  },
  {
   "cell_type": "code",
   "execution_count": 8,
   "metadata": {},
   "outputs": [],
   "source": [
    "def calculate_num(n, m):\n",
    "    numbers = [i for i in range(n, m+1)] \n",
    "    numbers\n",
    "    median = numbers[(len(numbers)-1)//2]\n",
    "    for num in numbers:\n",
    "        if (num%2) == 0 :\n",
    "            if num == median:\n",
    "                # print(f'{num} 짝수')\n",
    "                print(f'{num} 짝수이며 중앙값')\n",
    "            else: print(f'{num} 짝수')"
   ]
  },
  {
   "cell_type": "code",
   "execution_count": 10,
   "metadata": {},
   "outputs": [
    {
     "name": "stdout",
     "output_type": "stream",
     "text": [
      "3 + 4 = 7\n"
     ]
    }
   ],
   "source": [
    "'''\n",
    "Quiz. 두 개의 숫자를 입력받아 합/차/곱/나눗셈을 출력하는 print_arithmetic_operation 함수를 작성하라.\n",
    "그 후 파라미터를 3, 4로 받아서 출력해보자.\n",
    "'''\n",
    "\n",
    "def print_arithmetic_operation(a, b):\n",
    "    _add = a+b\n",
    "    _sub = a-b\n",
    "    _mul = a*b\n",
    "    _div = a/b\n",
    "    return _add, _sub, _mul, _div\n",
    "x, y, z, w = print_arithmetic_operation(3, 4)\n",
    "print(f'3 + 4 = {x}')"
   ]
  },
  {
   "cell_type": "code",
   "execution_count": 9,
   "metadata": {},
   "outputs": [
    {
     "name": "stdout",
     "output_type": "stream",
     "text": [
      "4 짝수\n",
      "6 짝수이며 중앙값\n",
      "8 짝수\n",
      "10 짝수\n"
     ]
    }
   ],
   "source": [
    "calculate_num(3, 10)"
   ]
  },
  {
   "cell_type": "code",
   "execution_count": 11,
   "metadata": {},
   "outputs": [],
   "source": [
    "'''\n",
    "Quiz : 문자열 하나를 입력받아 인터넷 주소를 반환하는 make_url 함수를 정의하라. \n",
    "파라미터의 인자로 'naver'를 넣어서 'www.naver.com'을 출력해봐라\n",
    "'''\n",
    "def make_url(url):\n",
    "    print(f'www.{url}.com')"
   ]
  },
  {
   "cell_type": "code",
   "execution_count": 12,
   "metadata": {},
   "outputs": [
    {
     "name": "stdout",
     "output_type": "stream",
     "text": [
      "www.naver.com\n"
     ]
    }
   ],
   "source": [
    "make_url('naver')"
   ]
  },
  {
   "cell_type": "markdown",
   "metadata": {},
   "source": [
    "# 220913 화요일 수업 과제 정답"
   ]
  },
  {
   "cell_type": "code",
   "execution_count": 4,
   "metadata": {},
   "outputs": [
    {
     "name": "stdout",
     "output_type": "stream",
     "text": [
      "1이상의 숫자를 입력해주세요\n"
     ]
    }
   ],
   "source": [
    "num = -1\n",
    "if num <= 0:\n",
    "    print('1이상의 숫자를 입력해주세요')\n",
    "else:\n",
    "    print(f'{num}단')\n",
    "    for i in range(1,10):\n",
    "        if (i%2) == 0:\n",
    "            continue # 홀수만 출력해야 하니 출력하지 않습니다.\n",
    "        if (i*num) > 50:\n",
    "            continue # 50 초과는 출력하지 않습니다.\n",
    "        print(f'{num} x {i} = {i*num}')"
   ]
  },
  {
   "cell_type": "code",
   "execution_count": 11,
   "metadata": {},
   "outputs": [
    {
     "name": "stdout",
     "output_type": "stream",
     "text": [
      "2 짝수\n",
      "4 짝수\n",
      "6 짝수\n",
      "8 짝수\n",
      "8 중앙값\n",
      "10 짝수\n",
      "12 짝수\n",
      "14 짝수\n"
     ]
    }
   ],
   "source": [
    "n = int(input())\n",
    "m = int(input())\n",
    "numbers = [i for i in range(n, m+1)] \n",
    "numbers\n",
    "median = numbers[(len(numbers)-1)//2]\n",
    "for num in numbers:\n",
    "    if (num%2) == 0 :\n",
    "        if num == median:\n",
    "            print(f'{num} 짝수')\n",
    "            print(f'{num} 중앙값')\n",
    "        else: print(f'{num} 짝수')\n"
   ]
  },
  {
   "cell_type": "code",
   "execution_count": 10,
   "metadata": {},
   "outputs": [
    {
     "data": {
      "text/plain": [
       "8.5"
      ]
     },
     "execution_count": 10,
     "metadata": {},
     "output_type": "execute_result"
    }
   ],
   "source": [
    "median"
   ]
  },
  {
   "cell_type": "markdown",
   "metadata": {},
   "source": [
    "N과 M을 입력 받아 다음과 같은 수식의 결과를 얻는 프로그램을 작성하시오.  \n",
    "$N^1 + N^2 + N^3 + ... + N^{M-1} + N^M$"
   ]
  },
  {
   "cell_type": "code",
   "execution_count": 14,
   "metadata": {},
   "outputs": [
    {
     "name": "stdout",
     "output_type": "stream",
     "text": [
      "30\n"
     ]
    }
   ],
   "source": [
    "n = int(input())\n",
    "m = int(input())\n",
    "result = 0\n",
    "for i in range(1, m+1):\n",
    "    result += n ** i\n",
    "print(result)"
   ]
  },
  {
   "cell_type": "code",
   "execution_count": null,
   "metadata": {},
   "outputs": [],
   "source": [
    "''' \n",
    "Test1. 온라인 할인 쿠폰 시스템 만들기\n",
    "가격(int)과 쿠폰(str)이 각 줄에 입력됩니다. \n",
    "쿠폰 2종류 : Cash3000 - 3,000원 할인, Cash5000 쿠폰은 5,000원을 할입합니다. 쿠폰에 따라 할인된 가격을 출력하는 프로그램을 만드세요 \n",
    "(input사용. input에서 안내 문자열은 출력하지 않아야 합니다.)\n",
    "1번. 입력 : 가격 72000원 쿠폰 Cash5000 / 출력 : 67000\n",
    "2번. 입력 : 가격 33000원 쿠폰 Cash3000 / 출력 : 30000\n",
    "\n",
    "'''\n",
    "price = int(input())\n",
    "coupon = input()\n",
    "\n",
    "if coupon == 'Cash3000':\n",
    "    price -= 3000\n",
    "    print(f\"{coupon}을 사용, 최종 가격은 {price}원입니다.\")\n",
    "elif coupon == 'Cash5000':\n",
    "    price -= 5000\n",
    "    print(f\"{coupon}을 사용, 최종 가격은 {price}원입니다.\")\n",
    "else : print(f\"할인이 되지 않았습니다. 가격은 {price}원입니다.\")"
   ]
  },
  {
   "cell_type": "code",
   "execution_count": null,
   "metadata": {},
   "outputs": [],
   "source": [
    "''' 과제\n",
    "Test2. 표준 입력으로 나이가 입력됩니다. 시내버스 요금은 다음과 같으며 각 나이에 맞게 요금을 차감한 뒤 잔액이 출력되게 만드세요(if, elif 사용). 현재 교통카드에는 9,000원이 들어있습니다.\n",
    "\n",
    "- 어린이(초등학생, 12세 이하): 650원\n",
    "- 청소년(중∙고등학생, 13세 이상 18세 이하): 1,050원\n",
    "- 어른(일반, 19세 이상): 1,250원\n",
    "'''\n",
    "\n",
    "age = int(input())\n",
    "balance = 9000 # 교통카드 잔액\n",
    "child_fee = 650\n",
    "teen_fee = 1050\n",
    "adult_fee = 1250\n",
    "\n",
    "if age <= 12: \n",
    "    fee = child_fee\n",
    "elif 13 <= age <= 18:\n",
    "    fee = teen_fee\n",
    "elif age >= 19:\n",
    "    fee = adult_fee\n",
    "balance -= fee\n",
    "print(f'요금은 {fee}원이며, 잔액은 {balance}원 남았습니다.') \n",
    "# print(balance)"
   ]
  },
  {
   "cell_type": "code",
   "execution_count": null,
   "metadata": {},
   "outputs": [],
   "source": [
    "name = input(\"이름을 입력해주세요: \")\n",
    "score = int(input(\"점수를 입력해주세요: \"))\n",
    "grade_list = [\"F\", \"D\", \"D+\", \"C\", \"C+\", \"B\", \"B+\", \"A\", \"A+\"]\n",
    "if score < 0 or score > 100:\n",
    "    print(\"오류\\n\")\n",
    "    print(\"0 ~ 100점 사이의 점수를 입력해주세요.\")\n",
    "elif 60 <= score < 100:\n",
    "    grade = grade_list[(score - 55) // 5]\n",
    "elif score == 100:\n",
    "    grade = 'A+'\n",
    "elif score < 60:\n",
    "    grade = \"F\"\n",
    "\t\t\n",
    "print(f'학생 이름: {name}')\n",
    "print(f'점수: {score}')\n",
    "print(f'학점: {grade}')"
   ]
  },
  {
   "cell_type": "code",
   "execution_count": null,
   "metadata": {},
   "outputs": [],
   "source": [
    "def get_grade(score):\n",
    "    grade_list = [\"F\", \"D\", \"D+\", \"C\", \"C+\", \"B\", \"B+\", \"A\", \"A+\"]\n",
    "    if score < 0 or score > 100:\n",
    "        print(\"오류!\\n\")\n",
    "        print(\"점수는 0 ~ 100점 사이입니다.\")\n",
    "        exit()\n",
    "    else:\n",
    "        grade = grade_list[(score - 55) // 5]\n",
    "        return grade\n",
    "\n",
    "\n",
    "name = input(\"이름을 입력해주세요: \")\n",
    "score = int(input(\"점수를 입력해주세요: \"))\n",
    "grade = get_grade(score)\n",
    "\n",
    "print(\"**********************************\")\n",
    "print(\"학생 이름: \", name)\n",
    "print(\"점수: \", score)\n",
    "print(\"학점: \", grade)\n",
    "print(\"**********************************\")"
   ]
  },
  {
   "cell_type": "code",
   "execution_count": null,
   "metadata": {},
   "outputs": [],
   "source": [
    "monthly_payment = int(300)\n",
    "yearly_payment = monthly_payment*12\n",
    "\n",
    "\n",
    "if yearly_payment <= 1200:\n",
    "    tax_rate = 0.06\n",
    "elif yearly_payment <= 4600:\n",
    "    tax_rate = 0.15\n",
    "elif yearly_payment <= 8800:\n",
    "    tax_rate = 0.24\n",
    "elif yearly_payment <= 15000:\n",
    "    tax_rate = 0.35\n",
    "elif yearly_payment <= 30000:\n",
    "    tax_rate = 0.38\n",
    "elif yearly_payment <= 50000:\n",
    "    tax_rate = 0.40\n",
    "else:\n",
    "    tax_rate = 0.42\n",
    "\n",
    "tax = int(yearly_payment * tax_rate)\n",
    "\n",
    "print(f'세전 연봉: {yearly_payment}만원')\n",
    "print(f'세후 연봉: {yearly_payment-tax}만원')"
   ]
  },
  {
   "cell_type": "code",
   "execution_count": 5,
   "metadata": {},
   "outputs": [
    {
     "data": {
      "text/plain": [
       "[1, 2, 3, 4, [1, 2]]"
      ]
     },
     "execution_count": 5,
     "metadata": {},
     "output_type": "execute_result"
    }
   ],
   "source": [
    "a = [1, 2, 3, 4]\n",
    "a.append([1, 2])\n",
    "a\n"
   ]
  },
  {
   "cell_type": "code",
   "execution_count": 4,
   "metadata": {},
   "outputs": [
    {
     "data": {
      "text/plain": [
       "[1, 2, 3, 4, 1, 2]"
      ]
     },
     "execution_count": 4,
     "metadata": {},
     "output_type": "execute_result"
    }
   ],
   "source": [
    "a = [1, 2, 3, 4]\n",
    "a.extend([1, 2])\n",
    "a"
   ]
  },
  {
   "cell_type": "code",
   "execution_count": 6,
   "metadata": {},
   "outputs": [
    {
     "data": {
      "text/plain": [
       "[1, 2, 3, 4, 1, 2]"
      ]
     },
     "execution_count": 6,
     "metadata": {},
     "output_type": "execute_result"
    }
   ],
   "source": [
    "a = [1, 2, 3, 4]\n",
    "a.append(1)\n",
    "a.append(2)\n",
    "a"
   ]
  },
  {
   "cell_type": "markdown",
   "metadata": {},
   "source": []
  },
  {
   "cell_type": "markdown",
   "metadata": {},
   "source": [
    "# 220908 목요일 수업 과제 정답"
   ]
  },
  {
   "cell_type": "code",
   "execution_count": null,
   "metadata": {},
   "outputs": [],
   "source": [
    "# 220908 Test1.\n",
    "gdp_2020 = (\"USA\", \"China\", \"EU\", \"Japan\", \"Germany\")\n",
    "#print(type(gdp_2020))\n",
    "gdp_2022 = list(gdp_2020)\n",
    "gdp_2022[2] = \"UK\"\n",
    "gdp_2022[3] = \"Korea\"\n",
    "#print(gdp_2022)\n",
    "\n",
    "print(f'2020년의 국가별 명목 GDP, Top5 : {gdp_2020}')\n",
    "print(f'2022년의 국가별 명목 GDP, Top5 : {gdp_2022}')"
   ]
  },
  {
   "cell_type": "code",
   "execution_count": null,
   "metadata": {},
   "outputs": [],
   "source": [
    "# 220908 Test2.\n",
    "\n",
    "gdp_2022 = ['USA', 'China', 'UK', 'Korea', 'Germany']\n",
    "\n",
    "gdp_2022.extend(['Japan', 'India', 'France', 'Canada', 'Italy'])\n",
    "# gdp_2022 += ['Japan', 'India', 'France', 'Canada', 'Italy']\n",
    "\n",
    "print(f'2022년의 GDP 생산량의 1~10위는 다음과 같고 {gdp_2022}')\n",
    "print(f'2022년의 GDP 생산량 1~2위는 {gdp_2022[0:2]}이고, 9~10위는 {gdp_2022[-2:]}이다')"
   ]
  },
  {
   "cell_type": "code",
   "execution_count": null,
   "metadata": {},
   "outputs": [],
   "source": [
    "# 220908 Test3.\n",
    "gdp_2022 = {'USA':2500, 'China':2000, 'Japan':500, 'Germany':430, 'UK':340}\n",
    "\n",
    "gdp_2022['India'] = 330\n",
    "\n",
    "dic_keys = gdp_2022.keys()\n",
    "dic_values = gdp_2022.values()\n",
    "\n",
    "print(gdp_2022)\n",
    "print(dic_keys)\n",
    "print(dic_values)"
   ]
  },
  {
   "cell_type": "markdown",
   "metadata": {},
   "source": [
    "\n",
    "\n",
    "# 220906 수업과제"
   ]
  },
  {
   "cell_type": "code",
   "execution_count": 1,
   "metadata": {},
   "outputs": [
    {
     "name": "stdout",
     "output_type": "stream",
     "text": [
      "pn\n"
     ]
    }
   ],
   "source": [
    "# Test1\n",
    "string = input()\n",
    "a = string[0]\n",
    "b = string[-1]\n",
    "print(a+b)"
   ]
  },
  {
   "cell_type": "code",
   "execution_count": 2,
   "metadata": {},
   "outputs": [
    {
     "name": "stdout",
     "output_type": "stream",
     "text": [
      "Her name is Ella and his name is Eric\n"
     ]
    }
   ],
   "source": [
    "# Test2\n",
    "x = \"My name is Ella\"\n",
    "y = \"My name is Eric\"\n",
    "x_slicing = x[-4:]\n",
    "y_slicing = y[-4:]\n",
    "\n",
    "print(\"Her name is {} and his name is {}\".format(x_slicing, y_slicing))\n"
   ]
  },
  {
   "cell_type": "code",
   "execution_count": 3,
   "metadata": {},
   "outputs": [
    {
     "name": "stdout",
     "output_type": "stream",
     "text": [
      "Her name is Ella and his name is Eric\n"
     ]
    }
   ],
   "source": [
    "# Test3\n",
    "x = \"My name is Ella\"\n",
    "y = \"My name is Eric\"\n",
    "x_slicing = x[-4:]\n",
    "y_slicing = y[-4:]\n",
    "print(f'Her name is {x_slicing} and his name is {y_slicing}')"
   ]
  },
  {
   "cell_type": "code",
   "execution_count": 4,
   "metadata": {},
   "outputs": [
    {
     "name": "stdout",
     "output_type": "stream",
     "text": [
      "My name is jenny\n"
     ]
    }
   ],
   "source": [
    "# Test4\n",
    "y = \"My name is Eric\"\n",
    "name = input()\n",
    "print(y.replace(\"Eric\", name))"
   ]
  },
  {
   "cell_type": "code",
   "execution_count": 5,
   "metadata": {},
   "outputs": [
    {
     "name": "stdout",
     "output_type": "stream",
     "text": [
      "['Ella', 'Eric', 'William']\n"
     ]
    }
   ],
   "source": [
    "# Test5\n",
    "x = 'Ella-Eric-William'\n",
    "\n",
    "print(x.split('-'))"
   ]
  },
  {
   "cell_type": "code",
   "execution_count": null,
   "metadata": {},
   "outputs": [],
   "source": []
  }
 ],
 "metadata": {
  "kernelspec": {
   "display_name": "Python 3.10.4 ('bioinforlab')",
   "language": "python",
   "name": "python3"
  },
  "language_info": {
   "codemirror_mode": {
    "name": "ipython",
    "version": 3
   },
   "file_extension": ".py",
   "mimetype": "text/x-python",
   "name": "python",
   "nbconvert_exporter": "python",
   "pygments_lexer": "ipython3",
   "version": "3.10.4"
  },
  "orig_nbformat": 4,
  "vscode": {
   "interpreter": {
    "hash": "2abb9830525325817f3e9c3b3f1925b3d4b36fbbad2f2d7197fdeed835bf0874"
   }
  }
 },
 "nbformat": 4,
 "nbformat_minor": 2
}
