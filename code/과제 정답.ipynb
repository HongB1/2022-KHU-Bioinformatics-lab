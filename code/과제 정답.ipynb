{
 "cells": [
  {
   "cell_type": "markdown",
   "metadata": {},
   "source": [
    "[![Open In Colab](https://colab.research.google.com/assets/colab-badge.svg)](https://colab.research.google.com/github/HongB1/2022-KHU-Bioinformatics-lab/blob/master/code/%EA%B3%BC%EC%A0%9C%20%EC%A0%95%EB%8B%B5.ipynb)"
   ]
  },
  {
   "cell_type": "markdown",
   "metadata": {},
   "source": [
    "# 220908 목요일 수업 과제 정답"
   ]
  },
  {
   "cell_type": "code",
   "execution_count": null,
   "metadata": {},
   "outputs": [],
   "source": [
    "# 220908 Test1.\n",
    "gdp_2020 = (\"USA\", \"China\", \"EU\", \"Japan\", \"Germany\")\n",
    "#print(type(gdp_2020))\n",
    "gdp_2022 = list(gdp_2020)\n",
    "gdp_2022[2] = \"UK\"\n",
    "gdp_2022[3] = \"Korea\"\n",
    "#print(gdp_2022)\n",
    "\n",
    "print(f'2020년의 국가별 명목 GDP, Top5 : {gdp_2020}')\n",
    "print(f'2022년의 국가별 명목 GDP, Top5 : {gdp_2022}')"
   ]
  },
  {
   "cell_type": "code",
   "execution_count": null,
   "metadata": {},
   "outputs": [],
   "source": [
    "# 220908 Test2.\n",
    "\n",
    "gdp_2022 = ['USA', 'China', 'UK', 'Korea', 'Germany']\n",
    "\n",
    "gdp_2022.extend(['Japan', 'India', 'France', 'Canada', 'Italy'])\n",
    "# gdp_2022 += ['Japan', 'India', 'France', 'Canada', 'Italy']\n",
    "\n",
    "print(f'2022년의 GDP 생산량의 1~10위는 다음과 같고 {gdp_2022}')\n",
    "print(f'2022년의 GDP 생산량 1~2위는 {gdp_2022[0:2]}이고, 9~10위는 {gdp_2022[-2:]}이다')"
   ]
  },
  {
   "cell_type": "code",
   "execution_count": null,
   "metadata": {},
   "outputs": [],
   "source": [
    "# 220908 Test3.\n",
    "gdp_2022 = {'USA':2500, 'China':2000, 'Japan':500, 'Germany':430, 'UK':340}\n",
    "\n",
    "gdp_2022['India'] = 330\n",
    "\n",
    "dic_keys = gdp_2022.keys()\n",
    "dic_values = gdp_2022.values()\n",
    "\n",
    "print(gdp_2022)\n",
    "print(dic_keys)\n",
    "print(dic_values)"
   ]
  },
  {
   "cell_type": "markdown",
   "metadata": {},
   "source": [
    "\n",
    "\n",
    "# 220906 수업과제"
   ]
  },
  {
   "cell_type": "code",
   "execution_count": 1,
   "metadata": {},
   "outputs": [
    {
     "name": "stdout",
     "output_type": "stream",
     "text": [
      "pn\n"
     ]
    }
   ],
   "source": [
    "# Test1\n",
    "string = input()\n",
    "a = string[0]\n",
    "b = string[-1]\n",
    "print(a+b)"
   ]
  },
  {
   "cell_type": "code",
   "execution_count": 2,
   "metadata": {},
   "outputs": [
    {
     "name": "stdout",
     "output_type": "stream",
     "text": [
      "Her name is Ella and his name is Eric\n"
     ]
    }
   ],
   "source": [
    "# Test2\n",
    "x = \"My name is Ella\"\n",
    "y = \"My name is Eric\"\n",
    "x_slicing = x[-4:]\n",
    "y_slicing = y[-4:]\n",
    "\n",
    "print(\"Her name is {} and his name is {}\".format(x_slicing, y_slicing))\n"
   ]
  },
  {
   "cell_type": "code",
   "execution_count": 3,
   "metadata": {},
   "outputs": [
    {
     "name": "stdout",
     "output_type": "stream",
     "text": [
      "Her name is Ella and his name is Eric\n"
     ]
    }
   ],
   "source": [
    "# Test3\n",
    "x = \"My name is Ella\"\n",
    "y = \"My name is Eric\"\n",
    "x_slicing = x[-4:]\n",
    "y_slicing = y[-4:]\n",
    "print(f'Her name is {x_slicing} and his name is {y_slicing}')"
   ]
  },
  {
   "cell_type": "code",
   "execution_count": 4,
   "metadata": {},
   "outputs": [
    {
     "name": "stdout",
     "output_type": "stream",
     "text": [
      "My name is jenny\n"
     ]
    }
   ],
   "source": [
    "# Test4\n",
    "y = \"My name is Eric\"\n",
    "name = input()\n",
    "print(y.replace(\"Eric\", name))"
   ]
  },
  {
   "cell_type": "code",
   "execution_count": 5,
   "metadata": {},
   "outputs": [
    {
     "name": "stdout",
     "output_type": "stream",
     "text": [
      "['Ella', 'Eric', 'William']\n"
     ]
    }
   ],
   "source": [
    "# Test5\n",
    "x = 'Ella-Eric-William'\n",
    "\n",
    "print(x.split('-'))"
   ]
  },
  {
   "cell_type": "code",
   "execution_count": null,
   "metadata": {},
   "outputs": [],
   "source": []
  }
 ],
 "metadata": {
  "kernelspec": {
   "display_name": "Python 3.9.1 64-bit ('3.9.1')",
   "language": "python",
   "name": "python3"
  },
  "language_info": {
   "codemirror_mode": {
    "name": "ipython",
    "version": 3
   },
   "file_extension": ".py",
   "mimetype": "text/x-python",
   "name": "python",
   "nbconvert_exporter": "python",
   "pygments_lexer": "ipython3",
   "version": "3.9.1"
  },
  "orig_nbformat": 4,
  "vscode": {
   "interpreter": {
    "hash": "1688da3634d91066dd3ff12b743053dfee9eea8177f464778dec1bcb0ebd64e6"
   }
  }
 },
 "nbformat": 4,
 "nbformat_minor": 2
}
