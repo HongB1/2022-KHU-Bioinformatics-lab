{
 "cells": [
  {
   "cell_type": "markdown",
   "metadata": {},
   "source": [
    "[![Open In Colab](https://colab.research.google.com/assets/colab-badge.svg)](https://colab.research.google.com/github/HongB1/2022-KHU-Bioinformatics-lab/blob/master/code/%EA%B3%BC%EC%A0%9C%20%EC%A0%95%EB%8B%B5.ipynb)\n",
    "\n",
    "# 220906 수업과제"
   ]
  },
  {
   "cell_type": "code",
   "execution_count": 1,
   "metadata": {},
   "outputs": [
    {
     "name": "stdout",
     "output_type": "stream",
     "text": [
      "pn\n"
     ]
    }
   ],
   "source": [
    "# Test1\n",
    "string = input()\n",
    "a = string[0]\n",
    "b = string[-1]\n",
    "print(a+b)"
   ]
  },
  {
   "cell_type": "code",
   "execution_count": 2,
   "metadata": {},
   "outputs": [
    {
     "name": "stdout",
     "output_type": "stream",
     "text": [
      "Her name is Ella and his name is Eric\n"
     ]
    }
   ],
   "source": [
    "# Test2\n",
    "x = \"My name is Ella\"\n",
    "y = \"My name is Eric\"\n",
    "x_slicing = x[-4:]\n",
    "y_slicing = y[-4:]\n",
    "\n",
    "print(\"Her name is {} and his name is {}\".format(x_slicing, y_slicing))\n"
   ]
  },
  {
   "cell_type": "code",
   "execution_count": 3,
   "metadata": {},
   "outputs": [
    {
     "name": "stdout",
     "output_type": "stream",
     "text": [
      "Her name is Ella and his name is Eric\n"
     ]
    }
   ],
   "source": [
    "# Test3\n",
    "x = \"My name is Ella\"\n",
    "y = \"My name is Eric\"\n",
    "x_slicing = x[-4:]\n",
    "y_slicing = y[-4:]\n",
    "print(f'Her name is {x_slicing} and his name is {y_slicing}')"
   ]
  },
  {
   "cell_type": "code",
   "execution_count": 4,
   "metadata": {},
   "outputs": [
    {
     "name": "stdout",
     "output_type": "stream",
     "text": [
      "My name is jenny\n"
     ]
    }
   ],
   "source": [
    "# Test4\n",
    "y = \"My name is Eric\"\n",
    "name = input()\n",
    "print(y.replace(\"Eric\", name))"
   ]
  },
  {
   "cell_type": "code",
   "execution_count": 5,
   "metadata": {},
   "outputs": [
    {
     "name": "stdout",
     "output_type": "stream",
     "text": [
      "['Ella', 'Eric', 'William']\n"
     ]
    }
   ],
   "source": [
    "# Test5\n",
    "x = 'Ella-Eric-William'\n",
    "\n",
    "print(x.split('-'))"
   ]
  },
  {
   "cell_type": "code",
   "execution_count": null,
   "metadata": {},
   "outputs": [],
   "source": []
  }
 ],
 "metadata": {
  "kernelspec": {
   "display_name": "Python 3.9.1 64-bit ('3.9.1')",
   "language": "python",
   "name": "python3"
  },
  "language_info": {
   "codemirror_mode": {
    "name": "ipython",
    "version": 3
   },
   "file_extension": ".py",
   "mimetype": "text/x-python",
   "name": "python",
   "nbconvert_exporter": "python",
   "pygments_lexer": "ipython3",
   "version": "3.9.1"
  },
  "orig_nbformat": 4,
  "vscode": {
   "interpreter": {
    "hash": "1688da3634d91066dd3ff12b743053dfee9eea8177f464778dec1bcb0ebd64e6"
   }
  }
 },
 "nbformat": 4,
 "nbformat_minor": 2
}
