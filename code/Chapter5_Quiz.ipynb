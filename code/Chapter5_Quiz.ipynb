{
 "cells": [
  {
   "cell_type": "markdown",
   "metadata": {},
   "source": [
    "[![Open In Colab](https://colab.research.google.com/assets/colab-badge.svg)](https://colab.research.google.com/github/HongB1/2022-KHU-Bioinformatics-lab/blob/master/code/Chapter5_Quiz.ipynb)"
   ]
  },
  {
   "cell_type": "markdown",
   "metadata": {},
   "source": [
    "# 클래스 퀴즈"
   ]
  },
  {
   "cell_type": "code",
   "execution_count": 6,
   "metadata": {},
   "outputs": [],
   "source": [
    "# Quiz1. \n",
    "\n",
    "class Knight():\n",
    "    \n",
    "    def __init__(self, health, mana, armor):\n",
    "        self.health = health\n",
    "        self.mana = mana\n",
    "        self.armor = armor\n",
    "    \n",
    "    def slash(self):\n",
    "        print('베기')"
   ]
  },
  {
   "cell_type": "code",
   "execution_count": 40,
   "metadata": {},
   "outputs": [
    {
     "name": "stdout",
     "output_type": "stream",
     "text": [
      "인스턴스 변수 출력:  542.4 210.3 38\n",
      "============================================================\n",
      "인스턴스 메소드 slash 실행\n",
      "베기\n"
     ]
    }
   ],
   "source": [
    "x = Knight(health=542.4, mana=210.3, armor=38)\n",
    "\n",
    "print('인스턴스 변수 출력: ', x.health, x.mana, x.armor)\n",
    "print('==='*20)\n",
    "print('인스턴스 메소드 slash 실행')\n",
    "x.slash()"
   ]
  },
  {
   "cell_type": "code",
   "execution_count": 42,
   "metadata": {},
   "outputs": [
    {
     "name": "stdout",
     "output_type": "stream",
     "text": [
      "Faker의 티버: 피해량 490.0\n"
     ]
    }
   ],
   "source": [
    "# Quiz2\n",
    "class Annie:\n",
    "    \n",
    "    def __init__(self, user_id, health, mana, ability_power):\n",
    "        self.user_id = user_id\n",
    "        self.health = health\n",
    "        self.mana = mana\n",
    "        self.ability_power = ability_power\n",
    "    \n",
    "    def tibbers(self):\n",
    "        print(f'{self.user_id}의 티버: 피해량 {self.ability_power*0.9 + 400}')\n",
    "\t\t\t\t\n",
    "Faker = Annie('Faker', 520, 100, 100)\n",
    "Gumayusi = Annie('Gumayusi', 550, 120, 80)\n",
    "Keria = Annie('Keria', 580, 140, 140)\n",
    "Faker.tibbers()\n",
    "Gumayusi.tibbers()\n",
    "Keria.tibbers()"
   ]
  },
  {
   "cell_type": "code",
   "execution_count": 36,
   "metadata": {},
   "outputs": [],
   "source": [
    "# Quiz2\n",
    "class Annie:\n",
    "    \n",
    "    def __init__(self, health, mana, ability_power):\n",
    "        self.health = health\n",
    "        self.mana = mana\n",
    "        self.ability_power = ability_power\n",
    "    \n",
    "    def tibbers(self):\n",
    "        print(f'티버: 피해량 {self.ability_power*0.9 + 400}')"
   ]
  },
  {
   "cell_type": "code",
   "execution_count": 39,
   "metadata": {},
   "outputs": [
    {
     "name": "stdout",
     "output_type": "stream",
     "text": [
      "예금주명: 김민수 \n",
      "잔액: 100원\n",
      "계좌번호: SC은행\n",
      "김민수\n",
      "100\n",
      "SC은행\n",
      "240-90-933822\n"
     ]
    }
   ],
   "source": [
    "# Quiz3\n",
    "import random\n",
    "\n",
    "class Account:\n",
    "    def __init__(self, name, balance):\n",
    "        self.name = name\n",
    "        self.balance = balance\n",
    "        self.bank = \"SC은행\"\n",
    "        num1 = random.randint(0, 999)\n",
    "        num2 = random.randint(0, 99)\n",
    "        num3 = random.randint(0, 999999)\n",
    "\n",
    "        num1 = str(num1).zfill(3)      # 1 -> '1' -> '001'\n",
    "        num2 = str(num2).zfill(2)      # 1 -> '1' -> '01'\n",
    "        num3 = str(num3).zfill(6)      # 1 -> '1' -> '0000001'\n",
    "        self.account_number = num1 + '-' + num2 + '-' + num3  # 001-01-000001\n",
    "        \n",
    "    def account_info(self):\n",
    "        \"\"\"계좌정보를 출력하는 메소드입니다.\"\"\"\n",
    "        print('예금주명: {} \\n잔액: {}원\\n계좌번호: {} {}'.format(self.name, self.balance, self.bank, self.account_number))\n",
    "\n",
    "kim = Account(\"김민수\", 100)\n",
    "kim.account_info()\n",
    "print(kim.name)\n",
    "print(kim.balance)\n",
    "print(kim.bank)\n",
    "print(kim.account_number)"
   ]
  },
  {
   "cell_type": "code",
   "execution_count": 43,
   "metadata": {},
   "outputs": [],
   "source": [
    "car_dicts = [\n",
    "    {'car_company': 'Ferrari', 'car_detail': {'color' : 'White', 'horsepower': 400, 'price': 8000}},\n",
    "    {'car_company': 'Bmw', 'car_detail': {'color' : 'Black', 'horsepower': 270, 'price': 5000}},\n",
    "    {'car_company': 'Audi', 'car_detail': {'color' : 'Silver', 'horsepower': 300, 'price': 6000}}\n",
    "]\n"
   ]
  },
  {
   "cell_type": "code",
   "execution_count": 44,
   "metadata": {},
   "outputs": [
    {
     "data": {
      "text/plain": [
       "{'car_company': 'Bmw',\n",
       " 'car_detail': {'color': 'Black', 'horsepower': 270, 'price': 5000}}"
      ]
     },
     "execution_count": 44,
     "metadata": {},
     "output_type": "execute_result"
    }
   ],
   "source": [
    "car_dicts[1]"
   ]
  },
  {
   "cell_type": "code",
   "execution_count": 17,
   "metadata": {},
   "outputs": [],
   "source": [
    "# Quiz4\n",
    "# 딕셔너리 구조\n",
    "# 코드 반복 지속, 중첩 문제, 키 조회 예외 처리 등\n",
    "car_dicts = [\n",
    "    {'car_company': 'Ferrari', 'car_detail': {'color' : 'White', 'horsepower': 400, 'price': 8000}},\n",
    "    {'car_company': 'Bmw', 'car_detail': {'color' : 'Black', 'horsepower': 270, 'price': 5000}},\n",
    "    {'car_company': 'Audi', 'car_detail': {'color' : 'Silver', 'horsepower': 300, 'price': 6000}}\n",
    "]\n",
    "\n",
    "class Car():\n",
    "    \n",
    "    def __init__(self, company, details):\n",
    "        self._company = company\n",
    "        self._details = details\n",
    "        \n",
    "    def info(self):\n",
    "        return '{} - details: {}'.format(self._company, self._details)"
   ]
  },
  {
   "cell_type": "code",
   "execution_count": 23,
   "metadata": {},
   "outputs": [],
   "source": [
    "car1 = Car('Ferrari', {'color' : 'White', 'horsepower': 400, 'price': 8000})\n",
    "car2 = Car('Bmw', {'color' : 'Black', 'horsepower': 270, 'price': 5000})\n",
    "car3 = Car('Audi', {'color' : 'Silver', 'horsepower': 300, 'price': 6000})"
   ]
  },
  {
   "cell_type": "code",
   "execution_count": 25,
   "metadata": {},
   "outputs": [
    {
     "name": "stdout",
     "output_type": "stream",
     "text": [
      "Ferrari - details: {'color': 'White', 'horsepower': 400, 'price': 8000}\n",
      "Bmw - details: {'color': 'Black', 'horsepower': 270, 'price': 5000}\n",
      "Audi - details: {'color': 'Silver', 'horsepower': 300, 'price': 6000}\n"
     ]
    }
   ],
   "source": [
    "print(car1.info())\n",
    "print(car2.info())\n",
    "print(car3.info())"
   ]
  },
  {
   "cell_type": "code",
   "execution_count": 30,
   "metadata": {},
   "outputs": [],
   "source": [
    "# Quiz5.\n",
    "\n",
    "class Car():\n",
    "    def __init__(self, company, details):\n",
    "        self._company = company\n",
    "        self._details = details\n",
    "# 안스턴스 메서드 : 속 알맹이가 궁금할 때 __str__를 구현해놓고 print하면 됨\n",
    "    def __str__(self): # 비공식적인, print로 출력하는 사용자 입장의 출력을 할 때\n",
    "        \"\"\"\n",
    "        This is str docstring.\n",
    "        \"\"\"\n",
    "        return 'str : {} - {}'.format(self._company, self._details)\n",
    "\n",
    "    def __repr__(self): # 객체를 그대로 표현해줄 때 -> 엔지니어 레벨 객체의 엄격한 타입 정보 공식적인 문자열로 표현할 때 -> 이걸 더 많이 사용하기\n",
    "        return 'repr : {} - {}'.format(self._company, self._details)\n",
    "# print(객체)을 하면 str 메소드가 있으면 str메소드가 출력되고, 아니면 repr 메소드가 출력됨\n",
    "\n",
    "    # 인스턴스 메소드\n",
    "    def detail_info(self):\n",
    "        print('Current ID : {}'.format(id(self))) # 자기 자신이 출력되는 거니까 ID가 출력될 것임\n",
    "        print('Car Detail Info: company - {}, price - {}'.format(self._company, self._details.get('price')))"
   ]
  },
  {
   "cell_type": "code",
   "execution_count": 31,
   "metadata": {},
   "outputs": [],
   "source": [
    "car1 = Car('Ferrari', {'color' : 'White', 'horsepower': 400, 'price': 8000})\n",
    "car2 = Car('Bmw', {'color' : 'Black', 'horsepower': 270, 'price': 5000})\n",
    "car3 = Car('Audi', {'color' : 'Silver', 'horsepower': 300, 'price': 6000})"
   ]
  },
  {
   "cell_type": "code",
   "execution_count": 32,
   "metadata": {},
   "outputs": [
    {
     "name": "stdout",
     "output_type": "stream",
     "text": [
      "str : Ferrari - {'color': 'White', 'horsepower': 400, 'price': 8000}\n"
     ]
    }
   ],
   "source": [
    "print(car1)"
   ]
  },
  {
   "cell_type": "code",
   "execution_count": 34,
   "metadata": {},
   "outputs": [
    {
     "name": "stdout",
     "output_type": "stream",
     "text": [
      "Current ID : 4392103600\n",
      "Car Detail Info: company - Ferrari, price - 8000\n",
      "Current ID : 4388783200\n",
      "Car Detail Info: company - Bmw, price - 5000\n"
     ]
    }
   ],
   "source": [
    "car1.detail_info()\n",
    "car2.detail_info()"
   ]
  },
  {
   "cell_type": "code",
   "execution_count": 35,
   "metadata": {},
   "outputs": [
    {
     "name": "stdout",
     "output_type": "stream",
     "text": [
      "<class '__main__.Car'> <class '__main__.Car'>\n",
      "True\n",
      "4318493776 4318493776 4318493776\n"
     ]
    }
   ],
   "source": [
    "print(car1.__class__, car2.__class__)\n",
    "# 비교 : 같음 -> 이유는 둘다 같은 붕어빵 틀이기 떄문에\n",
    "# main class인 Car class의 id를 출력한 것이기 때문에 다 같음. 같은 붕어빵 틀! \n",
    "print(car1.__class__ == car2.__class__)\n",
    "print(id(car1.__class__), id(car2.__class__), id(car3.__class__))"
   ]
  },
  {
   "cell_type": "markdown",
   "metadata": {},
   "source": [
    "# 함수 퀴즈"
   ]
  },
  {
   "cell_type": "code",
   "execution_count": 1,
   "metadata": {},
   "outputs": [
    {
     "name": "stdout",
     "output_type": "stream",
     "text": [
      "KHU:D\n"
     ]
    }
   ],
   "source": [
    "'''\n",
    "Quiz1. 하나의 문자를 입력받아 문자열 끝에 \":D\" 스마일 문자열을 이어 붙여 출력하는 print_with_smile 함수를 정의하고 파라미터로 \"KHU\"를 입력해서 함수를 호출하여라.\n",
    "'''\n",
    "def print_with_smile(message):\n",
    "    print(message + \":D\")\n",
    "\n",
    "print_with_smile(\"KHU\")"
   ]
  },
  {
   "cell_type": "code",
   "execution_count": 2,
   "metadata": {},
   "outputs": [
    {
     "name": "stdout",
     "output_type": "stream",
     "text": [
      "현재 가격의 상한가(30%)는 6500.0원입니다.\n"
     ]
    }
   ],
   "source": [
    "'''\n",
    "Quiz2. 현재 가격을 입력 받아 상한가 (30%)를 출력하는 print_upper_price 함수를 정의하고 파마리터를 5000으로 받아 입력해라.\n",
    "- 출력은 다음과 같이 하시오 : \"현재 가격의 상한가(30%)는 ____원입니다.\"\n",
    "- 참고 : 상한가는 가격에 1.3배를 곱하면 된다.\n",
    "'''\n",
    "\n",
    "def print_upper_price(price):\n",
    "\tupper_price = price*1.3\n",
    "\tprint(f\"현재 가격의 상한가(30%)는 {upper_price}원입니다.\")\n",
    "\n",
    "print_upper_price(5000)"
   ]
  },
  {
   "cell_type": "code",
   "execution_count": 1,
   "metadata": {},
   "outputs": [],
   "source": [
    "'''\n",
    "Quiz3. 두 개의 숫자를 입력받아 합/차/곱/나눗셈을 출력하는 print_arithmetic_operation 함수를 작성하라.\n",
    "그 후 파라미터를 3, 4로 받아서 출력해보자.\n",
    "'''\n",
    "def print_arithmetic_operation(a, b):\n",
    "    print(f'{a} + {b} = {a+b}')\n",
    "    print(f'{a} - {b} = {a-b}')\n",
    "    print(f'{a} * {b} = {a*b}')\n",
    "    print(f'{a} / {b} = {a/b}')"
   ]
  },
  {
   "cell_type": "code",
   "execution_count": null,
   "metadata": {},
   "outputs": [],
   "source": [
    "'''\n",
    "Quiz4. 다음과 같이 학생 이름과 점수가 담겨있는 딕셔너리가 있다.\n",
    "함수의 파라미터 packing기능을 활용하여 파라미터를 받고,\n",
    "커트라인 이상의 학생 이름만 리스트에 담아주는 함수를 만들어보자.\n",
    "그 후 커트라인 점수를 입력으로 받고, 입력값에 따라 리스트가 달라지게끔 코드를 짜보자.\n",
    "'''\n",
    "score = int(input())\n",
    "student_dict = {\"박은태\":10, \"박효신\":8, \"신영숙\":5, \"이지혜\":4, \"김소현\":9, \"조승우\":3, \"옥주현\":6}\n",
    "\n",
    "def student_list_append(cutline, **kwargs):\n",
    "    student_list = []\n",
    "    for name, score in kwargs.items():\n",
    "        if score < cutline:\n",
    "            continue\n",
    "        student_list.append(name)\n",
    "\n",
    "    return student_list\n",
    "\t\n",
    "student_list = student_list_append(score, **student_dict)\n",
    "print(student_list)"
   ]
  },
  {
   "cell_type": "code",
   "execution_count": 3,
   "metadata": {},
   "outputs": [],
   "source": [
    "'''\n",
    "Quiz5 : 문자열 하나를 입력받아 인터넷 주소를 반환하는 make_url 함수를 정의하라. \n",
    "파라미터의 인자로 'naver'를 넣어서 'www.naver.com'을 출력해봐라\n",
    "'''\n",
    "def make_url(url):\n",
    "    url = f'www.{url}.com'\n",
    "    return url\n",
    "naver = make_url('naver')\n",
    "print(naver)\t\n",
    "\n"
   ]
  },
  {
   "cell_type": "code",
   "execution_count": null,
   "metadata": {},
   "outputs": [],
   "source": [
    "'''Quiz6 : 앞에서 정의한 함수를 람다로 바꿔보아라.'''\n",
    "def make_url(url):\n",
    "    url = f'www.{url}.com'\n",
    "    return url\n",
    "# 위 함수를 람다로 바꾸기\n",
    "\t\n",
    "make_url = lambda url : \"www.\" + url + \".com\"\n",
    "naver = make_url('naver')\n",
    "print(naver)"
   ]
  },
  {
   "cell_type": "code",
   "execution_count": 3,
   "metadata": {},
   "outputs": [
    {
     "name": "stdout",
     "output_type": "stream",
     "text": [
      "['www.naver.com', 'www.kakao.com', 'www.google.com']\n"
     ]
    }
   ],
   "source": [
    "'''Quiz7. for문 내에서 함수 쓰기\n",
    "람다 함수와 url_list가 다음과 같이 정의되어 있다. '''\n",
    "make_url = lambda url : \"www.\" + url + \".com\"\n",
    "url_list = ['naver', 'kakao', 'google']\n",
    "\n",
    "# for문을 이용하여 for문 속에서 정의한 람다함수 객체를 실행시켜 출력예시와 똑같은 url_list를 만든 후 출력해보세요.\n",
    "for idx, url in enumerate(url_list):\n",
    "    url = make_url(url)\n",
    "    url_list[idx] = url\n",
    "print(url_list)\n"
   ]
  },
  {
   "cell_type": "code",
   "execution_count": 4,
   "metadata": {},
   "outputs": [
    {
     "name": "stdout",
     "output_type": "stream",
     "text": [
      "['www.naver.com', 'www.kakao.com', 'www.google.com']\n"
     ]
    }
   ],
   "source": [
    "'''Quiz8. 람다, map 사용하기:\n",
    "람다 함수와 url_list가 다음과 같이 정의되어 있다.''' \n",
    "make_url = lambda url : \"www.\" + url + \".com\"\n",
    "url_list = ['naver', 'kakao', 'google']\n",
    "\n",
    "# 1. map함수의 인자로 람다로 정의한 객체와 url_list를 받고,\n",
    "# 2. map객체를 url_list를 바꿔보세요.\n",
    "url_list = list(map(make_url, url_list))\n",
    "print(url_list)"
   ]
  },
  {
   "cell_type": "code",
   "execution_count": 4,
   "metadata": {},
   "outputs": [],
   "source": [
    "file = 'khu.jpg'"
   ]
  },
  {
   "cell_type": "code",
   "execution_count": 6,
   "metadata": {},
   "outputs": [
    {
     "data": {
      "text/plain": [
       "-1"
      ]
     },
     "execution_count": 6,
     "metadata": {},
     "output_type": "execute_result"
    }
   ],
   "source": [
    "file.find('.png')"
   ]
  },
  {
   "cell_type": "code",
   "execution_count": 7,
   "metadata": {},
   "outputs": [
    {
     "data": {
      "text/plain": [
       "True"
      ]
     },
     "execution_count": 7,
     "metadata": {},
     "output_type": "execute_result"
    }
   ],
   "source": [
    "'.jpg' in file"
   ]
  },
  {
   "cell_type": "code",
   "execution_count": 11,
   "metadata": {},
   "outputs": [
    {
     "data": {
      "text/plain": [
       "True"
      ]
     },
     "execution_count": 11,
     "metadata": {},
     "output_type": "execute_result"
    }
   ],
   "source": [
    "end = ('jpg', 'png')\n",
    "file.endswith(end)"
   ]
  },
  {
   "cell_type": "code",
   "execution_count": 6,
   "metadata": {},
   "outputs": [
    {
     "name": "stdout",
     "output_type": "stream",
     "text": [
      "['1.png', '10.jpg', '2.jpg', '3.png']\n"
     ]
    }
   ],
   "source": [
    "'''\n",
    "Quiz9. 이미지 파일만 가져오기\n",
    "files 리스트에서 확장자가 .jpg, .png인 이미지 파일만 새로운 리스트에 넣고, 새로운 리스트를 출력하세요. \n",
    "함수나 람다를 꼭 사용하세요.\n",
    "'''\n",
    "files = ['font', '1.png', '10.jpg', '11.gif', '2.jpg', '3.png', 'table.xslx', 'spec.docx']\n",
    "\n",
    "def file_filter(filelist):\n",
    "    new_filelist = []\n",
    "    for file in filelist:\n",
    "        # if 'png' in file or 'jpg' in file:\n",
    "        #     new_filelist.append(file)\n",
    "        if file.find('jpg') != -1 or file.find('png') != -1:\n",
    "            new_filelist.append(file)\n",
    "            \n",
    "    return new_filelist\n",
    "\n",
    "new_filelist = file_filter(files)\n",
    "print(new_filelist)"
   ]
  },
  {
   "cell_type": "code",
   "execution_count": 7,
   "metadata": {},
   "outputs": [
    {
     "data": {
      "text/plain": [
       "['1.png', '10.jpg', '2.jpg', '3.png']"
      ]
     },
     "execution_count": 7,
     "metadata": {},
     "output_type": "execute_result"
    }
   ],
   "source": [
    "files = ['font', '1.png', '10.jpg', '11.gif', '2.jpg', '3.png', 'table.xslx', 'spec.docx']\n",
    "list(filter(lambda x: x.find('.jpg') !=-1 or x.find('.png')!=-1, files))"
   ]
  },
  {
   "cell_type": "code",
   "execution_count": null,
   "metadata": {},
   "outputs": [],
   "source": [
    "from collections import OrderedDict\n",
    "\n",
    "from typing import List, Dict\n",
    "\n",
    "def grade_submissions(student_submissions:List[str], answer_list:List[int]) -> Dict[str, int]:\n",
    "    \"\"\"[\"김갑,3242524215\"]와 같은 형태의 제출을 파싱하고 채점하여 {\"김갑\":80} 형태의 dict로 반환\"\"\"\n",
    "    \n",
    "    score_dict = {}\n",
    "    for student_submission in student_submissions:\n",
    "        student, submission_str = student_submission.split(\",\")\n",
    "        submission_list = list(map(int, submission_str))\n",
    "\n",
    "        assert len(submission_list) == len(answer_list)\n",
    "\n",
    "        correct_count = sum([i == j for i, j in zip(submission_list, answer_list)])\n",
    "        score = correct_count * 10\n",
    "\n",
    "        score_dict[student] = score\n",
    "    return score_dict\n",
    "\n",
    "def rank_scores(score_dict:Dict[str, int]) -> Dict[str, List[dict[str, int]]]:\n",
    "    \"\"\"점수를 가지고 순위 부여. 같은 점수는 같은 순위이며, 출력 순서는 제출 순서를 따른다.\n",
    "    k등이 n명이면 k+1 ~ k+n-1 등은 존재하지 않는다. 즉 1등이 3명이면 2, 3등은 존재하지 않는다\"\"\"\n",
    "        \n",
    "    sorted_student = [k for k, v in sorted(score_dict.items(), key=lambda item: item[1], reverse=True)]\n",
    "\n",
    "    sorted_score_dict = OrderedDict()\n",
    "    current_score = None\n",
    "    student_rank = 0\n",
    "    rank_stacked = 1\n",
    "    for student in sorted_student:\n",
    "        student_score = score_dict[student]\n",
    "        ## 이전 점수와 같으면 rank 유지\n",
    "        if current_score == student_score:\n",
    "            rank_stacked += 1\n",
    "        ## 점수가 달라지면 초기화\n",
    "        else:\n",
    "            student_rank += rank_stacked\n",
    "            rank_stacked = 1\n",
    "\n",
    "            current_score = student_score\n",
    "\n",
    "        sorted_score_dict[student] = {\"score\":student_score, \"rank\":student_rank}\n",
    "    \n",
    "    return sorted_score_dict\n",
    "\n",
    "def print_scores(sorted_score_dict):\n",
    "    \"\"\"정렬된 점수 dictionary를 순서대로 출력\"\"\"\n",
    "    for student_name, score_dict in sorted_score_dict.items():\n",
    "        print(f\"이름: {student_name} | 점수: {score_dict['score']:3d} | {score_dict['rank']:2d}등\")\n",
    "\n",
    "def main():    \n",
    "    \n",
    "    # 학생 답\n",
    "    student_submissions = [\n",
    "        \"김갑,3242524215\", \"이을,3242524223\", \"박병,2242554131\",\n",
    "        \"최정,4245242315\", \"정무,3242524315\", \"데인,3242524315\"\n",
    "    ]\n",
    "\n",
    "    # 정답지\n",
    "    answer_list = [3,2,4,2,5,2,4,3,1,2]\n",
    "\n",
    "\n",
    "    score_dict = grade_submissions(student_submissions, answer_list)\n",
    "    sorted_score_dict = rank_scores(score_dict)\n",
    "    print_scores(sorted_score_dict)\n",
    "\n",
    "\n",
    "if __name__ == \"__main__\":\n",
    "    main()"
   ]
  }
 ],
 "metadata": {
  "kernelspec": {
   "display_name": "Python 3.9.1 64-bit ('3.9.1')",
   "language": "python",
   "name": "python3"
  },
  "language_info": {
   "codemirror_mode": {
    "name": "ipython",
    "version": 3
   },
   "file_extension": ".py",
   "mimetype": "text/x-python",
   "name": "python",
   "nbconvert_exporter": "python",
   "pygments_lexer": "ipython3",
   "version": "3.9.1"
  },
  "orig_nbformat": 4,
  "vscode": {
   "interpreter": {
    "hash": "1688da3634d91066dd3ff12b743053dfee9eea8177f464778dec1bcb0ebd64e6"
   }
  }
 },
 "nbformat": 4,
 "nbformat_minor": 2
}
