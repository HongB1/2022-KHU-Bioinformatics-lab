{
 "cells": [
  {
   "cell_type": "markdown",
   "metadata": {},
   "source": [
    "# 클래스 상속 사용하기"
   ]
  },
  {
   "cell_type": "code",
   "execution_count": 1,
   "metadata": {},
   "outputs": [
    {
     "name": "stdout",
     "output_type": "stream",
     "text": [
      "안녕하세요.\n",
      "공부하기\n"
     ]
    }
   ],
   "source": [
    "class Person:\n",
    "    def greeting(self):\n",
    "        print('안녕하세요.')\n",
    " \n",
    "class Student(Person):\n",
    "    def study(self):\n",
    "        print('공부하기')\n",
    " \n",
    "james = Student()\n",
    "james.greeting()    # 안녕하세요.: 기반 클래스 Person의 메서드 호출\n",
    "james.study()       # 공부하기: 파생 클래스 Student에 추가한 study 메서드\n"
   ]
  },
  {
   "cell_type": "code",
   "execution_count": 24,
   "metadata": {},
   "outputs": [],
   "source": [
    "class Person:\n",
    "    def greeting(self):\n",
    "        print('안녕하세요.')\n",
    " \n",
    "class PersonList:\n",
    "    def __init__(self):\n",
    "        self.person_list = []    # 리스트 속성에 Person 인스턴스를 넣어서 관리\n",
    " \n",
    "    def append_person(self, ps):    # 리스트 속성에 Person 인스턴스를 추가하는 함수\n",
    "        self.person_list.append(ps)"
   ]
  },
  {
   "cell_type": "code",
   "execution_count": null,
   "metadata": {},
   "outputs": [],
   "source": [
    "class Person:\n",
    "    def __init__(self):\n",
    "        print('Person __init__')\n",
    "        self.hello = '안녕하세요.'\n",
    " \n",
    "class Student(Person):\n",
    "    def __init__(self):\n",
    "        print('Student __init__')\n",
    "        self.school = '파이썬 코딩 도장'\n",
    " \n",
    "james = Student()\n",
    "print(james.school)\n",
    "print(james.hello)    # 기반 클래스의 속성을 출력하려고 하면 에러가 발생함"
   ]
  },
  {
   "cell_type": "code",
   "execution_count": 31,
   "metadata": {},
   "outputs": [
    {
     "name": "stdout",
     "output_type": "stream",
     "text": [
      "안녕하세요. 저는 파이썬 코딩 도장 학생입니다.\n"
     ]
    }
   ],
   "source": [
    "class Person:\n",
    "    def greeting(self):\n",
    "        print('안녕하세요.')\n",
    " \n",
    "class Student(Person):\n",
    "    def greeting(self):\n",
    "        print('안녕하세요. 저는 파이썬 코딩 도장 학생입니다.')\n",
    " \n",
    "james = Student()\n",
    "james.greeting()"
   ]
  },
  {
   "cell_type": "code",
   "execution_count": 33,
   "metadata": {},
   "outputs": [
    {
     "name": "stdout",
     "output_type": "stream",
     "text": [
      "안녕하세요.\n",
      "kk\n",
      "안녕하세요. 저는 파이썬 코딩 도장 학생입니다.\n"
     ]
    }
   ],
   "source": [
    "class Person:\n",
    "    def greeting(self):\n",
    "        print('안녕하세요.')\n",
    "        print('kk')\n",
    "class Student(Person):\n",
    "    def greeting(self):\n",
    "        super(Student, self).greeting()\n",
    "        print('안녕하세요. 저는 파이썬 코딩 도장 학생입니다.')\n",
    " \n",
    "james = Student()\n",
    "james.greeting()"
   ]
  },
  {
   "cell_type": "code",
   "execution_count": 41,
   "metadata": {},
   "outputs": [],
   "source": [
    "class Person():\n",
    "    def greeting(self):\n",
    "        print('hello')\n",
    "\n",
    "class University():\n",
    "    def manage_credit(self):\n",
    "        print('manage credit')\n",
    "\n",
    "class Undergraduate(Person, University):\n",
    "    def study(self):\n",
    "        super(Undergraduate, self).manage_credit()\n",
    "        print('study') \n"
   ]
  },
  {
   "cell_type": "code",
   "execution_count": 42,
   "metadata": {},
   "outputs": [
    {
     "name": "stdout",
     "output_type": "stream",
     "text": [
      "manage credit\n",
      "study\n"
     ]
    }
   ],
   "source": [
    "james = Undergraduate()\n",
    "james.study()"
   ]
  },
  {
   "cell_type": "code",
   "execution_count": 37,
   "metadata": {},
   "outputs": [
    {
     "name": "stdout",
     "output_type": "stream",
     "text": [
      "hello\n"
     ]
    }
   ],
   "source": [
    "james.greeting()"
   ]
  },
  {
   "cell_type": "code",
   "execution_count": 38,
   "metadata": {},
   "outputs": [
    {
     "name": "stdout",
     "output_type": "stream",
     "text": [
      "manage credit\n"
     ]
    }
   ],
   "source": [
    "james.manage_credit()"
   ]
  },
  {
   "cell_type": "code",
   "execution_count": 49,
   "metadata": {},
   "outputs": [],
   "source": [
    "class A:\n",
    "    def greeting(self):\n",
    "        print('안녕하세요. A입니다.')\n",
    " \n",
    "class B(A):\n",
    "    def greeting(self):\n",
    "        # super(B, self).greeting()\n",
    "        print('안녕하세요. B입니다.')\n",
    " \n",
    "class C(A):\n",
    "    def greeting(self):\n",
    "        print('안녕하세요. C입니다.')\n",
    " \n",
    "class D(B, C):\n",
    "    pass"
   ]
  },
  {
   "cell_type": "code",
   "execution_count": 50,
   "metadata": {},
   "outputs": [
    {
     "name": "stdout",
     "output_type": "stream",
     "text": [
      "안녕하세요. B입니다.\n"
     ]
    }
   ],
   "source": [
    "x = D()\n",
    "x.greeting()"
   ]
  },
  {
   "cell_type": "code",
   "execution_count": 51,
   "metadata": {},
   "outputs": [
    {
     "data": {
      "text/plain": [
       "[__main__.D, __main__.B, __main__.C, __main__.A, object]"
      ]
     },
     "execution_count": 51,
     "metadata": {},
     "output_type": "execute_result"
    }
   ],
   "source": [
    "D.mro()"
   ]
  },
  {
   "cell_type": "code",
   "execution_count": 52,
   "metadata": {},
   "outputs": [],
   "source": [
    "class Point2D:\n",
    "    def __init__(self, x, y):\n",
    "        self.x = x\n",
    "        self.y = y"
   ]
  },
  {
   "cell_type": "code",
   "execution_count": 53,
   "metadata": {},
   "outputs": [],
   "source": [
    "p1 = Point2D(30, 20)\n",
    "p2 = Point2D(30, 40)"
   ]
  },
  {
   "cell_type": "code",
   "execution_count": null,
   "metadata": {},
   "outputs": [],
   "source": []
  }
 ],
 "metadata": {
  "interpreter": {
   "hash": "9132612d292018844046efb7d61620c385772bf99f2e53a3f7e93381535a3719"
  },
  "kernelspec": {
   "display_name": "Python 3.10.5 ('lab')",
   "language": "python",
   "name": "python3"
  },
  "language_info": {
   "codemirror_mode": {
    "name": "ipython",
    "version": 3
   },
   "file_extension": ".py",
   "mimetype": "text/x-python",
   "name": "python",
   "nbconvert_exporter": "python",
   "pygments_lexer": "ipython3",
   "version": "3.10.5"
  },
  "orig_nbformat": 4
 },
 "nbformat": 4,
 "nbformat_minor": 2
}
