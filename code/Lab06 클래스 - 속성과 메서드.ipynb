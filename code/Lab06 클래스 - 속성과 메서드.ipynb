{
 "cells": [
  {
   "cell_type": "markdown",
   "metadata": {},
   "source": [
    "# Lab06 심화-1: 클래스 속성과 정적, 클래스 메서드 사용하기\n",
    "\n",
    "지금까지 간단하게 클래스를 만들고 속성과 메서드를 사용해봤습니다. 이번에는 클래스에 속해 있는 클래스 속성에 대해 알아보겠습니다. 그리고 인스턴스를 만들지 않고 클래스로 호출하는 정적 메서드와 클래스 메서드도 사용해보겠습니다.\n",
    "\n",
    "## 1. 클래스 속성과 인스턴스 속성 알아보기\n",
    "\n",
    "'34.2 속성 사용하기'에서 클래스의 속성을 사용해봤는데, 사실 속성에는 클래스 속성과 인스턴스 속성 두 가지 종류가 있습니다. `__init__` 메서드에서 만들었던 속성은 인스턴스 속성입니다.\n",
    "\n"
   ]
  },
  {
   "cell_type": "markdown",
   "metadata": {},
   "source": [
    "### 1.1 클래스 속성 사용하기"
   ]
  },
  {
   "cell_type": "code",
   "execution_count": 1,
   "metadata": {},
   "outputs": [
    {
     "data": {
      "text/plain": [
       "'\\nclass 클래스이름:\\n    속성 = 값\\n'"
      ]
     },
     "execution_count": 1,
     "metadata": {},
     "output_type": "execute_result"
    }
   ],
   "source": [
    "'''\n",
    "class 클래스이름:\n",
    "    속성 = 값\n",
    "'''"
   ]
  },
  {
   "cell_type": "code",
   "execution_count": 2,
   "metadata": {},
   "outputs": [
    {
     "name": "stdout",
     "output_type": "stream",
     "text": [
      "['책', '열쇠']\n",
      "['책', '열쇠']\n"
     ]
    }
   ],
   "source": [
    "class Person:\n",
    "    bag = []\n",
    "\n",
    "    def put_bag(self, stuff):\n",
    "        self.bag.append(stuff)\n",
    "\n",
    "james = Person()\n",
    "james.put_bag('책')\n",
    "\n",
    "maria = Person()\n",
    "maria.put_bag('열쇠')\n",
    "\n",
    "print(james.bag)\n",
    "print(maria.bag)"
   ]
  },
  {
   "cell_type": "markdown",
   "metadata": {},
   "source": [
    "가방에 물건을 넣는 간단한 동작을 만들었습니다. 그런데 결과가 좀 이상하죠? james와 maria 인스턴스를 만들고 각자 put_bag 메서드로 물건을 넣었는데, james.bag과 maria.bag을 출력해보면 넣었던 물건이 합쳐져서 나옵니다. 즉, 클래스 속성은 클래스에 속해 있으며 모든 인스턴스에서 공유합니다.\n",
    "  \n",
    "<img src=\"https://dojang.io/pluginfile.php/13898/mod_page/content/6/035001.png\">"
   ]
  },
  {
   "cell_type": "code",
   "execution_count": 3,
   "metadata": {},
   "outputs": [],
   "source": [
    "class Person:\n",
    "    bag = []\n",
    " \n",
    "    def put_bag(self, stuff):\n",
    "        self.bag.append(stuff)"
   ]
  },
  {
   "cell_type": "code",
   "execution_count": 4,
   "metadata": {},
   "outputs": [],
   "source": [
    "class Person:\n",
    "    bag = []\n",
    " \n",
    "    def put_bag(self, stuff):\n",
    "        Person.bag.append(stuff)    # 클래스 이름으로 클래스 속성에 접근"
   ]
  },
  {
   "cell_type": "code",
   "execution_count": 6,
   "metadata": {},
   "outputs": [
    {
     "name": "stdout",
     "output_type": "stream",
     "text": [
      "[]\n"
     ]
    }
   ],
   "source": [
    "print(Person.bag)"
   ]
  },
  {
   "cell_type": "markdown",
   "metadata": {},
   "source": [
    "### 1.2 인스턴스 속성 사용하기\n",
    "그럼 가방을 여러 사람이 공유하지 않으려면 어떻게 해야 할까요? 그냥 bag을 인스턴스 속성으로 만들면 됩니다.\n",
    "\n"
   ]
  },
  {
   "cell_type": "code",
   "execution_count": 7,
   "metadata": {},
   "outputs": [],
   "source": [
    "class Person:\n",
    "    def __init__(self):\n",
    "        self.bag = []\n",
    "\n",
    "    def put_bag(self, stuff):\n",
    "        self.bag.append(stuff)\n"
   ]
  },
  {
   "cell_type": "code",
   "execution_count": 11,
   "metadata": {},
   "outputs": [
    {
     "name": "stdout",
     "output_type": "stream",
     "text": [
      "['책']\n",
      "['열쇠']\n"
     ]
    }
   ],
   "source": [
    "james = Person()\n",
    "james.put_bag('책')\n",
    "\n",
    "maria = Person()\n",
    "maria.put_bag('열쇠')\n",
    "\n",
    "print(james.bag)\n",
    "print(maria.bag)\n"
   ]
  },
  {
   "cell_type": "markdown",
   "metadata": {},
   "source": [
    "james.bag과 maria.bag을 출력해보면 각자 넣은 물건만 출력됩니다. 즉, 인스턴스 속성은 인스턴스별로 독립되어 있으며 서로 영향을 주지 않습니다.\n",
    "\n",
    "이제 클래스 속성과 인스턴스 속성의 차이점을 정리해보겠습니다.\n",
    "\n",
    "- 클래스 속성: 모든 인스턴스가 공유. 인스턴스 전체가 사용해야 하는 값을 저장할 때 사용\n",
    "- 인스턴스 속성: 인스턴스별로 독립되어 있음. 각 인스턴스가 값을 따로 저장해야 할 때 사용"
   ]
  },
  {
   "cell_type": "markdown",
   "metadata": {},
   "source": [
    "### 1.3 비공개 클래스 속성 사용하기\n",
    "클래스 속성도 비공개 속성을 만들 수 있습니다. 클래스 속성을 만들 때 __속성과 같이 __(밑줄 두 개)로 시작하면 비공개 속성이 됩니다. 따라서 **클래스 안에서만 접근할 수 있고, 클래스 바깥에서는 접근할 수 없습니다**\n",
    "\n",
    "```\n",
    "class 클래스이름:\n",
    "    __속성 = 값 # 비공개 클래스 속성\n",
    "```\n",
    "\n",
    "즉, 클래스에서 공개하고 싶지 않은 속성이 있다면 비공개 클래스를 사용해야 합니다. 예를 들어 기사 게임 캐릭터는 아이템을 최대 10개까지만 보유할 수 있다고 하죠."
   ]
  },
  {
   "cell_type": "code",
   "execution_count": 14,
   "metadata": {},
   "outputs": [
    {
     "name": "stdout",
     "output_type": "stream",
     "text": [
      "10\n"
     ]
    }
   ],
   "source": [
    "class Knight:\n",
    "    __item_limit = 10 # 비공개 클래스 속성\n",
    "\n",
    "    def print_item_limit(self):\n",
    "        print(Knight.__item_limit) # 클래스 안에서만 접급할 수 있음\n",
    "  \n",
    "x = Knight()\n",
    "x.print_item_limit() # 10"
   ]
  },
  {
   "cell_type": "code",
   "execution_count": 13,
   "metadata": {},
   "outputs": [
    {
     "ename": "AttributeError",
     "evalue": "type object 'Knight' has no attribute '__item_limit'",
     "output_type": "error",
     "traceback": [
      "\u001b[0;31m---------------------------------------------------------------------------\u001b[0m",
      "\u001b[0;31mAttributeError\u001b[0m                            Traceback (most recent call last)",
      "\u001b[1;32m/Users/hongb/Dropbox/2022_Bioinformatics_lab/lab06_클래스심화.ipynb Cell 15'\u001b[0m in \u001b[0;36m<cell line: 1>\u001b[0;34m()\u001b[0m\n\u001b[0;32m----> <a href='vscode-notebook-cell:/Users/hongb/Dropbox/2022_Bioinformatics_lab/lab06_%ED%81%B4%EB%9E%98%EC%8A%A4%EC%8B%AC%ED%99%94.ipynb#ch0000023?line=0'>1</a>\u001b[0m \u001b[39mprint\u001b[39m(Knight\u001b[39m.\u001b[39;49m__item_limit)\n",
      "\u001b[0;31mAttributeError\u001b[0m: type object 'Knight' has no attribute '__item_limit'"
     ]
    }
   ],
   "source": [
    "print(Knight.__item_limit)"
   ]
  },
  {
   "cell_type": "markdown",
   "metadata": {},
   "source": [
    "## 2. 정적 메서드 사용하기\n",
    "\n",
    "지금까지 클래스의 메서드를 사용할 때 인스턴스를 통해서 호출했습니다. 이번에는 **인스턴스를 통하지 않고 클래스에서 바로 호출할 수 있는 정적 메서드와 클래스 메서드**에 대해 알아보겠습니다.\n",
    "\n",
    "먼저 정적 메서드입니다. 정적 메서드는 다음과 같이 메서드 위에 `@staticmethod`를 붙입니다. 이때 정적 메서드는 매개변수에 `self`를 지정하지 않습니다.\n",
    "\n",
    "```\n",
    "class 클래스이름:\n",
    "    @staticmethod\n",
    "    def 메서드(매개변수1, 매개변수2):\n",
    "        코드\n",
    "```\n",
    "\n",
    "`@staticmethod`처럼 앞에 @이 붙은 것을 **데코레이터**라고 하며 **메서드(함수)에 추가 기능을 구현할 때 사용**합니다. 데코레이터는 'Unit 42 데코레이터 사용하기'에서 자세히 설명하겠습니다.\n",
    "\n",
    "그럼 간단하게 덧셈과 곱셈을 하는 클래스를 만들어보겠습니다.ㅇㅇㅇㅇㅇㅇㅇㅈ"
   ]
  },
  {
   "cell_type": "code",
   "execution_count": 15,
   "metadata": {},
   "outputs": [],
   "source": [
    "class Calc:\n",
    "    @staticmethod\n",
    "    def add(a, b):\n",
    "        print(a + b)\n",
    "\n",
    "    @staticmethod\n",
    "    def mul(a, b):\n",
    "        print(a * b)"
   ]
  },
  {
   "cell_type": "markdown",
   "metadata": {},
   "source": [
    "Calc 클래스에서 `@staticmethod`를 붙여서 add 메서드와 mul 메서드를 만들었습니다. 정적 메서드를 호출할 때는 다음과 같이 클래스에서 바로 메서드를 호출하면 됩니다."
   ]
  },
  {
   "cell_type": "code",
   "execution_count": 17,
   "metadata": {},
   "outputs": [
    {
     "name": "stdout",
     "output_type": "stream",
     "text": [
      "30\n",
      "None\n",
      "200\n",
      "None\n"
     ]
    }
   ],
   "source": [
    "# 클래스에서 바로 메서드 호출\n",
    "print(Calc.add(10,20))\n",
    "print(Calc.mul(10,20))"
   ]
  },
  {
   "cell_type": "markdown",
   "metadata": {},
   "source": [
    "정적 메서드는 self를 받지 않으므로 인스턴스 속성에는 접근할 수 없습니다. 그래서 보통 **정적 메서드는 인스턴스 속성, 인스턴스 메서드가 필요 없을 때 사용합니다.**\n",
    "\n",
    "여기서 만든 Calc 클래스에 들어있는 add, mul 메서드는 숫자 두개를 받아서 더하거나 곱할 뿐 인스턴스의 속성은 필요하지 않습니다.\n",
    "\n",
    "그럼 무엇을 정적 메서드로 만들어야 할까요? 정적 메서드는 메서드의 실행이 외부 상태에 영향을 끼치지 않는 순수 함수(pure function)를 만들 때 사용합니다. 순수 함수는 부수 효과(side effect)가 없고 입력 값이 같으면 언제나 같은 출력 값을 반환합니다. 즉, 정적 메서드는 인스턴스의 상태를 변화시키지 않는 메서드를 만들 때 사용합니다."
   ]
  },
  {
   "cell_type": "markdown",
   "metadata": {},
   "source": [
    "## 3. 클래스 메서드 사용하기\n",
    "이번에는 정적 메서드와 비슷하지만 약간의 차이점이 있는 클래스 메서드를 사용해보겠습니다.\n",
    "\n",
    "클래스 메서드는 다음과 같이 메서드 위에 `@classmethod`를 붙입니다. 이때 클래스 메서드는 첫 번째 매개변수에 `cls`를 지정해야 합니다(cls는 class에서 따왔습니다).\n",
    "\n",
    "```\n",
    "class 클래스이름:\n",
    "    @classmethod\n",
    "    def 메서드(cls, 매개변수1, 매개변수2):\n",
    "        코드\n",
    "```\n",
    "\n",
    "그럼 사람 클래스 Person을 만들고 인스턴스가 몇 개 만들어졌는지 출력하는 메서드를 만들어보겠습니다."
   ]
  },
  {
   "cell_type": "code",
   "execution_count": 18,
   "metadata": {},
   "outputs": [],
   "source": [
    "class Person:\n",
    "    count = 0 # 클래스 속성\n",
    "\n",
    "    def __init__(self):\n",
    "        Person.count += 1 # 인스턴스가 만들어질 때\n",
    "                          # 클래스 속성 count에 1을 더함\n",
    "    \n",
    "    @classmethod\n",
    "    def print_count(cls):\n",
    "        print(f'{cls.count}명 생성되었습니다.')"
   ]
  },
  {
   "cell_type": "code",
   "execution_count": 19,
   "metadata": {},
   "outputs": [
    {
     "name": "stdout",
     "output_type": "stream",
     "text": [
      "2명 생성되었습니다.\n"
     ]
    }
   ],
   "source": [
    "james = Person()\n",
    "maria = Person()\n",
    "\n",
    "Person.print_count()"
   ]
  },
  {
   "cell_type": "markdown",
   "metadata": {},
   "source": [
    "먼저 인스턴스가 만들어질 때마다 숫자를 세야 하므로 `__init__` 메서드에서 클래스 속성 count에 1을 더해줍니다. 물론 클래스 속성에 접근한다는 것을 명확하게 하기 위해 `Person.count`와 같이 만들어줍니다."
   ]
  },
  {
   "cell_type": "code",
   "execution_count": 4,
   "metadata": {},
   "outputs": [],
   "source": [
    "class Person:\n",
    "    count = 0 # 클래스 속성\n",
    "\n",
    "    def __init__(self):\n",
    "        Person.count += 1  # 인스턴스가 만들어질 때 클래스 속성 count에 1을 더함\n",
    "\n",
    "    @classmethod\n",
    "    def print_count(cls):\n",
    "        print(f'{cls.count}명 생성되었습니다.') # cls로 클래스 속성에 접근                        "
   ]
  },
  {
   "cell_type": "code",
   "execution_count": 5,
   "metadata": {},
   "outputs": [],
   "source": [
    "james = Person()\n",
    "maria = Person()"
   ]
  },
  {
   "cell_type": "code",
   "execution_count": 6,
   "metadata": {},
   "outputs": [
    {
     "name": "stdout",
     "output_type": "stream",
     "text": [
      "2명 생성되었습니다.\n"
     ]
    }
   ],
   "source": [
    "Person.print_count()"
   ]
  },
  {
   "cell_type": "markdown",
   "metadata": {},
   "source": [
    "먼저 인스턴스가 만들어질 때마다 숫자를 세야 하므로 `__init__` 메서드에서 클래스 속성 count에 1을 더해줍니다. 물론 클래스 속성에 접근한다는 것을 명확하게 하기 위해 `Person.count`와 같이 만들어줍니다.\n",
    "\n",
    "이제 `@classmethod`를 붙여서 클래스 메서드를 만듭니다. 클래스 메서드는 첫 번째 매개변수가 `cls`인데 여기에는 현재 클래스가 들어옵니다. 따라서 `cls.count`처럼 cls로 클래스 속성 count에 접근할 수 있습니다.\n",
    "\n",
    "Person으로 인스턴스를 두 개 만들었으므로 `print_count`를 호출해보면 '2명 생성되었습니다.'가 출력됩니다. 물론 `print_count`는 클래스 메서드이므로 `Person.print_count()`처럼 클래스로 호출해줍니다.\n",
    "\n",
    "클래스 메서드는 정적 메서드처럼 인스턴스 없이 호출할 수 있다는 점은 같습니다. 하지만 클래스 메서드는 메서드 안에서 클래스 속성, 클래스 메서드에 접근해야 할 때 사용합니다.\n",
    "\n",
    "특히 cls를 사용하면 메서드 안에서 현재 클래스의 인스턴스를 만들 수도 있습니다. 즉, cls는 클래스이므로 `cls()`는 `Person()`과 같습니다.\n",
    "\n"
   ]
  },
  {
   "cell_type": "code",
   "execution_count": 7,
   "metadata": {},
   "outputs": [],
   "source": [
    "    @classmethod\n",
    "    def create(cls):\n",
    "        p = cls()    # cls()로 인스턴스 생성\n",
    "        return p"
   ]
  },
  {
   "cell_type": "code",
   "execution_count": 10,
   "metadata": {},
   "outputs": [
    {
     "data": {
      "text/plain": [
       "{}"
      ]
     },
     "execution_count": 10,
     "metadata": {},
     "output_type": "execute_result"
    }
   ],
   "source": [
    "# TODO Quiz1\n",
    "class Person:\n",
    "    x = {}\n",
    "\n",
    "Person.x"
   ]
  },
  {
   "cell_type": "markdown",
   "metadata": {},
   "source": [
    "# 정리\n",
    "### 인스턴스(instance) 메서드\n",
    "클래스에 아무 데코레이터(decorator) 없이 메서드를 선언하면 해당 메서드는 인스턴스 메서드로 취급이 되며, 첫번째 매개 변수로 클래스의 인스턴스가 넘어오게 됩니다. 이 첫번째 매개 변수의 이름은 보통 관행적으로 self라고 하며, 인스턴수 메서드는 이 self를 통해 인스턴스 속성(attribute)에 접근하거나 다른 인스턴스 메서드를 호출할 수 있습니다. 뿐만 아니라 self를 통해, 클래스 속성에 접근하거나 클래스 메서드를 호출할 수도 있습니다."
   ]
  },
  {
   "cell_type": "code",
   "execution_count": 32,
   "metadata": {},
   "outputs": [],
   "source": [
    "class Counter:\n",
    "    def __init__(self, value = 0):\n",
    "        self.value = value\n",
    "\n",
    "    def increment(self, delta = 1):\n",
    "        self.value += delta \n",
    "    \n",
    "    def decrement(self, delta = 1):\n",
    "        self.value -= delta "
   ]
  },
  {
   "cell_type": "code",
   "execution_count": 36,
   "metadata": {},
   "outputs": [
    {
     "data": {
      "text/plain": [
       "0"
      ]
     },
     "execution_count": 36,
     "metadata": {},
     "output_type": "execute_result"
    }
   ],
   "source": [
    "counter = Counter()\n",
    "counter.value"
   ]
  },
  {
   "cell_type": "code",
   "execution_count": 37,
   "metadata": {},
   "outputs": [
    {
     "data": {
      "text/plain": [
       "3"
      ]
     },
     "execution_count": 37,
     "metadata": {},
     "output_type": "execute_result"
    }
   ],
   "source": [
    "counter.increment(3)\n",
    "counter.value"
   ]
  },
  {
   "cell_type": "code",
   "execution_count": 38,
   "metadata": {},
   "outputs": [
    {
     "data": {
      "text/plain": [
       "1"
      ]
     },
     "execution_count": 38,
     "metadata": {},
     "output_type": "execute_result"
    }
   ],
   "source": [
    "counter.decrement(2)\n",
    "counter.value"
   ]
  },
  {
   "cell_type": "markdown",
   "metadata": {},
   "source": [
    "### 클래스(class) 메서드\n",
    "`@classmethod` 데코레이터를 사용해서 클래스에 메서드를 선언하면 해당 메서드는 클래스(class) 메서드가 되며, 첫번째 매개 변수로 클래스 인스턴스가 아닌 클래스 자체가 넘어오게 됩니다. 이 첫번째 매개 변수의 이름은 보통 관행적으로 cls라고 하며, 클래스 메서드는 이 cls를 통해 클래스 속성(attribute)에 접근하거나, 클래스 메서드를 호출할 수 있습니다. 하지만, 인스턴스 메서드와 달리 인스턴스 속성에 접근하거나 다른 인스턴스 메서드를 호출하는 것은 불가능합니다."
   ]
  },
  {
   "cell_type": "code",
   "execution_count": 39,
   "metadata": {},
   "outputs": [],
   "source": [
    "class User:\n",
    "    def __init__(self, email, password):\n",
    "        self.email = email  \n",
    "        self.password = password \n",
    "\n",
    "    @classmethod\n",
    "    def fromTuple(cls, tup):\n",
    "        return cls(tup[0], tup[1])\n",
    "\n",
    "    @classmethod\n",
    "    def fromDictionary(cls, dic):\n",
    "        return cls(dic[\"email\"], dic[\"password\"])   "
   ]
  },
  {
   "cell_type": "code",
   "execution_count": 41,
   "metadata": {},
   "outputs": [
    {
     "data": {
      "text/plain": [
       "('kim@test.com', '1234')"
      ]
     },
     "execution_count": 41,
     "metadata": {},
     "output_type": "execute_result"
    }
   ],
   "source": [
    "kim = User(\"kim@test.com\", \"1234\")\n",
    "kim.email, kim.password"
   ]
  },
  {
   "cell_type": "code",
   "execution_count": 44,
   "metadata": {},
   "outputs": [
    {
     "data": {
      "text/plain": [
       "('park@test.com', '12345')"
      ]
     },
     "execution_count": 44,
     "metadata": {},
     "output_type": "execute_result"
    }
   ],
   "source": [
    "park = User.fromTuple((\"park@test.com\", \"12345\"))\n",
    "park.email, park.password"
   ]
  },
  {
   "cell_type": "code",
   "execution_count": 46,
   "metadata": {},
   "outputs": [
    {
     "data": {
      "text/plain": [
       "('song@test.com', '123456')"
      ]
     },
     "execution_count": 46,
     "metadata": {},
     "output_type": "execute_result"
    }
   ],
   "source": [
    "song = User.fromDictionary({\"email\": \"song@test.com\", \"password\":\"123456\"})\n",
    "song.email, song.password "
   ]
  },
  {
   "cell_type": "markdown",
   "metadata": {},
   "source": [
    "### 정적(static) 메서드\n",
    "`@staticmethod` 데코레이터를 사용해서 클래스에 메서드를 선언하면 해당 메서드는 정적(static) 메서드가 되며, 정적 메서드는 인스턴스 메서드나 클래스 메서드와 달리 **첫번째 매개 변수가 할당되지 않습니다**. 따라서 정적 메서드 내에서는 인스턴스/클래스 속성에 접근하거나, 인스턴스/클래스 메서드를 호출하는 것이 불가능합니다."
   ]
  },
  {
   "cell_type": "code",
   "execution_count": 47,
   "metadata": {},
   "outputs": [],
   "source": [
    "class StringUtils:\n",
    "    @staticmethod\n",
    "    def toCamelcase(text):\n",
    "        words = iter(text.split(\"_\"))\n",
    "        return next(words) + \"\".join(i.title() for i in words)\n",
    "\n",
    "    @staticmethod\n",
    "    def toSnakeCase(text):\n",
    "        letters = [\"_\" + i.lower() if i.isupper() else i for i in text]\n",
    "        return \"\".join(letters).lstrip(\"_\")"
   ]
  },
  {
   "cell_type": "markdown",
   "metadata": {},
   "source": [
    "정적 메서드는 유틸리티 메서드를 구현할 때 많이 사용됩니다.\n",
    "\n",
    "예를 들어, 위의 StringUtils 클래스는 2개의 정적 메서드로 이루어져 있습니다. toCamelcase 메서드는 뱀 스타일(snake_case)의 문자열을 낙타 스타일로(CamelCase)로 변환해주며, toSnakecase는 그 역방향의 변환을 해줍니다. 이 두 개의 메서드는 매개 변수로 넘어온 문자열에만 의존하는 순수한(pure) 함수이기 때문에 굳이 클래스의 일부로 선언할 필요는 없지만, 이렇게 비슷한 류의 여러 유틸리티 메서드를 하나의 클래스의 묶어두고 싶을 때 정적 메서드로 선언할 수 있습니다."
   ]
  },
  {
   "cell_type": "code",
   "execution_count": 51,
   "metadata": {},
   "outputs": [
    {
     "data": {
      "text/plain": [
       "('lastModifiedDate', 'last_modified_data')"
      ]
     },
     "execution_count": 51,
     "metadata": {},
     "output_type": "execute_result"
    }
   ],
   "source": [
    "# 클래스 호출 없이 사용 유틸리티로! \n",
    "StringUtils.toCamelcase(\"last_modified_date\"), StringUtils.toSnakeCase(\"lastModifiedData\")"
   ]
  },
  {
   "cell_type": "markdown",
   "metadata": {},
   "source": [
    "### 클래스(class) 메서드 vs. 정적(static) 메서드\n",
    "클래스 메서드와 정적 메서드는 **별도 인스턴스 생성없이** 클래스를 대상으로 클래스 이름 뒤에 바로 . 오퍼레이터를 붙여서 호출할 수 있다는 점에서 동일합니다.\n",
    "\n",
    "차이점은 클래스 메서드를 호출할 때, 첫번째 인자로 클래스 자체가 넘어오기 때문에, 클래스 속성에 접근하거나 다른 클래스 함수를 호출할 수 있습니다. 반면에 정적 메서드를 호출할 때는, 첫번째 인자로 아무것도 넘어오지 않기 때문에, 명시적으로 넘긴 다른 인자만 접근할 수 있습니다."
   ]
  },
  {
   "cell_type": "code",
   "execution_count": 52,
   "metadata": {},
   "outputs": [],
   "source": [
    "# Quiz252.\n",
    "class Human():\n",
    "    pass\n"
   ]
  },
  {
   "cell_type": "code",
   "execution_count": 53,
   "metadata": {},
   "outputs": [],
   "source": [
    "# Quiz253.\n",
    "areum = Human()"
   ]
  },
  {
   "cell_type": "code",
   "execution_count": 54,
   "metadata": {},
   "outputs": [
    {
     "name": "stdout",
     "output_type": "stream",
     "text": [
      "응애응애\n"
     ]
    }
   ],
   "source": [
    "# 254\n",
    "class Human():\n",
    "    def __init__(self):\n",
    "        print(\"응애응애\")\n",
    "\n",
    "areum = Human()        "
   ]
  },
  {
   "cell_type": "code",
   "execution_count": 57,
   "metadata": {},
   "outputs": [],
   "source": [
    "# 254\n",
    "class Human():\n",
    "    def __init__(self, name, age, gender):\n",
    "        self.name = name\n",
    "        self.age = age\n",
    "        self.gender = gender\n",
    "\n",
    "areum = Human(\"아름\",25,\"여자\")"
   ]
  },
  {
   "cell_type": "code",
   "execution_count": 58,
   "metadata": {},
   "outputs": [
    {
     "name": "stdout",
     "output_type": "stream",
     "text": [
      "이름: 아름, 나이: 25, 성별: 여자\n"
     ]
    }
   ],
   "source": [
    "# 255\n",
    "print(f\"이름: {areum.name}, 나이: {areum.age}, 성별: {areum.gender}\")"
   ]
  },
  {
   "cell_type": "code",
   "execution_count": 65,
   "metadata": {},
   "outputs": [],
   "source": [
    "# 257\n",
    "class Human():\n",
    "    def __init__(self, name, age, gender):\n",
    "        self.name = name\n",
    "        self.age = age\n",
    "        self.gender = gender\n",
    "    \n",
    "    def who(self):\n",
    "        print(f\"이름: {self.name}, 나이: {self.age}, 성별: {self.gender}\")\n"
   ]
  },
  {
   "cell_type": "code",
   "execution_count": 66,
   "metadata": {},
   "outputs": [
    {
     "name": "stdout",
     "output_type": "stream",
     "text": [
      "이름: 아름, 나이: 25, 성별: 여자\n"
     ]
    }
   ],
   "source": [
    "areum = Human(\"아름\", 25, \"여자\")\n",
    "areum.who()"
   ]
  },
  {
   "cell_type": "code",
   "execution_count": 68,
   "metadata": {},
   "outputs": [],
   "source": [
    "# 258\n",
    "class Human():\n",
    "    def __init__(self, name, age, gender):\n",
    "        self.name = name\n",
    "        self.age = age\n",
    "        self.gender = gender\n",
    "    \n",
    "    def who(self):\n",
    "        print(f\"이름: {self.name}, 나이: {self.age}, 성별: {self.gender}\")\n",
    "\n",
    "    def setInfo(self, name, age, gender):\n",
    "        self.name = name\n",
    "        self.age = age\n",
    "        self.gender = gender\n",
    "\n",
    "areum = Human(\"모름\", 0, \"모름\") # init에 접근은 Human()으로 접근하지만\n",
    "areum.setInfo(\"아름\", 25, \"여자\") # setInfo에는 다음과 같이 접근할 수 있다."
   ]
  },
  {
   "cell_type": "code",
   "execution_count": 69,
   "metadata": {},
   "outputs": [],
   "source": [
    "# 259\n",
    "class Human:\n",
    "    def __init__(self, name, age, sex):\n",
    "        self.name = name\n",
    "        self.age = age\n",
    "        self.sex = sex\n",
    "\n",
    "    def __del__(self):\n",
    "        print(\"나의 죽음을 알리지마라\") # 객체가 소멸될 경우 다음과 같은 문장을 출력하게 됨\n",
    "\n",
    "    def who(self):\n",
    "        print(\"이름: {} 나이: {} 성별: {}\".format(self.name, self.age, self.sex))\n",
    "\n",
    "    def setInfo(self, name, age, sex):\n",
    "        self.name = name\n",
    "        self.age = age\n",
    "        self.sex = sex\n",
    "\n"
   ]
  },
  {
   "cell_type": "code",
   "execution_count": 77,
   "metadata": {},
   "outputs": [],
   "source": [
    "class OMG : \n",
    "    def print(self) :\n",
    "        print(\"Oh my god\")"
   ]
  },
  {
   "cell_type": "code",
   "execution_count": 78,
   "metadata": {},
   "outputs": [],
   "source": [
    "myStock = OMG()"
   ]
  },
  {
   "cell_type": "code",
   "execution_count": 79,
   "metadata": {},
   "outputs": [
    {
     "name": "stdout",
     "output_type": "stream",
     "text": [
      "Oh my god\n"
     ]
    }
   ],
   "source": [
    "myStock.print()"
   ]
  },
  {
   "cell_type": "code",
   "execution_count": 80,
   "metadata": {},
   "outputs": [],
   "source": [
    "# 261\n",
    "class Stock:\n",
    "    pass"
   ]
  },
  {
   "cell_type": "code",
   "execution_count": 81,
   "metadata": {},
   "outputs": [],
   "source": [
    "# 262\n",
    "class Stock:\n",
    "    def __init__(self, name, code):\n",
    "        self.name = name\n",
    "        self.code = code"
   ]
  },
  {
   "cell_type": "code",
   "execution_count": 82,
   "metadata": {},
   "outputs": [
    {
     "data": {
      "text/plain": [
       "('삼성전자', '005930')"
      ]
     },
     "execution_count": 82,
     "metadata": {},
     "output_type": "execute_result"
    }
   ],
   "source": [
    "삼성 = Stock(\"삼성전자\",\"005930\")\n",
    "삼성.name, 삼성.code"
   ]
  },
  {
   "cell_type": "code",
   "execution_count": 92,
   "metadata": {},
   "outputs": [],
   "source": [
    "# 263\n",
    "class newStock(Stock):\n",
    "    def set_name(self,name):\n",
    "        self.name = name"
   ]
  },
  {
   "cell_type": "code",
   "execution_count": 93,
   "metadata": {},
   "outputs": [
    {
     "data": {
      "text/plain": [
       "'삼성전자'"
      ]
     },
     "execution_count": 93,
     "metadata": {},
     "output_type": "execute_result"
    }
   ],
   "source": [
    "a = newStock(None, None)\n",
    "a.set_name(\"삼성전자\")\n",
    "a.name"
   ]
  },
  {
   "cell_type": "code",
   "execution_count": 94,
   "metadata": {},
   "outputs": [
    {
     "data": {
      "text/plain": [
       "'005930'"
      ]
     },
     "execution_count": 94,
     "metadata": {},
     "output_type": "execute_result"
    }
   ],
   "source": [
    "# 264\n",
    "class newStock(Stock):\n",
    "    def set_code(self, code):\n",
    "        self.code = code\n",
    "\n",
    "a = newStock(None, None)\n",
    "a.set_code(\"005930\")\n",
    "a.code"
   ]
  },
  {
   "cell_type": "code",
   "execution_count": 95,
   "metadata": {},
   "outputs": [],
   "source": [
    "# 265\n",
    "class newStock(Stock):\n",
    "    def get_name(self):\n",
    "        return self.name\n",
    "    \n",
    "    def get_code(self):\n",
    "        return self.code\n",
    "\n",
    "삼성 = newStock(\"삼성전자\", \"005930\")        \n",
    "print(삼성.name)\n",
    "print(삼성.code)\n",
    "print(삼성.get_name())\n",
    "print(삼성.get_code())"
   ]
  },
  {
   "cell_type": "code",
   "execution_count": 115,
   "metadata": {},
   "outputs": [],
   "source": [
    "# 266\n",
    "\n",
    "class Stock:\n",
    "    def __init__(self, name, code, per, pbr, 배당수익률):\n",
    "        self.name = name\n",
    "        self.code = code\n",
    "        self.per = float(per)\n",
    "        self.pbr = float(pbr)\n",
    "        self.배당수익률 = float(배당수익률)\n",
    "\n",
    "    def set_name(self, name):\n",
    "        self.name = name\n",
    "\n",
    "    def set_code(self, code):\n",
    "        self.code = code\n",
    "\n",
    "    def get_name(self):\n",
    "        return self.name\n",
    "\n",
    "    def get_code(self):\n",
    "        return self.code"
   ]
  },
  {
   "cell_type": "code",
   "execution_count": 116,
   "metadata": {},
   "outputs": [
    {
     "data": {
      "text/plain": [
       "2.83"
      ]
     },
     "execution_count": 116,
     "metadata": {},
     "output_type": "execute_result"
    }
   ],
   "source": [
    "# 267\n",
    "naver = newStock(\"naver\",\"005930\",15.79,1.33,2.83)\n",
    "naver.배당수익률"
   ]
  },
  {
   "cell_type": "code",
   "execution_count": 128,
   "metadata": {},
   "outputs": [],
   "source": [
    "# 268\n",
    "class Stock:\n",
    "    def __init__(self, name, code, per, pbr, dividend):\n",
    "        self.name = name\n",
    "        self.code = code\n",
    "        self.per = per\n",
    "        self.pbr = pbr\n",
    "        self.dividend = float(dividend)\n",
    "\n",
    "    def set_name(self, name):\n",
    "        self.name = name\n",
    "\n",
    "    def set_code(self, code):\n",
    "        self.code = code\n",
    "\n",
    "    def get_name(self):\n",
    "        return self.name\n",
    "\n",
    "    def get_code(self):\n",
    "        return self.code\n",
    "\n",
    "    def set_per(self, per):\n",
    "        self.per = per\n",
    "\n",
    "    def set_pbr(self, pbr):\n",
    "        self.pbr = pbr\n",
    "\n",
    "    def set_dividend(self, dividend):\n",
    "        self.dividend = dividend"
   ]
  },
  {
   "cell_type": "code",
   "execution_count": 11,
   "metadata": {},
   "outputs": [
    {
     "data": {
      "text/plain": [
       "12.75"
      ]
     },
     "execution_count": 11,
     "metadata": {},
     "output_type": "execute_result"
    }
   ],
   "source": [
    "# 269\n",
    "naver = Stock(\"naver\", \"005930\", 15.79, 1.33, 2.83)\n",
    "naver.set_per(12.75)\n",
    "naver.per"
   ]
  },
  {
   "cell_type": "code",
   "execution_count": 12,
   "metadata": {},
   "outputs": [],
   "source": [
    "# 270\n",
    "stock = []\n",
    "\n",
    "samsung = Stock(\"Samsung\",\"005930\",\"15.79\",\"1.33\",\"2.83\")\n",
    "hyundai = Stock(\"hyundai\",\"005380\",\"8.70\",\"0.35\",\"4.27\")\n",
    "lg = Stock(\"lg\",\"066570\",\"317.34\",\"0.69\",\"1.37\")"
   ]
  },
  {
   "cell_type": "code",
   "execution_count": 16,
   "metadata": {},
   "outputs": [
    {
     "name": "stdout",
     "output_type": "stream",
     "text": [
      "005930 15.79\n",
      "005380 8.70\n",
      "066570 317.34\n"
     ]
    }
   ],
   "source": [
    "stock = [samsung, hyundai, lg]\n",
    "\n",
    "for i in stock:\n",
    "    print(i.code, i.per)"
   ]
  },
  {
   "cell_type": "code",
   "execution_count": 18,
   "metadata": {},
   "outputs": [],
   "source": [
    "# 271\n",
    "import random\n",
    "\n",
    "class Account():\n",
    "    def __init__(self, name, first_balance):\n",
    "        self.bank = \"SC은행\"\n",
    "        self.name = name\n",
    "        self.first_balance = int(first_balance)\n",
    "        num1 = random.randint(0, 999)\n",
    "        num2 = random.randint(0, 99)\n",
    "        num3 = random.randint(0, 999999)\n",
    "\n",
    "        num1 = str(num1).zfill(3)      # 1 -> '1' -> '001'\n",
    "        num2 = str(num2).zfill(2)      # 1 -> '1' -> '01'\n",
    "        num3 = str(num3).zfill(6)      # 1 -> '1' -> '0000001'\n",
    "        self.account_number = num1 + '-' + num2 + '-' + num3  # 001-01-000001\n"
   ]
  },
  {
   "cell_type": "code",
   "execution_count": 19,
   "metadata": {},
   "outputs": [
    {
     "data": {
      "text/plain": [
       "('SC은행', 'Kim HongBi', 5000, '040-67-581982')"
      ]
     },
     "execution_count": 19,
     "metadata": {},
     "output_type": "execute_result"
    }
   ],
   "source": [
    "khb = Account(\"Kim HongBi\", 5000)\n",
    "khb.bank, khb.name, khb.first_balance, khb.account_number"
   ]
  },
  {
   "cell_type": "code",
   "execution_count": 25,
   "metadata": {},
   "outputs": [],
   "source": [
    "class Account():\n",
    "    account_count = 0\n",
    "    def __init__(self, name, first_balance):\n",
    "        self.bank = \"SC은행\"\n",
    "        self.name = name\n",
    "        self.first_balance = int(first_balance)\n",
    "        num1 = random.randint(0, 999)\n",
    "        num2 = random.randint(0, 99)\n",
    "        num3 = random.randint(0, 999999)\n",
    "\n",
    "        num1 = str(num1).zfill(3)      # 1 -> '1' -> '001'\n",
    "        num2 = str(num2).zfill(2)      # 1 -> '1' -> '01'\n",
    "        num3 = str(num3).zfill(6)      # 1 -> '1' -> '0000001'\n",
    "        self.account_number = num1 + '-' + num2 + '-' + num3  # 001-01-000001\n",
    "\n",
    "        Account.account_count += 1\n"
   ]
  },
  {
   "cell_type": "code",
   "execution_count": 34,
   "metadata": {},
   "outputs": [
    {
     "name": "stdout",
     "output_type": "stream",
     "text": [
      "15\n",
      "16\n"
     ]
    }
   ],
   "source": [
    "khb = Account(\"Kim HongBi\", 5000)\n",
    "print(khb.account_count)\n",
    "lee = Account(\"Lee DongJin\", 2000)\n",
    " \n",
    "print(lee.account_count)\n"
   ]
  },
  {
   "cell_type": "code",
   "execution_count": 35,
   "metadata": {},
   "outputs": [],
   "source": [
    "class Account():\n",
    "    account_count = 0\n",
    "    def __init__(self, name, first_balance):\n",
    "        self.bank = \"SC은행\"\n",
    "        self.name = name\n",
    "        self.first_balance = int(first_balance)\n",
    "        num1 = random.randint(0, 999)\n",
    "        num2 = random.randint(0, 99)\n",
    "        num3 = random.randint(0, 999999)\n",
    "\n",
    "        num1 = str(num1).zfill(3)      # 1 -> '1' -> '001'\n",
    "        num2 = str(num2).zfill(2)      # 1 -> '1' -> '01'\n",
    "        num3 = str(num3).zfill(6)      # 1 -> '1' -> '0000001'\n",
    "        self.account_number = num1 + '-' + num2 + '-' + num3  # 001-01-000001\n",
    "        Account.account_count += 1\n",
    "        \n",
    "    @classmethod\n",
    "    def get_account_num(cls):\n",
    "        return cls.account_count"
   ]
  },
  {
   "cell_type": "code",
   "execution_count": 40,
   "metadata": {},
   "outputs": [
    {
     "data": {
      "text/plain": [
       "5"
      ]
     },
     "execution_count": 40,
     "metadata": {},
     "output_type": "execute_result"
    }
   ],
   "source": [
    "kim = Account(\"김민수\", 100)\n",
    "kim.get_account_num()"
   ]
  },
  {
   "cell_type": "code",
   "execution_count": 42,
   "metadata": {},
   "outputs": [
    {
     "data": {
      "text/plain": [
       "6"
      ]
     },
     "execution_count": 42,
     "metadata": {},
     "output_type": "execute_result"
    }
   ],
   "source": [
    "lee = Account(\"이동진\", 103)\n",
    "lee.get_account_num()"
   ]
  },
  {
   "cell_type": "code",
   "execution_count": 43,
   "metadata": {},
   "outputs": [],
   "source": [
    "# 274\n",
    "class Account():\n",
    "    account_count = 0\n",
    "    def __init__(self, name, balance):\n",
    "        self.bank = \"SC은행\"\n",
    "        self.name = name\n",
    "        self.balance = int(balance)\n",
    "        num1 = random.randint(0, 999)\n",
    "        num2 = random.randint(0, 99)\n",
    "        num3 = random.randint(0, 999999)\n",
    "\n",
    "        num1 = str(num1).zfill(3)      # 1 -> '1' -> '001'\n",
    "        num2 = str(num2).zfill(2)      # 1 -> '1' -> '01'\n",
    "        num3 = str(num3).zfill(6)      # 1 -> '1' -> '0000001'\n",
    "        self.account_number = num1 + '-' + num2 + '-' + num3  # 001-01-000001\n",
    "        Account.account_count += 1\n",
    "\n",
    "    @classmethod\n",
    "    def get_account_num(cls):\n",
    "        return cls.account_count\n",
    "\n",
    "    def deposit(self, amount):\n",
    "        if amount >= 1:\n",
    "            self.balance += amount"
   ]
  },
  {
   "cell_type": "code",
   "execution_count": 45,
   "metadata": {},
   "outputs": [],
   "source": [
    "# 274\n",
    "class Account():\n",
    "    account_count = 0\n",
    "    def __init__(self, name, balance):\n",
    "        self.bank = \"SC은행\"\n",
    "        self.name = name\n",
    "        self.balance = int(balance)\n",
    "        num1 = random.randint(0, 999)\n",
    "        num2 = random.randint(0, 99)\n",
    "        num3 = random.randint(0, 999999)\n",
    "\n",
    "        num1 = str(num1).zfill(3)      # 1 -> '1' -> '001'\n",
    "        num2 = str(num2).zfill(2)      # 1 -> '1' -> '01'\n",
    "        num3 = str(num3).zfill(6)      # 1 -> '1' -> '0000001'\n",
    "        self.account_number = num1 + '-' + num2 + '-' + num3  # 001-01-000001\n",
    "        Account.account_count += 1\n",
    "\n",
    "    @classmethod\n",
    "    def get_account_num(cls):\n",
    "        return cls.account_count\n",
    "\n",
    "    def deposit(self, balance, amount):\n",
    "        if amount >= 1:\n",
    "            self.balance += amount"
   ]
  },
  {
   "cell_type": "code",
   "execution_count": 59,
   "metadata": {},
   "outputs": [],
   "source": [
    "# Quiz. 275\n",
    "class Account():\n",
    "    account_count = 0\n",
    "    def __init__(self, name, balance):\n",
    "        self.bank = \"SC은행\"\n",
    "        self.name = name\n",
    "        self.balance = balance\n",
    "        num1 = random.randint(0, 999)\n",
    "        num2 = random.randint(0, 99)\n",
    "        num3 = random.randint(0, 999999)\n",
    "\n",
    "        num1 = str(num1).zfill(3)      # 1 -> '1' -> '001'\n",
    "        num2 = str(num2).zfill(2)      # 1 -> '1' -> '01'\n",
    "        num3 = str(num3).zfill(6)      # 1 -> '1' -> '0000001'\n",
    "        self.account_number = num1 + '-' + num2 + '-' + num3  # 001-01-000001\n",
    "        Account.account_count += 1\n",
    "\n",
    "    @classmethod\n",
    "    def get_account_num(cls):\n",
    "        return cls.account_count\n",
    "\n",
    "    def deposit(self, amount):\n",
    "        if amount >= 1:\n",
    "            self.balance += amount       \n",
    "        else:\n",
    "            print(f\"입금은 1원이상만 가능합니다.\")\n",
    "        print(f\"잔액은 {self.balance}원입니다.\")    \n",
    "\n",
    "    def withdraw(self, amount):\n",
    "        if amount <= self.balance:\n",
    "            self.balance -= amount\n",
    "        else: \n",
    "            print(\"출금은 남은 잔액 이하로만 가능합니다.\")\n",
    "\n",
    "        print(f\"잔액은 {self.balance}원입니다.\")"
   ]
  },
  {
   "cell_type": "code",
   "execution_count": null,
   "metadata": {},
   "outputs": [],
   "source": []
  },
  {
   "cell_type": "code",
   "execution_count": 94,
   "metadata": {},
   "outputs": [],
   "source": [
    "# Quiz. 276\n",
    "class Account():\n",
    "    account_count = 0\n",
    "    def __init__(self, name, balance):\n",
    "        self.bank = \"SC은행\"\n",
    "        self.name = name\n",
    "        self.balance = balance\n",
    "        num1 = random.randint(0, 999)\n",
    "        num2 = random.randint(0, 99)\n",
    "        num3 = random.randint(0, 999999)\n",
    "\n",
    "        num1 = str(num1).zfill(3)      # 1 -> '1' -> '001'\n",
    "        num2 = str(num2).zfill(2)      # 1 -> '1' -> '01'\n",
    "        num3 = str(num3).zfill(6)      # 1 -> '1' -> '0000001'\n",
    "        self.account_number = num1 + '-' + num2 + '-' + num3  # 001-01-000001\n",
    "        Account.account_count += 1\n",
    "\n",
    "    @classmethod\n",
    "    def get_account_num(cls):\n",
    "        return cls.account_count\n",
    "\n",
    "    def deposit(self, amount):\n",
    "        if amount >= 1:\n",
    "            self.balance += amount       \n",
    "        else:\n",
    "            print(f\"입금은 1원이상만 가능합니다.\")\n",
    "        print(f\"잔액은 {self.balance}원입니다.\")    \n",
    "\n",
    "    def withdraw(self, amount):\n",
    "        if amount <= self.balance:\n",
    "            self.balance -= amount\n",
    "        else: \n",
    "            print(\"출금은 남은 잔액 이하로만 가능합니다.\")\n",
    "\n",
    "        print(f\"잔액은 {self.balance}원입니다.\")\n",
    "\n",
    "    def display_info(self):\n",
    "        print(f\"은행이름: {self.bank}\\n예금주: {self.name}\\n계좌번호: {self.account_number}\\n잔고: {self.balance}원\")"
   ]
  },
  {
   "cell_type": "code",
   "execution_count": 92,
   "metadata": {},
   "outputs": [],
   "source": [
    "kim = Account(\"kkim\", 3923923)"
   ]
  },
  {
   "cell_type": "code",
   "execution_count": 93,
   "metadata": {},
   "outputs": [
    {
     "name": "stdout",
     "output_type": "stream",
     "text": [
      "은행이름: SC은행\n",
      "예금주: kkim\n",
      "계좌번호: 822-69-627580\n",
      "잔고: 3923923원\n"
     ]
    }
   ],
   "source": [
    "kim.display_info()"
   ]
  },
  {
   "cell_type": "code",
   "execution_count": 137,
   "metadata": {},
   "outputs": [],
   "source": [
    "# Quiz. 277\n",
    "# Quiz. 276\n",
    "class Account():\n",
    "    account_count = 0\n",
    "    def __init__(self, name, balance):\n",
    "        self.deposit_count = 0\n",
    "\n",
    "        self.bank = \"SC은행\"\n",
    "        self.name = name\n",
    "        self.balance = balance\n",
    "        num1 = random.randint(0, 999)\n",
    "        num2 = random.randint(0, 99)\n",
    "        num3 = random.randint(0, 999999)\n",
    "\n",
    "        num1 = str(num1).zfill(3)      # 1 -> '1' -> '001'\n",
    "        num2 = str(num2).zfill(2)      # 1 -> '1' -> '01'\n",
    "        num3 = str(num3).zfill(6)      # 1 -> '1' -> '0000001'\n",
    "        self.account_number = num1 + '-' + num2 + '-' + num3  # 001-01-000001\n",
    "        Account.account_count += 1\n",
    "\n",
    "    @classmethod\n",
    "    def get_account_num(cls):\n",
    "        return cls.account_count\n",
    "\n",
    "    def deposit(self, amount):\n",
    "        if amount >= 1:\n",
    "            self.balance += amount       \n",
    "            self.deposit_count += 1\n",
    "            if self.deposit_count % 5 == 0:\n",
    "                self.balance += (self.balance*0.01)\n",
    "        else:\n",
    "            print(f\"입금은 1원이상만 가능합니다.\")\n",
    "        print(f\"잔액은 {self.balance}원입니다.\")    \n",
    "\n",
    "    def withdraw(self, amount):\n",
    "        if amount <= self.balance:\n",
    "            self.balance -= amount\n",
    "        else: \n",
    "            print(\"출금은 남은 잔액 이하로만 가능합니다.\")\n",
    "        print(f\"잔액은 {self.balance}원입니다.\")\n",
    "    \n",
    "    def display_info(self):\n",
    "        print(f\"은행이름: {self.bank}\\n예금주: {self.name}\\n계좌번호: {self.account_number}\\n잔고: {self.balance}원\\n예금횟수: {self.deposit_count}회\")\n",
    "\n",
    "    "
   ]
  },
  {
   "cell_type": "code",
   "execution_count": 138,
   "metadata": {},
   "outputs": [
    {
     "name": "stdout",
     "output_type": "stream",
     "text": [
      "은행이름: SC은행\n",
      "예금주: khb\n",
      "계좌번호: 850-70-983055\n",
      "잔고: 5000원\n",
      "예금횟수: 0회\n"
     ]
    }
   ],
   "source": [
    "hb = Account(\"khb\",5000)\n",
    "hb.display_info()\n",
    "\n"
   ]
  },
  {
   "cell_type": "code",
   "execution_count": 139,
   "metadata": {},
   "outputs": [
    {
     "name": "stdout",
     "output_type": "stream",
     "text": [
      "잔액은 10000원입니다.\n",
      "은행이름: SC은행\n",
      "예금주: khb\n",
      "계좌번호: 850-70-983055\n",
      "잔고: 10000원\n",
      "예금횟수: 1회\n"
     ]
    },
    {
     "data": {
      "text/plain": [
       "(None, None)"
      ]
     },
     "execution_count": 139,
     "metadata": {},
     "output_type": "execute_result"
    }
   ],
   "source": [
    "hb.deposit(5000), hb.display_info()\n"
   ]
  },
  {
   "cell_type": "code",
   "execution_count": 153,
   "metadata": {},
   "outputs": [
    {
     "name": "stdout",
     "output_type": "stream",
     "text": [
      "[<__main__.Account object at 0x10d81d450>, <__main__.Account object at 0x10d81d330>, <__main__.Account object at 0x10d81d960>]\n"
     ]
    }
   ],
   "source": [
    "# Quiz. 278\n",
    "data = []\n",
    "k = Account(\"KIM\", 10000000)\n",
    "l = Account(\"LIM\", 50000000)\n",
    "p = Account(\"PARK\", 32000)\n",
    "data.append(k)\n",
    "data.append(l)\n",
    "data.append(p)\n",
    "print(data)\n"
   ]
  },
  {
   "cell_type": "code",
   "execution_count": 154,
   "metadata": {},
   "outputs": [
    {
     "name": "stdout",
     "output_type": "stream",
     "text": [
      "['__class__', '__delattr__', '__dict__', '__dir__', '__doc__', '__eq__', '__format__', '__ge__', '__getattribute__', '__gt__', '__hash__', '__init__', '__init_subclass__', '__le__', '__lt__', '__module__', '__ne__', '__new__', '__reduce__', '__reduce_ex__', '__repr__', '__setattr__', '__sizeof__', '__str__', '__subclasshook__', '__weakref__', 'account_count', 'account_number', 'balance', 'bank', 'deposit', 'deposit_count', 'display_info', 'get_account_num', 'name', 'withdraw']\n"
     ]
    }
   ],
   "source": [
    "# IMPORTANT NOTE : 클래스 멤버변수 출력하기\n",
    "# print(dir(k))"
   ]
  },
  {
   "cell_type": "code",
   "execution_count": 155,
   "metadata": {},
   "outputs": [
    {
     "name": "stdout",
     "output_type": "stream",
     "text": [
      "{'deposit_count': 0, 'bank': 'SC은행', 'name': 'KIM', 'balance': 10000000, 'account_number': '445-63-360227'}\n"
     ]
    }
   ],
   "source": [
    "print(k.__dict__)"
   ]
  },
  {
   "cell_type": "code",
   "execution_count": 156,
   "metadata": {},
   "outputs": [
    {
     "name": "stdout",
     "output_type": "stream",
     "text": [
      "은행이름: SC은행\n",
      "예금주: KIM\n",
      "계좌번호: 445-63-360227\n",
      "잔고: 10000000원\n",
      "예금횟수: 0회\n",
      "None\n",
      "은행이름: SC은행\n",
      "예금주: LIM\n",
      "계좌번호: 605-15-090768\n",
      "잔고: 50000000원\n",
      "예금횟수: 0회\n",
      "None\n"
     ]
    }
   ],
   "source": [
    "for customer in data:\n",
    "    if customer.balance >= 1000000:\n",
    "        print(customer.display_info())"
   ]
  },
  {
   "cell_type": "code",
   "execution_count": 29,
   "metadata": {},
   "outputs": [],
   "source": [
    "# Quiz. 277\n",
    "# Quiz. 276\n",
    "import random\n",
    "\n",
    "class Account():\n",
    "    account_count = 0\n",
    "    def __init__(self, name, balance):\n",
    "        self.deposit_count = 0\n",
    "        self.withdraw_count = 0\n",
    "\n",
    "        self.bank = \"SC은행\"\n",
    "        self.name = name\n",
    "        self.balance = balance\n",
    "        num1 = random.randint(0, 999)\n",
    "        num2 = random.randint(0, 99)\n",
    "        num3 = random.randint(0, 999999)\n",
    "\n",
    "        num1 = str(num1).zfill(3)      # 1 -> '1' -> '001'\n",
    "        num2 = str(num2).zfill(2)      # 1 -> '1' -> '01'\n",
    "        num3 = str(num3).zfill(6)      # 1 -> '1' -> '0000001'\n",
    "        self.account_number = num1 + '-' + num2 + '-' + num3  # 001-01-000001\n",
    "        Account.account_count += 1\n",
    "        self.deposit_history_dict = {}\n",
    "        self.withdraw_history_dict = {}\n",
    "\n",
    "\n",
    "    @classmethod\n",
    "    def get_account_num(cls):\n",
    "        return cls.account_count\n",
    "\n",
    "    def deposit(self, amount):\n",
    "        if amount >= 1:\n",
    "            self.balance += amount       \n",
    "            self.deposit_count += 1\n",
    "            self.deposit_history_dict[f'{self.deposit_count}회차 입금'] = f'{amount}원'\n",
    "            if self.deposit_count % 5 == 0:\n",
    "                self.balance += (self.balance*0.01)\n",
    "        else:\n",
    "            print(f\"입금은 1원이상만 가능합니다.\")\n",
    "        print(f\"잔액은 {self.balance}원입니다.\")    \n",
    "\n",
    "    def deposit_history(self):\n",
    "        print(self.deposit_history_dict)\n",
    "\n",
    "\n",
    "    def withdraw(self, amount):\n",
    "        if amount <= self.balance:\n",
    "            self.balance -= amount\n",
    "            self.withdraw_count += 1\n",
    "            self.withdraw_history_dict[f'{self.withdraw_count}회차 출금'] = f'{amount}원'\n",
    "        else: \n",
    "            print(\"출금은 남은 잔액 이하로만 가능합니다.\")\n",
    "        print(f\"잔액은 {self.balance}원입니다.\")\n",
    "\n",
    "    def withdraw_history(self):\n",
    "        print(self.withdraw_history_dict)\n",
    "\n",
    "    def display_info(self):\n",
    "        print(f\"은행이름: {self.bank}\\n예금주: {self.name}\\n계좌번호: {self.account_number}\\n잔고: {self.balance}원\\n예금횟수: {self.deposit_count}회\")\n",
    "\n",
    "\n",
    "    "
   ]
  },
  {
   "cell_type": "code",
   "execution_count": 30,
   "metadata": {},
   "outputs": [],
   "source": [
    "k = Account(\"KIM\", 10000000)\n"
   ]
  },
  {
   "cell_type": "code",
   "execution_count": 31,
   "metadata": {},
   "outputs": [
    {
     "name": "stdout",
     "output_type": "stream",
     "text": [
      "잔액은 10003000원입니다.\n"
     ]
    }
   ],
   "source": [
    "k.deposit(3000)"
   ]
  },
  {
   "cell_type": "code",
   "execution_count": 32,
   "metadata": {},
   "outputs": [
    {
     "name": "stdout",
     "output_type": "stream",
     "text": [
      "잔액은 10006003원입니다.\n"
     ]
    }
   ],
   "source": [
    "k.deposit(3003)"
   ]
  },
  {
   "cell_type": "code",
   "execution_count": 33,
   "metadata": {},
   "outputs": [
    {
     "name": "stdout",
     "output_type": "stream",
     "text": [
      "{'1회차 입금': '3000원', '2회차 입금': '3003원'}\n"
     ]
    }
   ],
   "source": [
    "k.deposit_history()\n"
   ]
  },
  {
   "cell_type": "code",
   "execution_count": 34,
   "metadata": {},
   "outputs": [
    {
     "name": "stdout",
     "output_type": "stream",
     "text": [
      "잔액은 10000000원입니다.\n"
     ]
    }
   ],
   "source": [
    "k.withdraw(6003)"
   ]
  },
  {
   "cell_type": "code",
   "execution_count": 36,
   "metadata": {},
   "outputs": [
    {
     "name": "stdout",
     "output_type": "stream",
     "text": [
      "{'1회차 출금': '6003원'}\n"
     ]
    }
   ],
   "source": [
    "k.withdraw_history()"
   ]
  },
  {
   "cell_type": "code",
   "execution_count": 20,
   "metadata": {},
   "outputs": [],
   "source": [
    "class Account_(Account):\n",
    "    def deposit_history(self):\n",
    "        self.deposit_history_dict[self.deposit_count] = self.amount\n",
    "\n",
    "        "
   ]
  },
  {
   "cell_type": "code",
   "execution_count": 37,
   "metadata": {},
   "outputs": [],
   "source": [
    "# 281\n",
    "class 차():\n",
    "    def __init__(self, 바퀴, 가격):\n",
    "        self.바퀴 = 바퀴\n",
    "        self.가격 = 가격"
   ]
  },
  {
   "cell_type": "code",
   "execution_count": 38,
   "metadata": {},
   "outputs": [
    {
     "data": {
      "text/plain": [
       "(2, 1000)"
      ]
     },
     "execution_count": 38,
     "metadata": {},
     "output_type": "execute_result"
    }
   ],
   "source": [
    "car = 차(2, 1000)\n",
    "car.바퀴, car.가격"
   ]
  },
  {
   "cell_type": "code",
   "execution_count": 39,
   "metadata": {},
   "outputs": [],
   "source": [
    "# 282\n",
    "class 자전차(차):\n",
    "    pass"
   ]
  },
  {
   "cell_type": "code",
   "execution_count": 41,
   "metadata": {},
   "outputs": [
    {
     "data": {
      "text/plain": [
       "100"
      ]
     },
     "execution_count": 41,
     "metadata": {},
     "output_type": "execute_result"
    }
   ],
   "source": [
    "bicycle = 자전차(2, 100)\n",
    "bicycle.가격"
   ]
  },
  {
   "cell_type": "code",
   "execution_count": 46,
   "metadata": {},
   "outputs": [],
   "source": [
    "# 284\n",
    "class 자전차(차):\n",
    "    def __init__(self, 바퀴, 가격, 구동계):\n",
    "        super().__init__(바퀴, 가격)\n",
    "        self.구동계 = 구동계"
   ]
  },
  {
   "cell_type": "code",
   "execution_count": 48,
   "metadata": {},
   "outputs": [
    {
     "name": "stdout",
     "output_type": "stream",
     "text": [
      "시마노\n",
      "2\n"
     ]
    }
   ],
   "source": [
    "bicycle = 자전차(2, 100, \"시마노\")\n",
    "print(bicycle.구동계)\n",
    "print(bicycle.바퀴)"
   ]
  },
  {
   "cell_type": "code",
   "execution_count": 54,
   "metadata": {},
   "outputs": [],
   "source": [
    "class Car():\n",
    "    def __init__(self, wheel, price):\n",
    "        self.wheel = wheel\n",
    "        self.price = price    "
   ]
  },
  {
   "cell_type": "code",
   "execution_count": 55,
   "metadata": {},
   "outputs": [],
   "source": [
    "class MotorCar(Car):\n",
    "    def __init__(self, wheel, price):\n",
    "        super().__init__(wheel, price)\n",
    "        \n",
    "    def info(self):\n",
    "        print(f'바퀴수 {self.wheel}\\n가격 {self.price}')"
   ]
  },
  {
   "cell_type": "code",
   "execution_count": 56,
   "metadata": {},
   "outputs": [
    {
     "name": "stdout",
     "output_type": "stream",
     "text": [
      "바퀴수 4\n",
      "가격 1000\n"
     ]
    }
   ],
   "source": [
    "car = MotorCar(4, 1000)\n",
    "car.info()"
   ]
  },
  {
   "cell_type": "code",
   "execution_count": 57,
   "metadata": {},
   "outputs": [],
   "source": [
    "# 286\n",
    "class Car():\n",
    "    def __init__(self, wheel, price):\n",
    "        self.wheel = wheel\n",
    "        self.price = price    \n",
    "\n",
    "    def info(self):\n",
    "        print(f'바퀴수 {self.wheel}\\n가격 {self.price}')\n",
    "\n",
    "class MotorCar(Car):\n",
    "    def __init__(self, wheel, price):\n",
    "        super().__init__(wheel, price)  \n",
    "\n",
    "class MotorCycle(Car):\n",
    "    def __init__(self, wheel, price, driving_system):\n",
    "        super().__init__(wheel, price)\n",
    "        self.driving_system = driving_system\n"
   ]
  },
  {
   "cell_type": "code",
   "execution_count": 58,
   "metadata": {},
   "outputs": [
    {
     "name": "stdout",
     "output_type": "stream",
     "text": [
      "바퀴수 2\n",
      "가격 100\n"
     ]
    }
   ],
   "source": [
    "bicycle = MotorCycle(2, 100, \"시마노\")\n",
    "bicycle.info()"
   ]
  },
  {
   "cell_type": "code",
   "execution_count": 59,
   "metadata": {},
   "outputs": [],
   "source": [
    "# 287\n",
    "class MotorCycle(Car):\n",
    "    def __init__(self, wheel, price, driving_system):\n",
    "        super().__init__(wheel, price)\n",
    "        self.driving_system = driving_system\n",
    "\n",
    "    def info(self):\n",
    "        super().info()\n",
    "        print(f\"구동계 {self.driving_system}\")"
   ]
  },
  {
   "cell_type": "code",
   "execution_count": 62,
   "metadata": {},
   "outputs": [
    {
     "name": "stdout",
     "output_type": "stream",
     "text": [
      "바퀴수 2\n",
      "가격 100\n",
      "구동계 시마노\n"
     ]
    }
   ],
   "source": [
    "bicycle = MotorCycle(2, 100, \"시마노\")\n",
    "bicycle.info()"
   ]
  },
  {
   "cell_type": "code",
   "execution_count": 65,
   "metadata": {},
   "outputs": [
    {
     "name": "stdout",
     "output_type": "stream",
     "text": [
      "자식호출\n"
     ]
    }
   ],
   "source": [
    "# 288\n",
    "class 부모:\n",
    "  def 호출(self):\n",
    "    print(\"부모호출\")\n",
    "\n",
    "class 자식(부모):\n",
    "  def 호출(self):\n",
    "    print(\"자식호출\")\n",
    "\n",
    "나 = 자식()\n",
    "나.호출()"
   ]
  },
  {
   "cell_type": "code",
   "execution_count": 66,
   "metadata": {},
   "outputs": [
    {
     "name": "stdout",
     "output_type": "stream",
     "text": [
      "자식생성\n"
     ]
    }
   ],
   "source": [
    "# 289\n",
    "class 부모:\n",
    "  def __init__(self):\n",
    "    print(\"부모생성\")\n",
    "\n",
    "class 자식(부모):\n",
    "  def __init__(self):\n",
    "    print(\"자식생성\")\n",
    "\n",
    "나 = 자식()"
   ]
  },
  {
   "cell_type": "code",
   "execution_count": 67,
   "metadata": {},
   "outputs": [
    {
     "name": "stdout",
     "output_type": "stream",
     "text": [
      "자식생성\n",
      "부모생성\n"
     ]
    }
   ],
   "source": [
    "# 290\n",
    "class 부모:\n",
    "  def __init__(self):\n",
    "    print(\"부모생성\")\n",
    "\n",
    "class 자식(부모):\n",
    "  def __init__(self):\n",
    "    print(\"자식생성\")\n",
    "    super().__init__()\n",
    "\n",
    "나 = 자식()"
   ]
  },
  {
   "cell_type": "code",
   "execution_count": 84,
   "metadata": {},
   "outputs": [],
   "source": [
    "# Quiz. 35.5 연습문제: 날짜 클래스 만들기\n",
    "class Date:\n",
    "    @staticmethod\n",
    "    def is_date_valid(date_string):\n",
    "        year, month, day = map(int, date_string.split('-')) # 두번째 매개변수에는 반복가능한 자료형이 들어가고, 첫번 째 인자부터 차례대로 첫번째 매개변수(함수)에 집어넣어서 함수를 수행한다.\n",
    "        # map(적용시킬 함수, 적용할 값들)\n",
    "        if 1 <= month <= 12 and 1 <= day <= 31 :\n",
    "            return True\n",
    "        else:\n",
    "            return False\n"
   ]
  },
  {
   "cell_type": "code",
   "execution_count": 85,
   "metadata": {},
   "outputs": [
    {
     "data": {
      "text/plain": [
       "False"
      ]
     },
     "execution_count": 85,
     "metadata": {},
     "output_type": "execute_result"
    }
   ],
   "source": [
    "Date.is_date_valid('2000-10-45')"
   ]
  },
  {
   "cell_type": "code",
   "execution_count": null,
   "metadata": {},
   "outputs": [],
   "source": [
    "@classmethod\n",
    "def fromDictionary(cls, dic):\n",
    "    return cls(dic[\"email\"], dic[\"password\"])   "
   ]
  },
  {
   "cell_type": "code",
   "execution_count": null,
   "metadata": {},
   "outputs": [],
   "source": [
    "song = User.fromDictionary({\"email\": \"song@test.com\", \"password\":\"123456\"})\n",
    "song.email, song.password "
   ]
  },
  {
   "cell_type": "code",
   "execution_count": 99,
   "metadata": {},
   "outputs": [],
   "source": [
    "# Quiz. 35.6 심사문제: 시간 클래스 만들기\n",
    "class Time:\n",
    "    def __init__(self, hour, minute, second):\n",
    "        self.hour = hour\n",
    "        self.minute = minute\n",
    "        self.second = second\n",
    " \n",
    "    @staticmethod\n",
    "    def is_time_valid(time_string):\n",
    "        hour, minute, second = map(int, time_string.split(\":\"))\n",
    "        if 0 <= hour <= 24 and 0 <= minute <= 60 and 0 <= second <= 60:\n",
    "            return True\n",
    "        else: return False \n",
    "    \n",
    "    # @classmethod\n",
    "    # def from_string(cls, time_string):\n",
    "    #     return cls(time_string.split(\":\")[0], time_string.split(\":\")[1], time_string.split(\":\")[2])\n",
    "\n",
    "    @classmethod\n",
    "    def from_string(cls, time_string):\n",
    "        hour, minute, second = map(int, time_string.split(\":\"))\n",
    "        time = cls(hour, minute, second)\n",
    "        return time\n",
    "        "
   ]
  },
  {
   "cell_type": "code",
   "execution_count": 98,
   "metadata": {},
   "outputs": [
    {
     "name": "stdout",
     "output_type": "stream",
     "text": [
      "23 35 59\n"
     ]
    }
   ],
   "source": [
    "time_string = input()\n",
    " \n",
    "if Time.is_time_valid(time_string):\n",
    "    t = Time.from_string(time_string)\n",
    "    print(t.hour, t.minute, t.second)\n",
    "else:\n",
    "    print('잘못된 시간 형식입니다.')"
   ]
  },
  {
   "cell_type": "code",
   "execution_count": null,
   "metadata": {},
   "outputs": [],
   "source": []
  }
 ],
 "metadata": {
  "interpreter": {
   "hash": "9132612d292018844046efb7d61620c385772bf99f2e53a3f7e93381535a3719"
  },
  "kernelspec": {
   "display_name": "Python 3.10.5 ('lab')",
   "language": "python",
   "name": "python3"
  },
  "language_info": {
   "codemirror_mode": {
    "name": "ipython",
    "version": 3
   },
   "file_extension": ".py",
   "mimetype": "text/x-python",
   "name": "python",
   "nbconvert_exporter": "python",
   "pygments_lexer": "ipython3",
   "version": "3.10.5"
  },
  "orig_nbformat": 4
 },
 "nbformat": 4,
 "nbformat_minor": 2
}
