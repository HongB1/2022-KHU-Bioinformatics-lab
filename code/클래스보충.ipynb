{
 "cells": [
  {
   "cell_type": "markdown",
   "metadata": {},
   "source": [
    "[![Open In Colab](https://colab.research.google.com/assets/colab-badge.svg)](https://colab.research.google.com/github/HongB1/2022-KHU-Bioinformatics-lab/blob/master/code/%ED%81%B4%EB%9E%98%EC%8A%A4%EB%B3%B4%EC%B6%A9.ipynb)"
   ]
  },
  {
   "cell_type": "code",
   "execution_count": 1,
   "metadata": {},
   "outputs": [],
   "source": [
    "# *객체 지향 프로그래밍(OOP) -> 코드의 재사용, 코드 중복 방지, 유지보수, 대형프로젝트\n",
    "# *규모가 큰 프로젝트(프로그램) -> 함수 중심 -> 데이터 방대 -> 복잡\n",
    "# *.클래스 중심 -> 데이터 중심 -> 객체로 관리\n",
    "\n",
    "# 일반적인 코딩\n",
    "# 차량1\n",
    "car_company = 'Ferrari'\n",
    "car_detail_1 = [\n",
    "    {'color': 'White'},\n",
    "    {'horsepower': 400},\n",
    "    {'price': 8000}\n",
    "]\n",
    "\n",
    "# 차량2\n",
    "car_company_2 = 'Bmw'\n",
    "car_detail_2 = [\n",
    "    {'color' : 'Black'},\n",
    "    {'horsepower': 270},\n",
    "    {'price': 5000}\n",
    "]\n",
    "\n",
    "# 차량3\n",
    "car_company_3 = 'Audi'\n",
    "car_detail_3 = [\n",
    "    {'color' : 'Silver'},\n",
    "    {'horsepower': 300},\n",
    "    {'price': 6000}\n",
    "]"
   ]
  },
  {
   "cell_type": "code",
   "execution_count": 2,
   "metadata": {},
   "outputs": [
    {
     "name": "stdout",
     "output_type": "stream",
     "text": [
      "['Ferrari', 'Bmw', 'Audi']\n",
      "[{'color': 'White', 'horsepower': 400, 'price': 8000}, {'color': 'Black', 'horsepower': 270, 'price': 5000}, {'color': 'Silver', 'horsepower': 300, 'price': 6000}]\n",
      "['Ferrari', 'Audi']\n",
      "[{'color': 'White', 'horsepower': 400, 'price': 8000}, {'color': 'Silver', 'horsepower': 300, 'price': 6000}]\n",
      "\n",
      "\n"
     ]
    }
   ],
   "source": [
    "# 리스트 구조\n",
    "# 관리하기 불편\n",
    "# 인덱스 접근 시 실수 가능성 증가, 삭제 불편\n",
    "\n",
    "car_company_list = ['Ferrari','Bmw','Audi']\n",
    "car_detail_list = [\n",
    "    {'color' : 'White', 'horsepower': 400, 'price': 8000},\n",
    "    {'color' : 'Black', 'horsepower': 270, 'price': 5000},\n",
    "    {'color' : 'Silver', 'horsepower': 300, 'price': 6000}\n",
    "]\n",
    "\n",
    "print(car_company_list)\n",
    "print(car_detail_list)\n",
    "\n",
    "# 자동차 회사 삭제\n",
    "del car_company_list[1]\n",
    "del car_detail_list[1]\n",
    "\n",
    "print(car_company_list)\n",
    "print(car_detail_list)\n",
    "\n",
    "print()\n",
    "print()"
   ]
  },
  {
   "cell_type": "code",
   "execution_count": 3,
   "metadata": {},
   "outputs": [],
   "source": [
    "# 딕셔너리 구조\n",
    "# 코드 반복 지속, 중첩 문제, 키 조회 예외 처리 등\n",
    "\n",
    "car_dicts = [\n",
    "    {'car_company': 'Ferrari', 'car_detail': {'color' : 'White', 'horsepower': 400, 'price': 8000}},\n",
    "    {'car_company': 'Bmw', 'car_detail': {'color' : 'Black', 'horsepower': 270, 'price': 5000}},\n",
    "    {'car_company': 'Audi', 'car_detail': {'color' : 'Silver', 'horsepower': 300, 'price': 6000}}\n",
    "]"
   ]
  },
  {
   "cell_type": "code",
   "execution_count": 4,
   "metadata": {},
   "outputs": [
    {
     "name": "stdout",
     "output_type": "stream",
     "text": [
      "[{'car_company': 'Ferrari', 'car_detail': {'color': 'White', 'horsepower': 400, 'price': 8000}}, {'car_company': 'Bmw', 'car_detail': {'color': 'Black', 'horsepower': 270, 'price': 5000}}, {'car_company': 'Audi', 'car_detail': {'color': 'Silver', 'horsepower': 300, 'price': 6000}}]\n"
     ]
    }
   ],
   "source": [
    "print(car_dicts)\n",
    "del car_dicts[1]"
   ]
  },
  {
   "cell_type": "code",
   "execution_count": 73,
   "metadata": {},
   "outputs": [],
   "source": [
    "# 클래스 구조\n",
    "# 구조 설계 후 재사용성 증가, 코드 반복 최소화, 메소드 활용\n",
    "\n",
    "class Car():\n",
    "    def __init__(self, company, details):\n",
    "        self._company = company\n",
    "        self._details = details\n",
    "\n",
    "# 안스턴스 메서드 : 속 알맹이가 궁금할 때 __str__를 구현해놓고 print하면 됨\n",
    "    def __str__(self): # 비공식적인, print로 출력하는 사용자 입장의 출력을 할 때\n",
    "        \"\"\"\n",
    "        This is str docstring.\n",
    "        \"\"\"\n",
    "        return 'str : {} - {}'.format(self._company, self._details)\n",
    "\n",
    "    def __repr__(self): # 객체를 그대로 표현해줄 때 \n",
    "        # -> 엔지니어 레벨 객체의 엄격한 타입 정보 공식적인 문자열로 표현할 때 -> 이걸 더 많이 사용하기\n",
    "        return 'repr : {} - {}'.format(self._company, self._details)"
   ]
  },
  {
   "cell_type": "code",
   "execution_count": 74,
   "metadata": {},
   "outputs": [
    {
     "name": "stdout",
     "output_type": "stream",
     "text": [
      "\n",
      "        This is str docstring.\n",
      "        \n"
     ]
    }
   ],
   "source": [
    "print(Car.__str__.__doc__)"
   ]
  },
  {
   "cell_type": "code",
   "execution_count": 75,
   "metadata": {},
   "outputs": [],
   "source": [
    "car1 = Car('Ferrari', {'color' : 'White', 'horsepower': 400, 'price': 8000})\n",
    "car2 = Car('Bmw', {'color' : 'Black', 'horsepower': 270, 'price': 5000})\n",
    "car3 = Car('Audi', {'color' : 'Silver', 'horsepower': 300, 'price': 6000})"
   ]
  },
  {
   "cell_type": "code",
   "execution_count": 76,
   "metadata": {},
   "outputs": [
    {
     "data": {
      "text/plain": [
       "repr : Ferrari - {'color': 'White', 'horsepower': 400, 'price': 8000}"
      ]
     },
     "execution_count": 76,
     "metadata": {},
     "output_type": "execute_result"
    }
   ],
   "source": [
    "# print(객체)을 하면 str 메소드가 있으면 str메소드가 출력되고, 아니면 repr 메소드가 출력됨\n",
    "car1"
   ]
  },
  {
   "cell_type": "code",
   "execution_count": 77,
   "metadata": {},
   "outputs": [
    {
     "name": "stdout",
     "output_type": "stream",
     "text": [
      "str : Ferrari - {'color': 'White', 'horsepower': 400, 'price': 8000}\n"
     ]
    }
   ],
   "source": [
    "print(car1)"
   ]
  },
  {
   "cell_type": "code",
   "execution_count": 12,
   "metadata": {},
   "outputs": [
    {
     "name": "stdout",
     "output_type": "stream",
     "text": [
      "__dict__ 사용\n",
      "{'_company': 'Ferrari', '_details': {'color': 'White', 'horsepower': 400, 'price': 8000}}\n",
      "{'_company': 'Bmw', '_details': {'color': 'Black', 'horsepower': 270, 'price': 5000}}\n",
      "{'_company': 'Audi', '_details': {'color': 'Silver', 'horsepower': 300, 'price': 6000}}\n",
      "==========================================================================================\n",
      "dir 사용\n",
      "['__class__', '__delattr__', '__dict__', '__dir__', '__doc__', '__eq__', '__format__', '__ge__', '__getattribute__', '__gt__', '__hash__', '__init__', '__init_subclass__', '__le__', '__lt__', '__module__', '__ne__', '__new__', '__reduce__', '__reduce_ex__', '__repr__', '__setattr__', '__sizeof__', '__str__', '__subclasshook__', '__weakref__', '_company', '_details']\n"
     ]
    }
   ],
   "source": [
    "# __dict__ 이란 속성은 내부 속성들을 다 보여주게 됨 : \n",
    "print('__dict__ 사용')\n",
    "print(car1.__dict__)\n",
    "print(car2.__dict__)\n",
    "print(car3.__dict__)\n",
    "\n",
    "print('==='*30)\n",
    "\n",
    "# dir : 내부의 모든 메타정보를 알려줌\n",
    "print('dir 사용')\n",
    "print(dir(car1))\n"
   ]
  },
  {
   "cell_type": "code",
   "execution_count": 17,
   "metadata": {},
   "outputs": [
    {
     "name": "stdout",
     "output_type": "stream",
     "text": [
      "[repr : Ferrari - {'color': 'White', 'horsepower': 400, 'price': 8000}, repr : Bmw - {'color': 'Black', 'horsepower': 270, 'price': 5000}, repr : Audi - {'color': 'Silver', 'horsepower': 300, 'price': 6000}]\n"
     ]
    }
   ],
   "source": [
    "# 리스트 선언\n",
    "car_list = []\n",
    "\n",
    "car_list.append(car1)\n",
    "car_list.append(car2)\n",
    "car_list.append(car3)\n",
    "\n",
    "print(car_list) # 리스트 안에 객체로서 들어갈 땐 repr이 호출됨"
   ]
  },
  {
   "cell_type": "code",
   "execution_count": 21,
   "metadata": {},
   "outputs": [
    {
     "name": "stdout",
     "output_type": "stream",
     "text": [
      "str : Ferrari - {'color': 'White', 'horsepower': 400, 'price': 8000}\n",
      "str : Bmw - {'color': 'Black', 'horsepower': 270, 'price': 5000}\n",
      "str : Audi - {'color': 'Silver', 'horsepower': 300, 'price': 6000}\n"
     ]
    }
   ],
   "source": [
    "for x in car_list:\n",
    "    print(x) # print문 사용시에는 str이 나옴"
   ]
  },
  {
   "cell_type": "code",
   "execution_count": 22,
   "metadata": {},
   "outputs": [
    {
     "name": "stdout",
     "output_type": "stream",
     "text": [
      "repr : Ferrari - {'color': 'White', 'horsepower': 400, 'price': 8000}\n",
      "repr : Bmw - {'color': 'Black', 'horsepower': 270, 'price': 5000}\n",
      "repr : Audi - {'color': 'Silver', 'horsepower': 300, 'price': 6000}\n"
     ]
    }
   ],
   "source": [
    "for x in car_list:\n",
    "    print(repr(x)) # print문 사용시에는 str이 나옴"
   ]
  },
  {
   "cell_type": "code",
   "execution_count": 11,
   "metadata": {},
   "outputs": [],
   "source": [
    "class Car():\n",
    "    \"\"\"\n",
    "    Car class\n",
    "    Author : Kim(성만 적기)\n",
    "    Date : 2022.07.10\n",
    "    \"\"\"\n",
    "    def __init__(self, company, details):\n",
    "        self._company = company\n",
    "        self._details = details\n",
    "\n",
    "    # self를 인자로 받는 것은 인스턴스 메소드 이다.    \n",
    "    def __str__(self): \n",
    "        return 'str : {} - {}'.format(self._company, self._details)\n",
    "\n",
    "    def __repr__(self): \n",
    "        return 'repr : {} - {}'.format(self._company, self._details)\n",
    "\n",
    "# self의 의미 : instance method에서는 self가 첫번째 매개변수로 넘어오게 되어 있음.\n",
    "car1 = Car('Ferrari', {'color' : 'White', 'horsepower': 400, 'price': 8000})\n",
    "car2 = Car('Bmw', {'color' : 'Black', 'horsepower': 270, 'price': 5000})\n",
    "car3 = Car('Audi', {'color' : 'Silver', 'horsepower': 300, 'price': 6000})        "
   ]
  },
  {
   "cell_type": "code",
   "execution_count": 27,
   "metadata": {},
   "outputs": [
    {
     "name": "stdout",
     "output_type": "stream",
     "text": [
      "4543704720\n",
      "4543701936\n",
      "4543706064\n",
      "False\n",
      "False\n"
     ]
    }
   ],
   "source": [
    "# !ID 확인\n",
    "'''\n",
    "class는 하나지만 각자 고유의 값을 가진 것들임. 그래서 self임.\n",
    "self가 있어야 자기 instance의 attribute values를 따로따로 관리를 할 수 있음.\n",
    "-> 즉 붕어빵 기계 틀은 하나지만, 찍어내는 붕어빵은 여러개(다르다)이다. \n",
    "탄 붕어빵, 덜 익은 붕어빵, 잘 익은 붕어빵 등등\n",
    "'''\n",
    "print(id(car1))\n",
    "print(id(car2))\n",
    "print(id(car3))\n",
    "\n",
    "print(car1._company == car2._company)\n",
    "print(car1 is car2) # identity 값이 다름"
   ]
  },
  {
   "cell_type": "code",
   "execution_count": 28,
   "metadata": {},
   "outputs": [
    {
     "name": "stdout",
     "output_type": "stream",
     "text": [
      "['__class__', '__delattr__', '__dict__', '__dir__', '__doc__', '__eq__', '__format__', '__ge__', '__getattribute__', '__gt__', '__hash__', '__init__', '__init_subclass__', '__le__', '__lt__', '__module__', '__ne__', '__new__', '__reduce__', '__reduce_ex__', '__repr__', '__setattr__', '__sizeof__', '__str__', '__subclasshook__', '__weakref__', '_company', '_details']\n",
      "\n",
      "['__class__', '__delattr__', '__dict__', '__dir__', '__doc__', '__eq__', '__format__', '__ge__', '__getattribute__', '__gt__', '__hash__', '__init__', '__init_subclass__', '__le__', '__lt__', '__module__', '__ne__', '__new__', '__reduce__', '__reduce_ex__', '__repr__', '__setattr__', '__sizeof__', '__str__', '__subclasshook__', '__weakref__', '_company', '_details']\n",
      "\n",
      "{'_company': 'Ferrari', '_details': {'color': 'White', 'horsepower': 400, 'price': 8000}}\n",
      "\n",
      "{'_company': 'Bmw', '_details': {'color': 'Black', 'horsepower': 270, 'price': 5000}}\n"
     ]
    }
   ],
   "source": [
    "# dir & __dict__ 확인\n",
    "\n",
    "# dir : list 형태로, 해당 instance가 가지고 있는 모든 attribute들을 list 형태로 보여줌 = magic method + my name space\n",
    "print(dir(car1), end='\\n\\n')\n",
    "print(dir(car2), end='\\n\\n')\n",
    "\n",
    "# dir이 너무 불필요해! 너무 포괄적이야 !\n",
    "# => __dict__ : dictionary 형태로 모든 값들을 상세하게 보여주고 있음. = my name space\n",
    "print(car1.__dict__, end='\\n\\n')\n",
    "print(car2.__dict__)"
   ]
  },
  {
   "cell_type": "code",
   "execution_count": 16,
   "metadata": {},
   "outputs": [],
   "source": [
    "class Car():\n",
    "    \"\"\"\n",
    "    Car class\n",
    "    Author : Kim(성만 적기)\n",
    "    Date : 2022.07.10\n",
    "    \"\"\"\n",
    "\n",
    "    def __init__(self, company, details):\n",
    "        self._company = company\n",
    "        self._details = details\n",
    "\n",
    "    # self를 인자로 받는 것은 인스턴스 메소드 이다.    \n",
    "    def __str__(self): \n",
    "        return 'str : {} - {}'.format(self._company, self._details)\n",
    "\n",
    "    def __repr__(self): \n",
    "        return 'repr : {} - {}'.format(self._company, self._details)\n",
    "    \n",
    "    # 인스턴스 메소드\n",
    "    def detail_info(self):\n",
    "        print('Current ID : {}'.format(id(self))) # 자기 자신이 출력되는 거니까 ID가 출력될 것임\n",
    "        print('Car Detail Info: {} {}'.format(self._company, self._details.get('price')))\n",
    "\n",
    "# self의 의미 : instance method에서는 self가 첫번째 매개변수로 넘어오게 되어 있음.\n",
    "car1 = Car('Ferrari', {'color' : 'White', 'horsepower': 400, 'price': 8000})\n",
    "car2 = Car('Bmw', {'color' : 'Black', 'horsepower': 270, 'price': 5000})\n",
    "car3 = Car('Audi', {'color' : 'Silver', 'horsepower': 300, 'price': 6000})        "
   ]
  },
  {
   "cell_type": "code",
   "execution_count": 31,
   "metadata": {},
   "outputs": [
    {
     "name": "stdout",
     "output_type": "stream",
     "text": [
      "Current ID : 4544782656\n",
      "Car Detail Info: Ferrari 8000\n",
      "Current ID : 4544782080\n",
      "Car Detail Info: Bmw 5000\n"
     ]
    }
   ],
   "source": [
    "car1.detail_info()\n",
    "car2.detail_info()"
   ]
  },
  {
   "cell_type": "code",
   "execution_count": 17,
   "metadata": {},
   "outputs": [
    {
     "name": "stdout",
     "output_type": "stream",
     "text": [
      "<class '__main__.Car'> <class '__main__.Car'>\n"
     ]
    }
   ],
   "source": [
    "print(car1.__class__, car2.__class__)"
   ]
  },
  {
   "cell_type": "code",
   "execution_count": 35,
   "metadata": {},
   "outputs": [
    {
     "name": "stdout",
     "output_type": "stream",
     "text": [
      "True\n",
      "140433848395392 140433848395392 140433848395392\n"
     ]
    }
   ],
   "source": [
    "# 비교 : 같음 -> 이유는 둘다 같은 붕어빵 틀이기 떄문에\n",
    "# main class인 Car class의 id를 출력한 것이기 때문에 다 같음. 같은 붕어빵 틀! \n",
    "print(car1.__class__ == car2.__class__)\n",
    "print(id(car1.__class__), id(car2.__class__), id(car3.__class__))"
   ]
  },
  {
   "cell_type": "code",
   "execution_count": 6,
   "metadata": {},
   "outputs": [],
   "source": [
    "class Car():\n",
    "    \"\"\"\n",
    "    Car class\n",
    "    Author : Kim\n",
    "    Date : 2022.09.01\n",
    "    Description : Class, Static, Instance Method\n",
    "    \"\"\"\n",
    "    def __init__(self, company, details):\n",
    "        self._company = company\n",
    "        # self.car_count = 10\n",
    "        self._details = details\n",
    "\n",
    "    def __str__(self):\n",
    "        return 'str : {} - {}'.format(self._company, self._details)\n",
    "\n",
    "    def __repr__(self):\n",
    "        return 'repr : {} - {}'.format(self._company, self._details)\n",
    "\n",
    "    # Instance Method\n",
    "    # Self : 객체의 고유한 속성 값을 사용\n",
    "    def detail_info(self):\n",
    "        print('Current ID : {}'.format(id(self)))\n",
    "        print('Car Detail Info : {} {}'.format(self._company, self._details.get('price')))"
   ]
  },
  {
   "cell_type": "code",
   "execution_count": 7,
   "metadata": {},
   "outputs": [],
   "source": [
    "# self의 의미 : instance method에서는 self가 첫번째 매개변수로 넘어오게 되어 있음.\n",
    "car1 = Car('Ferrari', {'color' : 'White', 'horsepower': 400, 'price': 8000})\n",
    "car2 = Car('Bmw', {'color' : 'Black', 'horsepower': 270, 'price': 5000})"
   ]
  },
  {
   "cell_type": "code",
   "execution_count": 8,
   "metadata": {},
   "outputs": [
    {
     "name": "stdout",
     "output_type": "stream",
     "text": [
      "Current ID : 4575205344\n",
      "Car Detail Info : Ferrari 8000\n",
      "Current ID : 4575213504\n",
      "Car Detail Info : Bmw 5000\n"
     ]
    }
   ],
   "source": [
    "# 전체 정보\n",
    "car1.detail_info()\n",
    "car2.detail_info()"
   ]
  },
  {
   "cell_type": "code",
   "execution_count": 32,
   "metadata": {},
   "outputs": [
    {
     "data": {
      "text/plain": [
       "{'color': 'White', 'horsepower': 400, 'price': 8000}"
      ]
     },
     "execution_count": 32,
     "metadata": {},
     "output_type": "execute_result"
    }
   ],
   "source": [
    "car1._details"
   ]
  },
  {
   "cell_type": "code",
   "execution_count": 29,
   "metadata": {},
   "outputs": [
    {
     "name": "stdout",
     "output_type": "stream",
     "text": [
      "8000\n",
      "5000\n",
      "5000\n"
     ]
    }
   ],
   "source": [
    "# 가격정보(직접 접근) : 직접 인스턴스 변수에 접근하는 것은 좋지 않음\n",
    "# => 따라서 캡슐화를 함. 캡슐화란? 직접 인스턴스 변수에 접근하는 건 좋지 않아서, 자바나 C++에서 private으로 막아놓는 것. 예시. 은행의 이율\n",
    "# => 그럼 어떻게 접근해야 하는가? 메소드를 만들어서 내가 필요한 값만 반환하는 방법을 많이 사용함. => 아래 블록 참고\n",
    "print(car1._details.get('price'))\n",
    "print(car2._details.get('price'))\n",
    "print(car2._details['price'])"
   ]
  },
  {
   "cell_type": "code",
   "execution_count": null,
   "metadata": {},
   "outputs": [],
   "source": [
    "class Car():\n",
    "    \"\"\"\n",
    "    Car class\n",
    "    Author : Kim\n",
    "    Date : 2022.09.01\n",
    "    Description : Class, Static, Instance Method\n",
    "    \"\"\"\n",
    "    def __init__(self, company, details):\n",
    "        self._company = company\n",
    "        self._details = details\n",
    "\n",
    "    def __str__(self):\n",
    "        return 'str : {} - {}'.format(self._company, self._details)\n",
    "\n",
    "    def __repr__(self):\n",
    "        return 'repr : {} - {}'.format(self._company, self._details)\n",
    "\n",
    "    # Instance Method\n",
    "    # Self : 객체의 고유한 속성 값을 사용\n",
    "    def detail_info(self):\n",
    "        print('Current ID : {}'.format(id(self)))\n",
    "        print('Car Detail Info : {} {}'.format(self._company, self._details.get('price')))\n",
    "\n",
    "    # Instance Method 이렇게 쓰는 게 좋음 ! !! !  !!!!\n",
    "    def get_price(self):\n",
    "        return 'Before Car Price -> company : {}, price : {}'.format(self._company, self._details.get('price')) # get method를 쓰는 게 좋음"
   ]
  },
  {
   "cell_type": "code",
   "execution_count": 13,
   "metadata": {},
   "outputs": [
    {
     "name": "stdout",
     "output_type": "stream",
     "text": [
      "Before Car Price -> company : Ferrari, price : 8000\n",
      "Before Car Price -> company : Bmw, price : 5000\n",
      "After Car Price -> company : Ferrari, price : 11200.0\n",
      "After Car Price -> company : Bmw, price : 7000.0\n"
     ]
    }
   ],
   "source": [
    "# 가격정보(함수로 접근)\n",
    "# 인상 전\n",
    "print(car1.get_price())\n",
    "print(car2.get_price())"
   ]
  },
  {
   "cell_type": "markdown",
   "metadata": {},
   "source": [
    "# 파이썬 데이터 모델 : Special Method(Magic Method)\n",
    "- 파이썬의 핵심 : 시퀀스(Sequence), 반복(Iterator), 함수(Functions), 클래스(Class)\n",
    "## 매직 메소드"
   ]
  },
  {
   "cell_type": "code",
   "execution_count": 35,
   "metadata": {},
   "outputs": [
    {
     "name": "stdout",
     "output_type": "stream",
     "text": [
      "10\n",
      "<class 'int'>\n",
      "<class 'float'>\n",
      "\n",
      "['__abs__', '__add__', '__and__', '__bool__', '__ceil__', '__class__', '__delattr__', '__dir__', '__divmod__', '__doc__', '__eq__', '__float__', '__floor__', '__floordiv__', '__format__', '__ge__', '__getattribute__', '__getnewargs__', '__gt__', '__hash__', '__index__', '__init__', '__init_subclass__', '__int__', '__invert__', '__le__', '__lshift__', '__lt__', '__mod__', '__mul__', '__ne__', '__neg__', '__new__', '__or__', '__pos__', '__pow__', '__radd__', '__rand__', '__rdivmod__', '__reduce__', '__reduce_ex__', '__repr__', '__rfloordiv__', '__rlshift__', '__rmod__', '__rmul__', '__ror__', '__round__', '__rpow__', '__rrshift__', '__rshift__', '__rsub__', '__rtruediv__', '__rxor__', '__setattr__', '__sizeof__', '__str__', '__sub__', '__subclasshook__', '__truediv__', '__trunc__', '__xor__', 'as_integer_ratio', 'bit_length', 'conjugate', 'denominator', 'from_bytes', 'imag', 'numerator', 'real', 'to_bytes']\n",
      "\n",
      "['__abs__', '__add__', '__bool__', '__ceil__', '__class__', '__delattr__', '__dir__', '__divmod__', '__doc__', '__eq__', '__float__', '__floor__', '__floordiv__', '__format__', '__ge__', '__getattribute__', '__getformat__', '__getnewargs__', '__gt__', '__hash__', '__init__', '__init_subclass__', '__int__', '__le__', '__lt__', '__mod__', '__mul__', '__ne__', '__neg__', '__new__', '__pos__', '__pow__', '__radd__', '__rdivmod__', '__reduce__', '__reduce_ex__', '__repr__', '__rfloordiv__', '__rmod__', '__rmul__', '__round__', '__rpow__', '__rsub__', '__rtruediv__', '__set_format__', '__setattr__', '__sizeof__', '__str__', '__sub__', '__subclasshook__', '__truediv__', '__trunc__', 'as_integer_ratio', 'conjugate', 'fromhex', 'hex', 'imag', 'is_integer', 'real']\n"
     ]
    }
   ],
   "source": [
    "# Special Method(Magic Method)\n",
    "# 파이썬의 핵심 -> 시퀀스(Sequence), 반복(Iterator), 함수(Functions), 클래스(Class)\n",
    "# 클래스 안에 정의할 수 있는 특별한(Built-in) 메소드\n",
    "\n",
    "# 기본형\n",
    "print(int(10))\n",
    "print(int) # 생각하지 않고 사용하던 모든 데이터 타입은 class임\n",
    "print(float, end='\\n\\n')\n",
    "\n",
    "# 이런 자료형들은 모두 클래스임 !!!!\n",
    "# 모든 속성 및 메소드 출력\n",
    "print(dir(int), end='\\n\\n')\n",
    "print(dir(float))\n"
   ]
  },
  {
   "cell_type": "code",
   "execution_count": null,
   "metadata": {},
   "outputs": [],
   "source": [
    "n = 10\n",
    "print(type(n))"
   ]
  },
  {
   "cell_type": "code",
   "execution_count": null,
   "metadata": {},
   "outputs": [],
   "source": [
    "print(n + 100) # => 이건 내부적으로 __add__() 메소드가 호출된 것임. 따라서 아래처럼 해도 똑같음\n",
    "print(n.__add__(100))\n",
    "# print(n.__doc__)\n",
    "print(n.__bool__(), bool(n)) # 0이면 False가 나올텐데 10이기 때문에 True가 나옴\n",
    "print(n * 100, n.__mul__(100))"
   ]
  },
  {
   "cell_type": "code",
   "execution_count": 36,
   "metadata": {},
   "outputs": [],
   "source": [
    "# 클래스 예제1\n",
    "class Fruit:\n",
    "    \"\"\"\n",
    "    Fruit Class 예제 만들기\n",
    "    Author : Kim\n",
    "    Date : 2022.09.02\n",
    "    Description : Class, Static, Instance Method\n",
    "    \"\"\"\n",
    "    def __init__(self, name, price):\n",
    "        self._name = name\n",
    "        self._price = price\n",
    "\n",
    "    def __str__(self): # !str method는 꼭 구현 해주기!!\n",
    "        return 'Fruit Class Info : {}, {}'.format(self._name, self._price)\n",
    "\n",
    "    def __add__(self, x): # ! 중급으로 가려면 반드시 알아야 됨. # 클래스끼리 값을 더하는데, \n",
    "        print('called >> __add__, ', 'x._price : {}'.format(x._price))\n",
    "        return self._price + x._price\n",
    "\n",
    "    def __sub__(self, x):\n",
    "        return self._price - x._price"
   ]
  },
  {
   "cell_type": "code",
   "execution_count": 37,
   "metadata": {},
   "outputs": [],
   "source": [
    "# 인스턴스 생성\n",
    "s1 = Fruit('Orange', 7500)\n",
    "s2 = Fruit('Banana', 3000)"
   ]
  },
  {
   "cell_type": "code",
   "execution_count": 38,
   "metadata": {},
   "outputs": [
    {
     "name": "stdout",
     "output_type": "stream",
     "text": [
      "10500\n",
      "called >> __add__,  x._price : 3000\n"
     ]
    },
    {
     "data": {
      "text/plain": [
       "10500"
      ]
     },
     "execution_count": 38,
     "metadata": {},
     "output_type": "execute_result"
    }
   ],
   "source": [
    "# 개구린 계산 : 이렇게 접근하는 건 좋지 않고, 코드 양도 엄청 늘어나고 가독성도 떨어짐.\n",
    "# 일반적인 계산\n",
    "print(s1._price + s2._price)\n",
    "# add 메소드 구현을 통해 기가막힌 클래스를 사용한 계산 : 미리 만들어둔 인스턴스 메소드를 이용한다.\n",
    "s1.__add__(s2)"
   ]
  },
  {
   "cell_type": "code",
   "execution_count": 57,
   "metadata": {},
   "outputs": [],
   "source": [
    "# 클래스 예제1\n",
    "class Fruit:\n",
    "    \"\"\"\n",
    "    Fruit Class 예제 만들기\n",
    "    Author : Kim\n",
    "    Date : 2022.09.02\n",
    "    Description : Class, Static, Instance Method\n",
    "    \"\"\"\n",
    "    def __init__(self, name, price):\n",
    "        self._name = name\n",
    "        self._price = price\n",
    "\n",
    "    def __str__(self): # !str method는 꼭 구현 해주기!!\n",
    "        return '__str__ method 실행 \\nFruit Class Info : {}, {}'.format(self._name, self._price)\n",
    "\n",
    "    def __add__(self, x): # ! 중급으로 가려면 반드시 알아야 됨. # 클래스끼리 값을 더하는데, \n",
    "        print('__add__ method 실행')\n",
    "        return (self._price + x._price) * 0.8 # class 기반으로 \n",
    "\n",
    "    def __sub__(self, x):\n",
    "        print('__sub__ method 실행')\n",
    "        return self._price - x._price\n",
    "\n",
    "    def __le__(self, x):\n",
    "        print('__le__ method 실행')\n",
    "        if self._price <= x._price:\n",
    "            return True\n",
    "        else:\n",
    "            return False\n",
    "\n",
    "    def __ge__(self, x):\n",
    "        print('__ge__ method 실행')\n",
    "        if self._price >= x._price:\n",
    "            return True\n",
    "        else:\n",
    "            return False"
   ]
  },
  {
   "cell_type": "code",
   "execution_count": 58,
   "metadata": {},
   "outputs": [],
   "source": [
    "# 인스턴스 생성\n",
    "s1 = Fruit('Orange', 7500)\n",
    "s2 = Fruit('Banana', 3000)"
   ]
  },
  {
   "cell_type": "code",
   "execution_count": 59,
   "metadata": {},
   "outputs": [
    {
     "name": "stdout",
     "output_type": "stream",
     "text": [
      "__ge__ method 실행\n",
      "True\n",
      "__le__ method 실행\n",
      "False\n",
      "__sub__ method 실행\n",
      "4500\n",
      "__sub__ method 실행\n",
      "-4500\n",
      "__str__ method 실행 \n",
      "Fruit Class Info : Orange, 7500\n",
      "__str__ method 실행 \n",
      "Fruit Class Info : Banana, 3000\n"
     ]
    }
   ],
   "source": [
    "# 매직메소드\n",
    "print(s1 >= s2)\n",
    "print(s1 <= s2)\n",
    "print(s1 - s2)\n",
    "print(s2 - s1)\n",
    "print(s1) # str method \n",
    "print(s2) # str method "
   ]
  },
  {
   "cell_type": "code",
   "execution_count": 6,
   "metadata": {},
   "outputs": [
    {
     "name": "stdout",
     "output_type": "stream",
     "text": [
      "__add__ of lists:  [1, 2, 3, 4, 5, 6]\n"
     ]
    }
   ],
   "source": [
    "u = [1, 2, 3]\n",
    "v = [4, 5, 6]\n",
    "\n",
    "print(\"__add__ of lists: \", u + v)"
   ]
  },
  {
   "cell_type": "code",
   "execution_count": 8,
   "metadata": {},
   "outputs": [
    {
     "name": "stdout",
     "output_type": "stream",
     "text": [
      "[1, 2, 3, 4, 5, 6]\n",
      "[0, 0, 0]\n",
      "[5, 7, 9]\n"
     ]
    }
   ],
   "source": [
    "# with Python Lists\n",
    "u = [1, 2, 3]\n",
    "v = [4, 5, 6]\n",
    "w = u + v\n",
    "print(w)\n",
    "\n",
    "w = [0]*len(u)\n",
    "print(w)\n",
    "\n",
    "for element_idx, _ in enumerate(u):\n",
    "    w[element_idx] = u[element_idx] + v[element_idx]\n",
    "print(w)"
   ]
  },
  {
   "cell_type": "code",
   "execution_count": null,
   "metadata": {},
   "outputs": [],
   "source": [
    "if __name__ == \"__main__\":\n",
    "    test_testing_floats()"
   ]
  },
  {
   "cell_type": "code",
   "execution_count": 22,
   "metadata": {},
   "outputs": [],
   "source": [
    "class Vector():\n",
    "    '''Vector class를 구현해봅시다.'''\n",
    "    def __init__(self, x, y, z):\n",
    "        '''Create a vector, example : v = Vector(5, 10)'''\n",
    "        self._x, self._y, self._z = x, y, z\n",
    "\n",
    "    def __repr__(self):\n",
    "        '''Return the information of the vector'''\n",
    "        return 'Vector(%r, %r, %r)' % (self._x, self._y, self._z) # %r : 객체표현으로 출력해줌 raw string\n",
    "        \n",
    "    def __add__(self, other):\n",
    "        '''Return the vector addition of self and other'''\n",
    "        return Vector(self._x + other._x, self._y + other._y, self._z + other._z) # other은 다른 인스턴스\n",
    "\n",
    "    def __mul__(self, scalar):\n",
    "        '''Return the vector multiplication of self and scalar'''\n",
    "        return Vector(self._x * scalar, self._y * scalar, self._z * scalar)\n",
    "\n",
    "    def __bool__(self): # (0, 0)인지를 확인하는 메소드\n",
    "        return bool(max(self._x, self._y, self._z))\n"
   ]
  },
  {
   "cell_type": "code",
   "execution_count": 10,
   "metadata": {},
   "outputs": [
    {
     "name": "stdout",
     "output_type": "stream",
     "text": [
      "Vector class를 구현해봅시다.\n",
      "Create a vector, example : v = Vector(5, 10)\n",
      "Return the information of the vector\n",
      "Return the vector addition of self and other\n",
      "Return the vector multiplication of self and scalar\n"
     ]
    }
   ],
   "source": [
    "print(Vector.__doc__)\n",
    "print(Vector.__init__.__doc__)\n",
    "print(Vector.__repr__.__doc__)\n",
    "print(Vector.__add__.__doc__)\n",
    "print(Vector.__mul__.__doc__)"
   ]
  },
  {
   "cell_type": "code",
   "execution_count": 13,
   "metadata": {},
   "outputs": [],
   "source": [
    "# Vector 인스턴스 생성\n",
    "u = Vector(1, 2, 3)\n",
    "v = Vector(4, 5, 6)"
   ]
  },
  {
   "cell_type": "code",
   "execution_count": 14,
   "metadata": {},
   "outputs": [
    {
     "name": "stdout",
     "output_type": "stream",
     "text": [
      "Vector(1, 2, 3) Vector(4, 5, 6)\n",
      "Vector(5, 7, 9)\n",
      "Vector(3, 6, 9)\n",
      "Vector(40, 50, 60)\n",
      "True True\n"
     ]
    }
   ],
   "source": [
    "print(u, v)\n",
    "print(u + v)\n",
    "print(u * 3)\n",
    "print(v * 10)\n",
    "print(bool(u), bool(v))"
   ]
  },
  {
   "cell_type": "code",
   "execution_count": 1,
   "metadata": {},
   "outputs": [
    {
     "ename": "NameError",
     "evalue": "name 'Vector' is not defined",
     "output_type": "error",
     "traceback": [
      "\u001b[0;31m---------------------------------------------------------------------------\u001b[0m",
      "\u001b[0;31mNameError\u001b[0m                                 Traceback (most recent call last)",
      "\u001b[1;32m/Users/hongb/Dropbox/github/2022_Bioinformatics_lab/code/클래스보충.ipynb 셀 47\u001b[0m in \u001b[0;36m<cell line: 2>\u001b[0;34m()\u001b[0m\n\u001b[1;32m      <a href='vscode-notebook-cell:/Users/hongb/Dropbox/github/2022_Bioinformatics_lab/code/%ED%81%B4%EB%9E%98%EC%8A%A4%EB%B3%B4%EC%B6%A9.ipynb#ch0000080?line=0'>1</a>\u001b[0m \u001b[39m# Vector 인스턴스 생성\u001b[39;00m\n\u001b[0;32m----> <a href='vscode-notebook-cell:/Users/hongb/Dropbox/github/2022_Bioinformatics_lab/code/%ED%81%B4%EB%9E%98%EC%8A%A4%EB%B3%B4%EC%B6%A9.ipynb#ch0000080?line=1'>2</a>\u001b[0m u \u001b[39m=\u001b[39m Vector(\u001b[39m1\u001b[39m, \u001b[39m2\u001b[39m, \u001b[39m3\u001b[39m)\n\u001b[1;32m      <a href='vscode-notebook-cell:/Users/hongb/Dropbox/github/2022_Bioinformatics_lab/code/%ED%81%B4%EB%9E%98%EC%8A%A4%EB%B3%B4%EC%B6%A9.ipynb#ch0000080?line=2'>3</a>\u001b[0m v \u001b[39m=\u001b[39m Vector(\u001b[39m4\u001b[39m, \u001b[39m5\u001b[39m, \u001b[39m6\u001b[39m)\n",
      "\u001b[0;31mNameError\u001b[0m: name 'Vector' is not defined"
     ]
    }
   ],
   "source": [
    "# Vector 인스턴스 생성\n",
    "u = Vector(1, 2, 3)\n",
    "v = Vector(4, 5, 6)"
   ]
  },
  {
   "cell_type": "code",
   "execution_count": 1,
   "metadata": {},
   "outputs": [],
   "source": [
    "from vector_util import Vector"
   ]
  },
  {
   "cell_type": "code",
   "execution_count": 2,
   "metadata": {},
   "outputs": [],
   "source": [
    "# Vector 인스턴스 생성\n",
    "u = Vector(1, 2, 3)\n",
    "v = Vector(4, 5, 6)"
   ]
  },
  {
   "cell_type": "code",
   "execution_count": null,
   "metadata": {},
   "outputs": [],
   "source": []
  }
 ],
 "metadata": {
  "kernelspec": {
   "display_name": "Python 3.10.5 ('lab')",
   "language": "python",
   "name": "python3"
  },
  "language_info": {
   "codemirror_mode": {
    "name": "ipython",
    "version": 3
   },
   "file_extension": ".py",
   "mimetype": "text/x-python",
   "name": "python",
   "nbconvert_exporter": "python",
   "pygments_lexer": "ipython3",
   "version": "3.10.5"
  },
  "orig_nbformat": 4,
  "vscode": {
   "interpreter": {
    "hash": "9132612d292018844046efb7d61620c385772bf99f2e53a3f7e93381535a3719"
   }
  }
 },
 "nbformat": 4,
 "nbformat_minor": 2
}
