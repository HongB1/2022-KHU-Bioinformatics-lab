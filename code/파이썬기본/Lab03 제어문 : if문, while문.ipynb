{
 "cells": [
  {
   "cell_type": "markdown",
   "id": "a80c2873",
   "metadata": {},
   "source": [
    "[![Open In Colab](https://colab.research.google.com/assets/colab-badge.svg)](https://colab.research.google.com/github/HongB1/2022-KHU-Bioinformatics-lab/blob/master/code/Lab03%20%EC%A0%9C%EC%96%B4%EB%AC%B8%20:%20if%EB%AC%B8%2C%20while%EB%AC%B8.ipynb)"
   ]
  },
  {
   "cell_type": "markdown",
   "id": "2a857b95",
   "metadata": {},
   "source": [
    "# Lab03. 제어문 - if문  \n",
    "\n",
    "\n",
    "이번 장에서는 if, while, for 등의 제어문에 대해서 배우고자 한다. 제어문을 배우기 전에 집을 짓는 일을 생각해 보자.\n",
    "\n",
    "집을 지을 때 나무, 돌, 시멘트 등은 재료가 되고, 철근은 집의 뼈대가 된다. 프로그램을 만드는 것도 집 짓기와 매우 비슷한 면이 있다. 나무, 돌, 시멘트와 같은 재료는 자료형이 되고, 집의 뼈대를 이루는 철근은 이번 장에서 알아볼 제어문에 해당한다. 이번 장에서는 자료형을 바탕으로 제어문을 이용하여 프로그램의 구조를 만들어 보자.  \n",
    "\n",
    "목차 :  \n",
    "- if 문  \n",
    "[1. `if`문은 왜 필요할까?](#1-if문은-왜-필요할까)  \n",
    "[2. `if`문의 기본 구조](#1-if문은-왜-필요할까)  \n",
    "[3. 들여쓰기](#3-들여쓰기)  \n",
    "[4. 조건문이란 무엇인가? ](#4-조건문이란-무엇인가)  \n",
    "   [1. 비교연산자](#41-비교연산자)  \n",
    "   [2. `and`, `or`, `not`](#42-and-or-not)  \n",
    "   [3. `x in s`, `x not in s`](#43-x-in-s-x-not-in-s)  \n",
    "[5. 다양한 조건을 판단하는 `elif`](#5-다양한-조건을-판단하는-elif)  \n",
    "[6. 조건부 표현식](#6-조건부-표현식)\n",
    "\n",
    "- while문   \n",
    "[1. while문의 기본 구조](#1-while문의-기본-구조)  \n",
    "[2. while문 만들기](#2-while문-만들기)  \n",
    "[3. while문 강제로 빠져나가기](#3-while문-강제로-빠져나가기)  \n",
    "[4. while문의 맨 처음으로 돌아가기](#4-while문의-맨-처음으로-돌아가기)  \n",
    "[5. 무한 루프](#5-무한-루프)  \n",
    "\n",
    "## 1. if문은 왜 필요할까?\n",
    "다음과 같은 상상을 해보자.\n",
    "\n",
    "\"배가 고프면 야식을 먹고, 고프지 않으면 먹지 않는다.\"\n",
    "\n",
    "우리 모두에게 일어날 수 있는 상황 중 하나이다. 프로그래밍도 사람이 하는 것이므로 위 문장처럼 주어진 조건을 판단한 후 그 상황에 맞게 처리해야 할 경우가 생긴다. 이렇듯 프로그래밍에서 조건을 판단하여 해당 조건에 맞는 상황을 수행하는 데 쓰는 것이 바로 if문이다.\n",
    "\n",
    "<img src=\"https://blog.kakaocdn.net/dn/bgCxCK/btqGtC5ZObh/wVMs6DhPVSbTZSKDFVdvc1/img.png\" width=\"400\" height=\"400\"/>  \n",
    "\n",
    "위와 같은 상황을 파이썬에서는 다음과 같이 표현할 수 있다.\n",
    "\n",
    "\n",
    "| 산자     | 내용            |\n",
    "|--------|---------------|\n",
    "| a < b  | a가 b보다 작다     |\n",
    "| a > b  | a가 b보다 크다     |\n",
    "| a == b | a와 b가 같다      |\n",
    "| a != b | a와 b가 같지 않다   |\n",
    "| a >= b | a가 b보다 크거나 같다 |\n",
    "| a <= b | a가 b보다 작거나 같다 |"
   ]
  },
  {
   "cell_type": "code",
   "execution_count": 26,
   "id": "f0fb6d52",
   "metadata": {},
   "outputs": [
    {
     "data": {
      "text/plain": [
       "False"
      ]
     },
     "execution_count": 26,
     "metadata": {},
     "output_type": "execute_result"
    }
   ],
   "source": [
    "a = 4\n",
    "b =4\n",
    "\n",
    "a > b"
   ]
  },
  {
   "cell_type": "code",
   "execution_count": 29,
   "id": "818f560a",
   "metadata": {},
   "outputs": [
    {
     "name": "stdout",
     "output_type": "stream",
     "text": [
      "Don't have a meal\n"
     ]
    }
   ],
   "source": [
    "hungry = True\n",
    "if hungry==False:\n",
    "    print(\"Have a meal\")\n",
    "else : \n",
    "    print(\"Don't have a meal\")"
   ]
  },
  {
   "cell_type": "markdown",
   "id": "db69634d",
   "metadata": {},
   "source": [
    "hungry에 True를 입력했으므로 hungry는 참이다. 따라서 if문 다음 문장이 수행되어 'Have a meal'가 출력된다.\n"
   ]
  },
  {
   "cell_type": "markdown",
   "id": "baf9b5a8",
   "metadata": {},
   "source": [
    "\n",
    "## 2. if문의 기본 구조\n",
    "```\n",
    "if 조건문:\n",
    "    수행할 문장1\n",
    "    수행할 문장2\n",
    "    ...\n",
    "else:\n",
    "    수행할 문장A\n",
    "    수행할 문장B\n",
    "    ...\n",
    "```\n",
    "조건문을 테스트해서 참이면 if문 바로 다음 문장(if 블록)들을 수행하고, 조건문이 거짓이면 else문 다음 문장(else 블록)들을 수행하게 된다. 그러므로 else문은 if문 없이 독립적으로 사용할 수 없다.\n",
    "\n",
    "## 3. 들여쓰기\n",
    "if문을 만들 때는 if 조건문: 바로 아래 문장부터 if문에 속하는 모든 문장에 **들여쓰기(indentation)**를 해주어야 한다.   \n",
    "<img src = \"https://dojang.io/pluginfile.php/13561/mod_page/content/2/013001.png\" width=\"550\" height=\"400\"/>  \n",
    "\n",
    "```\n",
    "if 조건문:\n",
    "    수행할 문장1\n",
    "    수행할 문장2\n",
    "    수행할 문장3\n",
    "```\n",
    "\n",
    "## 4. 조건문이란 무엇인가?\n",
    "if 조건문에서 \"조건문\"이란 참과 거짓을 판단하는 문장을 말한다.\n",
    "\n",
    "앞에서 살펴본 야식 예제에서 조건문은 hungry가 된다."
   ]
  },
  {
   "cell_type": "code",
   "execution_count": 30,
   "id": "7fb73557",
   "metadata": {},
   "outputs": [
    {
     "name": "stdout",
     "output_type": "stream",
     "text": [
      "hungry True이기 때문에 조건이 참이 되어 if문 다음 문장을 수행한다.\n"
     ]
    }
   ],
   "source": [
    "hungry = True\n",
    "if hungry :\n",
    "    print('hungry True이기 때문에 조건이 참이 되어 if문 다음 문장을 수행한다.')\n",
    "else :\n",
    "    print('hungry False이기 때문에 조건이 거짓이 되어 else문 다음 문장을 수행한다.')"
   ]
  },
  {
   "cell_type": "markdown",
   "id": "6de1ce47",
   "metadata": {},
   "source": [
    "### 4.1 비교연산자\n",
    "이번에는 조건문에 비교연산자(`<`, `>`, `==`, `!=`, `>=`, `<=`)를 쓰는 방법에 대해 알아보자.  \n",
    "\n",
    "| 비교연산자  | 설명            |\n",
    "|--------|---------------|\n",
    "| x < y  | x가 y보다 작다     |\n",
    "| x > y  | x가 y보다 크다     |\n",
    "| x == y | x와 y가 같다      |\n",
    "| x != y | x와 y가 같지 않다   |\n",
    "| x >= y | x가 y보다 크거나 같다 |\n",
    "| x <= y | x가 y보다 작거나 같다 |"
   ]
  },
  {
   "cell_type": "code",
   "execution_count": 5,
   "id": "9d460f4e",
   "metadata": {},
   "outputs": [
    {
     "data": {
      "text/plain": [
       "True"
      ]
     },
     "execution_count": 5,
     "metadata": {},
     "output_type": "execute_result"
    }
   ],
   "source": [
    "x = 3\n",
    "y = 2\n",
    "x > y"
   ]
  },
  {
   "cell_type": "code",
   "execution_count": 6,
   "id": "97f0f331",
   "metadata": {},
   "outputs": [
    {
     "data": {
      "text/plain": [
       "False"
      ]
     },
     "execution_count": 6,
     "metadata": {},
     "output_type": "execute_result"
    }
   ],
   "source": [
    "x < y"
   ]
  },
  {
   "cell_type": "code",
   "execution_count": 7,
   "id": "eb88826b",
   "metadata": {},
   "outputs": [
    {
     "data": {
      "text/plain": [
       "True"
      ]
     },
     "execution_count": 7,
     "metadata": {},
     "output_type": "execute_result"
    }
   ],
   "source": [
    "x != y"
   ]
  },
  {
   "cell_type": "code",
   "execution_count": 31,
   "id": "c589ac3f",
   "metadata": {},
   "outputs": [
    {
     "name": "stdout",
     "output_type": "stream",
     "text": [
      "More than one\n"
     ]
    }
   ],
   "source": [
    "x = 42\n",
    "if x > 1:\n",
    "    print('More than one')\n",
    "else :\n",
    "    print('Less than one')"
   ]
  },
  {
   "cell_type": "code",
   "execution_count": 34,
   "id": "d82c472b",
   "metadata": {},
   "outputs": [
    {
     "name": "stdout",
     "output_type": "stream",
     "text": [
      "Less than one\n"
     ]
    }
   ],
   "source": [
    "x = 0\n",
    "if x > 1:\n",
    "    print('More than one')\n",
    "    if x < 100 :\n",
    "        print('But less than 100')\n",
    "    \n",
    "else :\n",
    "    print('Less than one')"
   ]
  },
  {
   "cell_type": "code",
   "execution_count": 9,
   "id": "b3abc7c4",
   "metadata": {},
   "outputs": [
    {
     "name": "stdout",
     "output_type": "stream",
     "text": [
      "Take a taxi\n"
     ]
    }
   ],
   "source": [
    "'''\n",
    "Q1. \"만약 3000원 이상의 돈을 가지고 있으면 택시를 타고 그렇지 않으면 걸어 가라.\"\n",
    "'''\n",
    "money = int(input())\n",
    "if money >= 3000 :\n",
    "    print(\"Take a taxi\")\n",
    "else : # else는 if문과 들여쓰기를 맞춰준다.\n",
    "    print(\"Walk\")"
   ]
  },
  {
   "cell_type": "markdown",
   "id": "7cd99c49",
   "metadata": {},
   "source": [
    "`money >= 3000` 조건문이 거짓이 되기 때문에 else문 다음 문장을 수행하게 된다."
   ]
  },
  {
   "cell_type": "markdown",
   "id": "90dc0b79",
   "metadata": {},
   "source": [
    "\n",
    "### 4.2 and, or, not\n",
    "조건을 판단하기 위해 사용하는 다른 연산자로는 and, or, not이 있다. 각각의 연산자는 다음처럼 동작한다.\n",
    "\n",
    "| 연산자     | 설명                    |\n",
    "|---------|-----------------------|\n",
    "| x or y  | x와 y 둘중에 하나만 참이어도 참이다 |\n",
    "| x and y | x와 y 모두 참이어야 참이다      |\n",
    "| not x   | x가 거짓이면 참이다           |"
   ]
  },
  {
   "cell_type": "markdown",
   "id": "82f602bd",
   "metadata": {},
   "source": [
    "money는 2000이지만 card가 True이기 때문에 `money >= 3000 or card` 조건문이 참이 된다. 따라서 if문 다음 ‘택시를 타고 가라’ 문장이 출력된다.\n",
    "\n",
    "### 4.3 x in s, x not in s\n",
    "| in       | not in       |\n",
    "|----------|--------------|\n",
    "| x in 리스트 | x not in 리스트 |\n",
    "| x in 튜플  | x not in 튜플  |\n",
    "| x in 문자열 | x not in 문자열 |"
   ]
  },
  {
   "cell_type": "code",
   "execution_count": 16,
   "id": "563d64d1",
   "metadata": {},
   "outputs": [
    {
     "data": {
      "text/plain": [
       "True"
      ]
     },
     "execution_count": 16,
     "metadata": {},
     "output_type": "execute_result"
    }
   ],
   "source": [
    "#  \"[1, 2, 3]이라는 리스트 안에 1이 있는가?\"\n",
    "1 in [1, 2, 3]"
   ]
  },
  {
   "cell_type": "code",
   "execution_count": 17,
   "id": "5b61c3b2",
   "metadata": {},
   "outputs": [
    {
     "data": {
      "text/plain": [
       "False"
      ]
     },
     "execution_count": 17,
     "metadata": {},
     "output_type": "execute_result"
    }
   ],
   "source": [
    "# \"[1, 2, 3] 리스트 안에 1이 없는가?\"\n",
    "1 not in [1, 2, 3]"
   ]
  },
  {
   "cell_type": "code",
   "execution_count": 18,
   "id": "0cb55fb8",
   "metadata": {},
   "outputs": [
    {
     "data": {
      "text/plain": [
       "True"
      ]
     },
     "execution_count": 18,
     "metadata": {},
     "output_type": "execute_result"
    }
   ],
   "source": [
    "# ('a', 'b', 'c') 튜플 안에 'a'가 있는가?\n",
    "'a' in ('a', 'b', 'c')"
   ]
  },
  {
   "cell_type": "code",
   "execution_count": 19,
   "id": "f5019d89",
   "metadata": {},
   "outputs": [
    {
     "data": {
      "text/plain": [
       "True"
      ]
     },
     "execution_count": 19,
     "metadata": {},
     "output_type": "execute_result"
    }
   ],
   "source": [
    "# 'python' 문자열 안에 'j'가 있는가?\n",
    "'j' not in 'python'"
   ]
  },
  {
   "cell_type": "code",
   "execution_count": 10,
   "id": "dcbfe0d0",
   "metadata": {},
   "outputs": [
    {
     "name": "stdout",
     "output_type": "stream",
     "text": [
      "Walk\n"
     ]
    }
   ],
   "source": [
    "'''\n",
    "Q2. 다음은 가방 안에 들어있는 물건들의 리스트이다.\n",
    "만약 가방 안에 카드가 있으면 Take a taxi를, 없으면 Walk를 출력하는 조건문을 만들어봐라.\n",
    "'''"
   ]
  },
  {
   "cell_type": "markdown",
   "id": "36ba745d",
   "metadata": {},
   "source": [
    "['paper', 'cellphone', 'money'] 리스트 안에 'money'가 있으므로 'money' in pocket은 참이 된다. 따라서 if문 다음 문장이 수행된다.\n",
    "\n",
    "#### Tip. 조건문에서 아무 일도 하지 않게 설정하고 싶다면?  \n",
    "가끔 조건문의 참, 거짓에 따라 실행할 행동을 정의할 때, 아무런 일도 하지 않도록 설정하고 싶을 때가 있다.\n",
    "> \"주머니에 돈이 있으면 가만히 있고 주머니에 돈이 없으면 카드를 꺼내라.\"    \n",
    "> \n",
    "이럴 때 사용하는 것이 바로 pass이다. 위 예를 pass를 적용해서 구현해 보자."
   ]
  },
  {
   "cell_type": "code",
   "execution_count": 24,
   "id": "b45981bd",
   "metadata": {},
   "outputs": [],
   "source": [
    "pocket = ['paper', 'money', 'cellphone']\n",
    "if 'money' in pocket:\n",
    "    pass \n",
    "else:\n",
    "    print(\"카드를 꺼내라\")"
   ]
  },
  {
   "cell_type": "markdown",
   "id": "21ae6751",
   "metadata": {},
   "source": [
    "pocket 리스트 안에 money 문자열이 있기 때문에 if문 다음 문장인 pass가 수행되고 아무 결괏값도 보여 주지 않는다.\n",
    "\n",
    "또한, pass를 나중에 작성해야 할 코드를 표시할 때도 사용할 수 있습니다.\n",
    "즉, 다음과 같이 pass만 넣고 `# TODO` 주석을 이용하여 나중에 할 일로 남겨놓는 방식입니다.\n",
    "> `TODO` 외에도, `FIXME`, `BUG`, `NOTE` 등의 일관된 주석을 사용합니다."
   ]
  },
  {
   "cell_type": "code",
   "execution_count": 25,
   "id": "0ddc68fa",
   "metadata": {},
   "outputs": [],
   "source": [
    "# if 조건문에서 코드를 생략하기\n",
    "x = 10\n",
    "if x == 10:\n",
    "    pass # TODO: x가 10일 때 처리가 필요함"
   ]
  },
  {
   "cell_type": "markdown",
   "id": "78e6cd3b",
   "metadata": {},
   "source": [
    "## 5. 다양한 조건을 판단하는 `elif`\n",
    "\n",
    "if와 else만으로는 다양한 조건을 판단하기 어렵다. 다음 예를 보더라도 if와 else만으로는 조건을 판단하는 데 어려움을 겪게 된다.\n",
    "\n",
    "> \"가방에 돈이 있으면 택시를 타고,  \n",
    "> 가방에 돈은 없지만 카드가 있으면 택시를 타고,   \n",
    "> 가방에 돈도 없고 카드도 없으면 걸어 가라.\"\n",
    "\n",
    "위 문장을 보면 조건을 판단하는 부분이 두 군데가 있다. 먼저 가방에 돈이 있는지를 판단해야 하고 가방에 돈이 없으면 다시 카드가 있는지 판단해야 한다.\n",
    "\n",
    "if와 else만으로 위 문장을 표현하려면 다음과 같이 할 수 있다.\n",
    "\n"
   ]
  },
  {
   "cell_type": "code",
   "execution_count": 39,
   "id": "eeec93e6",
   "metadata": {},
   "outputs": [
    {
     "name": "stdout",
     "output_type": "stream",
     "text": [
      "Walk\n"
     ]
    }
   ],
   "source": [
    "bag = ['paper', 'handphone']\n",
    "money = int(input())\n",
    "if money >= 3000:\n",
    "    print(\"Take a taxi\")\n",
    "else:\n",
    "    if 'card' in bag:\n",
    "        print(\"Tat\")\n",
    "    else:\n",
    "        print(\"Walk\")"
   ]
  },
  {
   "cell_type": "code",
   "execution_count": 14,
   "id": "95de36ec",
   "metadata": {},
   "outputs": [
    {
     "name": "stdout",
     "output_type": "stream",
     "text": [
      "Take a taxi\n"
     ]
    }
   ],
   "source": [
    "\n",
    "money = int(input())\n",
    "if money >= 3000:\n",
    "    print(\"Take a taxi\")\n",
    "else:\n",
    "    if 'card' in bag:\n",
    "        print(\"Take a taxi\")\n",
    "    else:\n",
    "        print(\"Walk\")"
   ]
  },
  {
   "cell_type": "markdown",
   "id": "3cfb691e",
   "metadata": {},
   "source": [
    "언뜻 보기에도 이해하기 어렵고 산만한 느낌이 든다. 이런 복잡함을 해결하기 위해 파이썬에서는 다중 조건 판단을 가능하게 하는 `elif`를 사용한다.  \n",
    "위 예를 `elif`를 사용하면 다음과 같이 바꿀 수 있다."
   ]
  },
  {
   "cell_type": "code",
   "execution_count": 41,
   "id": "52544d2e",
   "metadata": {},
   "outputs": [
    {
     "name": "stdout",
     "output_type": "stream",
     "text": [
      "Walk\n"
     ]
    }
   ],
   "source": [
    "bag = ['paper', 'handphone']\n",
    "money = int(input())\n",
    "if money >= 3000 :\n",
    "     print(\"Take a taxi\")\n",
    "elif 'card' in bag : \n",
    "     print(\"Take a taxi\")\n",
    "else:\n",
    "     print(\"Walk\")"
   ]
  },
  {
   "cell_type": "markdown",
   "id": "763ec6bc",
   "metadata": {},
   "source": [
    "즉 `elif`는 이전 조건문이 거짓일 때 수행된다. `if`, `elif`, `else`를 모두 사용할 때 기본 구조는 다음과 같다.\n",
    "\n",
    "```\n",
    "If <조건문>:\n",
    "    <수행할 문장1> \n",
    "    <수행할 문장2>\n",
    "    ...\n",
    "elif <조건문>:\n",
    "    <수행할 문장1>\n",
    "    <수행할 문장2>\n",
    "    ...\n",
    "elif <조건문>:\n",
    "    <수행할 문장1>\n",
    "    <수행할 문장2>\n",
    "    ...\n",
    "...\n",
    "else:\n",
    "   <수행할 문장1>\n",
    "   <수행할 문장2>\n",
    "   ... \n",
    "\n",
    "```"
   ]
  },
  {
   "cell_type": "markdown",
   "id": "e650a625",
   "metadata": {},
   "source": [
    "#### Tip. [if문을 한 줄로 작성하기]\n",
    "앞의 pass를 사용한 예를 보면 if문 다음에 수행할 문장이 한 줄이고, else문 다음에 수행할 문장도 한 줄밖에 되지 않는다."
   ]
  },
  {
   "cell_type": "code",
   "execution_count": 31,
   "id": "c4a254e8",
   "metadata": {},
   "outputs": [],
   "source": [
    "pocket = ['paper', 'money', 'cellphone']\n",
    "if 'money' in pocket:\n",
    "    pass\n",
    "else:\n",
    "    print('카드를 꺼내라')"
   ]
  },
  {
   "cell_type": "code",
   "execution_count": 29,
   "id": "3d1ddcca",
   "metadata": {},
   "outputs": [],
   "source": [
    "pocket = ['paper', 'money', 'cellphone']\n",
    "if 'money' in pocket: pass\n",
    "else: print(\"카드를 꺼내라\")"
   ]
  },
  {
   "cell_type": "code",
   "execution_count": 30,
   "id": "7d52ccbc",
   "metadata": {},
   "outputs": [
    {
     "name": "stdout",
     "output_type": "stream",
     "text": [
      "카드를 꺼내라\n"
     ]
    }
   ],
   "source": [
    "pocket = ['paper', 'cellphone']\n",
    "if 'money' in pocket: pass\n",
    "else: print(\"카드를 꺼내라\")"
   ]
  },
  {
   "cell_type": "markdown",
   "id": "53b18981",
   "metadata": {},
   "source": [
    "## 6. 조건부 표현식\n",
    "\n",
    "`조건문이 참인 경우` if `조건문` else `조건문이 거짓인 경우`"
   ]
  },
  {
   "cell_type": "code",
   "execution_count": 16,
   "id": "e7339e1a",
   "metadata": {},
   "outputs": [
    {
     "name": "stdout",
     "output_type": "stream",
     "text": [
      "success\n"
     ]
    }
   ],
   "source": [
    "# 아래 코드는 score가 60 이상일 경우 message에 문자열 \"success\"를, 아닐 경우에는 \"failure\"를 대입하는 코드이다.\n",
    "score = 70\n",
    "if score >= 60:\n",
    "    message = \"success\"\n",
    "else:\n",
    "    message = \"failure\"\n",
    "print(message)"
   ]
  },
  {
   "cell_type": "code",
   "execution_count": 17,
   "id": "cb673069",
   "metadata": {},
   "outputs": [
    {
     "name": "stdout",
     "output_type": "stream",
     "text": [
      "success\n"
     ]
    }
   ],
   "source": [
    "message = \"success\" if score >= 60 else \"failure\"\n",
    "print(message)"
   ]
  },
  {
   "cell_type": "code",
   "execution_count": 8,
   "id": "af2b2cd5",
   "metadata": {},
   "outputs": [
    {
     "name": "stdout",
     "output_type": "stream",
     "text": [
      "11~20\n"
     ]
    }
   ],
   "source": [
    "'''\n",
    "Quiz3. 변수 x가 11과 20 사이면 '11~20', 21과 30 사이면 '21~30', 아무것도 해당하지 않으면 '아무것도 해당하지 않음'이 출력되게 만드세요.\n",
    "'''\n",
    "\n",
    "x = int(input())\n",
    "if 11 <= x <= 20:\n",
    "    print('11~20')\n",
    "elif 21 <= x <= 30:\n",
    "    print('21~30')\n",
    "else:\n",
    "    print('아무것도 해당하지 않음')"
   ]
  },
  {
   "cell_type": "code",
   "execution_count": 21,
   "id": "6553c433",
   "metadata": {},
   "outputs": [
    {
     "name": "stdout",
     "output_type": "stream",
     "text": [
      "요금은 650원이며, 잔액은 8350원 남았습니다.\n"
     ]
    }
   ],
   "source": [
    "''' 과제\n",
    "Test2. 표준 입력으로 나이가 입력됩니다. 시내버스 요금은 다음과 같으며 각 나이에 맞게 요금을 차감한 뒤 잔액이 출력되게 만드세요(if, elif 사용). 현재 교통카드에는 9,000원이 들어있습니다.\n",
    "\n",
    "- 어린이(초등학생, 12세 이하): 650원\n",
    "- 청소년(중∙고등학생, 13세 이상 18세 이하): 1,050원\n",
    "- 어른(일반, 19세 이상): 1,250원\n",
    "'''\n",
    "\n",
    "age = int(input())\n",
    "balance = 9000 # 교통카드 잔액\n",
    "child_fee = 650\n",
    "teen_fee = 1050\n",
    "adult_fee = 1250\n",
    "\n",
    "if age <= 12: \n",
    "    fee = child_fee\n",
    "elif 13 <= age <= 18:\n",
    "    fee = teen_fee\n",
    "elif age >= 19:\n",
    "    fee = adult_fee\n",
    "balance -= fee\n",
    "print(f'요금은 {fee}원이며, 잔액은 {balance}원 남았습니다.') \n",
    "# print(balance)"
   ]
  },
  {
   "cell_type": "markdown",
   "id": "9f9bf156",
   "metadata": {},
   "source": [
    "## 1. while문의 기본 구조\n",
    "반복해서 문장을 수행해야 할 경우 while문을 사용한다. 그래서 while문을 반복문이라고도 부른다.\n",
    "\n",
    "다음은 while문의 기본 구조이다.\n",
    "```\n",
    "while <조건문>:\n",
    "    <수행할 문장1>\n",
    "    <수행할 문장2>\n",
    "    <수행할 문장3>\n",
    "    ...\n",
    "```\n",
    "while문은 조건문이 참인 동안에 while문 아래의 문장이 반복해서 수행된다.\n",
    "\n",
    "\"열 번 찍어 안 넘어가는 나무 없다\"는 속담을 파이썬 프로그램으로 만든다면 다음과 같이 될 것이다."
   ]
  },
  {
   "cell_type": "code",
   "execution_count": 11,
   "id": "7a854d7c",
   "metadata": {},
   "outputs": [
    {
     "name": "stdout",
     "output_type": "stream",
     "text": [
      "나무를 1번 찍었습니다.\n",
      "나무를 2번 찍었습니다.\n",
      "나무를 3번 찍었습니다.\n",
      "나무를 4번 찍었습니다.\n",
      "나무를 5번 찍었습니다.\n",
      "나무를 6번 찍었습니다.\n",
      "나무를 7번 찍었습니다.\n",
      "나무를 8번 찍었습니다.\n",
      "나무를 9번 찍었습니다.\n",
      "나무를 10번 찍었습니다.\n",
      "나무 넘어갑니다.\n"
     ]
    }
   ],
   "source": [
    "treeHit = 0\n",
    "while treeHit < 10: # while문이 참이면 계속해서 반복된다.\n",
    "    treeHit = treeHit +1\n",
    "    print(f\"나무를 {treeHit}번 찍었습니다.\") # print(\"나무를 %d번 찍었습니다.\" % treeHit)\n",
    "    if treeHit == 10:\n",
    "        print(\"나무 넘어갑니다.\")"
   ]
  },
  {
   "cell_type": "markdown",
   "id": "7d3f20a9",
   "metadata": {},
   "source": [
    "<img src=\"https://user-images.githubusercontent.com/54663536/176998610-581e2253-2eb9-43e8-a978-89f0d51ca6c0.png\">\n",
    "\n",
    "위 예에서 while문의 조건문은 `treeHit < 10`이다. 즉 treeHit가 10보다 작은 동안에 while문 안의 문장을 계속 수행한다.   \n",
    "whlie문 안의 문장을 보면 제일 먼저 `treeHit = treeHit + 1`로 treeHit 값이 계속 1씩 증가한다. 그리고 나무를 treeHit번만큼 찍었음을 알리는 문장을 출력하고 treeHit가 10이 되면 \"나무 넘어갑니다.\"라는 문장을 출력한다. 그러고 나면 `treeHit < 10` 조건문이 거짓이 되므로 while문을 빠져나가게 된다.\n",
    "\n",
    "> ※ `treeHit = treeHit + 1`은 프로그래밍을 할 때 매우 자주 사용하는 기법이다. treeHit 값을 1만큼씩 증가시킬 목적으로 사용하며, `treeHit += 1` 처럼 사용하기도 한다.\n",
    "\n",
    "다음은 while문이 반복되는 과정을 순서대로 정리한 표이다. 이렇게 긴 과정을 소스 코드 단 5줄로 만들 수 있다니 놀랍지 않은가?\n",
    "\n",
    "| treeHit | 조건문     | 조건판단 | 수행하는 문장                  | while문 |\n",
    "|---------|---------|------|--------------------------|--------|\n",
    "| 0       | 0 < 10  | 참    | 나무를 1번 찍었습니다.            | 반복     |\n",
    "| 1       | 1 < 10  | 참    | 나무를 2번 찍었습니다.            | 반복     |\n",
    "| 2       | 2 < 10  | 참    | 나무를 3번 찍었습니다.            | 반복     |\n",
    "| 3       | 3 < 10  | 참    | 나무를 4번 찍었습니다.            | 반복     |\n",
    "| 4       | 4 < 10  | 참    | 나무를 5번 찍었습니다.            | 반복     |\n",
    "| 5       | 5 < 10  | 참    | 나무를 6번 찍었습니다.            | 반복     |\n",
    "| 6       | 6 < 10  | 참    | 나무를 7번 찍었습니다.            | 반복     |\n",
    "| 7       | 7 < 10  | 참    | 나무를 8번 찍었습니다.            | 반복     |\n",
    "| 8       | 8 < 10  | 참    | 나무를 9번 찍었습니다.            | 반복     |\n",
    "| 9       | 9 < 10  | 참    | 나무를 10번 찍었습니다. 나무 넘어갑니다. | 반복     |\n",
    "| 10      | 10 < 10 | 거짓   |                          | 종료     |"
   ]
  },
  {
   "cell_type": "code",
   "execution_count": 23,
   "id": "26a58383",
   "metadata": {},
   "outputs": [],
   "source": [
    "## 2. while문 만들기\n",
    "prompt = \"\"\"\n",
    "1. Add\n",
    "2. Del\n",
    "3. List\n",
    "4. Quit\n",
    "\n",
    "Enter number: \"\"\""
   ]
  },
  {
   "cell_type": "markdown",
   "id": "f094a5d5",
   "metadata": {},
   "source": [
    "이어서 number 변수에 0을 먼저 대입한다. 이렇게 변수를 먼저 설정해 놓지 않으면 다음에 나올 while문의 조건문인 `number != 4`에서 변수가 존재하지 않는다는 오류가 발생한다."
   ]
  },
  {
   "cell_type": "code",
   "execution_count": 24,
   "id": "875373b1",
   "metadata": {},
   "outputs": [
    {
     "name": "stdout",
     "output_type": "stream",
     "text": [
      "\n",
      "1. Add\n",
      "2. Del\n",
      "3. List\n",
      "4. Quit\n",
      "\n",
      "Enter number: \n",
      "\n",
      "1. Add\n",
      "2. Del\n",
      "3. List\n",
      "4. Quit\n",
      "\n",
      "Enter number: \n",
      "\n",
      "1. Add\n",
      "2. Del\n",
      "3. List\n",
      "4. Quit\n",
      "\n",
      "Enter number: \n"
     ]
    }
   ],
   "source": [
    "number = 0\n",
    "while number != 4:\n",
    "    print(prompt)\n",
    "    number = int(input())"
   ]
  },
  {
   "cell_type": "markdown",
   "id": "9f53252c",
   "metadata": {},
   "source": [
    "## 3. while문 강제로 빠져나가기\n",
    "\n",
    "while문은 조건문이 참인 동안 계속해서 while문 안의 내용을 반복적으로 수행한다. **하지만 강제로 while문을 빠져나가고 싶을 때가 있다.**   \n",
    "예를 들어 커피 자판기를 생각해 보자. 자판기 안에 커피가 충분히 있을 때에는 동전을 넣으면 커피가 나온다. 그런데 자판기가 제대로 작동하려면 커피가 얼마나 남았는지 항상 검사해야 한다. 만약 커피가 떨어졌다면 판매를 중단하고 \"Coffee is sold out.\" 문구를 사용자에게 보여주어야 한다. 이렇게 판매를 강제로 멈추게 하는 것이 바로 `break`문이다.\n",
    "\n",
    "<img src =\"https://wikidocs.net/images/page/21/while_break.png\">"
   ]
  },
  {
   "cell_type": "code",
   "execution_count": 26,
   "id": "e37d62c4",
   "metadata": {},
   "outputs": [
    {
     "name": "stdout",
     "output_type": "stream",
     "text": [
      "Here is coffee.\n",
      "There are 9 coffee left.\n",
      "Here is coffee.\n",
      "There are 8 coffee left.\n",
      "Here is coffee.\n",
      "There are 7 coffee left.\n",
      "Here is coffee.\n",
      "There are 6 coffee left.\n",
      "Here is coffee.\n",
      "There are 5 coffee left.\n",
      "Here is coffee.\n",
      "There are 4 coffee left.\n",
      "Here is coffee.\n",
      "There are 3 coffee left.\n",
      "Here is coffee.\n",
      "There are 2 coffee left.\n",
      "Here is coffee.\n",
      "There are 1 coffee left.\n",
      "Here is coffee.\n",
      "There are 0 coffee left.\n",
      "Coffee is sold out.\n"
     ]
    }
   ],
   "source": [
    "coffee = 10\n",
    "money = 300\n",
    "while money :\n",
    "    \n",
    "    print(\"Here is coffee.\")\n",
    "    coffee = coffee -1\n",
    "    print(f\"There are {coffee} coffee left.\") \n",
    "    \n",
    "    if coffee == 0:\n",
    "        print(\"Coffee is sold out.\")\n",
    "        break"
   ]
  },
  {
   "cell_type": "code",
   "execution_count": 2,
   "id": "fa9c5cbb",
   "metadata": {},
   "outputs": [
    {
     "name": "stdout",
     "output_type": "stream",
     "text": [
      "거스름돈 49700를 주고 커피를 줍니다.\n",
      "거스름돈 2700를 주고 커피를 줍니다.\n",
      "거스름돈 1700를 주고 커피를 줍니다.\n",
      "돈을 다시 돌려주고 커피를 주지 않습니다.\n",
      "남은 커피의 양은 7개 입니다.\n",
      "거스름돈 2700를 주고 커피를 줍니다.\n"
     ]
    },
    {
     "ename": "ValueError",
     "evalue": "invalid literal for int() with base 10: ''",
     "output_type": "error",
     "traceback": [
      "\u001b[0;31m---------------------------------------------------------------------------\u001b[0m",
      "\u001b[0;31mValueError\u001b[0m                                Traceback (most recent call last)",
      "\u001b[1;32m/Users/hongb/Dropbox/github/2022_Bioinformatics_lab/code/Lab03 제어문 : if문, while문.ipynb 셀 49\u001b[0m in \u001b[0;36m<cell line: 4>\u001b[0;34m()\u001b[0m\n\u001b[1;32m      <a href='vscode-notebook-cell:/Users/hongb/Dropbox/github/2022_Bioinformatics_lab/code/Lab03%20%EC%A0%9C%EC%96%B4%EB%AC%B8%20%3A%20if%EB%AC%B8%2C%20while%EB%AC%B8.ipynb#ch0000048?line=2'>3</a>\u001b[0m coffee \u001b[39m=\u001b[39m \u001b[39m10\u001b[39m\n\u001b[1;32m      <a href='vscode-notebook-cell:/Users/hongb/Dropbox/github/2022_Bioinformatics_lab/code/Lab03%20%EC%A0%9C%EC%96%B4%EB%AC%B8%20%3A%20if%EB%AC%B8%2C%20while%EB%AC%B8.ipynb#ch0000048?line=3'>4</a>\u001b[0m \u001b[39mwhile\u001b[39;00m \u001b[39mTrue\u001b[39;00m:\n\u001b[0;32m----> <a href='vscode-notebook-cell:/Users/hongb/Dropbox/github/2022_Bioinformatics_lab/code/Lab03%20%EC%A0%9C%EC%96%B4%EB%AC%B8%20%3A%20if%EB%AC%B8%2C%20while%EB%AC%B8.ipynb#ch0000048?line=4'>5</a>\u001b[0m     money \u001b[39m=\u001b[39m \u001b[39mint\u001b[39;49m(\u001b[39minput\u001b[39;49m(\u001b[39m\"\u001b[39;49m\u001b[39m돈을 넣어 주세요: \u001b[39;49m\u001b[39m\"\u001b[39;49m))\n\u001b[1;32m      <a href='vscode-notebook-cell:/Users/hongb/Dropbox/github/2022_Bioinformatics_lab/code/Lab03%20%EC%A0%9C%EC%96%B4%EB%AC%B8%20%3A%20if%EB%AC%B8%2C%20while%EB%AC%B8.ipynb#ch0000048?line=5'>6</a>\u001b[0m     \u001b[39mif\u001b[39;00m money \u001b[39m==\u001b[39m \u001b[39m300\u001b[39m:\n\u001b[1;32m      <a href='vscode-notebook-cell:/Users/hongb/Dropbox/github/2022_Bioinformatics_lab/code/Lab03%20%EC%A0%9C%EC%96%B4%EB%AC%B8%20%3A%20if%EB%AC%B8%2C%20while%EB%AC%B8.ipynb#ch0000048?line=6'>7</a>\u001b[0m         \u001b[39mprint\u001b[39m(\u001b[39m\"\u001b[39m\u001b[39m커피를 줍니다.\u001b[39m\u001b[39m\"\u001b[39m)\n",
      "\u001b[0;31mValueError\u001b[0m: invalid literal for int() with base 10: ''"
     ]
    }
   ],
   "source": [
    "coffee = 10\n",
    "while True:\n",
    "    money = int(input(\"돈을 넣어 주세요: \"))\n",
    "    if money == 300:\n",
    "        print(\"커피를 줍니다.\")\n",
    "        coffee = coffee -1\n",
    "    elif money > 300:\n",
    "        print(\"거스름돈 %d를 주고 커피를 줍니다.\" % (money -300))\n",
    "        coffee = coffee -1\n",
    "    else:\n",
    "        print(\"돈을 다시 돌려주고 커피를 주지 않습니다.\")\n",
    "        print(\"남은 커피의 양은 %d개 입니다.\" % coffee)\n",
    "    if coffee == 0:\n",
    "        print(\"커피가 다 떨어졌습니다. 판매를 중지 합니다.\")\n",
    "        break"
   ]
  },
  {
   "cell_type": "markdown",
   "id": "f5f5ada4",
   "metadata": {},
   "source": [
    "## 4. while문의 맨 처음으로 돌아가기\n"
   ]
  },
  {
   "cell_type": "markdown",
   "id": "003fdb44",
   "metadata": {},
   "source": [
    "while문 안의 문장을 수행할 때 입력 조건을 검사해서 조건에 맞지 않으면 while문을 빠져나간다. 그런데 프로그래밍을 하다 보면 while문을 빠져나가지 않고 while문의 맨 처음(조건문)으로 다시 돌아가게 만들고 싶은 경우가 생기게 된다. 이때 사용하는 것이 바로 continue문이다.\n",
    "\n",
    "1부터 10까지의 숫자 중에서 홀수만 출력하는 것을 while문을 사용해서 작성한다고 생각해보자. 어떤 방법이 좋을까?\n",
    "\n"
   ]
  },
  {
   "cell_type": "code",
   "execution_count": 3,
   "id": "5cc08a60",
   "metadata": {},
   "outputs": [
    {
     "name": "stdout",
     "output_type": "stream",
     "text": [
      "1\n",
      "3\n",
      "5\n",
      "7\n",
      "9\n"
     ]
    }
   ],
   "source": [
    "a = 0\n",
    "while a < 10:\n",
    "    a = a + 1\n",
    "    if a % 2 == 0: continue\n",
    "    print(a)"
   ]
  },
  {
   "cell_type": "markdown",
   "id": "e2cd6d30",
   "metadata": {},
   "source": [
    "위 예는 1부터 10까지의 숫자 중 홀수만 출력하는 예이다. a가 10보다 작은 동안 a는 1만큼씩 계속 증가한다.  \n",
    "`if a % 2 == 0`(a를 2로 나누었을 때 나머지가 0인 경우)이 참이 되는 경우는 a가 짝수일 때이다. 즉 a가 짝수이면 continue 문장을 수행한다.   \n",
    "이 continue문은 while문의 맨 처음(조건문: `a<10`)으로 돌아가게 하는 명령어이다. 따라서 위 예에서 a가 짝수이면 `print(a)`는 수행되지 않을 것이다."
   ]
  },
  {
   "cell_type": "markdown",
   "id": "c02a9590",
   "metadata": {},
   "source": [
    "## 5. 무한 루프\n",
    "무한히 반복된다는 의미. \n",
    "```python\n",
    "while True: \n",
    "    수행할 문장1 \n",
    "    수행할 문장2\n",
    "```"
   ]
  },
  {
   "cell_type": "code",
   "execution_count": null,
   "id": "45d40147",
   "metadata": {},
   "outputs": [],
   "source": [
    "while True:\n",
    "    print(\"Ctrl+C를 눌러야 while문을 빠져나갈 수 있습니다.\")"
   ]
  },
  {
   "cell_type": "code",
   "execution_count": 21,
   "id": "ed2f4c64",
   "metadata": {},
   "outputs": [],
   "source": [
    "a = [1,2,3,4]\n",
    "b = [5,6]"
   ]
  },
  {
   "cell_type": "code",
   "execution_count": 23,
   "id": "c81fae92",
   "metadata": {},
   "outputs": [
    {
     "data": {
      "text/plain": [
       "list"
      ]
     },
     "execution_count": 23,
     "metadata": {},
     "output_type": "execute_result"
    }
   ],
   "source": [
    "\n",
    "type(a)"
   ]
  },
  {
   "cell_type": "code",
   "execution_count": 8,
   "id": "5e066d81",
   "metadata": {},
   "outputs": [
    {
     "name": "stdout",
     "output_type": "stream",
     "text": [
      "['__new__', '__repr__', '__hash__', '__getattribute__', '__lt__', '__le__', '__eq__', '__ne__', '__gt__', '__ge__', '__iter__', '__init__', '__len__', '__getitem__', '__setitem__', '__delitem__', '__add__', '__mul__', '__rmul__', '__contains__', '__iadd__', '__imul__', '__reversed__', '__sizeof__', 'clear', 'copy', 'append', 'insert', 'extend', 'pop', 'remove', 'index', 'count', 'reverse', 'sort', '__class_getitem__', '__doc__', '__str__', '__setattr__', '__delattr__', '__reduce_ex__', '__reduce__', '__subclasshook__', '__init_subclass__', '__format__', '__dir__', '__class__']\n"
     ]
    }
   ],
   "source": [
    "print(a.__dir__())"
   ]
  },
  {
   "cell_type": "code",
   "execution_count": 22,
   "id": "6914e833",
   "metadata": {},
   "outputs": [],
   "source": [
    "x = 4"
   ]
  },
  {
   "cell_type": "code",
   "execution_count": 10,
   "id": "b3d398b4",
   "metadata": {},
   "outputs": [
    {
     "name": "stdout",
     "output_type": "stream",
     "text": [
      "['__new__', '__repr__', '__hash__', '__getattribute__', '__lt__', '__le__', '__eq__', '__ne__', '__gt__', '__ge__', '__add__', '__radd__', '__sub__', '__rsub__', '__mul__', '__rmul__', '__mod__', '__rmod__', '__divmod__', '__rdivmod__', '__pow__', '__rpow__', '__neg__', '__pos__', '__abs__', '__bool__', '__invert__', '__lshift__', '__rlshift__', '__rshift__', '__rrshift__', '__and__', '__rand__', '__xor__', '__rxor__', '__or__', '__ror__', '__int__', '__float__', '__floordiv__', '__rfloordiv__', '__truediv__', '__rtruediv__', '__index__', 'conjugate', 'bit_length', 'bit_count', 'to_bytes', 'from_bytes', 'as_integer_ratio', '__trunc__', '__floor__', '__ceil__', '__round__', '__getnewargs__', '__format__', '__sizeof__', 'real', 'imag', 'numerator', 'denominator', '__doc__', '__str__', '__setattr__', '__delattr__', '__init__', '__reduce_ex__', '__reduce__', '__subclasshook__', '__init_subclass__', '__dir__', '__class__']\n"
     ]
    }
   ],
   "source": [
    "print(x.__dir__())"
   ]
  },
  {
   "cell_type": "code",
   "execution_count": 1,
   "id": "45a0795b",
   "metadata": {},
   "outputs": [
    {
     "data": {
      "text/plain": [
       "<slot wrapper '__iter__' of 'list' objects>"
      ]
     },
     "execution_count": 1,
     "metadata": {},
     "output_type": "execute_result"
    }
   ],
   "source": [
    "list.__iter__"
   ]
  },
  {
   "cell_type": "code",
   "execution_count": 4,
   "id": "c02190a3",
   "metadata": {},
   "outputs": [
    {
     "data": {
      "text/plain": [
       "'\\nQuiz5. 변수 두 개를 다르게 반복하기\\n다음 소스 코드를 완성하여 정수 2 5, 4 4, 8 3, 16 2, 32 1이 각 줄에 출력되게 만드세요. while에 조건식은 두 개 지정하고, 두 변수를 모두 변화시켜야 합니다.\\n'"
      ]
     },
     "execution_count": 4,
     "metadata": {},
     "output_type": "execute_result"
    }
   ],
   "source": [
    "'''\n",
    "Quiz5. 변수 두 개를 다르게 반복하기\n",
    "다음 소스 코드를 완성하여 정수 2 5, 4 4, 8 3, 16 2, 32 1이 각 줄에 출력되게 만드세요. while에 조건식은 두 개 지정하고, 두 변수를 모두 변화시켜야 합니다.\n",
    "'''\n"
   ]
  },
  {
   "cell_type": "code",
   "execution_count": 5,
   "id": "664003d3",
   "metadata": {},
   "outputs": [
    {
     "data": {
      "text/plain": [
       "'\\nQuiz.6 교통카드 잔액 출력하기\\n표준 입력으로 금액(정수)이 입력됩니다. 1회당 요금은 1,350원이고, 교통카드를 사용했을 때마다의 잔액을 각 줄에 출력하는 프로그램을 만드세요(input에서 안내 문자열은 출력하지 않아야 합니다). 단, 최초 금액은 출력하지 않아야 합니다. 그리고 잔액은 음수가 될 수 없으며 잔액이 부족하면 출력을 끝냅니다.\\n'"
      ]
     },
     "execution_count": 5,
     "metadata": {},
     "output_type": "execute_result"
    }
   ],
   "source": [
    "'''\n",
    "Quiz.6 교통카드 잔액 출력하기\n",
    "표준 입력으로 금액(정수)이 입력됩니다. 1회당 요금은 1,350원이고, 교통카드를 사용했을 때마다의 잔액을 각 줄에 출력하는 프로그램을 만드세요(input에서 안내 문자열은 출력하지 않아야 합니다). 단, 최초 금액은 출력하지 않아야 합니다. 그리고 잔액은 음수가 될 수 없으며 잔액이 부족하면 출력을 끝냅니다.\n",
    "'''\n"
   ]
  },
  {
   "cell_type": "code",
   "execution_count": null,
   "id": "c0074d14",
   "metadata": {},
   "outputs": [],
   "source": [
    "name = '김홍비' \n",
    "score = '90'\n",
    "\n",
    "grade_list = [\"F\", \"D\", \"D+\", \"C\", \"C+\", \"B\", \"B+\", \"A\", \"A+\"]\n",
    "# 학점 계산식 : (점수 - 55) // 5\n"
   ]
  },
  {
   "cell_type": "code",
   "execution_count": 18,
   "id": "88706133",
   "metadata": {},
   "outputs": [
    {
     "name": "stdout",
     "output_type": "stream",
     "text": [
      "세전 연봉: 3600만원\n",
      "세후 연봉: 3060만원\n"
     ]
    }
   ],
   "source": [
    "# 📌Q2. 월급을 입력하면 연봉을 계산해주는 계산기를 만들어 봅시다. 세전 연봉과 세후 연봉을 함께 출력하도록 해봅니다.\n",
    "\n",
    "monthly_payment = int(300)\n",
    "yearly_payment = monthly_payment*12"
   ]
  },
  {
   "cell_type": "code",
   "execution_count": null,
   "id": "74bac6f6",
   "metadata": {},
   "outputs": [],
   "source": [
    "coffee = 10\n",
    "while True:\n",
    "    money = int(input(\"돈을 넣어 주세요: \"))\n",
    "    if money == 300:\n",
    "        print(\"커피를 줍니다.\")\n",
    "        coffee = coffee -1\n",
    "    elif money > 300:\n",
    "        print(\"거스름돈 %d를 주고 커피를 줍니다.\" % (money -300))\n",
    "        coffee = coffee -1\n",
    "    else:\n",
    "        print(\"돈을 다시 돌려주고 커피를 주지 않습니다.\")\n",
    "        print(\"남은 커피의 양은 %d개 입니다.\" % coffee)\n",
    "    if coffee == 0:\n",
    "        print(\"커피가 다 떨어졌습니다. 판매를 중지 합니다.\")\n",
    "        break"
   ]
  },
  {
   "cell_type": "code",
   "execution_count": null,
   "id": "2ca690eb",
   "metadata": {},
   "outputs": [],
   "source": [
    "def bus_fee(age, ways):\n",
    "    age = int(age)\n",
    "\n",
    "    if ways == \"현금\":\n",
    "        if (age >= 0 and age < 8) or age >= 75:\n",
    "            fee = \"무료\"\n",
    "        elif age < 14 and age >= 0:\n",
    "            fee = 450\n",
    "        elif age < 20 and age >= 0:\n",
    "            fee = 1000\n",
    "        elif age < 75 and age >= 0:\n",
    "            fee = 1300\n",
    "        else:\n",
    "            fee = None\n",
    "\n",
    "    elif ways == \"카드\":\n",
    "        if (age >= 0 and age < 8) or age >= 75:\n",
    "            fee = \"무료\"\n",
    "        elif age < 14 and age >= 0:\n",
    "            fee = 450\n",
    "        elif age < 20 and age >= 0:\n",
    "            fee = 720\n",
    "        elif age < 75 and age >= 0:\n",
    "            fee = 1200\n",
    "        else:\n",
    "            fee = None\n",
    "    else:\n",
    "        fee = None\n",
    "\n",
    "    if fee != None:\n",
    "        print(\"나이:\", age)\n",
    "        print(\"지불유형:\", ways)\n",
    "        print(\"버스요금:\", fee)\n",
    "    else:\n",
    "        print(\"올바른 값을 입력하세요.\")\n",
    "\n",
    "input_age = input(\"나이를 입력하세요:\")\n",
    "input_way = input(\"결제수단을 입력하세요:\")\n",
    "bus_fee(input_age, input_way"
   ]
  },
  {
   "cell_type": "code",
   "execution_count": 6,
   "id": "00dd67eb",
   "metadata": {},
   "outputs": [
    {
     "name": "stdout",
     "output_type": "stream",
     "text": [
      "올바른 나이를 입력하세요\n",
      "나이: 30세\n",
      "지불방법: 카카\n",
      "버스요금: 1200원\n"
     ]
    }
   ],
   "source": [
    "# 📌Q4. 나이와 현금 또는 카드를 입력하면 버스 요금이 출력되는 버스 요금 계산기를 만들어봅시다. \n",
    "age = int(input())\n",
    "ways = str(input())\n",
    "\n",
    "if age < 8 or age > 75:\n",
    "    fee = 0\n",
    "    if ways == \"현금\":\n",
    "        if age < 14:\n",
    "            fee = 450\n",
    "        elif age < 20:\n",
    "            fee = 1000\n",
    "        elif age < 75:\n",
    "            fee = 1300\n",
    "    elif ways == \"카드\":\n",
    "        if age < 14:\n",
    "            fee = 450\n",
    "        elif age < 20: \n",
    "            fee = 720\n",
    "        elif age < 75:\n",
    "            fee = 1200\n",
    "    else :\n",
    "        print('올바른 지불방법을 입력하세요')\n",
    "else:\n",
    "    print('올바른 나이를 입력하세요')\n",
    "print(f\"나이: {age}세\")\n",
    "print(f\"지불방법: {ways}\")\n",
    "print(f\"버스요금: {fee}원\")"
   ]
  },
  {
   "cell_type": "code",
   "execution_count": null,
   "id": "0c14b1b7",
   "metadata": {},
   "outputs": [],
   "source": []
  }
 ],
 "metadata": {
  "kernelspec": {
   "display_name": "Python 3.10.5 ('lab')",
   "language": "python",
   "name": "python3"
  },
  "language_info": {
   "codemirror_mode": {
    "name": "ipython",
    "version": 3
   },
   "file_extension": ".py",
   "mimetype": "text/x-python",
   "name": "python",
   "nbconvert_exporter": "python",
   "pygments_lexer": "ipython3",
   "version": "3.10.5"
  },
  "vscode": {
   "interpreter": {
    "hash": "9132612d292018844046efb7d61620c385772bf99f2e53a3f7e93381535a3719"
   }
  }
 },
 "nbformat": 4,
 "nbformat_minor": 5
}
