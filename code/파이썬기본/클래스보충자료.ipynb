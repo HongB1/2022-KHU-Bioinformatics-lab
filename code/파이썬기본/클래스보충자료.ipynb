{
 "cells": [
  {
   "cell_type": "markdown",
   "metadata": {},
   "source": [
    "# Chapter03. 파이썬 데이터 모델 : Special Method(Magic Method)\n",
    "- 파이썬의 핵심 : 시퀀스(Sequence), 반복(Iterator), 함수(Functions), 클래스(Class)\n",
    "## 1-1. 매직 메소드"
   ]
  },
  {
   "cell_type": "code",
   "execution_count": 8,
   "metadata": {},
   "outputs": [
    {
     "name": "stdout",
     "output_type": "stream",
     "text": [
      "10\n",
      "<class 'int'>\n",
      "<class 'float'>\n",
      "['__abs__', '__add__', '__and__', '__bool__', '__ceil__', '__class__', '__delattr__', '__dir__', '__divmod__', '__doc__', '__eq__', '__float__', '__floor__', '__floordiv__', '__format__', '__ge__', '__getattribute__', '__getnewargs__', '__gt__', '__hash__', '__index__', '__init__', '__init_subclass__', '__int__', '__invert__', '__le__', '__lshift__', '__lt__', '__mod__', '__mul__', '__ne__', '__neg__', '__new__', '__or__', '__pos__', '__pow__', '__radd__', '__rand__', '__rdivmod__', '__reduce__', '__reduce_ex__', '__repr__', '__rfloordiv__', '__rlshift__', '__rmod__', '__rmul__', '__ror__', '__round__', '__rpow__', '__rrshift__', '__rshift__', '__rsub__', '__rtruediv__', '__rxor__', '__setattr__', '__sizeof__', '__str__', '__sub__', '__subclasshook__', '__truediv__', '__trunc__', '__xor__', 'as_integer_ratio', 'bit_length', 'conjugate', 'denominator', 'from_bytes', 'imag', 'numerator', 'real', 'to_bytes']\n",
      "['__abs__', '__add__', '__bool__', '__ceil__', '__class__', '__delattr__', '__dir__', '__divmod__', '__doc__', '__eq__', '__float__', '__floor__', '__floordiv__', '__format__', '__ge__', '__getattribute__', '__getformat__', '__getnewargs__', '__gt__', '__hash__', '__init__', '__init_subclass__', '__int__', '__le__', '__lt__', '__mod__', '__mul__', '__ne__', '__neg__', '__new__', '__pos__', '__pow__', '__radd__', '__rdivmod__', '__reduce__', '__reduce_ex__', '__repr__', '__rfloordiv__', '__rmod__', '__rmul__', '__round__', '__rpow__', '__rsub__', '__rtruediv__', '__setattr__', '__setformat__', '__sizeof__', '__str__', '__sub__', '__subclasshook__', '__truediv__', '__trunc__', 'as_integer_ratio', 'conjugate', 'fromhex', 'hex', 'imag', 'is_integer', 'real']\n"
     ]
    }
   ],
   "source": [
    "# Chapter03-02\n",
    "# Special Method(Magic Method)\n",
    "# 파이썬의 핵심 -> 시퀀스(Sequence), 반복(Iterator), 함수(Functions), 클래스(Class)\n",
    "# 클래스 안에 정의할 수 있는 특별한(Built-in) 메소드\n",
    "\n",
    "# 기본형\n",
    "print(int(10))\n",
    "print(int) # 생각하지 않고 사용하던 모든 데이터타입은 class임\n",
    "print(float)\n",
    "\n",
    "# 이런 자료형들은 모두 클래스임 !!!!\n",
    "# 모든 속성 및 메소드 출력\n",
    "print(dir(int))\n",
    "print(dir(float))\n"
   ]
  },
  {
   "cell_type": "code",
   "execution_count": 9,
   "metadata": {},
   "outputs": [
    {
     "name": "stdout",
     "output_type": "stream",
     "text": [
      "<class 'int'>\n"
     ]
    }
   ],
   "source": [
    "n = 10\n",
    "print(type(n))"
   ]
  },
  {
   "cell_type": "code",
   "execution_count": 10,
   "metadata": {},
   "outputs": [
    {
     "name": "stdout",
     "output_type": "stream",
     "text": [
      "110\n",
      "110\n",
      "True True\n",
      "1000 1000\n"
     ]
    }
   ],
   "source": [
    "print(n + 100) # => 이건 내부적으로 __add__() 메소드가 호출된 것임. 따라서 아래처럼 해도 똑같음\n",
    "print(n.__add__(100))\n",
    "# print(n.__doc__)\n",
    "print(n.__bool__(), bool(n)) # 0이면 False가 나올텐데 10이기 때문에 True가 나옴\n",
    "print(n * 100, n.__mul__(100))"
   ]
  },
  {
   "cell_type": "markdown",
   "metadata": {},
   "source": [
    "# Chapter03. 매직 메소드 (1-2)"
   ]
  },
  {
   "cell_type": "code",
   "execution_count": 11,
   "metadata": {},
   "outputs": [],
   "source": [
    "# 클래스 예제1\n",
    "class Fruit:\n",
    "    \"\"\"\n",
    "    Fruit Class 예제 만들기\n",
    "    Author : Kim\n",
    "    Date : 2022.09.02\n",
    "    Description : Class, Static, Instance Method\n",
    "    \"\"\"\n",
    "    def __init__(self, name, price):\n",
    "        self._name = name\n",
    "        self._price = price\n",
    "\n",
    "    def __str__(self): # !str method는 꼭 구현 해주기!!\n",
    "        return 'Fruit Class Info : {}, {}'.format(self._name, self._price)\n",
    "\n",
    "    def __add__(self, x): # ! 중급으로 가려면 반드시 알아야 됨. # 클래스끼리 값을 더하는데, \n",
    "        print('called >> __add__, ', 'x._price : {}'.format(x._price))\n",
    "        # return (self._price + x._price) * 0.8 # class 기반으로 \n",
    "        return self._price + x._price\n",
    "\n",
    "    def __sub__(self, x):\n",
    "        return self._price - x._price"
   ]
  },
  {
   "cell_type": "code",
   "execution_count": 12,
   "metadata": {},
   "outputs": [],
   "source": [
    "# 인스턴스 생성\n",
    "s1 = Fruit('Orange', 7500)\n",
    "s2 = Fruit('Banana', 3000)"
   ]
  },
  {
   "cell_type": "code",
   "execution_count": 19,
   "metadata": {},
   "outputs": [
    {
     "name": "stdout",
     "output_type": "stream",
     "text": [
      "10500\n",
      "called >> __add__,  x._price : 3000\n"
     ]
    },
    {
     "data": {
      "text/plain": [
       "10500"
      ]
     },
     "execution_count": 19,
     "metadata": {},
     "output_type": "execute_result"
    }
   ],
   "source": [
    "# 개구린 계산 : 이렇게 접근하는 건 좋지 않고, 코드 양도 엄청 늘어나고 가독성도 떨어짐.\n",
    "# 일반적인 계산\n",
    "print(s1._price + s2._price)\n",
    "# add 메소드 구현을 통해 기가막힌 클래스를 사용한 계산 : 미리 만들어둔 인스턴스 메소드를 이용한다.\n",
    "s1.__add__(s2)"
   ]
  },
  {
   "cell_type": "code",
   "execution_count": 20,
   "metadata": {},
   "outputs": [],
   "source": [
    "# 클래스 예제1\n",
    "class Fruit:\n",
    "    \"\"\"\n",
    "    Fruit Class 예제 만들기\n",
    "    Author : Kim\n",
    "    Date : 2022.09.02\n",
    "    Description : Class, Static, Instance Method\n",
    "    \"\"\"\n",
    "    def __init__(self, name, price):\n",
    "        self._name = name\n",
    "        self._price = price\n",
    "\n",
    "    def __str__(self): # !str method는 꼭 구현 해주기!!\n",
    "        return 'Fruit Class Info : {}, {}'.format(self._name, self._price)\n",
    "\n",
    "    def __add__(self, x): # ! 중급으로 가려면 반드시 알아야 됨. # 클래스끼리 값을 더하는데, \n",
    "        print('called >> __add__, ', 'x._price : {}'.format(x._price))\n",
    "        return (self._price + x._price) * 0.8 # class 기반으로 \n",
    "\n",
    "    def __sub__(self, x):\n",
    "        print('Called >> __sub__')\n",
    "        return self._price - x._price\n",
    "\n",
    "    def __le__(self, x):\n",
    "        print('Called >> __le__')\n",
    "        if self._price <= x._price:\n",
    "            return True\n",
    "        else:\n",
    "            return False\n",
    "\n",
    "    def __ge__(self, x):\n",
    "        print('Called >> __ge__')\n",
    "        if self._price >= x._price:\n",
    "            return True\n",
    "        else:\n",
    "            return False"
   ]
  },
  {
   "cell_type": "code",
   "execution_count": 22,
   "metadata": {},
   "outputs": [
    {
     "name": "stdout",
     "output_type": "stream",
     "text": [
      "4500\n",
      "-4500\n",
      "Fruit Class Info : Orange, 7500\n",
      "Fruit Class Info : Banana, 3000\n"
     ]
    }
   ],
   "source": [
    "# 매직메소드\n",
    "# print(s1 >= s2)\n",
    "# print(s1 <= s2)\n",
    "print(s1 - s2)\n",
    "print(s2 - s1)\n",
    "print(s1) # str method \n",
    "print(s2) # str method "
   ]
  },
  {
   "cell_type": "markdown",
   "metadata": {},
   "source": [
    "# Chapter03. 매직 메소드 (2-1)\n",
    "난이도가 있지만 단순한 클래스를 만들고 코딩을 진행한다."
   ]
  },
  {
   "cell_type": "code",
   "execution_count": 23,
   "metadata": {},
   "outputs": [],
   "source": [
    "# 클래스 예제2\n",
    "# (5,2) + (4,3) = (9,5)\n",
    "# (10,3) * 5 = (50,15)\n",
    "# Max((5,10)) = 10\n",
    "\n",
    "class Vector(object):\n",
    "    '''^^*'''\n",
    "    def __init__(self, *args): # ! *args 언패킹을 해주기 -> 세련된 방법. 잘 만든 소스보기\n",
    "        '''\n",
    "        Create a vector, example : v = Vector(5, 10)\n",
    "        '''\n",
    "        if len(args) == 0: # 항상 예외처리를 고려해주어야 함\n",
    "            self._x, self._y = 0, 0\n",
    "        else:\n",
    "            self._x, self._y = args\n",
    "\n",
    "    def __repr__(self):\n",
    "        '''Return the information of the vector'''\n",
    "        # return 'Vector({},{})'.format(self._x, self._y)\n",
    "        return 'Vector(%r, %r)' % (self._x, self._y) \n",
    "        # %r : 객체표현으로 출력해줌 raw string\n",
    "\n",
    "    def __add__(self, other):\n",
    "        '''Return the vector addition of self and other'''\n",
    "        return Vector(self._x + other._x, self._y + other._y) # other은 다른 인스턴스\n",
    "\n",
    "    def __mul__(self, scalar):\n",
    "        '''Return the vector multiplication of self and scalar'''\n",
    "        return Vector(self._x * scalar, self._y * scalar)\n",
    "\n",
    "    def __bool__(self): # (0, 0)인지를 확인하는 메소드\n",
    "        return bool(max(self._x, self._y))\n"
   ]
  },
  {
   "cell_type": "code",
   "execution_count": 24,
   "metadata": {},
   "outputs": [
    {
     "name": "stdout",
     "output_type": "stream",
     "text": [
      "^^*\n",
      "\n",
      "        Create a vector, example : v = Vector(5, 10)\n",
      "        \n",
      "Return the information of the vector\n",
      "Return the vector addition of self and other\n",
      "Return the vector multiplication of self and scalar\n"
     ]
    }
   ],
   "source": [
    "print(Vector.__doc__)\n",
    "print(Vector.__init__.__doc__)\n",
    "print(Vector.__repr__.__doc__)\n",
    "print(Vector.__add__.__doc__)\n",
    "print(Vector.__mul__.__doc__)"
   ]
  },
  {
   "cell_type": "code",
   "execution_count": 25,
   "metadata": {},
   "outputs": [],
   "source": [
    "# Vector 인스턴스 생성\n",
    "v1 = Vector(5,7)\n",
    "v2 = Vector(23,35)\n",
    "v3 = Vector() # if len(args) == 0: self._x, self._y = 0, 0 코드가 없었으면 에러가 떴을 것임."
   ]
  },
  {
   "cell_type": "code",
   "execution_count": 26,
   "metadata": {},
   "outputs": [
    {
     "name": "stdout",
     "output_type": "stream",
     "text": [
      "Vector(5, 7) Vector(23, 35) Vector(0, 0)\n",
      "Vector(28, 42)\n",
      "Vector(15, 21)\n",
      "Vector(230, 350)\n",
      "True True\n",
      "False\n"
     ]
    }
   ],
   "source": [
    "print(v1, v2, v3)\n",
    "print(v1 + v2)\n",
    "print(v1 * 3)\n",
    "print(v2 * 10)\n",
    "print(bool(v1), bool(v2))\n",
    "print(bool(v3))"
   ]
  },
  {
   "cell_type": "markdown",
   "metadata": {},
   "source": [
    "# Chapter 3. 파이썬 데이터 모델 - 매직 메소드(3-1)"
   ]
  },
  {
   "cell_type": "code",
   "execution_count": 27,
   "metadata": {},
   "outputs": [
    {
     "name": "stdout",
     "output_type": "stream",
     "text": [
      "14.5\n"
     ]
    }
   ],
   "source": [
    "# 두 점을 정의하고, 두 점 사이의 거리 구하기(1) - 일반적인 튜플의 사용\n",
    "pt1 = (1.0, 5.0)\n",
    "pt2 = (2.5, 1.5)\n",
    "\n",
    "from math import sqrt # sqrt : 루트 씌워주는 함수\n",
    "l_leng1 = (pt1[0] - pt2[0]) ** 2 + (pt1[1] - pt2[1]) ** 2\n",
    "print(l_leng1)"
   ]
  },
  {
   "cell_type": "markdown",
   "metadata": {},
   "source": [
    "#### What is namedtuple in Python?\n",
    "The NamedTuple is **another class**, **under the collections module**. Like the dictionary type objects, it contains **keys and** that are mapped to some **values**. In this case **we can access the elements using keys and indexes**. To use it at first we need to import it the collections standard library module.  \n",
    "-> index로도 key로도 접근 가능"
   ]
  },
  {
   "cell_type": "code",
   "execution_count": 28,
   "metadata": {},
   "outputs": [],
   "source": [
    "# 네임드 튜플 사용\n",
    "from collections import namedtuple\n",
    "Point = namedtuple('Point', 'x y')"
   ]
  },
  {
   "cell_type": "code",
   "execution_count": 29,
   "metadata": {},
   "outputs": [],
   "source": [
    "pt3 = Point(1.0, 5.0)\n",
    "pt4 = Point(2.5, 1.5)"
   ]
  },
  {
   "cell_type": "code",
   "execution_count": 30,
   "metadata": {},
   "outputs": [
    {
     "name": "stdout",
     "output_type": "stream",
     "text": [
      "Point(x=1.0, y=5.0)\n",
      "Point(x=2.5, y=1.5)\n",
      "1.0\n",
      "5.0\n",
      "1.0\n",
      "5.0\n"
     ]
    }
   ],
   "source": [
    "print(pt3); print(pt4)\n",
    "print(pt3[0]); print(pt3[1]) # 인덱스로 접근 가능\n",
    "print(pt3.x); print(pt3.y) # key로 접근 가능"
   ]
  },
  {
   "cell_type": "code",
   "execution_count": 31,
   "metadata": {},
   "outputs": [
    {
     "name": "stdout",
     "output_type": "stream",
     "text": [
      "Point(x=1.0, y=5.0)\n",
      "Point(x=2.5, y=1.5)\n",
      "1.0\n",
      "5.0\n",
      "1.0\n",
      "5.0\n"
     ]
    }
   ],
   "source": [
    "# 두 점을 정의하고, 두 점 사이의 거리 구하기(2) - namedtuple 사용\n",
    "## namedtuple 정의\n",
    "from collections import namedtuple\n",
    "Point = namedtuple('Point', 'x y')\n",
    "\n",
    "## 두 점 정의\n",
    "pt3 = Point(1.0, 5.0)\n",
    "pt4 = Point(2.5, 1.5)\n",
    "\n",
    "## print로 출력해보기, 인덱스와 key로 접근하여 namedtuple의 values 출력하기\n",
    "print(pt3); print(pt4)\n",
    "print(pt3[0]); print(pt3[1]) # 인덱스로 접근 가능\n",
    "print(pt3.x); print(pt3.y) # ㅑkey로 접근 가능\n",
    "\n",
    "## 두 점사이의 거리 구하기\n",
    "l_leng2 = sqrt((pt3.x - pt4.x) ** 2 + (pt3.y - pt4.y) ** 2) # namedtuple은 인덱스 뿐만 아니라 !key!로도 접근할 수 있음 = 유사 딕셔너리"
   ]
  },
  {
   "cell_type": "code",
   "execution_count": 32,
   "metadata": {},
   "outputs": [],
   "source": [
    "# namedtuple 선언 방법 - 총 4가지\n",
    "## 1. 리스트로 \n",
    "Point1 = namedtuple('Point', ['x', 'y'])\n",
    "\n",
    "## 2. , 따옴표로 구분하기 \n",
    "Point2 = namedtuple('Point', 'x, y')\n",
    "\n",
    "## 3. 띄어쓰기로 구분하기\n",
    "Point3 = namedtuple('Point', 'x y')\n",
    "\n",
    "## 4. \n",
    "# Point4 = namedtuple('Point', 'x y x class') ### class는 예약어여서 에러가남남\n",
    "Point4 = namedtuple('Point', 'x y x class', rename=True) # Default = False\n"
   ]
  },
  {
   "cell_type": "code",
   "execution_count": 33,
   "metadata": {},
   "outputs": [
    {
     "name": "stdout",
     "output_type": "stream",
     "text": [
      "<class '__main__.Point'> <class '__main__.Point'> <class '__main__.Point'> <class '__main__.Point'>\n"
     ]
    }
   ],
   "source": [
    "print(Point1, Point2, Point3, Point4)"
   ]
  },
  {
   "cell_type": "code",
   "execution_count": 34,
   "metadata": {},
   "outputs": [],
   "source": [
    "p1 = Point1(x=10, y=35)\n",
    "p2 = Point2(20, 40)\n",
    "p3 = Point3(45, y=20)\n",
    "# p4 = Point4(10, 20, 30) ## 이러면 에러남?\n",
    "p4 = Point4(10, 20, 30, 40)"
   ]
  },
  {
   "cell_type": "code",
   "execution_count": 35,
   "metadata": {},
   "outputs": [
    {
     "name": "stdout",
     "output_type": "stream",
     "text": [
      "Point(x=10, y=35)\n",
      "Point(x=20, y=40)\n",
      "Point(x=45, y=20)\n",
      "Point(x=10, y=20, _2=30, _3=40)\n"
     ]
    }
   ],
   "source": [
    "# namedtuple 출력해보기\n",
    "print(p1); print(p2); print(p3); \n",
    "\n",
    "# rename=True로 설정을 하니,  중복되는 값(x)과 예약어(class)에 대하여 _2와 _3로 난수로 저절로 할당됨. => 자주 쓰이진 않음\n",
    "print(p4) "
   ]
  },
  {
   "cell_type": "markdown",
   "metadata": {},
   "source": [
    "### Namedtuple을 이용하여 Unpacking해보기\n",
    "#### 1. Dict to Unpacking"
   ]
  },
  {
   "cell_type": "code",
   "execution_count": 36,
   "metadata": {},
   "outputs": [
    {
     "name": "stdout",
     "output_type": "stream",
     "text": [
      "Point(x=10, y=35)\n",
      "Point(x=75, y=55)\n",
      "85\n",
      "65\n"
     ]
    }
   ],
   "source": [
    "# Dict to Unpacking(1)\n",
    "temp_dict = {'x' : 75, 'y' : 55}\n",
    "p5 = Point3(**temp_dict) # 별표 : 튜플은 한개, 딕셔너리는 두개\n",
    "\n",
    "print(p1); print(p5)\n",
    "print(p1[0] + p5[0])\n",
    "print(p1.x + p5.y)"
   ]
  },
  {
   "cell_type": "code",
   "execution_count": 37,
   "metadata": {},
   "outputs": [
    {
     "name": "stdout",
     "output_type": "stream",
     "text": [
      "45 20\n",
      "20 40\n"
     ]
    }
   ],
   "source": [
    "# 또 다른 Unpacking 방법(2)\n",
    "x, y = p3\n",
    "print(x, y)\n",
    "\n",
    "x, y = p2\n",
    "print(x, y)"
   ]
  },
  {
   "cell_type": "markdown",
   "metadata": {},
   "source": [
    "### Namedtuple을 이용하여 Unpacking해보기\n",
    "#### 1. ```_make()``` : 새로운 인스턴스 객체를 생성하는 네임드튜플의 매직메서드이다. 마치 클래스메서드 사용하는 것과 유사함\n",
    "#### 2. ```_fields()```\n",
    "#### 3. ```_asdict()```"
   ]
  },
  {
   "cell_type": "code",
   "execution_count": 38,
   "metadata": {},
   "outputs": [
    {
     "name": "stdout",
     "output_type": "stream",
     "text": [
      "Point(x=52, y=38)\n"
     ]
    }
   ],
   "source": [
    "# 네임드 튜플 메소드\n",
    "temp = [52, 38] \n",
    "\n",
    "# _make() : 새로운 객체 생성\n",
    "p4 = Point1._make(temp)\n",
    "print(p4)\n",
    "\n",
    "# 네임드 튜플 메소드\n",
    "# temp = [52, 38, 0]  # 값이 세개면 에러뜸 정확하게 키밸류 개수와 일치해야 함 => 엄격한 코딩이 가능"
   ]
  },
  {
   "cell_type": "code",
   "execution_count": 39,
   "metadata": {},
   "outputs": [
    {
     "name": "stdout",
     "output_type": "stream",
     "text": [
      "('x', 'y') ('x', 'y') ('x', 'y')\n",
      "{'x': 10, 'y': 35}\n",
      "{'x': 52, 'y': 38}\n"
     ]
    }
   ],
   "source": [
    "# _fields : 필드 네임 확인 => 딕셔너리에서 키값만 조회할 때 사용함\n",
    "print(p1._fields, p2._fields, p3._fields)\n",
    "\n",
    "# 중요!! _asdict() : OrderedDict 정렬된 딕셔너리를 반환함 (원래 딕셔너리는 정렬하지 않음)\n",
    "## namedtuple을 Dictionary로 변환하는 것임\n",
    "print(p1._asdict())\n",
    "print(p4._asdict())"
   ]
  },
  {
   "cell_type": "markdown",
   "metadata": {},
   "source": [
    "### 실 사용 실습\n",
    "반에 20명의 학생, 4개의 반(A, B, C, D) B14 D18"
   ]
  },
  {
   "cell_type": "code",
   "execution_count": 40,
   "metadata": {},
   "outputs": [
    {
     "name": "stdout",
     "output_type": "stream",
     "text": [
      "['1', '2', '3', '4', '5', '6', '7', '8', '9', '10', '11', '12', '13', '14', '15', '16', '17', '18', '19', '20']\n",
      "['A', 'B', 'C', 'D']\n"
     ]
    }
   ],
   "source": [
    "# namedtuple 선언\n",
    "Classes = namedtuple('Classes', ['rank', 'number'])\n",
    "\n",
    "# 그룹 리스트 선언\n",
    "numbers = [str(n) for n in range(1, 21)]\n",
    "ranks = 'A B C D'.split()\n",
    "print(numbers)\n",
    "print(ranks)"
   ]
  },
  {
   "cell_type": "code",
   "execution_count": 70,
   "metadata": {},
   "outputs": [
    {
     "name": "stdout",
     "output_type": "stream",
     "text": [
      "80\n",
      "--------------------------------------------------------------------------------------------------------------------------------------------------------------------------------------------------------\n",
      "[Classes(rank='A', number='1'), Classes(rank='A', number='2'), Classes(rank='A', number='3'), Classes(rank='A', number='4'), Classes(rank='A', number='5'), Classes(rank='A', number='6'), Classes(rank='A', number='7'), Classes(rank='A', number='8'), Classes(rank='A', number='9'), Classes(rank='A', number='10'), Classes(rank='A', number='11'), Classes(rank='A', number='12'), Classes(rank='A', number='13'), Classes(rank='A', number='14'), Classes(rank='A', number='15'), Classes(rank='A', number='16'), Classes(rank='A', number='17'), Classes(rank='A', number='18'), Classes(rank='A', number='19'), Classes(rank='A', number='20'), Classes(rank='B', number='1'), Classes(rank='B', number='2'), Classes(rank='B', number='3'), Classes(rank='B', number='4'), Classes(rank='B', number='5'), Classes(rank='B', number='6'), Classes(rank='B', number='7'), Classes(rank='B', number='8'), Classes(rank='B', number='9'), Classes(rank='B', number='10'), Classes(rank='B', number='11'), Classes(rank='B', number='12'), Classes(rank='B', number='13'), Classes(rank='B', number='14'), Classes(rank='B', number='15'), Classes(rank='B', number='16'), Classes(rank='B', number='17'), Classes(rank='B', number='18'), Classes(rank='B', number='19'), Classes(rank='B', number='20'), Classes(rank='C', number='1'), Classes(rank='C', number='2'), Classes(rank='C', number='3'), Classes(rank='C', number='4'), Classes(rank='C', number='5'), Classes(rank='C', number='6'), Classes(rank='C', number='7'), Classes(rank='C', number='8'), Classes(rank='C', number='9'), Classes(rank='C', number='10'), Classes(rank='C', number='11'), Classes(rank='C', number='12'), Classes(rank='C', number='13'), Classes(rank='C', number='14'), Classes(rank='C', number='15'), Classes(rank='C', number='16'), Classes(rank='C', number='17'), Classes(rank='C', number='18'), Classes(rank='C', number='19'), Classes(rank='C', number='20'), Classes(rank='D', number='1'), Classes(rank='D', number='2'), Classes(rank='D', number='3'), Classes(rank='D', number='4'), Classes(rank='D', number='5'), Classes(rank='D', number='6'), Classes(rank='D', number='7'), Classes(rank='D', number='8'), Classes(rank='D', number='9'), Classes(rank='D', number='10'), Classes(rank='D', number='11'), Classes(rank='D', number='12'), Classes(rank='D', number='13'), Classes(rank='D', number='14'), Classes(rank='D', number='15'), Classes(rank='D', number='16'), Classes(rank='D', number='17'), Classes(rank='D', number='18'), Classes(rank='D', number='19'), Classes(rank='D', number='20')]\n"
     ]
    }
   ],
   "source": [
    "# List Comprehension\n",
    "students1 = [Classes(rank, number) for rank in ranks for number in numbers]\n",
    "print(len(students1))\n",
    "print('--'*100)\n",
    "print(students1)"
   ]
  },
  {
   "cell_type": "code",
   "execution_count": 71,
   "metadata": {},
   "outputs": [
    {
     "name": "stdout",
     "output_type": "stream",
     "text": [
      "Classes(rank='A', number=1)\n",
      "Classes(rank='A', number=2)\n",
      "Classes(rank='A', number=3)\n",
      "Classes(rank='A', number=4)\n",
      "Classes(rank='A', number=5)\n",
      "Classes(rank='A', number=6)\n",
      "Classes(rank='A', number=7)\n",
      "Classes(rank='A', number=8)\n",
      "Classes(rank='A', number=9)\n",
      "Classes(rank='A', number=10)\n",
      "Classes(rank='A', number=11)\n",
      "Classes(rank='A', number=12)\n",
      "Classes(rank='A', number=13)\n",
      "Classes(rank='A', number=14)\n",
      "Classes(rank='A', number=15)\n",
      "Classes(rank='A', number=16)\n",
      "Classes(rank='A', number=17)\n",
      "Classes(rank='A', number=18)\n",
      "Classes(rank='A', number=19)\n",
      "Classes(rank='A', number=20)\n",
      "Classes(rank='B', number=1)\n",
      "Classes(rank='B', number=2)\n",
      "Classes(rank='B', number=3)\n",
      "Classes(rank='B', number=4)\n",
      "Classes(rank='B', number=5)\n",
      "Classes(rank='B', number=6)\n",
      "Classes(rank='B', number=7)\n",
      "Classes(rank='B', number=8)\n",
      "Classes(rank='B', number=9)\n",
      "Classes(rank='B', number=10)\n",
      "Classes(rank='B', number=11)\n",
      "Classes(rank='B', number=12)\n",
      "Classes(rank='B', number=13)\n",
      "Classes(rank='B', number=14)\n",
      "Classes(rank='B', number=15)\n",
      "Classes(rank='B', number=16)\n",
      "Classes(rank='B', number=17)\n",
      "Classes(rank='B', number=18)\n",
      "Classes(rank='B', number=19)\n",
      "Classes(rank='B', number=20)\n",
      "Classes(rank='C', number=1)\n",
      "Classes(rank='C', number=2)\n",
      "Classes(rank='C', number=3)\n",
      "Classes(rank='C', number=4)\n",
      "Classes(rank='C', number=5)\n",
      "Classes(rank='C', number=6)\n",
      "Classes(rank='C', number=7)\n",
      "Classes(rank='C', number=8)\n",
      "Classes(rank='C', number=9)\n",
      "Classes(rank='C', number=10)\n",
      "Classes(rank='C', number=11)\n",
      "Classes(rank='C', number=12)\n",
      "Classes(rank='C', number=13)\n",
      "Classes(rank='C', number=14)\n",
      "Classes(rank='C', number=15)\n",
      "Classes(rank='C', number=16)\n",
      "Classes(rank='C', number=17)\n",
      "Classes(rank='C', number=18)\n",
      "Classes(rank='C', number=19)\n",
      "Classes(rank='C', number=20)\n",
      "Classes(rank='D', number=1)\n",
      "Classes(rank='D', number=2)\n",
      "Classes(rank='D', number=3)\n",
      "Classes(rank='D', number=4)\n",
      "Classes(rank='D', number=5)\n",
      "Classes(rank='D', number=6)\n",
      "Classes(rank='D', number=7)\n",
      "Classes(rank='D', number=8)\n",
      "Classes(rank='D', number=9)\n",
      "Classes(rank='D', number=10)\n",
      "Classes(rank='D', number=11)\n",
      "Classes(rank='D', number=12)\n",
      "Classes(rank='D', number=13)\n",
      "Classes(rank='D', number=14)\n",
      "Classes(rank='D', number=15)\n",
      "Classes(rank='D', number=16)\n",
      "Classes(rank='D', number=17)\n",
      "Classes(rank='D', number=18)\n",
      "Classes(rank='D', number=19)\n",
      "Classes(rank='D', number=20)\n"
     ]
    }
   ],
   "source": [
    "# 추천 \n",
    "import numpy as np\n",
    "\n",
    "students2 = [\n",
    "    Classes(rank, number)\n",
    "    for rank in 'A B C D'.split()\n",
    "        for number in np.arange(1, 21, 1) \n",
    "        # for number in [str(n)\n",
    "        #     for n in range(1, 21)]\n",
    "]\n",
    "\n",
    "# 출력\n",
    "for s in students2:\n",
    "    print(s)"
   ]
  },
  {
   "cell_type": "code",
   "execution_count": 77,
   "metadata": {},
   "outputs": [
    {
     "name": "stdout",
     "output_type": "stream",
     "text": [
      "PairAlleleLength(allele='HLA-A', length='9')\n",
      "PairAlleleLength(allele='HLA-A', length='10')\n",
      "PairAlleleLength(allele='HLA-B', length='9')\n",
      "PairAlleleLength(allele='HLA-B', length='10')\n",
      "PairAlleleLength(allele='HLA-C', length='9')\n",
      "PairAlleleLength(allele='HLA-C', length='10')\n",
      "HLA-A\n",
      "9\n",
      "<class '__main__.PairAlleleLength'>\n"
     ]
    }
   ],
   "source": [
    "allele_list = 'HLA-A, HLA-B, HLA-C'.split(', ')\n",
    "length_list = '9,10'.split(',')\n",
    "\n",
    "Pairs = namedtuple('PairAlleleLength', ['allele', 'length'])\n",
    "all_pair = [\n",
    "    Pairs(allele, length)\n",
    "    for allele in allele_list  \n",
    "        for length in length_list    \n",
    "]\n",
    "for pair in all_pair:\n",
    "    print(pair)\n",
    "print(all_pair[0].allele); print(all_pair[0].length)\n",
    "print(type(all_pair[0]))"
   ]
  },
  {
   "cell_type": "code",
   "execution_count": null,
   "metadata": {},
   "outputs": [],
   "source": []
  }
 ],
 "metadata": {
  "kernelspec": {
   "display_name": "Python 3.9.1 64-bit ('3.9.1')",
   "language": "python",
   "name": "python3"
  },
  "language_info": {
   "codemirror_mode": {
    "name": "ipython",
    "version": 3
   },
   "file_extension": ".py",
   "mimetype": "text/x-python",
   "name": "python",
   "nbconvert_exporter": "python",
   "pygments_lexer": "ipython3",
   "version": "3.9.1"
  },
  "orig_nbformat": 4,
  "vscode": {
   "interpreter": {
    "hash": "1688da3634d91066dd3ff12b743053dfee9eea8177f464778dec1bcb0ebd64e6"
   }
  }
 },
 "nbformat": 4,
 "nbformat_minor": 2
}
