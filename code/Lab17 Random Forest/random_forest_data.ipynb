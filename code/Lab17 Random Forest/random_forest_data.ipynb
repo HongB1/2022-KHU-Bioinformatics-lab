{
 "cells": [
  {
   "cell_type": "code",
   "execution_count": null,
   "metadata": {
    "colab": {
     "base_uri": "https://localhost:8080/"
    },
    "executionInfo": {
     "elapsed": 17762,
     "status": "ok",
     "timestamp": 1604548953497,
     "user": {
      "displayName": "‍현재웅[학생](대학원 나노의약생명과학과)",
      "photoUrl": "",
      "userId": "08836768679683502374"
     },
     "user_tz": -540
    },
    "id": "ACw8bhKXKkjF",
    "outputId": "9a82e898-4c2e-48f4-9d05-9c5d14219337"
   },
   "outputs": [],
   "source": [
    "from google.colab import drive\n",
    "drive.mount('/content/drive')"
   ]
  },
  {
   "cell_type": "code",
   "execution_count": null,
   "metadata": {
    "executionInfo": {
     "elapsed": 536,
     "status": "ok",
     "timestamp": 1604548954924,
     "user": {
      "displayName": "‍현재웅[학생](대학원 나노의약생명과학과)",
      "photoUrl": "",
      "userId": "08836768679683502374"
     },
     "user_tz": -540
    },
    "id": "g6yg8vidKlXc"
   },
   "outputs": [],
   "source": [
    "import pandas as pd"
   ]
  },
  {
   "cell_type": "code",
   "execution_count": null,
   "metadata": {
    "executionInfo": {
     "elapsed": 1586,
     "status": "ok",
     "timestamp": 1604548956862,
     "user": {
      "displayName": "‍현재웅[학생](대학원 나노의약생명과학과)",
      "photoUrl": "",
      "userId": "08836768679683502374"
     },
     "user_tz": -540
    },
    "id": "8YWFr9xZKuWD"
   },
   "outputs": [],
   "source": [
    "## Data import\n",
    "repress = pd.read_table(\"/content/drive/My Drive/생물정보학 실습/3. Random forest/sorted.repressedEnhancer.EZH2.both0.50.intersect.wMergedHistones.gencode.v34lift37.annotation.bed\",header=None)\n",
    "active1 = pd.read_table(\"/content/drive/My Drive/생물정보학 실습/3. Random forest/sorted.activeEnhancer.EP300_1.both0.50.intersect.wMergedHistones.gencode.v34lift37.annotation.bed\",header=None)\n",
    "active2 = pd.read_table(\"/content/drive/My Drive/생물정보학 실습/3. Random forest/sorted.activeEnhancer.EP300_2.both0.50.intersect.wMergedHistones.gencode.v34lift37.annotation.bed\",header=None)"
   ]
  },
  {
   "cell_type": "code",
   "execution_count": null,
   "metadata": {},
   "outputs": [],
   "source": [
    "repress = pd.read_table(\"sorted.repressedEnhancer.EZH2.both0.50.intersect.wMergedHistones.gencode.v34lift37.annotation.bed\",header=None)\n",
    "active1 = pd.read_table(\"sorted.activeEnhancer.EP300_1.both0.50.intersect.wMergedHistones.gencode.v34lift37.annotation.bed\",header=None)\n",
    "active2 = pd.read_table(\"sorted.activeEnhancer.EP300_2.both0.50.intersect.wMergedHistones.gencode.v34lift37.annotation.bed\",header=None)"
   ]
  },
  {
   "cell_type": "code",
   "execution_count": null,
   "metadata": {
    "executionInfo": {
     "elapsed": 1251,
     "status": "ok",
     "timestamp": 1604548956862,
     "user": {
      "displayName": "‍현재웅[학생](대학원 나노의약생명과학과)",
      "photoUrl": "",
      "userId": "08836768679683502374"
     },
     "user_tz": -540
    },
    "id": "6BunyymUkocF"
   },
   "outputs": [],
   "source": [
    "## concatenate active1 and active2\n",
    "active = pd.concat((active1,active2))"
   ]
  },
  {
   "cell_type": "code",
   "execution_count": null,
   "metadata": {
    "colab": {
     "base_uri": "https://localhost:8080/",
     "height": 419
    },
    "executionInfo": {
     "elapsed": 892,
     "status": "ok",
     "timestamp": 1604548956863,
     "user": {
      "displayName": "‍현재웅[학생](대학원 나노의약생명과학과)",
      "photoUrl": "",
      "userId": "08836768679683502374"
     },
     "user_tz": -540
    },
    "id": "puPzXYBRkvxu",
    "outputId": "a4e30331-4f01-47af-8a54-3acdd6bffa54"
   },
   "outputs": [],
   "source": [
    "active"
   ]
  },
  {
   "cell_type": "code",
   "execution_count": null,
   "metadata": {
    "colab": {
     "base_uri": "https://localhost:8080/",
     "height": 204
    },
    "executionInfo": {
     "elapsed": 608,
     "status": "ok",
     "timestamp": 1604548961002,
     "user": {
      "displayName": "‍현재웅[학생](대학원 나노의약생명과학과)",
      "photoUrl": "",
      "userId": "08836768679683502374"
     },
     "user_tz": -540
    },
    "id": "OcxNwY-KMYdL",
    "outputId": "42519a5c-17eb-4e63-8dde-c38fcb54ed47"
   },
   "outputs": [],
   "source": [
    "repress.head()"
   ]
  },
  {
   "cell_type": "markdown",
   "metadata": {
    "id": "fgG_Et9uyga-"
   },
   "source": [
    "## column 정보"
   ]
  },
  {
   "cell_type": "markdown",
   "metadata": {
    "id": "-sMQp5w2Mj29"
   },
   "source": [
    "### represssor or active info\n",
    "    \"chrom\",\"chromStart\",\"chromEnd\",\"string name\",\"score\",\"strand\",\"signalValue\",\"pValue\",\"qValue\",\"peak\",  \n",
    "### Histone info\n",
    "    \"Histone\",\"Histone chrom\",\"HchromStart\",\"HchromEnd\",\"Hstring name\",\"Hscore\",\"Hstrand\",\"HsignalValue\",\"HpValue\",\"HqValue\",\"Hpeak\",\n",
    "### genecode info\n",
    "    \"seqname\", \"start\",\"end\",\"gene_id\",\"gene_name\",\"gene_type\",\"source\",\"remap_status\",\"distance with gene\""
   ]
  },
  {
   "cell_type": "code",
   "execution_count": null,
   "metadata": {
    "id": "xysdYqwUMeHz"
   },
   "outputs": [],
   "source": [
    "## 필요한 정보 : \"Histone\", \"HsignalValue\", \"seqname\", \"start\",\"end\", \"gene_name\", \"distance with gene\""
   ]
  },
  {
   "cell_type": "code",
   "execution_count": null,
   "metadata": {
    "colab": {
     "base_uri": "https://localhost:8080/",
     "height": 419
    },
    "executionInfo": {
     "elapsed": 469,
     "status": "ok",
     "timestamp": 1604548990148,
     "user": {
      "displayName": "‍현재웅[학생](대학원 나노의약생명과학과)",
      "photoUrl": "",
      "userId": "08836768679683502374"
     },
     "user_tz": -540
    },
    "id": "vTNnpwngVEIQ",
    "outputId": "9570eae4-5bd5-41fe-dc87-5b99c98daab0"
   },
   "outputs": [],
   "source": [
    "## repressive enhancer\n",
    "ezh2 = repress.loc[:,[10,17,21,22,23,25,29]]\n",
    "ezh2.columns = [\"Histone\", \"HsignalValue\", \"chr\",\"start\",\"end\",\"gene_name\", \"distance with gene\"]\n",
    "ezh2"
   ]
  },
  {
   "cell_type": "code",
   "execution_count": null,
   "metadata": {
    "executionInfo": {
     "elapsed": 377,
     "status": "ok",
     "timestamp": 1604548991069,
     "user": {
      "displayName": "‍현재웅[학생](대학원 나노의약생명과학과)",
      "photoUrl": "",
      "userId": "08836768679683502374"
     },
     "user_tz": -540
    },
    "id": "pS8EWjCmk8Ue"
   },
   "outputs": [],
   "source": [
    "## active enhancer\n",
    "ep300 = active.loc[:,[10,17,21,22,23,25,29]]\n",
    "ep300.columns =  [\"Histone\", \"HsignalValue\", \"chr\",\"start\",\"end\",\"gene_name\", \"distance with gene\"]"
   ]
  },
  {
   "cell_type": "code",
   "execution_count": null,
   "metadata": {
    "colab": {
     "base_uri": "https://localhost:8080/",
     "height": 419
    },
    "executionInfo": {
     "elapsed": 625,
     "status": "ok",
     "timestamp": 1604548991876,
     "user": {
      "displayName": "‍현재웅[학생](대학원 나노의약생명과학과)",
      "photoUrl": "",
      "userId": "08836768679683502374"
     },
     "user_tz": -540
    },
    "id": "5N5A3SULqdlh",
    "outputId": "73d8f301-5c7c-489a-d1bf-180b769762fc"
   },
   "outputs": [],
   "source": [
    "ep300"
   ]
  },
  {
   "cell_type": "code",
   "execution_count": null,
   "metadata": {
    "executionInfo": {
     "elapsed": 563,
     "status": "ok",
     "timestamp": 1604548992924,
     "user": {
      "displayName": "‍현재웅[학생](대학원 나노의약생명과학과)",
      "photoUrl": "",
      "userId": "08836768679683502374"
     },
     "user_tz": -540
    },
    "id": "Vx_jYodnVuEM"
   },
   "outputs": [],
   "source": [
    "\n",
    "# chrom + chromStart + chromEnd -> Pos (chr:####-####)\n",
    "# Histone.bed -> Histone\n",
    "# 동일한 gene에서 같은 종류의 histone이 발견되면 distance가 적은 걸로, distance가 같으면 HsignalValue가 큰 값을 남기기\n",
    "\n"
   ]
  },
  {
   "cell_type": "code",
   "execution_count": null,
   "metadata": {
    "executionInfo": {
     "elapsed": 558,
     "status": "ok",
     "timestamp": 1604548993190,
     "user": {
      "displayName": "‍현재웅[학생](대학원 나노의약생명과학과)",
      "photoUrl": "",
      "userId": "08836768679683502374"
     },
     "user_tz": -540
    },
    "id": "RejEZBL8q4Le"
   },
   "outputs": [],
   "source": []
  },
  {
   "cell_type": "code",
   "execution_count": null,
   "metadata": {
    "colab": {
     "base_uri": "https://localhost:8080/"
    },
    "executionInfo": {
     "elapsed": 5880,
     "status": "ok",
     "timestamp": 1604548998728,
     "user": {
      "displayName": "‍현재웅[학생](대학원 나노의약생명과학과)",
      "photoUrl": "",
      "userId": "08836768679683502374"
     },
     "user_tz": -540
    },
    "id": "FYFmuyYp2Y5K",
    "outputId": "0ce84eb8-0b66-4c3e-bdff-3ff154e59e4a"
   },
   "outputs": [],
   "source": []
  },
  {
   "cell_type": "code",
   "execution_count": null,
   "metadata": {
    "colab": {
     "base_uri": "https://localhost:8080/",
     "height": 419
    },
    "executionInfo": {
     "elapsed": 5664,
     "status": "ok",
     "timestamp": 1604548998729,
     "user": {
      "displayName": "‍현재웅[학생](대학원 나노의약생명과학과)",
      "photoUrl": "",
      "userId": "08836768679683502374"
     },
     "user_tz": -540
    },
    "id": "0PVWjv4OBnAF",
    "outputId": "dd663e1a-1db3-434c-9277-3b73eff0746b"
   },
   "outputs": [],
   "source": []
  },
  {
   "cell_type": "code",
   "execution_count": null,
   "metadata": {
    "colab": {
     "base_uri": "https://localhost:8080/",
     "height": 419
    },
    "executionInfo": {
     "elapsed": 5429,
     "status": "ok",
     "timestamp": 1604548998729,
     "user": {
      "displayName": "‍현재웅[학생](대학원 나노의약생명과학과)",
      "photoUrl": "",
      "userId": "08836768679683502374"
     },
     "user_tz": -540
    },
    "id": "FISoRi1EDutB",
    "outputId": "5ffbcfd3-e331-466e-f492-6a8eb63272bb"
   },
   "outputs": [],
   "source": []
  },
  {
   "cell_type": "code",
   "execution_count": null,
   "metadata": {
    "colab": {
     "base_uri": "https://localhost:8080/",
     "height": 419
    },
    "executionInfo": {
     "elapsed": 5185,
     "status": "ok",
     "timestamp": 1604548998730,
     "user": {
      "displayName": "‍현재웅[학생](대학원 나노의약생명과학과)",
      "photoUrl": "",
      "userId": "08836768679683502374"
     },
     "user_tz": -540
    },
    "id": "6HCwh1-1DvxC",
    "outputId": "fe585621-0ac4-4990-b62f-85fc31016d6e"
   },
   "outputs": [],
   "source": []
  },
  {
   "cell_type": "code",
   "execution_count": null,
   "metadata": {
    "colab": {
     "base_uri": "https://localhost:8080/",
     "height": 419
    },
    "executionInfo": {
     "elapsed": 4936,
     "status": "ok",
     "timestamp": 1604548998730,
     "user": {
      "displayName": "‍현재웅[학생](대학원 나노의약생명과학과)",
      "photoUrl": "",
      "userId": "08836768679683502374"
     },
     "user_tz": -540
    },
    "id": "k030Wh_5-uOT",
    "outputId": "783867bb-9926-4c5b-e7f4-050af32e9a94"
   },
   "outputs": [],
   "source": []
  },
  {
   "cell_type": "code",
   "execution_count": null,
   "metadata": {},
   "outputs": [],
   "source": []
  },
  {
   "cell_type": "code",
   "execution_count": null,
   "metadata": {
    "colab": {
     "base_uri": "https://localhost:8080/"
    },
    "executionInfo": {
     "elapsed": 21850,
     "status": "ok",
     "timestamp": 1604549015894,
     "user": {
      "displayName": "‍현재웅[학생](대학원 나노의약생명과학과)",
      "photoUrl": "",
      "userId": "08836768679683502374"
     },
     "user_tz": -540
    },
    "id": "Naw_m8ks-8WB",
    "outputId": "2d5c9968-d925-48e0-f00b-508306f5797e"
   },
   "outputs": [],
   "source": [
    "## 동일한 유전자에서 같은 histone이 발견되면 distance 적은 걸로, 같으면 HsignalValue가 큰 값을 남기기. 같으면 둘중 하나 없애\n",
    "## list에 넣어서 drop(list)\n"
   ]
  },
  {
   "cell_type": "code",
   "execution_count": null,
   "metadata": {
    "colab": {
     "base_uri": "https://localhost:8080/",
     "height": 419
    },
    "executionInfo": {
     "elapsed": 21633,
     "status": "ok",
     "timestamp": 1604549015895,
     "user": {
      "displayName": "‍현재웅[학생](대학원 나노의약생명과학과)",
      "photoUrl": "",
      "userId": "08836768679683502374"
     },
     "user_tz": -540
    },
    "id": "-hRzH2ZV6oOl",
    "outputId": "9adeab23-9858-4d04-c2c5-029c5c25539b"
   },
   "outputs": [],
   "source": []
  },
  {
   "cell_type": "code",
   "execution_count": null,
   "metadata": {
    "colab": {
     "base_uri": "https://localhost:8080/",
     "height": 450
    },
    "executionInfo": {
     "elapsed": 21240,
     "status": "ok",
     "timestamp": 1604549015896,
     "user": {
      "displayName": "‍현재웅[학생](대학원 나노의약생명과학과)",
      "photoUrl": "",
      "userId": "08836768679683502374"
     },
     "user_tz": -540
    },
    "id": "ZAqlMl4xBRbS",
    "outputId": "97f6b534-0642-46bd-8c75-589576597a04"
   },
   "outputs": [],
   "source": [
    "# reshape dataframe\n"
   ]
  },
  {
   "cell_type": "code",
   "execution_count": null,
   "metadata": {
    "executionInfo": {
     "elapsed": 20067,
     "status": "ok",
     "timestamp": 1604549015896,
     "user": {
      "displayName": "‍현재웅[학생](대학원 나노의약생명과학과)",
      "photoUrl": "",
      "userId": "08836768679683502374"
     },
     "user_tz": -540
    },
    "id": "02DeC9P3DP4F"
   },
   "outputs": [],
   "source": []
  },
  {
   "cell_type": "code",
   "execution_count": null,
   "metadata": {
    "colab": {
     "base_uri": "https://localhost:8080/",
     "height": 450
    },
    "executionInfo": {
     "elapsed": 19818,
     "status": "ok",
     "timestamp": 1604549015896,
     "user": {
      "displayName": "‍현재웅[학생](대학원 나노의약생명과학과)",
      "photoUrl": "",
      "userId": "08836768679683502374"
     },
     "user_tz": -540
    },
    "id": "_HZkRW0SG8rL",
    "outputId": "598cb7e6-e759-4f83-ada8-5fec40d06561"
   },
   "outputs": [],
   "source": []
  },
  {
   "cell_type": "code",
   "execution_count": null,
   "metadata": {
    "colab": {
     "base_uri": "https://localhost:8080/",
     "height": 450
    },
    "executionInfo": {
     "elapsed": 19864,
     "status": "ok",
     "timestamp": 1604549016182,
     "user": {
      "displayName": "‍현재웅[학생](대학원 나노의약생명과학과)",
      "photoUrl": "",
      "userId": "08836768679683502374"
     },
     "user_tz": -540
    },
    "id": "QMI467FnHWO3",
    "outputId": "cb9bd77e-f13c-4c36-ad48-0b8693007dbc"
   },
   "outputs": [],
   "source": []
  },
  {
   "cell_type": "code",
   "execution_count": null,
   "metadata": {
    "colab": {
     "base_uri": "https://localhost:8080/",
     "height": 450
    },
    "executionInfo": {
     "elapsed": 19547,
     "status": "ok",
     "timestamp": 1604549016183,
     "user": {
      "displayName": "‍현재웅[학생](대학원 나노의약생명과학과)",
      "photoUrl": "",
      "userId": "08836768679683502374"
     },
     "user_tz": -540
    },
    "id": "JtmtofJ-fnpe",
    "outputId": "65366fa8-aab7-44fc-e6e2-5ee18320ae49"
   },
   "outputs": [],
   "source": []
  },
  {
   "cell_type": "code",
   "execution_count": null,
   "metadata": {
    "colab": {
     "base_uri": "https://localhost:8080/"
    },
    "executionInfo": {
     "elapsed": 19974,
     "status": "ok",
     "timestamp": 1604549016872,
     "user": {
      "displayName": "‍현재웅[학생](대학원 나노의약생명과학과)",
      "photoUrl": "",
      "userId": "08836768679683502374"
     },
     "user_tz": -540
    },
    "id": "rzA3u4sbIc4E",
    "outputId": "4539644a-d610-44f2-bffb-d22ff6e5b092"
   },
   "outputs": [],
   "source": [
    "## EP300과 EZH2 가 둘다 1이거나 둘다 0인 데이터 삭제\n"
   ]
  },
  {
   "cell_type": "code",
   "execution_count": null,
   "metadata": {
    "colab": {
     "base_uri": "https://localhost:8080/",
     "height": 450
    },
    "executionInfo": {
     "elapsed": 19658,
     "status": "ok",
     "timestamp": 1604549016873,
     "user": {
      "displayName": "‍현재웅[학생](대학원 나노의약생명과학과)",
      "photoUrl": "",
      "userId": "08836768679683502374"
     },
     "user_tz": -540
    },
    "id": "1EDp--5ZJCVo",
    "outputId": "b9381fab-216b-4e20-8667-1635f4ffa58c"
   },
   "outputs": [],
   "source": []
  },
  {
   "cell_type": "code",
   "execution_count": null,
   "metadata": {
    "colab": {
     "base_uri": "https://localhost:8080/",
     "height": 450
    },
    "executionInfo": {
     "elapsed": 19262,
     "status": "ok",
     "timestamp": 1604549016874,
     "user": {
      "displayName": "‍현재웅[학생](대학원 나노의약생명과학과)",
      "photoUrl": "",
      "userId": "08836768679683502374"
     },
     "user_tz": -540
    },
    "id": "oYQmnwqFJoWG",
    "outputId": "2a7c8882-8d7e-4a5e-bb61-68a4fe5aa32e"
   },
   "outputs": [],
   "source": []
  },
  {
   "cell_type": "code",
   "execution_count": null,
   "metadata": {
    "executionInfo": {
     "elapsed": 18943,
     "status": "ok",
     "timestamp": 1604549016874,
     "user": {
      "displayName": "‍현재웅[학생](대학원 나노의약생명과학과)",
      "photoUrl": "",
      "userId": "08836768679683502374"
     },
     "user_tz": -540
    },
    "id": "vV0LTSahK2gu",
    "tags": []
   },
   "outputs": [],
   "source": [
    "finalDf.to_csv(\"final_data.HepG2.Histone.Enhancer.csv\")"
   ]
  },
  {
   "cell_type": "code",
   "execution_count": null,
   "metadata": {
    "executionInfo": {
     "elapsed": 18988,
     "status": "ok",
     "timestamp": 1604549017112,
     "user": {
      "displayName": "‍현재웅[학생](대학원 나노의약생명과학과)",
      "photoUrl": "",
      "userId": "08836768679683502374"
     },
     "user_tz": -540
    },
    "id": "xzL4WO4BkrLl"
   },
   "outputs": [],
   "source": []
  }
 ],
 "metadata": {
  "colab": {
   "collapsed_sections": [],
   "name": "random_forest_data",
   "provenance": [
    {
     "file_id": "1DBHOZcxFTbmxdV-eRZKRtKHxNqOKaAQf",
     "timestamp": 1604310125773
    }
   ],
   "toc_visible": true
  },
  "kernelspec": {
   "display_name": "Python 3 (ipykernel)",
   "language": "python",
   "name": "python3"
  },
  "language_info": {
   "codemirror_mode": {
    "name": "ipython",
    "version": 3
   },
   "file_extension": ".py",
   "mimetype": "text/x-python",
   "name": "python",
   "nbconvert_exporter": "python",
   "pygments_lexer": "ipython3",
   "version": "3.8.12"
  }
 },
 "nbformat": 4,
 "nbformat_minor": 4
}
