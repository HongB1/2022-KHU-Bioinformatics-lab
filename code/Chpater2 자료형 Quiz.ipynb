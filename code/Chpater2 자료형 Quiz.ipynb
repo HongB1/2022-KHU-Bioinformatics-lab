{
 "cells": [
  {
   "cell_type": "markdown",
   "metadata": {},
   "source": [
    "[![Open In Colab](https://colab.research.google.com/assets/colab-badge.svg)](https://colab.research.google.com/github/HongB1/2022-KHU-Bioinformatics-lab/blob/master/code/Chpater2%20%EC%9E%90%EB%A3%8C%ED%98%95%20Quiz.ipynb)"
   ]
  },
  {
   "cell_type": "code",
   "execution_count": null,
   "metadata": {},
   "outputs": [],
   "source": [
    "# Quiz1. 다음과 같은 url에서 daum을 출력해보세요. \n",
    "url = 'www.daum.net'\n",
    "url_list = url.split('.')\n",
    "print(url_list)\n",
    "print(url_list[1])"
   ]
  },
  {
   "cell_type": "code",
   "execution_count": 41,
   "metadata": {},
   "outputs": [
    {
     "name": "stdout",
     "output_type": "stream",
     "text": [
      "['www', 'daum', 'net']\n",
      "['daum', 'net']\n"
     ]
    }
   ],
   "source": [
    "# Quiz2. 다음과 같은 url에서 [daum, net] 리스트를 만들고 출력해보세요. \n",
    "url = 'www.daum.net'\n",
    "url_list = url.split('.')\n",
    "print(url_list)\n",
    "print(url_list[1:])\n"
   ]
  },
  {
   "cell_type": "code",
   "execution_count": 52,
   "metadata": {},
   "outputs": [
    {
     "name": "stdout",
     "output_type": "stream",
     "text": [
      "['www', 'daum', 'net']\n",
      "daum.net\n",
      "daum.net\n",
      "daum.net\n"
     ]
    }
   ],
   "source": [
    "# Quiz3. 다음과 같은 url에서 daum.net으로 된 문자열을 만들고 출력해보세요. \n",
    "url = 'www.daum.net'\n",
    "url_list = url.split('.')\n",
    "print(url_list)\n",
    "print(url_list[1] + '.' + url_list[2])\n",
    "print('{}.{}'.format(url_list[1], url_list[2]))\n",
    "print(f'{url_list[1]}.{url_list[2]}')"
   ]
  },
  {
   "cell_type": "code",
   "execution_count": 58,
   "metadata": {},
   "outputs": [
    {
     "name": "stdout",
     "output_type": "stream",
     "text": [
      "['daum', 'net']\n",
      "2\n"
     ]
    }
   ],
   "source": [
    "# Quiz4. 다음과 같은 url에서 ['daum', 'net']으로 된 리스트를 만들고 리스트의 길이를 구해보세요.\n",
    "url = 'www.daum.net'\n",
    "url_list = url.split('.')\n",
    "new_url = url_list[1:]\n",
    "print(new_url)\n",
    "print(len(new_url))"
   ]
  },
  {
   "cell_type": "code",
   "execution_count": 87,
   "metadata": {},
   "outputs": [
    {
     "name": "stdout",
     "output_type": "stream",
     "text": [
      "['naver', 'com']\n"
     ]
    }
   ],
   "source": [
    "# Quiz5. url_list = ['daum', 'net'] 인 리스트에서 첫번째 인덱스 값인 'daum'을 'naver'로 바꾸고 바뀐 리스트를 출력해보자.\n",
    "url_list = ['daum', 'net'] \n",
    "url_list[0] = 'naver'\n",
    "url_list[1] = 'com'\n",
    "print(url_list)"
   ]
  },
  {
   "cell_type": "code",
   "execution_count": 62,
   "metadata": {},
   "outputs": [
    {
     "name": "stdout",
     "output_type": "stream",
     "text": [
      "['www', 'naver', 'com']\n",
      "['naver', 'com']\n"
     ]
    }
   ],
   "source": [
    "# Quiz6. url_list = ['www', 'naver', 'com']에서 [0]번째 요소인 'www'를 삭제하고 바뀐 리스트를 출력해보자.\n",
    "url_list = ['www', 'naver', 'com']\n",
    "print(url_list)\n",
    "del url_list[0]\n",
    "print(url_list)"
   ]
  },
  {
   "cell_type": "code",
   "execution_count": 89,
   "metadata": {},
   "outputs": [
    {
     "name": "stdout",
     "output_type": "stream",
     "text": [
      "['naver.com']\n"
     ]
    }
   ],
   "source": [
    "# Quiz7. url_list란 변수의 빈 리스트를 만들고, 여기에 url 변수 'naver.com'를 append하고, url_list를 출력해보자.\n",
    "url_list = []\n",
    "url_list.append(url)\n",
    "print(url_list)"
   ]
  },
  {
   "cell_type": "code",
   "execution_count": 69,
   "metadata": {},
   "outputs": [
    {
     "name": "stdout",
     "output_type": "stream",
     "text": [
      "['naver.com', 'google.com']\n"
     ]
    }
   ],
   "source": [
    "# Quiz8. url_list = ['naver.com'] 인 리스트인데 여기에 'google.com'이라는 문자열을 append하고 출력해보자.\n",
    "url_list = ['naver.com']\n",
    "url_list.append('google.com')\n",
    "print(url_list)"
   ]
  },
  {
   "cell_type": "code",
   "execution_count": 1,
   "metadata": {},
   "outputs": [
    {
     "name": "stdout",
     "output_type": "stream",
     "text": [
      "['naver.com', 'kakao.com', 'google.com']\n"
     ]
    }
   ],
   "source": [
    "# Quiz9. url_list = ['google.com', 'naver.com'] 인 리스트인데 이 리스트에 'kakao.com'을 1번째 위치에 추가해보자.\n",
    "url_list = ['naver.com', 'google.com']\n",
    "url_list.insert(1, 'kakao.com')\n",
    "print(url_list)"
   ]
  },
  {
   "cell_type": "code",
   "execution_count": 2,
   "metadata": {},
   "outputs": [
    {
     "name": "stdout",
     "output_type": "stream",
     "text": [
      "['naver.com', 'kakao.com', 'google.com', 'facebook.com', 'khu.ac.kr']\n"
     ]
    }
   ],
   "source": [
    "# Quiz10. url_list = ['naver.com', 'kakao.com', 'google.com'], ['facebook.com', 'khu.ac.kr'] 리스트를 extend 메서드를 통하여 더해보자.\n",
    "\n",
    "url_list = ['naver.com', 'kakao.com', 'google.com']\n",
    "url_list.extend(['facebook.com', 'khu.ac.kr'])\n",
    "print(url_list)"
   ]
  },
  {
   "cell_type": "code",
   "execution_count": 3,
   "metadata": {},
   "outputs": [
    {
     "name": "stdout",
     "output_type": "stream",
     "text": [
      "['naver.com', 'daum.net', 'kakao.com']\n"
     ]
    }
   ],
   "source": [
    "# Quiz 11. url_list = 'naver.com,daum.net,kakao.com' 는 ['naver.com', 'daum.net', 'kakao.com'] 로 출력하려면 어떻게 해야 할까\n",
    "url_list = 'naver.com,daum.net,kakao.com'.split(',')\n",
    "print(url_list)"
   ]
  },
  {
   "cell_type": "code",
   "execution_count": 123,
   "metadata": {},
   "outputs": [
    {
     "name": "stdout",
     "output_type": "stream",
     "text": [
      "{'naver': 2000, 'daum': 1000, 'google': 10000}\n"
     ]
    }
   ],
   "source": [
    "'''\n",
    "Quiz12. 다음은 웹사이트와 1분간 방문자수이다. 빈 딕셔너리를 만들고, 딕셔너리에 방문자수를 저장해보자.\n",
    "naver : 2000\n",
    "daum : 1000\n",
    "google : 10000\n",
    "'''\n",
    "website = {}\n",
    "website = {\"naver\": 2000, \"daum\": 1000, \"google\": 10000}\n",
    "print(website)"
   ]
  },
  {
   "cell_type": "code",
   "execution_count": 126,
   "metadata": {},
   "outputs": [
    {
     "name": "stdout",
     "output_type": "stream",
     "text": [
      "{'naver': 2000, 'daum': 1000, 'khu': 500, 'youtube': 5000}\n"
     ]
    }
   ],
   "source": [
    "'''\n",
    "Quiz13. 딕셔너리 쌍 추가하기\n",
    "website 딕셔너리에 아래 웹사이트의 방문자수 정보를 추가하고, google은 삭제하라\n",
    "khu : 500\n",
    "youtube : 5000\n",
    "'''\n",
    "website = {\"naver\": 2000, \"daum\": 1000, \"google\": 10000}\n",
    "website[\"khu\"] = 500\n",
    "website[\"youtube\"] = 5000\n",
    "del website['google']\n",
    "print(website)"
   ]
  },
  {
   "cell_type": "code",
   "execution_count": 4,
   "metadata": {},
   "outputs": [
    {
     "name": "stdout",
     "output_type": "stream",
     "text": [
      "3000\n",
      "naver의 방문자수는 3000명입니다.\n",
      "naver의 방문자수는 3000명입니다.\n"
     ]
    }
   ],
   "source": [
    "'''\n",
    "Quiz14. key를 사용해 value값 수정하기 & key를 사용해 value값 얻기\n",
    "다음 딕셔너리에서 naver의 value값을 3000으로 수정하고 naver의 value값을 얻어보세요.\n",
    "website = {\"naver\": 2000, \"daum\": 1000, \"google\": 10000}\n",
    "\n",
    "format메소드 또는 f포맷팅 기법을 사용하여 다음과 같이 출력하시오.\n",
    "출력문 : naver의 방문자수는 ____명입니다.\n",
    "'''\n",
    "website = {\"naver\": 2000, \"daum\": 1000, \"google\": 10000}\n",
    "website['naver'] = 3000\n",
    "naver = website['naver']\n",
    "print(naver)\n",
    "print(f\"naver의 방문자수는 {naver}명입니다.\")\n",
    "print(\"naver의 방문자수는 {}명입니다.\".format(naver))"
   ]
  },
  {
   "cell_type": "code",
   "execution_count": 5,
   "metadata": {},
   "outputs": [
    {
     "name": "stdout",
     "output_type": "stream",
     "text": [
      "['naver', 'daum', 'google']\n",
      "[2000, 1000, 10000]\n"
     ]
    }
   ],
   "source": [
    "'''\n",
    "Quiz15. keys() values() 메서드 사용\n",
    "다음의 딕셔너리로부터 key 값들로만 구성된 리스트와 value값들로만 구성된 리스트를 만들고 출력해봐라.\n",
    "website = {\"naver\": 2000, \"daum\": 1000, \"google\": 10000}\n",
    "'''\n",
    "website = {\"naver\": 2000, \"daum\": 1000, \"google\": 10000}\n",
    "website_keys = list(website.keys())\n",
    "print(website_keys)\n",
    "\n",
    "website_values = list(website.values())\n",
    "print(website_values)"
   ]
  }
 ],
 "metadata": {
  "kernelspec": {
   "display_name": "Python 3.10.4 ('bioinforlab')",
   "language": "python",
   "name": "python3"
  },
  "language_info": {
   "codemirror_mode": {
    "name": "ipython",
    "version": 3
   },
   "file_extension": ".py",
   "mimetype": "text/x-python",
   "name": "python",
   "nbconvert_exporter": "python",
   "pygments_lexer": "ipython3",
   "version": "3.10.4"
  },
  "orig_nbformat": 4,
  "vscode": {
   "interpreter": {
    "hash": "2abb9830525325817f3e9c3b3f1925b3d4b36fbbad2f2d7197fdeed835bf0874"
   }
  }
 },
 "nbformat": 4,
 "nbformat_minor": 2
}
