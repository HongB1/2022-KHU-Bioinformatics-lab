{
 "cells": [
  {
   "cell_type": "markdown",
   "id": "3ef67063-3f3a-4c21-87a3-20cdfa67553d",
   "metadata": {
    "tags": []
   },
   "source": [
    "# Lec 01 - 02 : 파이썬 베이직\n",
    "- 목차\n",
    "    1. 기본문법\n",
    "    2. 자료형\n",
    "    3. 제어문\n",
    "    4. 자료형 응용\n",
    "\n",
    "## 1. 기본문법\n",
    "### 1.1 기본 출력 - ```print``` 사용해보기"
   ]
  },
  {
   "cell_type": "code",
   "execution_count": 10,
   "id": "eaf4bce2-dd50-4cc8-8fa1-9fd7f4884d81",
   "metadata": {},
   "outputs": [
    {
     "name": "stdout",
     "output_type": "stream",
     "text": [
      "apple\n"
     ]
    }
   ],
   "source": [
    "print('apple')"
   ]
  },
  {
   "cell_type": "markdown",
   "id": "2b85c18d-1472-4e5e-8ad7-abffc25a0027",
   "metadata": {},
   "source": [
    "### 1.2 세미콜론\n",
    "- 한 줄에 여러 구문을 사용할 때 세미콜론으로 구분한다."
   ]
  },
  {
   "cell_type": "code",
   "execution_count": 11,
   "id": "1a012d19-d31e-4db6-a807-547327ba7847",
   "metadata": {},
   "outputs": [
    {
     "name": "stdout",
     "output_type": "stream",
     "text": [
      "apple\n",
      "1234\n"
     ]
    }
   ],
   "source": [
    "print('apple'); print('1234')"
   ]
  },
  {
   "cell_type": "markdown",
   "id": "35d1a369-8d6c-4e1a-b2aa-f893382ff5e6",
   "metadata": {},
   "source": [
    "### 1.3 주석\n",
    "- 한 줄 주석 : ```#``` 붙여주기. 주로 코드 위에 작성하는 게 일반적임.\n",
    "- 여러줄 주석 : 큰따옴표 3개, 작은따옴표 3개\n",
    "- 블록 주석 : 전체선택한 후 ```ctrl+/``` 한 블록에 다 주석처리를 해주는 것."
   ]
  },
  {
   "cell_type": "markdown",
   "id": "9e0a5449-04e3-4a20-b17e-f693df48d090",
   "metadata": {},
   "source": [
    "#### 한 줄 주석"
   ]
  },
  {
   "cell_type": "code",
   "execution_count": 12,
   "id": "c5734a18-2d67-479b-bea5-93073151d697",
   "metadata": {},
   "outputs": [
    {
     "name": "stdout",
     "output_type": "stream",
     "text": [
      "apple\n"
     ]
    }
   ],
   "source": [
    "# apple 출력\n",
    "print('apple')"
   ]
  },
  {
   "cell_type": "code",
   "execution_count": 13,
   "id": "4a9d46f7-8549-4d11-8aa4-d8ea2c35dbc1",
   "metadata": {},
   "outputs": [
    {
     "name": "stdout",
     "output_type": "stream",
     "text": [
      "apple\n"
     ]
    }
   ],
   "source": [
    "print('apple') # apple 출력 "
   ]
  },
  {
   "cell_type": "markdown",
   "id": "701070e7-559e-4710-ba96-8770e21dafe4",
   "metadata": {},
   "source": [
    "#### 여러줄 주석"
   ]
  },
  {
   "cell_type": "code",
   "execution_count": 14,
   "id": "0e7eb98f-7afa-40f5-b34b-042c8b6be87a",
   "metadata": {},
   "outputs": [
    {
     "name": "stdout",
     "output_type": "stream",
     "text": [
      "apple\n"
     ]
    }
   ],
   "source": [
    "'''\n",
    "여러줄 주석을 사용해서\n",
    "apple을 출력해보겠습니다.\n",
    "'''\n",
    "print('apple')"
   ]
  },
  {
   "cell_type": "markdown",
   "id": "a9925984-8c86-4037-b7bb-832f0882ee2b",
   "metadata": {},
   "source": [
    "#### 블록 주석"
   ]
  },
  {
   "cell_type": "markdown",
   "id": "73a8cce1",
   "metadata": {},
   "source": []
  },
  {
   "cell_type": "code",
   "execution_count": 17,
   "id": "34f2de46-74e3-4927-834d-ad89c76c4496",
   "metadata": {},
   "outputs": [],
   "source": [
    "# a = 1 + 2\n",
    "# print('apple'); print(a)"
   ]
  },
  {
   "cell_type": "markdown",
   "id": "ce15763f-c51f-45a7-8255-26041c1330fc",
   "metadata": {},
   "source": [
    "## 2. 자료형 \n",
    "- 숫자형\n",
    "- 문자열\n",
    "- 리스트\n",
    "- 튜플\n",
    "- 딕셔너리\n",
    "- 집합\n",
    "- 불\n",
    "- 변수 : 자료형의 값을 저장하는 공간\n",
    "\n",
    "### 2.1 숫자형\n",
    "- 정수형(integer) : 123, 39, 1, -1\n",
    "- 실수형(Floating-point) : 12.3, 0.323, 39.15, 1e-3\n",
    "- 8진수와 16진수"
   ]
  },
  {
   "cell_type": "code",
   "execution_count": 18,
   "id": "7b6417ff-fe1f-4ea4-8b33-45b168d4740d",
   "metadata": {},
   "outputs": [
    {
     "name": "stdout",
     "output_type": "stream",
     "text": [
      "25\n"
     ]
    }
   ],
   "source": [
    "# 정수형\n",
    "a = 123\n",
    "b = 25.32 \n",
    "c = int(b)\n",
    "print(c)"
   ]
  },
  {
   "cell_type": "code",
   "execution_count": 20,
   "id": "0292b83d-a14d-4c9b-bc79-cdd6784420fd",
   "metadata": {},
   "outputs": [],
   "source": [
    "# 실수형\n",
    "a = 1.2"
   ]
  },
  {
   "cell_type": "code",
   "execution_count": 26,
   "id": "c736d8f8-81dc-4e17-a26c-e504ecbee948",
   "metadata": {},
   "outputs": [
    {
     "name": "stdout",
     "output_type": "stream",
     "text": [
      "0.001 100.0\n"
     ]
    }
   ],
   "source": [
    "# 컴퓨터식 지수 표현 방식 : e 사용\n",
    "a = 1e-3; b=1e2\n",
    "print(a,b)"
   ]
  },
  {
   "cell_type": "code",
   "execution_count": 41,
   "id": "8e3a88f2-0cb7-4be7-a00d-5ba5c4d7d97d",
   "metadata": {},
   "outputs": [
    {
     "name": "stdout",
     "output_type": "stream",
     "text": [
      "2 0.1 10.0\n"
     ]
    }
   ],
   "source": [
    "# 사칙연산\n",
    "a = 2\n",
    "b = 0.1\n",
    "c = 1e1\n",
    "print(a, b, c)"
   ]
  },
  {
   "cell_type": "code",
   "execution_count": 35,
   "id": "7387bfa6-3f92-471e-87c3-6b1f8140625a",
   "metadata": {},
   "outputs": [
    {
     "data": {
      "text/plain": [
       "12.1"
      ]
     },
     "execution_count": 35,
     "metadata": {},
     "output_type": "execute_result"
    }
   ],
   "source": [
    "a + b + c"
   ]
  },
  {
   "cell_type": "code",
   "execution_count": 36,
   "id": "d9b6064d-3c01-4bbe-a7f1-be3cc4812178",
   "metadata": {},
   "outputs": [
    {
     "data": {
      "text/plain": [
       "7.9"
      ]
     },
     "execution_count": 36,
     "metadata": {},
     "output_type": "execute_result"
    }
   ],
   "source": [
    "c - (a + b) "
   ]
  },
  {
   "cell_type": "code",
   "execution_count": 37,
   "id": "b933f282-506a-4514-9a45-c941cad70eee",
   "metadata": {},
   "outputs": [
    {
     "data": {
      "text/plain": [
       "1.0"
      ]
     },
     "execution_count": 37,
     "metadata": {},
     "output_type": "execute_result"
    }
   ],
   "source": [
    "b * c"
   ]
  },
  {
   "cell_type": "code",
   "execution_count": 38,
   "id": "d83cd771-1b50-4bec-8f6a-200c126a4f17",
   "metadata": {},
   "outputs": [
    {
     "data": {
      "text/plain": [
       "0.2"
      ]
     },
     "execution_count": 38,
     "metadata": {},
     "output_type": "execute_result"
    }
   ],
   "source": [
    "a / c"
   ]
  },
  {
   "cell_type": "code",
   "execution_count": 42,
   "id": "f41707a7-276b-458a-aaf3-0155c8e87236",
   "metadata": {},
   "outputs": [
    {
     "data": {
      "text/plain": [
       "100.0"
      ]
     },
     "execution_count": 42,
     "metadata": {},
     "output_type": "execute_result"
    }
   ],
   "source": [
    "# 제곱 : c를 a만큼 제곱(10^2)\n",
    "c ** a"
   ]
  },
  {
   "cell_type": "code",
   "execution_count": 45,
   "id": "2564b8c2-a706-4626-a6d7-81751272eb2d",
   "metadata": {},
   "outputs": [
    {
     "data": {
      "text/plain": [
       "1"
      ]
     },
     "execution_count": 45,
     "metadata": {},
     "output_type": "execute_result"
    }
   ],
   "source": [
    "# 나눗셈 후 나머지를 반환\n",
    "7 % 3"
   ]
  },
  {
   "cell_type": "code",
   "execution_count": 46,
   "id": "3a002a59-8ea8-49f4-8a46-0919466f1f3b",
   "metadata": {},
   "outputs": [
    {
     "data": {
      "text/plain": [
       "3"
      ]
     },
     "execution_count": 46,
     "metadata": {},
     "output_type": "execute_result"
    }
   ],
   "source": [
    "3 % 6"
   ]
  },
  {
   "cell_type": "code",
   "execution_count": 47,
   "id": "b9960d6b-0efe-409a-a93c-a74ab12b8774",
   "metadata": {},
   "outputs": [
    {
     "data": {
      "text/plain": [
       "1"
      ]
     },
     "execution_count": 47,
     "metadata": {},
     "output_type": "execute_result"
    }
   ],
   "source": [
    "# 나눗셈 후 몫을 반환하는 // 연산자\n",
    "7 // 4"
   ]
  },
  {
   "cell_type": "markdown",
   "id": "cb12f147-4bcf-427c-9a59-1e46aab74dc9",
   "metadata": {},
   "source": [
    "#### Quiz 1\n",
    "1. a = 6을 3으로 나눈 값\n",
    "2. b = 8을 3으로 나눈 나머지\n",
    "3. c = 7을 3으로 나눈 몫\n",
    "4. a + b + c 의 값을 구하여라"
   ]
  },
  {
   "cell_type": "code",
   "execution_count": 53,
   "id": "caceced2-a066-4f50-80ed-638d7fe75805",
   "metadata": {},
   "outputs": [
    {
     "name": "stdout",
     "output_type": "stream",
     "text": [
      "2.0 2 2\n"
     ]
    },
    {
     "data": {
      "text/plain": [
       "6.0"
      ]
     },
     "execution_count": 53,
     "metadata": {},
     "output_type": "execute_result"
    }
   ],
   "source": [
    "a = 6 / 3\n",
    "b = 8 % 3\n",
    "c = 7 // 3\n",
    "print(a, b, c)\n",
    "a + b + c "
   ]
  },
  {
   "cell_type": "markdown",
   "id": "01f9208a-eba4-4c3a-b430-db8fec027d7f",
   "metadata": {},
   "source": [
    "### 2.2 문자열(String) \n",
    "#### 2.2.1 문자열 기본 사용방법\n",
    "문자열(String) : 문자, 단어 등으로 구성된 문자들의 집합. 따옴표(\" \")로 둘러싸여져 있는 것은 모두 문자열이라고 부른다.  \n",
    "```\"Life is too short, You need Python\"```"
   ]
  },
  {
   "cell_type": "code",
   "execution_count": 56,
   "id": "57ff523e-5cfd-4337-affa-92549a9f5b88",
   "metadata": {},
   "outputs": [
    {
     "data": {
      "text/plain": [
       "'Life is too short, You need python'"
      ]
     },
     "execution_count": 56,
     "metadata": {},
     "output_type": "execute_result"
    }
   ],
   "source": [
    "\"Hello World\"\n",
    "'Python is fun'\n",
    "\"\"\"Life is too short, You need python\"\"\"\n",
    "'''Life is too short, You need python'''"
   ]
  },
  {
   "cell_type": "markdown",
   "id": "5fd16c81-87d7-493d-a82f-9bc8c94a86de",
   "metadata": {},
   "source": [
    "##### 문자열을 만드는 방법이 왜 4가지나 있는 걸까?\n",
    "```Python's favorite food is perl```"
   ]
  },
  {
   "cell_type": "code",
   "execution_count": 59,
   "id": "b45004dd-a584-47c7-aed3-265b68e4b556",
   "metadata": {},
   "outputs": [
    {
     "data": {
      "text/plain": [
       "\"Python's favorite food is perl\""
      ]
     },
     "execution_count": 59,
     "metadata": {},
     "output_type": "execute_result"
    }
   ],
   "source": [
    "a = \"Python's favorite food is perl\"\n",
    "a"
   ]
  },
  {
   "cell_type": "code",
   "execution_count": 63,
   "id": "1002e167-fadb-409d-8eb3-e74b0c27d3e9",
   "metadata": {},
   "outputs": [
    {
     "data": {
      "text/plain": [
       "'\"Python is very easy.\" he says.'"
      ]
     },
     "execution_count": 63,
     "metadata": {},
     "output_type": "execute_result"
    }
   ],
   "source": [
    "b = '\"Python is very easy.\" he says.'\n",
    "b"
   ]
  },
  {
   "cell_type": "code",
   "execution_count": 64,
   "id": "8a2a3ee0-f609-4559-a492-76b5a87e6db9",
   "metadata": {},
   "outputs": [
    {
     "data": {
      "text/plain": [
       "\"Python's favorite food is perl\""
      ]
     },
     "execution_count": 64,
     "metadata": {},
     "output_type": "execute_result"
    }
   ],
   "source": [
    "'Python\\'s favorite food is perl'"
   ]
  },
  {
   "cell_type": "code",
   "execution_count": 65,
   "id": "b8c5a077-cc8b-4315-a272-00caf7606cd8",
   "metadata": {},
   "outputs": [
    {
     "data": {
      "text/plain": [
       "'\"Python is very easy.\" he says.'"
      ]
     },
     "execution_count": 65,
     "metadata": {},
     "output_type": "execute_result"
    }
   ],
   "source": [
    "\"\\\"Python is very easy.\\\" he says.\""
   ]
  },
  {
   "cell_type": "markdown",
   "id": "b85d8906-009d-4c3a-94c3-3bbdf27e927e",
   "metadata": {},
   "source": [
    "##### 이스케이프 코드 사용하기\n",
    "문자열 예제에서 여러 줄의 문장을 처리할 때 백슬래시 문자와 소문자 n을 조합한 ```\\n``` 이스케이프 코드를 사용했다. 이스케이프 코드란 프로그래밍할 때 사용할 수 있도록 미리 정의해 둔 \"문자 조합\"이다. 주로 출력물을 보기 좋게 정렬하는 용도로 사용한다. 몇 가지 이스케이프 코드를 정리하면 다음과 같다.\n",
    "\n",
    "| 코드 | 설명                     |\n",
    "|----|------------------------|\n",
    "| ```\\n``` | 문자열 안에서 줄을 바꿀 때 사용     |\n",
    "| ```\\t``` | 문자열 사이에 탭 간격을 줄 때 사용   |\n",
    "| ```\\\\``` | 문자 \\를 그대로 표현할 때 사용     |\n",
    "| ```\\'``` | 작은따옴표(')를 그대로 표현할 때 사용 |\n",
    "| ```\\\"``` | 큰따옴표(\")를 그대로 표현할 때 사용  |"
   ]
  },
  {
   "cell_type": "markdown",
   "id": "f5ae2d40-040d-4f3d-8477-aca4f1a6454c",
   "metadata": {},
   "source": [
    "#### 2.2.2 문자열 연산하기\n",
    "##### 문자열 연산하기 - 문자열 더해서 연걸하기(Concatenation)"
   ]
  },
  {
   "cell_type": "code",
   "execution_count": 7,
   "id": "5d6443ef",
   "metadata": {},
   "outputs": [
    {
     "name": "stdout",
     "output_type": "stream",
     "text": [
      "I like Apple\n"
     ]
    }
   ],
   "source": [
    "head = \"I like\"\n",
    "tail = \" Apple\"\n",
    "a = head + tail\n",
    "print(a)"
   ]
  },
  {
   "cell_type": "markdown",
   "id": "eaf9f440",
   "metadata": {},
   "source": [
    "##### 문자열 연산하기 - 문자열 곱하기"
   ]
  },
  {
   "cell_type": "code",
   "execution_count": 5,
   "id": "1538a87b",
   "metadata": {},
   "outputs": [
    {
     "data": {
      "text/plain": [
       "'pythonpython'"
      ]
     },
     "execution_count": 5,
     "metadata": {},
     "output_type": "execute_result"
    }
   ],
   "source": [
    "b = \"python\"\n",
    "b * 2"
   ]
  },
  {
   "cell_type": "markdown",
   "id": "f948dbd9",
   "metadata": {},
   "source": [
    "##### 문자열 연산하기 - 문자열 길이 구하기"
   ]
  },
  {
   "cell_type": "code",
   "execution_count": 8,
   "id": "a37e9e99",
   "metadata": {},
   "outputs": [
    {
     "data": {
      "text/plain": [
       "12"
      ]
     },
     "execution_count": 8,
     "metadata": {},
     "output_type": "execute_result"
    }
   ],
   "source": [
    "len(a)"
   ]
  },
  {
   "cell_type": "markdown",
   "id": "402e754e",
   "metadata": {},
   "source": [
    "#### 2.2.3 문자열 인덱싱과 슬라이싱\n",
    "- 문자열 인덱싱 기법과 슬라이싱 기법은 리스트나 튜플에서도 사용되며, 데이터 처리를 할 때 정말 많은 곳에서 사용되는 가장 기본적이고 중요한 기법이므로 잘 익혀두도록 하자.\n",
    "##### 문자열 인덱싱"
   ]
  },
  {
   "cell_type": "code",
   "execution_count": 16,
   "id": "56e07235",
   "metadata": {},
   "outputs": [
    {
     "data": {
      "text/plain": [
       "'I like Apple'"
      ]
     },
     "execution_count": 16,
     "metadata": {},
     "output_type": "execute_result"
    }
   ],
   "source": [
    "a"
   ]
  },
  {
   "cell_type": "code",
   "execution_count": 24,
   "id": "add0e5bc",
   "metadata": {},
   "outputs": [
    {
     "data": {
      "text/plain": [
       "'I'"
      ]
     },
     "execution_count": 24,
     "metadata": {},
     "output_type": "execute_result"
    }
   ],
   "source": [
    "a[0]"
   ]
  },
  {
   "cell_type": "code",
   "execution_count": 25,
   "id": "1a1b6541",
   "metadata": {},
   "outputs": [
    {
     "data": {
      "text/plain": [
       "'e'"
      ]
     },
     "execution_count": 25,
     "metadata": {},
     "output_type": "execute_result"
    }
   ],
   "source": [
    "a[11]"
   ]
  },
  {
   "cell_type": "code",
   "execution_count": 26,
   "id": "ab707e25",
   "metadata": {},
   "outputs": [
    {
     "data": {
      "text/plain": [
       "'e'"
      ]
     },
     "execution_count": 26,
     "metadata": {},
     "output_type": "execute_result"
    }
   ],
   "source": [
    "a[-1]"
   ]
  },
  {
   "cell_type": "code",
   "execution_count": 28,
   "id": "d7cb0d7f",
   "metadata": {},
   "outputs": [
    {
     "data": {
      "text/plain": [
       "'I'"
      ]
     },
     "execution_count": 28,
     "metadata": {},
     "output_type": "execute_result"
    }
   ],
   "source": [
    "a[-12]"
   ]
  },
  {
   "cell_type": "markdown",
   "id": "78361b74",
   "metadata": {},
   "source": [
    "##### 문자열 슬라이싱"
   ]
  },
  {
   "cell_type": "code",
   "execution_count": 33,
   "id": "c9469662",
   "metadata": {},
   "outputs": [
    {
     "data": {
      "text/plain": [
       "'I like Apple'"
      ]
     },
     "execution_count": 33,
     "metadata": {},
     "output_type": "execute_result"
    }
   ],
   "source": [
    "a"
   ]
  },
  {
   "cell_type": "markdown",
   "id": "1c9604ad",
   "metadata": {},
   "source": [
    "인덱싱과 문자열 연산을 통해서 like만 뽑아내보자."
   ]
  },
  {
   "cell_type": "code",
   "execution_count": 40,
   "id": "ac5ddc27",
   "metadata": {},
   "outputs": [
    {
     "data": {
      "text/plain": [
       "'like'"
      ]
     },
     "execution_count": 40,
     "metadata": {},
     "output_type": "execute_result"
    }
   ],
   "source": [
    "a[2] + a[3] + a[4] + a[5] "
   ]
  },
  {
   "cell_type": "markdown",
   "id": "bf0223c2",
   "metadata": {},
   "source": [
    "하나하나 인덱싱하여 덧셈을 해주는 방식은 너무 비효율적이라고 생각이 든다.   \n",
    "그래서 우리는 슬라이싱 방법을 사용해줄 것이다.   \n",
    "슬라이싱 방법을 사용하여 like를 뽑아내기 위해 2부터 5까지 슬라이싱을 해보자."
   ]
  },
  {
   "cell_type": "code",
   "execution_count": 41,
   "id": "541de4a9",
   "metadata": {},
   "outputs": [
    {
     "data": {
      "text/plain": [
       "'lik'"
      ]
     },
     "execution_count": 41,
     "metadata": {},
     "output_type": "execute_result"
    }
   ],
   "source": [
    "a[2:5]"
   ]
  },
  {
   "cell_type": "markdown",
   "id": "bd9d3e2e",
   "metadata": {},
   "source": [
    "2부터 5까지 슬라이싱을 했더니 2부터 4까지 뽑아진 것을 볼 수 있다.   \n",
    "즉 슬라이싱에서 ```[n:m]```을 할 경우, ```n```부터 ```(m-1)```까지 뽑힌다.   \n",
    "따라서 ```like```를 뽑기 위해선 2부터 5까지가 아닌 2부터 6(=5-1)까지 뽑아야 한다."
   ]
  },
  {
   "cell_type": "code",
   "execution_count": 42,
   "id": "c63d6607",
   "metadata": {},
   "outputs": [
    {
     "data": {
      "text/plain": [
       "'like'"
      ]
     },
     "execution_count": 42,
     "metadata": {},
     "output_type": "execute_result"
    }
   ],
   "source": [
    "a[2:6]"
   ]
  },
  {
   "cell_type": "markdown",
   "id": "b3ed5361",
   "metadata": {},
   "source": [
    "- 처음부터, 특정 부분까지\n",
    "- 특정 부분부터, 끝까지    \n",
    "- 처음부터 끝까지   \n",
    "슬라이싱하는 방법을 배워보자."
   ]
  },
  {
   "cell_type": "code",
   "execution_count": 50,
   "id": "c53fa4dd",
   "metadata": {},
   "outputs": [
    {
     "data": {
      "text/plain": [
       "'I like'"
      ]
     },
     "execution_count": 50,
     "metadata": {},
     "output_type": "execute_result"
    }
   ],
   "source": [
    "# 처음부터 특정 부분까지 : I부터 e까지 뽑아주자.\n",
    "a[:6]"
   ]
  },
  {
   "cell_type": "code",
   "execution_count": 46,
   "id": "20ba1944",
   "metadata": {},
   "outputs": [
    {
     "data": {
      "text/plain": [
       "'like Apple'"
      ]
     },
     "execution_count": 46,
     "metadata": {},
     "output_type": "execute_result"
    }
   ],
   "source": [
    "# 특정 부분부터 끝까지 : l부터 끝까지 뽑아주자.\n",
    "a[2:]"
   ]
  },
  {
   "cell_type": "code",
   "execution_count": 47,
   "id": "8c19b8d9",
   "metadata": {},
   "outputs": [
    {
     "data": {
      "text/plain": [
       "'I like Apple'"
      ]
     },
     "execution_count": 47,
     "metadata": {},
     "output_type": "execute_result"
    }
   ],
   "source": [
    "# 전체 슬라이싱\n",
    "a[:]"
   ]
  },
  {
   "cell_type": "markdown",
   "id": "f870aee7",
   "metadata": {},
   "source": [
    "##### 슬라이싱으로 문자열 나누기"
   ]
  },
  {
   "cell_type": "code",
   "execution_count": 70,
   "id": "4f04b698",
   "metadata": {},
   "outputs": [],
   "source": [
    "a = \"20010630Rainy\"\n",
    "year = a[:4]\n",
    "month = a[4:6]\n",
    "date = a[6:8]\n",
    "weather = a[8:]"
   ]
  },
  {
   "cell_type": "code",
   "execution_count": 65,
   "id": "c3e2fe04",
   "metadata": {},
   "outputs": [
    {
     "data": {
      "text/plain": [
       "'2001'"
      ]
     },
     "execution_count": 65,
     "metadata": {},
     "output_type": "execute_result"
    }
   ],
   "source": [
    "year"
   ]
  },
  {
   "cell_type": "code",
   "execution_count": 66,
   "id": "db3fd476",
   "metadata": {},
   "outputs": [
    {
     "data": {
      "text/plain": [
       "'03'"
      ]
     },
     "execution_count": 66,
     "metadata": {},
     "output_type": "execute_result"
    }
   ],
   "source": [
    "month"
   ]
  },
  {
   "cell_type": "code",
   "execution_count": 67,
   "id": "5485d931",
   "metadata": {},
   "outputs": [
    {
     "data": {
      "text/plain": [
       "'31'"
      ]
     },
     "execution_count": 67,
     "metadata": {},
     "output_type": "execute_result"
    }
   ],
   "source": [
    "date"
   ]
  },
  {
   "cell_type": "code",
   "execution_count": 69,
   "id": "e27a58b8",
   "metadata": {},
   "outputs": [
    {
     "data": {
      "text/plain": [
       "'Rainy'"
      ]
     },
     "execution_count": 69,
     "metadata": {},
     "output_type": "execute_result"
    }
   ],
   "source": [
    "weather"
   ]
  },
  {
   "cell_type": "code",
   "execution_count": null,
   "id": "7bd4b782",
   "metadata": {},
   "outputs": [],
   "source": [
    "a[]"
   ]
  }
 ],
 "metadata": {
  "interpreter": {
   "hash": "9132612d292018844046efb7d61620c385772bf99f2e53a3f7e93381535a3719"
  },
  "kernelspec": {
   "display_name": "Python 3.10.5 ('lab')",
   "language": "python",
   "name": "python3"
  },
  "language_info": {
   "codemirror_mode": {
    "name": "ipython",
    "version": 3
   },
   "file_extension": ".py",
   "mimetype": "text/x-python",
   "name": "python",
   "nbconvert_exporter": "python",
   "pygments_lexer": "ipython3",
   "version": "3.10.5"
  }
 },
 "nbformat": 4,
 "nbformat_minor": 5
}
