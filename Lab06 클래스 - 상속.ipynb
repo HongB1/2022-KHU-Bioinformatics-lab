{
 "cells": [
  {
   "cell_type": "code",
   "execution_count": null,
   "metadata": {},
   "outputs": [],
   "source": []
  }
 ],
 "metadata": {
  "interpreter": {
   "hash": "9132612d292018844046efb7d61620c385772bf99f2e53a3f7e93381535a3719"
  },
  "kernelspec": {
   "display_name": "Python 3.10.5 ('lab')",
   "language": "python",
   "name": "python3"
  },
  "language_info": {
   "name": "python",
   "version": "3.10.5"
  },
  "orig_nbformat": 4
 },
 "nbformat": 4,
 "nbformat_minor": 2
}
