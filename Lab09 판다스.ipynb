{
 "cells": [
  {
   "cell_type": "markdown",
   "metadata": {
    "id": "dmcvyV2iM-Hk"
   },
   "source": [
    "**도구 - 판다스(pandas)**\n",
    "\n",
    "*`pandas` 라이브러리는 사용하기 쉬운 고성능 데이터 구조와 데이터 분석 도구를 제공합니다. 주 데이터 구조는 `DataFrame`입니다. 이를 인-메모리(in-memory) 2D 테이블로 생각할 수 있습니다(열 이름과 행 레이블이 있는 스프레드시트와 비슷합니다). 엑셀에 있는 많은 기능을 프로그램에서 사용할 수 있습니다. 여기에는 피봇 테이블이나 다른 열을 기반으로 열을 계산하고 그래프 출력하는 기능 등이 포함됩니다. 열 값으로 행을 그룹핑할 수도 있습니다. 또한 SQL과 비슷하게 테이블을 조인할 수 있습니다. 판다스는 시계열 데이터를 다루는데도 뛰어납니다.*\n",
    "\n",
    "필요 라이브러리:\n",
    "\n",
    "* 넘파이(NumPy) – 넘파이에 익숙하지 않다면 지금 [넘파이 튜토리얼](tools_numpy.ipynb)을 둘러 보세요."
   ]
  },
  {
   "cell_type": "markdown",
   "metadata": {
    "id": "hJcnOY54M-Hn"
   },
   "source": [
    "<table align=\"left\">\n",
    "  <td>\n",
    "    <a target=\"_blank\" href=\"https://colab.research.google.com/github/rickiepark/handson-ml2/blob/master/tools_pandas.ipynb\"><img src=\"https://www.tensorflow.org/images/colab_logo_32px.png\" />구글 코랩에서 실행하기</a>\n",
    "  </td>\n",
    "</table>"
   ]
  },
  {
   "cell_type": "markdown",
   "metadata": {
    "id": "DhX3IKqdM-Hn"
   },
   "source": [
    "# 설정"
   ]
  },
  {
   "cell_type": "markdown",
   "metadata": {
    "id": "GzcJBw6tM-Ho"
   },
   "source": [
    "먼저 `pandas`를 임포트합니다. 보통 `pd`로 임포트합니다:"
   ]
  },
  {
   "cell_type": "code",
   "execution_count": null,
   "metadata": {
    "id": "lsGtLBb3M-Ho"
   },
   "outputs": [],
   "source": [
    "import pandas as pd"
   ]
  },
  {
   "cell_type": "markdown",
   "metadata": {
    "id": "0wrtA2oaM-Hp"
   },
   "source": [
    "# `Series` 객체\n",
    "\n",
    "`pandas` 라이브러리는 다음과 같은 유용한 데이터 구조를 포함하고 있습니다:\n",
    "\n",
    "* `Series` 객체를 곧 이어서 설명하겠습니다. `Series` 객체는 1D 배열입니다. (열 이름과 행 레이블을 가진) 스프레드시트의 열과 비슷합니다.\n",
    "* `DataFrame` 객체는 2D 테이블입니다. (열 이름과 행 레이블을 가진) 스프레드시트와 비슷합니다."
   ]
  },
  {
   "cell_type": "markdown",
   "metadata": {
    "id": "YD5HTHFYM-Hp"
   },
   "source": [
    "## `Series` 만들기\n",
    "\n",
    "첫 번째 `Series` 객체를 만들어 보죠!"
   ]
  },
  {
   "cell_type": "code",
   "execution_count": null,
   "metadata": {
    "id": "fCAZTiSCM-Hp",
    "outputId": "0ee2914b-ab9e-486e-a5c2-993ad941c083"
   },
   "outputs": [],
   "source": [
    "s = pd.Series([2,-1,3,5])\n",
    "s"
   ]
  },
  {
   "cell_type": "markdown",
   "metadata": {
    "id": "CDH-SNWJM-Hq"
   },
   "source": [
    "## 1D `ndarray`와 비슷합니다\n",
    "\n",
    "`Series` 객체는 넘파이 `ndarray`와 비슷하게 동작합니다. 넘파이 함수에 매개변수로 종종 전달할 수 있습니다:"
   ]
  },
  {
   "cell_type": "code",
   "execution_count": null,
   "metadata": {
    "id": "qslNH_HoM-Hq",
    "outputId": "e40e3801-88d1-414e-ca53-e23bacf19e09"
   },
   "outputs": [],
   "source": [
    "import numpy as np\n",
    "np.exp(s)"
   ]
  },
  {
   "cell_type": "markdown",
   "metadata": {
    "id": "fz4sA0ypM-Hr"
   },
   "source": [
    "`Series` 객체에 대한 산술 연산도 가능합니다. `ndarray`와 비슷하게 *원소별*로 적용됩니다:"
   ]
  },
  {
   "cell_type": "code",
   "execution_count": null,
   "metadata": {
    "id": "xgOy6P2BM-Hr",
    "outputId": "34efeb96-9664-47fa-d27d-e457355a7b0d"
   },
   "outputs": [],
   "source": [
    "s + [1000,2000,3000,4000]"
   ]
  },
  {
   "cell_type": "markdown",
   "metadata": {
    "id": "pfDnTDnaM-Hr"
   },
   "source": [
    "넘파이와 비슷하게 `Series`에 하나의 숫자를 더하면 `Series`에 있는 모든 원소에 더해집니다. 이를 *브로드캐스팅*(broadcasting)이라고 합니다:"
   ]
  },
  {
   "cell_type": "code",
   "execution_count": null,
   "metadata": {
    "id": "HmQM_8xcM-Hr",
    "outputId": "3c3fd12a-8200-467a-f096-3a82456d8c96"
   },
   "outputs": [],
   "source": [
    "s + 1000"
   ]
  },
  {
   "cell_type": "markdown",
   "metadata": {
    "id": "6quGmvqjM-Hs"
   },
   "source": [
    "`*`나 `/` 같은 모든 이항 연산과 심지어 조건 연산에서도 마찬가지입니다:"
   ]
  },
  {
   "cell_type": "code",
   "execution_count": null,
   "metadata": {
    "id": "5sW_WCrcM-Hs",
    "outputId": "c7d60a16-9ef8-4feb-a00f-5d643c3f6843"
   },
   "outputs": [],
   "source": [
    "s < 0"
   ]
  },
  {
   "cell_type": "markdown",
   "metadata": {
    "id": "LL6ElRyXM-Hs"
   },
   "source": [
    "## 인덱스 레이블\n",
    "\n",
    "`Series` 객체에 있는 각 원소는 *인덱스 레이블*(index label)이라 불리는 고유한 식별자를 가지고 있습니다. 기본적으로 `Series`에 있는 원소의 순서입니다(`0`에서 시작합니다). 하지만 수동으로 인덱스 레이블을 지정할 수도 있습니다:"
   ]
  },
  {
   "cell_type": "code",
   "execution_count": null,
   "metadata": {
    "id": "l5_u-HNOM-Ht",
    "outputId": "e9882fe3-ad2c-4eaf-f5be-d9b01c5d848e"
   },
   "outputs": [],
   "source": [
    "s2 = pd.Series([68, 83, 112, 68], index=[\"alice\", \"bob\", \"charles\", \"darwin\"])\n",
    "s2"
   ]
  },
  {
   "cell_type": "markdown",
   "metadata": {
    "id": "Odkqn6U5M-Ht"
   },
   "source": [
    "그다음 `dict`처럼 `Series`를 사용할 수 있습니다:"
   ]
  },
  {
   "cell_type": "code",
   "execution_count": null,
   "metadata": {
    "id": "-HSSdXlwM-Ht",
    "outputId": "2407c4b5-c6ec-4bd5-9a94-5367f98067ed"
   },
   "outputs": [],
   "source": [
    "s2[\"bob\"]"
   ]
  },
  {
   "cell_type": "markdown",
   "metadata": {
    "id": "J9hgC7qaM-Ht"
   },
   "source": [
    "일반 배열처럼 정수 인덱스를 사용하여 계속 원소에 접근할 수 있습니다:"
   ]
  },
  {
   "cell_type": "code",
   "execution_count": null,
   "metadata": {
    "id": "GRWJEkfBM-Hu",
    "outputId": "764d02e7-6ef5-406f-cbc5-ee200e95d577"
   },
   "outputs": [],
   "source": [
    "s2[1]"
   ]
  },
  {
   "cell_type": "markdown",
   "metadata": {
    "id": "eMtfaokIM-Hu"
   },
   "source": [
    "레이블이나 정수를 사용해 접근할 때 명확하게 하기 위해 레이블은 `loc` 속성을 사용하고 정수는 `iloc` 속성을 사용하는 것이 좋습니다:"
   ]
  },
  {
   "cell_type": "code",
   "execution_count": null,
   "metadata": {
    "id": "Wlyp6wtIM-Hu",
    "outputId": "37c1c665-8ebd-46d0-a905-55f580d784be"
   },
   "outputs": [],
   "source": [
    "s2.loc[\"bob\"]"
   ]
  },
  {
   "cell_type": "code",
   "execution_count": null,
   "metadata": {
    "id": "zLUI03_mM-Hu",
    "outputId": "514b39c0-883e-4ed1-9e6e-cd681187783e"
   },
   "outputs": [],
   "source": [
    "s2.iloc[1]"
   ]
  },
  {
   "cell_type": "markdown",
   "metadata": {
    "id": "LM4ag0C_M-Hu"
   },
   "source": [
    "`Series`는 인덱스 레이블을 슬라이싱할 수도 있습니다:"
   ]
  },
  {
   "cell_type": "code",
   "execution_count": null,
   "metadata": {
    "id": "6PSveZ_PM-Hv",
    "outputId": "4651e174-498c-4498-a1db-9fa399e73486"
   },
   "outputs": [],
   "source": [
    "s2.iloc[1:3]"
   ]
  },
  {
   "cell_type": "markdown",
   "metadata": {
    "id": "imNouvNfM-Hv"
   },
   "source": [
    "기본 정수 레이블을 사용할 때 예상 외의 결과를 만들 수 있기 때문에 주의해야 합니다:"
   ]
  },
  {
   "cell_type": "code",
   "execution_count": null,
   "metadata": {
    "id": "8ufmsIlWM-Hv",
    "outputId": "ec8722ea-a188-4c2b-971b-da8fcadf1d26"
   },
   "outputs": [],
   "source": [
    "surprise = pd.Series([1000, 1001, 1002, 1003])\n",
    "surprise"
   ]
  },
  {
   "cell_type": "code",
   "execution_count": null,
   "metadata": {
    "id": "iqmQasaEM-Hv",
    "outputId": "018ad5f1-37f7-4e0e-ec2d-a10b59667edc"
   },
   "outputs": [],
   "source": [
    "surprise_slice = surprise[2:]\n",
    "surprise_slice"
   ]
  },
  {
   "cell_type": "markdown",
   "metadata": {
    "id": "y_ymp8P3M-Hw"
   },
   "source": [
    "보세요. 첫 번째 원소의 인덱스 레이블이 `2`입니다. 따라서 슬라이싱 결과에서 인덱스 레이블 `0`인 원소는 없습니다:"
   ]
  },
  {
   "cell_type": "code",
   "execution_count": null,
   "metadata": {
    "id": "ax1GEyXBM-Hw",
    "outputId": "d92fa592-394e-422e-ed7f-8f548da110fc"
   },
   "outputs": [],
   "source": [
    "try:\n",
    "    surprise_slice[0]\n",
    "except KeyError as e:\n",
    "    print(\"키 에러:\", e)"
   ]
  },
  {
   "cell_type": "markdown",
   "metadata": {
    "id": "zmlmC16yM-Hw"
   },
   "source": [
    "하지만 `iloc` 속성을 사용해 정수 인덱스로 원소에 접근할 수 있습니다. `Series` 객체를 사용할 때 `loc`와 `iloc`를 사용하는 것이 좋은 이유입니다:"
   ]
  },
  {
   "cell_type": "code",
   "execution_count": null,
   "metadata": {
    "id": "rZq4GMDsM-Hx",
    "outputId": "cf78cec6-8aa4-4a1a-e68e-5dca2add3a8b"
   },
   "outputs": [],
   "source": [
    "surprise_slice.iloc[0]"
   ]
  },
  {
   "cell_type": "markdown",
   "metadata": {
    "id": "4oAE9gGrM-Hy"
   },
   "source": [
    "## `dict`에서 초기화\n",
    "\n",
    "`dict`에서 `Series` 객체를 만들 수 있습니다. 키는 인덱스 레이블로 사용됩니다:"
   ]
  },
  {
   "cell_type": "code",
   "execution_count": null,
   "metadata": {
    "id": "PqpQvKiRM-Hy",
    "outputId": "07fdd658-1105-4068-fd47-7fe2016279d3"
   },
   "outputs": [],
   "source": [
    "weights = {\"alice\": 68, \"bob\": 83, \"colin\": 86, \"darwin\": 68}\n",
    "s3 = pd.Series(weights)\n",
    "s3"
   ]
  },
  {
   "cell_type": "markdown",
   "metadata": {
    "id": "nvhi_m3mM-Hy"
   },
   "source": [
    "`Series`에 포함할 원소를 제어하고 `index`를 지정하여 명시적으로 순서를 결정할 수 있습니다:"
   ]
  },
  {
   "cell_type": "code",
   "execution_count": null,
   "metadata": {
    "id": "oIg75bxcM-Hz",
    "outputId": "08ea63fc-b7ba-4ab2-c1b7-5900641677c1"
   },
   "outputs": [],
   "source": [
    "s4 = pd.Series(weights, index = [\"colin\", \"alice\"])\n",
    "s4"
   ]
  },
  {
   "cell_type": "markdown",
   "metadata": {
    "id": "Im2-XBOrM-Hz"
   },
   "source": [
    "## 자동 정렬\n",
    "\n",
    "여러 개의 `Series` 객체를 다룰 때 `pandas`는 자동으로 인덱스 레이블에 따라 원소를 정렬합니다."
   ]
  },
  {
   "cell_type": "code",
   "execution_count": null,
   "metadata": {
    "id": "2ktDGIQIM-Hz",
    "outputId": "70104f1d-dd66-4844-ea37-c983da0baf09"
   },
   "outputs": [],
   "source": [
    "print(s2.keys())\n",
    "print(s3.keys())\n",
    "\n",
    "s2 + s3"
   ]
  },
  {
   "cell_type": "markdown",
   "metadata": {
    "id": "S2pr3zp3M-Hz"
   },
   "source": [
    "만들어진 `Series`는 `s2`와 `s3`의 인덱스 레이블의 합집합을 담고 있습니다. `s2`에 `\"colin\"`이 없고 `s3`에 `\"charles\"`가 없기 때문에 이 원소는 `NaN` 값을 가집니다(Not-a-Number는 *누락*이란 의미입니다).\n",
    "\n",
    "자동 정렬은 구조가 다고 누락된 값이 있는 여러 데이터를 다룰 때 매우 편리합니다. 하지만 올바른 인덱스 레이블을 지정하는 것을 잊는다면 원치않는 결과를 얻을 수 있습니다:"
   ]
  },
  {
   "cell_type": "code",
   "execution_count": null,
   "metadata": {
    "id": "WSNk-q76M-H0",
    "outputId": "fc3149ca-6649-49f8-d4a2-9dcc3d022243"
   },
   "outputs": [],
   "source": [
    "s5 = pd.Series([1000,1000,1000,1000])\n",
    "print(\"s2 =\", s2.values)\n",
    "print(\"s5 =\", s5.values)\n",
    "\n",
    "s2 + s5"
   ]
  },
  {
   "cell_type": "markdown",
   "metadata": {
    "id": "otSDow86M-H0"
   },
   "source": [
    "레이블이 하나도 맞지 않기 때문에 판다스가 이 `Series`를 정렬할 수 없습니다. 따라서 모두 `NaN`이 되었습니다."
   ]
  },
  {
   "cell_type": "markdown",
   "metadata": {
    "id": "4FJ0bT48M-H0"
   },
   "source": [
    "## 스칼라로 초기화\n",
    "\n",
    "스칼라와 인덱스 레이블의 리스트로 `Series` 객체를 초기화할 수도 있습니다: 모든 원소가 이 스칼라 값으로 설정됩니다."
   ]
  },
  {
   "cell_type": "code",
   "execution_count": 10,
   "metadata": {
    "execution": {
     "iopub.execute_input": "2021-10-05T02:26:14.310851Z",
     "iopub.status.busy": "2021-10-05T02:26:14.310663Z",
     "iopub.status.idle": "2021-10-05T02:26:14.313203Z",
     "shell.execute_reply": "2021-10-05T02:26:14.312753Z",
     "shell.execute_reply.started": "2021-10-05T02:26:14.310832Z"
    },
    "tags": []
   },
   "outputs": [],
   "source": [
    "import pandas as pd\n",
    "import numpy as np"
   ]
  },
  {
   "cell_type": "code",
   "execution_count": 11,
   "metadata": {
    "execution": {
     "iopub.execute_input": "2021-10-05T02:26:14.486884Z",
     "iopub.status.busy": "2021-10-05T02:26:14.486703Z",
     "iopub.status.idle": "2021-10-05T02:26:14.491000Z",
     "shell.execute_reply": "2021-10-05T02:26:14.490592Z",
     "shell.execute_reply.started": "2021-10-05T02:26:14.486864Z"
    },
    "id": "Ec8QidjLM-H1",
    "outputId": "f2ffba2b-117d-44a8-abd5-fa6846a5278f",
    "tags": []
   },
   "outputs": [
    {
     "data": {
      "text/plain": [
       "life          42\n",
       "universe      42\n",
       "everything    42\n",
       "dtype: int64"
      ]
     },
     "execution_count": 11,
     "metadata": {},
     "output_type": "execute_result"
    }
   ],
   "source": [
    "meaning = pd.Series(42, [\"life\", \"universe\", \"everything\"])\n",
    "meaning"
   ]
  },
  {
   "cell_type": "markdown",
   "metadata": {
    "id": "khJbOXIcM-H1"
   },
   "source": [
    "## `Series` 이름\n",
    "\n",
    "`Series`는 `name`을 가질 수 있습니다:"
   ]
  },
  {
   "cell_type": "code",
   "execution_count": 3,
   "metadata": {
    "execution": {
     "iopub.execute_input": "2021-10-05T02:24:56.639237Z",
     "iopub.status.busy": "2021-10-05T02:24:56.639054Z",
     "iopub.status.idle": "2021-10-05T02:24:56.643680Z",
     "shell.execute_reply": "2021-10-05T02:24:56.643226Z",
     "shell.execute_reply.started": "2021-10-05T02:24:56.639217Z"
    },
    "id": "R_7rj_PRM-H1",
    "outputId": "71902ff4-a724-43ea-900b-57e69336c255"
   },
   "outputs": [
    {
     "data": {
      "text/plain": [
       "bob      83\n",
       "alice    68\n",
       "Name: weights, dtype: int64"
      ]
     },
     "execution_count": 3,
     "metadata": {},
     "output_type": "execute_result"
    }
   ],
   "source": [
    "s6 = pd.Series([83, 68], index=[\"bob\", \"alice\"], name=\"weights\")\n",
    "s6"
   ]
  },
  {
   "cell_type": "markdown",
   "metadata": {
    "id": "vRO0URZeM-H1"
   },
   "source": [
    "## `Series` 그래프 출력\n",
    "\n",
    "맷플롯립을 사용해 `Series` 데이터를 쉽게 그래프로 출력할 수 있습니다(맷플롯립에 대한 자세한 설명은 [맷플롯립 튜토리얼](tools_matplotlib.ipynb)을 참고하세요). 맷플롯립을 임포트하고 `plot()` 메서드를 호출하면 끝입니다:"
   ]
  },
  {
   "cell_type": "code",
   "execution_count": 4,
   "metadata": {
    "execution": {
     "iopub.execute_input": "2021-10-05T02:25:11.800973Z",
     "iopub.status.busy": "2021-10-05T02:25:11.800784Z",
     "iopub.status.idle": "2021-10-05T02:25:12.292129Z",
     "shell.execute_reply": "2021-10-05T02:25:12.291695Z",
     "shell.execute_reply.started": "2021-10-05T02:25:11.800956Z"
    },
    "id": "F3StvLpAM-H1",
    "outputId": "572de067-887d-415e-ced9-a7f98a79d475",
    "scrolled": true,
    "tags": []
   },
   "outputs": [
    {
     "data": {
      "image/png": "[encoded data removed]",
      "text/plain": [
       "<Figure size 432x288 with 1 Axes>"
      ]
     },
     "metadata": {
      "needs_background": "light"
     },
     "output_type": "display_data"
    }
   ],
   "source": [
    "%matplotlib inline\n",
    "import matplotlib.pyplot as plt\n",
    "temperatures = [4.4,5.1,6.1,6.2,6.1,6.1,5.7,5.2,4.7,4.1,3.9,3.5]\n",
    "s7 = pd.Series(temperatures, name=\"Temperature\")\n",
    "s7.plot()\n",
    "plt.show()"
   ]
  },
  {
   "cell_type": "markdown",
   "metadata": {
    "id": "4Ub3mY4SM-H1"
   },
   "source": [
    "데이터를 그래프로 출력하는데 많은 *옵션*이 있습니다. 여기에서 모두 나열할 필요는 없습니다. 특정 종류의 그래프(히스토그램, 파이 차트 등)가 필요하면 판다스 문서의 [시각화](http://pandas.pydata.org/pandas-docs/stable/visualization.html) 섹션에서 예제 코드를 참고하세요."
   ]
  },
  {
   "cell_type": "code",
   "execution_count": null,
   "metadata": {
    "id": "tTg7v8ibM-H2",
    "outputId": "4a6d2c17-fc14-4bf9-f33a-fcfca63d5475"
   },
   "outputs": [],
   "source": [
    "dates = pd.date_range('2016/10/29 5:30pm', periods=12, freq='H')\n",
    "dates"
   ]
  },
  {
   "cell_type": "markdown",
   "metadata": {
    "id": "dDAy5dYcM-H2"
   },
   "source": [
    "이 `DatetimeIndex`를 `Series`의 인덱스로 사용할수 있습니다:"
   ]
  },
  {
   "cell_type": "code",
   "execution_count": null,
   "metadata": {
    "id": "Xmjcl_t7M-H2",
    "outputId": "865c9b0d-d9c1-4471-86c7-a28c7680823a"
   },
   "outputs": [],
   "source": [
    "temp_series = pd.Series(temperatures, dates)\n",
    "temp_series"
   ]
  },
  {
   "cell_type": "markdown",
   "metadata": {
    "id": "xcN-9FqoM-H2"
   },
   "source": [
    "이 시리즈를 그래프로 출력해 보죠:"
   ]
  },
  {
   "cell_type": "code",
   "execution_count": null,
   "metadata": {
    "id": "dBvNYSKGM-H2",
    "outputId": "08417cab-0885-4032-e33e-c70586581dcb"
   },
   "outputs": [],
   "source": [
    "temp_series.plot(kind=\"bar\")\n",
    "\n",
    "plt.grid(True)\n",
    "plt.show()"
   ]
  },
  {
   "cell_type": "markdown",
   "metadata": {
    "id": "d9mv5TIQM-H3"
   },
   "source": [
    "## 리샘플링\n",
    "\n",
    "판다스는 매우 간단하게 시계열을 리샘플링할 수 있습니다. `resample()` 메서드를 호출하고 새로운 주기를 지정하면 됩니다:"
   ]
  },
  {
   "cell_type": "code",
   "execution_count": null,
   "metadata": {
    "id": "vKwYHQ2YM-H3",
    "outputId": "e4593255-ee4f-4da4-c121-537e2b885f82"
   },
   "outputs": [],
   "source": [
    "temp_series_freq_2H = temp_series.resample(\"2H\")\n",
    "temp_series_freq_2H"
   ]
  },
  {
   "cell_type": "markdown",
   "metadata": {
    "id": "4TYzaeNlM-H3"
   },
   "source": [
    "리샘플링 연산은 사실 지연된 연산입니다. 그래서 `Series` 객체 대신 `DatetimeIndexResampler` 객체가 반환됩니다. 실제 리샘플링 연산을 수행하려면 `mean()` 같은 메서드를 호출할 수 있습니다. 이 메서드는 연속적인 시간 쌍에 대해 평균을 계산합니다:"
   ]
  },
  {
   "cell_type": "code",
   "execution_count": null,
   "metadata": {
    "id": "XCqhFiw5M-H3"
   },
   "outputs": [],
   "source": [
    "temp_series_freq_2H = temp_series_freq_2H.mean()"
   ]
  },
  {
   "cell_type": "markdown",
   "metadata": {
    "id": "Gb81_afnM-H3"
   },
   "source": [
    "결과를 그래프로 출력해 보죠:"
   ]
  },
  {
   "cell_type": "code",
   "execution_count": null,
   "metadata": {
    "id": "aAzwD_gbM-H3",
    "outputId": "0c6485fb-bca3-47a4-be1b-7c6724b88551"
   },
   "outputs": [],
   "source": [
    "temp_series_freq_2H.plot(kind=\"bar\")\n",
    "plt.show()"
   ]
  },
  {
   "cell_type": "markdown",
   "metadata": {
    "id": "Wf1DNlCwM-H3"
   },
   "source": [
    "2시간 간격으로 어떻게 값이 수집되었는지 확인해 보세요. 예를 들어 6-8pm 간격을 보면 6:30pm에서 `5.1`이고 7:30pm에서 `6.1`입니다. 리샘플링 후에 `5.1`과 `6.1`의 평균인 `5.6` 하나를 얻었습니다. 평균말고 어떤 집계 함수(aggregation function)도 사용할 수 있습니다. 예를 들어 각 기간에서 최솟값을 찾을 수 있습니다:"
   ]
  },
  {
   "cell_type": "code",
   "execution_count": null,
   "metadata": {
    "id": "TJZr9-WOM-H3",
    "outputId": "7ce5ea8b-f502-4be1-f3ef-0e82e18381c6"
   },
   "outputs": [],
   "source": [
    "temp_series_freq_2H = temp_series.resample(\"2H\").min()\n",
    "temp_series_freq_2H"
   ]
  },
  {
   "cell_type": "markdown",
   "metadata": {
    "id": "6gMe1vJfM-H3"
   },
   "source": [
    "또는 동일한 효과를 내는 `apply()` 메서드를 사용할 수 있습니다:"
   ]
  },
  {
   "cell_type": "code",
   "execution_count": null,
   "metadata": {
    "id": "P3mhvnr1M-H4",
    "outputId": "e6ffff2a-d876-4035-c890-f6e60e73dd97"
   },
   "outputs": [],
   "source": [
    "temp_series_freq_2H = temp_series.resample(\"2H\").apply(np.min)\n",
    "temp_series_freq_2H"
   ]
  },
  {
   "cell_type": "markdown",
   "metadata": {
    "id": "7dGqXOFTM-H4"
   },
   "source": [
    "## 업샘플링과 보간\n",
    "\n",
    "다운샘플링의 예를 보았습니다. 하지만 업샘플링(즉, 빈도를 높입니다)도 할 수 있습니다. 하지만 데이터에 구멍을 만듭니다:"
   ]
  },
  {
   "cell_type": "code",
   "execution_count": null,
   "metadata": {
    "id": "tL2BuMguM-H4",
    "outputId": "76522cd6-2969-40ca-eb7e-10d6b768893a"
   },
   "outputs": [],
   "source": [
    "temp_series_freq_15min = temp_series.resample(\"15Min\").mean()\n",
    "temp_series_freq_15min.head(n=10) # `head`는 상위 n 개의 값만 출력합니다"
   ]
  },
  {
   "cell_type": "markdown",
   "metadata": {
    "id": "4FiewusaM-H4"
   },
   "source": [
    "한가지 방법은 보간으로 사이를 채우는 것입니다. 이렇게 하려면 `interpolate()` 메서드를 호출합니다. 기본값은 선형 보간이지만 3차 보간(cubic interpolation) 같은 다른 방법을 선택할 수 있습니다:"
   ]
  },
  {
   "cell_type": "code",
   "execution_count": null,
   "metadata": {
    "id": "xztEe1qUM-H4",
    "outputId": "eb82b02a-01b5-41bb-e871-65f55203ce30",
    "scrolled": true
   },
   "outputs": [],
   "source": [
    "temp_series_freq_15min = temp_series.resample(\"15Min\").interpolate(method=\"cubic\")\n",
    "temp_series_freq_15min.head(n=10)"
   ]
  },
  {
   "cell_type": "code",
   "execution_count": null,
   "metadata": {
    "id": "93MUF5OvM-H4",
    "outputId": "7647bb76-7126-4288-a5a9-af20a5ed2084"
   },
   "outputs": [],
   "source": [
    "temp_series.plot(label=\"Period: 1 hour\")\n",
    "temp_series_freq_15min.plot(label=\"Period: 15 minutes\")\n",
    "plt.legend()\n",
    "plt.show()"
   ]
  },
  {
   "cell_type": "markdown",
   "metadata": {
    "id": "_yVPwsj_M-H5"
   },
   "source": [
    "## 시간대\n",
    "\n",
    "기본적으로 datetime은 *단순*합니다. 시간대(timezone)을 고려하지 않죠. 따라서 2016-10-30 02:30는 파리나 뉴욕이나 2016년 10월 30일 2:30pm입니다. `tz_localize()` 메서드로 시간대를 고려한 datetime을 만들 수 있습니다:"
   ]
  },
  {
   "cell_type": "code",
   "execution_count": null,
   "metadata": {
    "id": "xE-pEg8RM-H5",
    "outputId": "c2250d97-a986-4851-bad9-bac518482459"
   },
   "outputs": [],
   "source": [
    "temp_series_ny = temp_series.tz_localize(\"America/New_York\")\n",
    "temp_series_ny"
   ]
  },
  {
   "cell_type": "markdown",
   "metadata": {
    "id": "SU2W1eP8M-H5"
   },
   "source": [
    "모든 datetime에 `-04:00`이 추가됩니다. 즉 모든 시간은 [UTC](https://en.wikipedia.org/wiki/Coordinated_Universal_Time) - 4시간을 의미합니다.\n",
    "\n",
    "다음처럼 파리 시간대로 바꿀 수 있습니다:"
   ]
  },
  {
   "cell_type": "code",
   "execution_count": null,
   "metadata": {
    "id": "AmLRsFKcM-H5",
    "outputId": "5ff458f2-d042-4829-bf27-382f482a6096"
   },
   "outputs": [],
   "source": [
    "temp_series_paris = temp_series_ny.tz_convert(\"Europe/Paris\")\n",
    "temp_series_paris"
   ]
  },
  {
   "cell_type": "markdown",
   "metadata": {
    "id": "xotPYd9UM-H5"
   },
   "source": [
    "UTC와의 차이가 `+02:00`에서 `+01:00`으로 바뀐 것을 알 수 있습니다. 이는 프랑스가 10월 30일 3am에 겨울 시간으로 바꾸기 때문입니다(2am으로 바뀝니다). 따라서 2:30am이 두 번 등장합니다! 시간대가 없는 표현으로 돌아가 보죠(시간대가 없이 지역 시간으로 매시간 로그를 기록하는 경우 이와 비슷할 것입니다):"
   ]
  },
  {
   "cell_type": "code",
   "execution_count": null,
   "metadata": {
    "id": "FeVQQZYtM-H5",
    "outputId": "69f5122a-ca81-4c93-cd2f-fa0b857a7dc1"
   },
   "outputs": [],
   "source": [
    "temp_series_paris_naive = temp_series_paris.tz_localize(None)\n",
    "temp_series_paris_naive"
   ]
  },
  {
   "cell_type": "markdown",
   "metadata": {
    "id": "YgIDyBh3M-H6"
   },
   "source": [
    "이렇게 되면 `02:30`이 정말 애매합니다. 시간대가 없는 datetime을 파리 시간대로 바꿀 때 에러가 발생합니다:"
   ]
  },
  {
   "cell_type": "code",
   "execution_count": null,
   "metadata": {
    "id": "XxG_mWvtM-H6",
    "outputId": "9aa6ddbf-0c44-4b2c-eb01-147b470210ec"
   },
   "outputs": [],
   "source": [
    "try:\n",
    "    temp_series_paris_naive.tz_localize(\"Europe/Paris\")\n",
    "except Exception as e:\n",
    "    print(type(e))\n",
    "    print(e)"
   ]
  },
  {
   "cell_type": "markdown",
   "metadata": {
    "id": "sxZ68_6PM-H6"
   },
   "source": [
    "다행히 `ambiguous` 매개변수를 사용하면 판다스가 타임스탬프의 순서를 기반으로 적절한 DST(일광 절약 시간제)를 추측합니다:"
   ]
  },
  {
   "cell_type": "code",
   "execution_count": null,
   "metadata": {
    "id": "piGI_BNdM-H6",
    "outputId": "f26fbc5e-9735-4c9a-8152-29ba9ec2e1c8"
   },
   "outputs": [],
   "source": [
    "temp_series_paris_naive.tz_localize(\"Europe/Paris\", ambiguous=\"infer\")"
   ]
  },
  {
   "cell_type": "markdown",
   "metadata": {
    "id": "4TAoqoR0M-H6"
   },
   "source": [
    "## 기간\n",
    "\n",
    "`pd.period_range()` 함수는 `DatetimeIndex`가 아니라 `PeriodIndex`를 반환합니다. 예를 들어 2016과 2017년의 전체 분기를 가져와 보죠:"
   ]
  },
  {
   "cell_type": "code",
   "execution_count": null,
   "metadata": {
    "id": "KPxdG-pUM-H6",
    "outputId": "cfc100bb-7bd5-4e1d-f7d0-01210864ce77"
   },
   "outputs": [],
   "source": [
    "quarters = pd.period_range('2016Q1', periods=8, freq='Q')\n",
    "quarters"
   ]
  },
  {
   "cell_type": "markdown",
   "metadata": {
    "id": "05MoBOBcM-H6"
   },
   "source": [
    "`PeriodIndex`에 숫자 `N`을 추가하면 `PeriodIndex` 빈도의 `N` 배만큼 이동시킵니다:"
   ]
  },
  {
   "cell_type": "code",
   "execution_count": null,
   "metadata": {
    "id": "9n-BjS8KM-H6",
    "outputId": "0734e72a-fa2a-4102-b5eb-6f14c84544dc"
   },
   "outputs": [],
   "source": [
    "quarters + 3"
   ]
  },
  {
   "cell_type": "markdown",
   "metadata": {
    "id": "OCRK2J_aM-H7"
   },
   "source": [
    "`asfreq()` 메서드를 사용하면 `PeriodIndex`의 빈도를 바꿀 수 있습니다. 모든 기간이 늘어나거나 줄어듭니다. 예를 들어 분기 기간을 모두 월별 기간으로 바꾸어 보죠:"
   ]
  },
  {
   "cell_type": "code",
   "execution_count": null,
   "metadata": {
    "id": "NTmUd7LQM-H7",
    "outputId": "b4d5017d-29a7-48c0-b096-9199578bc40a"
   },
   "outputs": [],
   "source": [
    "quarters.asfreq(\"M\")"
   ]
  },
  {
   "cell_type": "markdown",
   "metadata": {
    "id": "0_UceWswM-H7"
   },
   "source": [
    "기본적으로 `asfreq`는 각 기간의 끝에 맞춥니다. 기간의 시작에 맞추도록 변경할 수 있습니다:"
   ]
  },
  {
   "cell_type": "code",
   "execution_count": null,
   "metadata": {
    "id": "5m4sF7tJM-H7",
    "outputId": "2f9116f2-b763-4d19-bbf3-253e4b48bd83"
   },
   "outputs": [],
   "source": [
    "quarters.asfreq(\"M\", how=\"start\")"
   ]
  },
  {
   "cell_type": "markdown",
   "metadata": {
    "id": "xbDHg_kdM-H7"
   },
   "source": [
    "간격을 늘릴 수도 있습니다:"
   ]
  },
  {
   "cell_type": "code",
   "execution_count": null,
   "metadata": {
    "id": "RNjM1YqZM-H7",
    "outputId": "8aaf5d5c-e09c-4593-c959-ed8c313e4265"
   },
   "outputs": [],
   "source": [
    "quarters.asfreq(\"A\")"
   ]
  },
  {
   "cell_type": "markdown",
   "metadata": {
    "id": "AYOwA5sDM-H7"
   },
   "source": [
    "물론 `PeriodIndex`로 `Series`를 만들 수 있습니다:"
   ]
  },
  {
   "cell_type": "code",
   "execution_count": null,
   "metadata": {
    "id": "61ZLC5CFM-H8",
    "outputId": "4b8fd52d-5211-468c-ee91-2d322d162020"
   },
   "outputs": [],
   "source": [
    "quarterly_revenue = pd.Series([300, 320, 290, 390, 320, 360, 310, 410], index = quarters)\n",
    "quarterly_revenue"
   ]
  },
  {
   "cell_type": "code",
   "execution_count": null,
   "metadata": {
    "id": "jIxiNOc6M-H8",
    "outputId": "b64200ac-6e3e-4a54-ca06-0f66a954f3ef"
   },
   "outputs": [],
   "source": [
    "quarterly_revenue.plot(kind=\"line\")\n",
    "plt.show()"
   ]
  },
  {
   "cell_type": "markdown",
   "metadata": {
    "id": "7xccArbJM-H8"
   },
   "source": [
    "`to_timestamp`를 호출해서 기간을 타임스탬프로 변경할 수 있습니다. 기본적으로 기간의 첫 번째 날을 반환합니다. 하지만 `how`와 `freq`를 지정해서 기간의 마지막 시간을 얻을 수 있습니다:"
   ]
  },
  {
   "cell_type": "code",
   "execution_count": null,
   "metadata": {
    "id": "tlRUL51HM-H8",
    "outputId": "fc98f160-da44-4d7f-98e7-c0f2e2dd9a1b"
   },
   "outputs": [],
   "source": [
    "last_hours = quarterly_revenue.to_timestamp(how=\"end\", freq=\"H\")\n",
    "last_hours"
   ]
  },
  {
   "cell_type": "markdown",
   "metadata": {
    "id": "lSvZaT_6M-H8"
   },
   "source": [
    "`to_peroid`를 호출하면 다시 기간으로 돌아갑니다:"
   ]
  },
  {
   "cell_type": "code",
   "execution_count": null,
   "metadata": {
    "id": "dU1m7Kj5M-H8",
    "outputId": "7dbe2ca3-2e49-4054-fd0d-7b155d05433f"
   },
   "outputs": [],
   "source": [
    "last_hours.to_period()"
   ]
  },
  {
   "cell_type": "markdown",
   "metadata": {
    "id": "-n3lAQOYM-H9"
   },
   "source": [
    "판다스는 여러 가지 시간 관련 함수를 많이 제공합니다. [온라인 문서](http://pandas.pydata.org/pandas-docs/stable/timeseries.html)를 확인해 보세요. 예를 하나 들면 2016년 매월 마지막 업무일의 9시를 얻는 방법은 다음과 같습니다:"
   ]
  },
  {
   "cell_type": "code",
   "execution_count": null,
   "metadata": {
    "id": "Gjm57ySgM-H9",
    "outputId": "30d43634-6baa-49a7-c422-e4b814a3db84"
   },
   "outputs": [],
   "source": [
    "months_2016 = pd.period_range(\"2016\", periods=12, freq=\"M\")\n",
    "one_day_after_last_days = months_2016.asfreq(\"D\") + 1\n",
    "last_bdays = one_day_after_last_days.to_timestamp() - pd.tseries.offsets.BDay()\n",
    "last_bdays.to_period(\"H\") + 9"
   ]
  },
  {
   "cell_type": "markdown",
   "metadata": {
    "id": "YEPs5UnDM-H9"
   },
   "source": [
    "# `DataFrame` 객체\n",
    "\n",
    "데이터프레임 객체는 스프레드시트를 표현합니다. 셀 값, 열 이름, 행 인덱스 레이블을 가집니다. 다른 열을 바탕으로 열을 계산하는 식을 쓸 수 있고 피봇 테이블을 만들고, 행을 그룹핑하고, 그래프를 그릴 수 있습니다. `DataFrame`을 `Series`의 딕셔너리로 볼 수 있습니다.\n",
    "\n",
    "## `DataFrame` 만들기\n",
    "\n",
    "`Series` 객체의 딕셔너리를 전달하여 데이터프레임을 만들 수 있습니다:"
   ]
  },
  {
   "cell_type": "code",
   "execution_count": 5,
   "metadata": {
    "execution": {
     "iopub.execute_input": "2021-10-05T02:25:39.363125Z",
     "iopub.status.busy": "2021-10-05T02:25:39.362940Z",
     "iopub.status.idle": "2021-10-05T02:25:39.399289Z",
     "shell.execute_reply": "2021-10-05T02:25:39.398878Z",
     "shell.execute_reply.started": "2021-10-05T02:25:39.363107Z"
    },
    "id": "3bSzZH6NM-H9",
    "outputId": "998b2453-95ad-48c6-b596-5c6c74e486ae"
   },
   "outputs": [
    {
     "data": {
      "text/html": [
       "<div>\n",
       "<style scoped>\n",
       "    .dataframe tbody tr th:only-of-type {\n",
       "        vertical-align: middle;\n",
       "    }\n",
       "\n",
       "    .dataframe tbody tr th {\n",
       "        vertical-align: top;\n",
       "    }\n",
       "\n",
       "    .dataframe thead th {\n",
       "        text-align: right;\n",
       "    }\n",
       "</style>\n",
       "<table border=\"1\" class=\"dataframe\">\n",
       "  <thead>\n",
       "    <tr style=\"text-align: right;\">\n",
       "      <th></th>\n",
       "      <th>weight</th>\n",
       "      <th>birthyear</th>\n",
       "      <th>children</th>\n",
       "      <th>hobby</th>\n",
       "    </tr>\n",
       "  </thead>\n",
       "  <tbody>\n",
       "    <tr>\n",
       "      <th>alice</th>\n",
       "      <td>68</td>\n",
       "      <td>1985</td>\n",
       "      <td>NaN</td>\n",
       "      <td>Biking</td>\n",
       "    </tr>\n",
       "    <tr>\n",
       "      <th>bob</th>\n",
       "      <td>83</td>\n",
       "      <td>1984</td>\n",
       "      <td>3.0</td>\n",
       "      <td>Dancing</td>\n",
       "    </tr>\n",
       "    <tr>\n",
       "      <th>charles</th>\n",
       "      <td>112</td>\n",
       "      <td>1992</td>\n",
       "      <td>0.0</td>\n",
       "      <td>NaN</td>\n",
       "    </tr>\n",
       "  </tbody>\n",
       "</table>\n",
       "</div>"
      ],
      "text/plain": [
       "         weight  birthyear  children    hobby\n",
       "alice        68       1985       NaN   Biking\n",
       "bob          83       1984       3.0  Dancing\n",
       "charles     112       1992       0.0      NaN"
      ]
     },
     "execution_count": 5,
     "metadata": {},
     "output_type": "execute_result"
    }
   ],
   "source": [
    "people_dict = {\n",
    "    \"weight\": pd.Series([68, 83, 112], index=[\"alice\", \"bob\", \"charles\"]),\n",
    "    \"birthyear\": pd.Series([1984, 1985, 1992], index=[\"bob\", \"alice\", \"charles\"], name=\"year\"),\n",
    "    \"children\": pd.Series([0, 3], index=[\"charles\", \"bob\"]),\n",
    "    \"hobby\": pd.Series([\"Biking\", \"Dancing\"], index=[\"alice\", \"bob\"]),\n",
    "}\n",
    "people = pd.DataFrame(people_dict)\n",
    "people"
   ]
  },
  {
   "cell_type": "markdown",
   "metadata": {
    "id": "_A8rAoS5M-H9"
   },
   "source": [
    "몇가지 알아 두어야 할 것은 다음과 같습니다:\n",
    "\n",
    "* `Series`는 인덱스를 기반으로 자동으로 정렬됩니다.\n",
    "* 누란된 값은 `NaN`으로 표현됩니다.\n",
    "* `Series` 이름은 무시됩니다(`\"year\"`란 이름은 삭제됩니다).\n",
    "* `DataFrame`은 주피터 노트북에서 멋지게 출력됩니다!"
   ]
  },
  {
   "cell_type": "markdown",
   "metadata": {
    "id": "Xs6_5Lf9M-H-"
   },
   "source": [
    "예상하는 방식으로 열을 참조할 수 있고 `Serires` 객체가 반환됩니다:"
   ]
  },
  {
   "cell_type": "code",
   "execution_count": 6,
   "metadata": {
    "execution": {
     "iopub.execute_input": "2021-10-05T02:26:01.010719Z",
     "iopub.status.busy": "2021-10-05T02:26:01.010529Z",
     "iopub.status.idle": "2021-10-05T02:26:01.014645Z",
     "shell.execute_reply": "2021-10-05T02:26:01.014164Z",
     "shell.execute_reply.started": "2021-10-05T02:26:01.010701Z"
    },
    "id": "rOaAvWnLM-H-",
    "outputId": "5968dabd-4f87-495b-b6d3-c6d68167ca39"
   },
   "outputs": [
    {
     "data": {
      "text/plain": [
       "alice      1985\n",
       "bob        1984\n",
       "charles    1992\n",
       "Name: birthyear, dtype: int64"
      ]
     },
     "execution_count": 6,
     "metadata": {},
     "output_type": "execute_result"
    }
   ],
   "source": [
    "people[\"birthyear\"]"
   ]
  },
  {
   "cell_type": "markdown",
   "metadata": {
    "id": "CBHML4iYM-H-"
   },
   "source": [
    "동시에 여러 개의 열을 선택할 수 있습니다:"
   ]
  },
  {
   "cell_type": "code",
   "execution_count": 7,
   "metadata": {
    "execution": {
     "iopub.execute_input": "2021-10-05T02:26:02.009202Z",
     "iopub.status.busy": "2021-10-05T02:26:02.009006Z",
     "iopub.status.idle": "2021-10-05T02:26:02.015184Z",
     "shell.execute_reply": "2021-10-05T02:26:02.014762Z",
     "shell.execute_reply.started": "2021-10-05T02:26:02.009184Z"
    },
    "id": "t2XxybhFM-H-",
    "outputId": "14ef8d9a-9075-41a1-c617-f3428bbd7a9b"
   },
   "outputs": [
    {
     "data": {
      "text/html": [
       "<div>\n",
       "<style scoped>\n",
       "    .dataframe tbody tr th:only-of-type {\n",
       "        vertical-align: middle;\n",
       "    }\n",
       "\n",
       "    .dataframe tbody tr th {\n",
       "        vertical-align: top;\n",
       "    }\n",
       "\n",
       "    .dataframe thead th {\n",
       "        text-align: right;\n",
       "    }\n",
       "</style>\n",
       "<table border=\"1\" class=\"dataframe\">\n",
       "  <thead>\n",
       "    <tr style=\"text-align: right;\">\n",
       "      <th></th>\n",
       "      <th>birthyear</th>\n",
       "      <th>hobby</th>\n",
       "    </tr>\n",
       "  </thead>\n",
       "  <tbody>\n",
       "    <tr>\n",
       "      <th>alice</th>\n",
       "      <td>1985</td>\n",
       "      <td>Biking</td>\n",
       "    </tr>\n",
       "    <tr>\n",
       "      <th>bob</th>\n",
       "      <td>1984</td>\n",
       "      <td>Dancing</td>\n",
       "    </tr>\n",
       "    <tr>\n",
       "      <th>charles</th>\n",
       "      <td>1992</td>\n",
       "      <td>NaN</td>\n",
       "    </tr>\n",
       "  </tbody>\n",
       "</table>\n",
       "</div>"
      ],
      "text/plain": [
       "         birthyear    hobby\n",
       "alice         1985   Biking\n",
       "bob           1984  Dancing\n",
       "charles       1992      NaN"
      ]
     },
     "execution_count": 7,
     "metadata": {},
     "output_type": "execute_result"
    }
   ],
   "source": [
    "people[[\"birthyear\", \"hobby\"]]"
   ]
  },
  {
   "cell_type": "markdown",
   "metadata": {
    "id": "nC7Cl4CGM-H-"
   },
   "source": [
    "열 리스트나 행 인덱스 레이블을 `DataFrame` 생성자에 전달하면 해당 열과 행으로 채워진 데이터프레임이 반환됩니다. 예를 들면:"
   ]
  },
  {
   "cell_type": "code",
   "execution_count": 8,
   "metadata": {
    "execution": {
     "iopub.execute_input": "2021-10-05T02:26:02.692519Z",
     "iopub.status.busy": "2021-10-05T02:26:02.692345Z",
     "iopub.status.idle": "2021-10-05T02:26:02.699984Z",
     "shell.execute_reply": "2021-10-05T02:26:02.699500Z",
     "shell.execute_reply.started": "2021-10-05T02:26:02.692504Z"
    },
    "id": "1vkhCYZuM-H-",
    "outputId": "8fc0f2e3-a9db-42a9-dd99-da6314dd6e9f"
   },
   "outputs": [
    {
     "data": {
      "text/html": [
       "<div>\n",
       "<style scoped>\n",
       "    .dataframe tbody tr th:only-of-type {\n",
       "        vertical-align: middle;\n",
       "    }\n",
       "\n",
       "    .dataframe tbody tr th {\n",
       "        vertical-align: top;\n",
       "    }\n",
       "\n",
       "    .dataframe thead th {\n",
       "        text-align: right;\n",
       "    }\n",
       "</style>\n",
       "<table border=\"1\" class=\"dataframe\">\n",
       "  <thead>\n",
       "    <tr style=\"text-align: right;\">\n",
       "      <th></th>\n",
       "      <th>birthyear</th>\n",
       "      <th>weight</th>\n",
       "      <th>height</th>\n",
       "    </tr>\n",
       "  </thead>\n",
       "  <tbody>\n",
       "    <tr>\n",
       "      <th>bob</th>\n",
       "      <td>1984.0</td>\n",
       "      <td>83.0</td>\n",
       "      <td>NaN</td>\n",
       "    </tr>\n",
       "    <tr>\n",
       "      <th>alice</th>\n",
       "      <td>1985.0</td>\n",
       "      <td>68.0</td>\n",
       "      <td>NaN</td>\n",
       "    </tr>\n",
       "    <tr>\n",
       "      <th>eugene</th>\n",
       "      <td>NaN</td>\n",
       "      <td>NaN</td>\n",
       "      <td>NaN</td>\n",
       "    </tr>\n",
       "  </tbody>\n",
       "</table>\n",
       "</div>"
      ],
      "text/plain": [
       "        birthyear  weight height\n",
       "bob        1984.0    83.0    NaN\n",
       "alice      1985.0    68.0    NaN\n",
       "eugene        NaN     NaN    NaN"
      ]
     },
     "execution_count": 8,
     "metadata": {},
     "output_type": "execute_result"
    }
   ],
   "source": [
    "d2 = pd.DataFrame(\n",
    "        people_dict,\n",
    "        columns=[\"birthyear\", \"weight\", \"height\"],\n",
    "        index=[\"bob\", \"alice\", \"eugene\"]\n",
    "     )\n",
    "d2"
   ]
  },
  {
   "cell_type": "markdown",
   "metadata": {
    "id": "f6AlkQP3M-H-"
   },
   "source": [
    "`DataFrame`을 만드는 또 다른 편리한 방법은 `ndarray`나 리스트의 리스트로 모든 값을 생성자에게 전달하고 열 이름과 행 인덱스 레이블을 각기 지정하는 것입니다:"
   ]
  },
  {
   "cell_type": "code",
   "execution_count": 12,
   "metadata": {
    "execution": {
     "iopub.execute_input": "2021-10-05T02:26:21.139179Z",
     "iopub.status.busy": "2021-10-05T02:26:21.138879Z",
     "iopub.status.idle": "2021-10-05T02:26:21.146074Z",
     "shell.execute_reply": "2021-10-05T02:26:21.145689Z",
     "shell.execute_reply.started": "2021-10-05T02:26:21.139161Z"
    },
    "id": "hgY_nY6NM-H-",
    "outputId": "fae55ca5-3174-4319-b270-4713ca5cf5a0",
    "tags": []
   },
   "outputs": [
    {
     "data": {
      "text/html": [
       "<div>\n",
       "<style scoped>\n",
       "    .dataframe tbody tr th:only-of-type {\n",
       "        vertical-align: middle;\n",
       "    }\n",
       "\n",
       "    .dataframe tbody tr th {\n",
       "        vertical-align: top;\n",
       "    }\n",
       "\n",
       "    .dataframe thead th {\n",
       "        text-align: right;\n",
       "    }\n",
       "</style>\n",
       "<table border=\"1\" class=\"dataframe\">\n",
       "  <thead>\n",
       "    <tr style=\"text-align: right;\">\n",
       "      <th></th>\n",
       "      <th>birthyear</th>\n",
       "      <th>children</th>\n",
       "      <th>hobby</th>\n",
       "      <th>weight</th>\n",
       "    </tr>\n",
       "  </thead>\n",
       "  <tbody>\n",
       "    <tr>\n",
       "      <th>alice</th>\n",
       "      <td>1985</td>\n",
       "      <td>NaN</td>\n",
       "      <td>Biking</td>\n",
       "      <td>68</td>\n",
       "    </tr>\n",
       "    <tr>\n",
       "      <th>bob</th>\n",
       "      <td>1984</td>\n",
       "      <td>3.0</td>\n",
       "      <td>Dancing</td>\n",
       "      <td>83</td>\n",
       "    </tr>\n",
       "    <tr>\n",
       "      <th>charles</th>\n",
       "      <td>1992</td>\n",
       "      <td>0.0</td>\n",
       "      <td>NaN</td>\n",
       "      <td>112</td>\n",
       "    </tr>\n",
       "  </tbody>\n",
       "</table>\n",
       "</div>"
      ],
      "text/plain": [
       "         birthyear  children    hobby  weight\n",
       "alice         1985       NaN   Biking      68\n",
       "bob           1984       3.0  Dancing      83\n",
       "charles       1992       0.0      NaN     112"
      ]
     },
     "execution_count": 12,
     "metadata": {},
     "output_type": "execute_result"
    }
   ],
   "source": [
    "values = [\n",
    "            [1985, np.nan, \"Biking\",   68],\n",
    "            [1984, 3,      \"Dancing\",  83],\n",
    "            [1992, 0,      np.nan,    112]\n",
    "         ]\n",
    "d3 = pd.DataFrame(\n",
    "        values,\n",
    "        columns=[\"birthyear\", \"children\", \"hobby\", \"weight\"],\n",
    "        index=[\"alice\", \"bob\", \"charles\"]\n",
    "     )\n",
    "d3"
   ]
  },
  {
   "cell_type": "markdown",
   "metadata": {},
   "source": [
    "누락된 값을 지정하려면 `np.nan`이나 넘파이 마스크 배열을 사용합니다:"
   ]
  },
  {
   "cell_type": "markdown",
   "metadata": {},
   "source": [
    "`ndarray` 대신에 `DataFrame` 객체를 전달할 수도 있습니다:"
   ]
  },
  {
   "cell_type": "code",
   "execution_count": 15,
   "metadata": {
    "execution": {
     "iopub.execute_input": "2021-10-05T02:28:42.925629Z",
     "iopub.status.busy": "2021-10-05T02:28:42.925109Z",
     "iopub.status.idle": "2021-10-05T02:28:42.931685Z",
     "shell.execute_reply": "2021-10-05T02:28:42.931168Z",
     "shell.execute_reply.started": "2021-10-05T02:28:42.925610Z"
    },
    "id": "1JGGXVyZM-H_",
    "outputId": "ad21ff72-eefa-4400-ca3f-3ea0c34c5fdb"
   },
   "outputs": [
    {
     "data": {
      "text/html": [
       "<div>\n",
       "<style scoped>\n",
       "    .dataframe tbody tr th:only-of-type {\n",
       "        vertical-align: middle;\n",
       "    }\n",
       "\n",
       "    .dataframe tbody tr th {\n",
       "        vertical-align: top;\n",
       "    }\n",
       "\n",
       "    .dataframe thead th {\n",
       "        text-align: right;\n",
       "    }\n",
       "</style>\n",
       "<table border=\"1\" class=\"dataframe\">\n",
       "  <thead>\n",
       "    <tr style=\"text-align: right;\">\n",
       "      <th></th>\n",
       "      <th>hobby</th>\n",
       "      <th>children</th>\n",
       "    </tr>\n",
       "  </thead>\n",
       "  <tbody>\n",
       "    <tr>\n",
       "      <th>alice</th>\n",
       "      <td>Biking</td>\n",
       "      <td>NaN</td>\n",
       "    </tr>\n",
       "    <tr>\n",
       "      <th>bob</th>\n",
       "      <td>Dancing</td>\n",
       "      <td>3</td>\n",
       "    </tr>\n",
       "  </tbody>\n",
       "</table>\n",
       "</div>"
      ],
      "text/plain": [
       "         hobby children\n",
       "alice   Biking      NaN\n",
       "bob    Dancing        3"
      ]
     },
     "execution_count": 15,
     "metadata": {},
     "output_type": "execute_result"
    }
   ],
   "source": [
    "d4 = pd.DataFrame(\n",
    "         d3,\n",
    "         columns=[\"hobby\", \"children\"],\n",
    "         index=[\"alice\", \"bob\"]\n",
    "     )\n",
    "d4"
   ]
  },
  {
   "cell_type": "markdown",
   "metadata": {
    "id": "H8uZU46NM-H_"
   },
   "source": [
    "딕셔너리의 딕셔너리(또는 리스트의 리스트)로 `DataFrame`을 만들 수 있습니다:"
   ]
  },
  {
   "cell_type": "code",
   "execution_count": 16,
   "metadata": {
    "execution": {
     "iopub.execute_input": "2021-10-05T02:29:00.499211Z",
     "iopub.status.busy": "2021-10-05T02:29:00.499031Z",
     "iopub.status.idle": "2021-10-05T02:29:00.506315Z",
     "shell.execute_reply": "2021-10-05T02:29:00.505792Z",
     "shell.execute_reply.started": "2021-10-05T02:29:00.499192Z"
    },
    "id": "yKdVYHuTM-IA",
    "outputId": "575bd347-5cd3-4507-cb45-0c103faca1e9"
   },
   "outputs": [
    {
     "data": {
      "text/html": [
       "<div>\n",
       "<style scoped>\n",
       "    .dataframe tbody tr th:only-of-type {\n",
       "        vertical-align: middle;\n",
       "    }\n",
       "\n",
       "    .dataframe tbody tr th {\n",
       "        vertical-align: top;\n",
       "    }\n",
       "\n",
       "    .dataframe thead th {\n",
       "        text-align: right;\n",
       "    }\n",
       "</style>\n",
       "<table border=\"1\" class=\"dataframe\">\n",
       "  <thead>\n",
       "    <tr style=\"text-align: right;\">\n",
       "      <th></th>\n",
       "      <th>birthyear</th>\n",
       "      <th>hobby</th>\n",
       "      <th>weight</th>\n",
       "      <th>children</th>\n",
       "    </tr>\n",
       "  </thead>\n",
       "  <tbody>\n",
       "    <tr>\n",
       "      <th>alice</th>\n",
       "      <td>1985</td>\n",
       "      <td>Biking</td>\n",
       "      <td>68</td>\n",
       "      <td>NaN</td>\n",
       "    </tr>\n",
       "    <tr>\n",
       "      <th>bob</th>\n",
       "      <td>1984</td>\n",
       "      <td>Dancing</td>\n",
       "      <td>83</td>\n",
       "      <td>3.0</td>\n",
       "    </tr>\n",
       "    <tr>\n",
       "      <th>charles</th>\n",
       "      <td>1992</td>\n",
       "      <td>NaN</td>\n",
       "      <td>112</td>\n",
       "      <td>0.0</td>\n",
       "    </tr>\n",
       "  </tbody>\n",
       "</table>\n",
       "</div>"
      ],
      "text/plain": [
       "         birthyear    hobby  weight  children\n",
       "alice         1985   Biking      68       NaN\n",
       "bob           1984  Dancing      83       3.0\n",
       "charles       1992      NaN     112       0.0"
      ]
     },
     "execution_count": 16,
     "metadata": {},
     "output_type": "execute_result"
    }
   ],
   "source": [
    "people = pd.DataFrame({\n",
    "    \"birthyear\": {\"alice\":1985, \"bob\": 1984, \"charles\": 1992},\n",
    "    \"hobby\": {\"alice\":\"Biking\", \"bob\": \"Dancing\"},\n",
    "    \"weight\": {\"alice\":68, \"bob\": 83, \"charles\": 112},\n",
    "    \"children\": {\"bob\": 3, \"charles\": 0}\n",
    "})\n",
    "people"
   ]
  },
  {
   "cell_type": "markdown",
   "metadata": {
    "id": "x0E1b9IhM-IA"
   },
   "source": [
    "## 멀티 인덱싱\n",
    "\n",
    "모든 열이 같은 크기의 튜플이면 멀티 인덱스로 인식합니다. 열 인덱스 레이블에도 같은 방식이 적용됩니다. 예를 들면:"
   ]
  },
  {
   "cell_type": "code",
   "execution_count": 17,
   "metadata": {
    "execution": {
     "iopub.execute_input": "2021-10-05T02:29:01.576068Z",
     "iopub.status.busy": "2021-10-05T02:29:01.575867Z",
     "iopub.status.idle": "2021-10-05T02:29:01.586421Z",
     "shell.execute_reply": "2021-10-05T02:29:01.585994Z",
     "shell.execute_reply.started": "2021-10-05T02:29:01.576050Z"
    },
    "id": "XSJO8TExM-IA",
    "outputId": "224cf89c-5aff-4a52-cb68-f36e211c3079"
   },
   "outputs": [
    {
     "data": {
      "text/html": [
       "<div>\n",
       "<style scoped>\n",
       "    .dataframe tbody tr th:only-of-type {\n",
       "        vertical-align: middle;\n",
       "    }\n",
       "\n",
       "    .dataframe tbody tr th {\n",
       "        vertical-align: top;\n",
       "    }\n",
       "\n",
       "    .dataframe thead tr th {\n",
       "        text-align: left;\n",
       "    }\n",
       "</style>\n",
       "<table border=\"1\" class=\"dataframe\">\n",
       "  <thead>\n",
       "    <tr>\n",
       "      <th></th>\n",
       "      <th></th>\n",
       "      <th colspan=\"2\" halign=\"left\">public</th>\n",
       "      <th colspan=\"2\" halign=\"left\">private</th>\n",
       "    </tr>\n",
       "    <tr>\n",
       "      <th></th>\n",
       "      <th></th>\n",
       "      <th>birthyear</th>\n",
       "      <th>hobby</th>\n",
       "      <th>weight</th>\n",
       "      <th>children</th>\n",
       "    </tr>\n",
       "  </thead>\n",
       "  <tbody>\n",
       "    <tr>\n",
       "      <th rowspan=\"2\" valign=\"top\">Paris</th>\n",
       "      <th>alice</th>\n",
       "      <td>1985</td>\n",
       "      <td>Biking</td>\n",
       "      <td>68</td>\n",
       "      <td>NaN</td>\n",
       "    </tr>\n",
       "    <tr>\n",
       "      <th>bob</th>\n",
       "      <td>1984</td>\n",
       "      <td>Dancing</td>\n",
       "      <td>83</td>\n",
       "      <td>3.0</td>\n",
       "    </tr>\n",
       "    <tr>\n",
       "      <th>London</th>\n",
       "      <th>charles</th>\n",
       "      <td>1992</td>\n",
       "      <td>NaN</td>\n",
       "      <td>112</td>\n",
       "      <td>0.0</td>\n",
       "    </tr>\n",
       "  </tbody>\n",
       "</table>\n",
       "</div>"
      ],
      "text/plain": [
       "                  public          private         \n",
       "               birthyear    hobby  weight children\n",
       "Paris  alice        1985   Biking      68      NaN\n",
       "       bob          1984  Dancing      83      3.0\n",
       "London charles      1992      NaN     112      0.0"
      ]
     },
     "execution_count": 17,
     "metadata": {},
     "output_type": "execute_result"
    }
   ],
   "source": [
    "d5 = pd.DataFrame(\n",
    "  {\n",
    "    (\"public\", \"birthyear\"):\n",
    "        {(\"Paris\",\"alice\"):1985, (\"Paris\",\"bob\"): 1984, (\"London\",\"charles\"): 1992},\n",
    "    (\"public\", \"hobby\"):\n",
    "        {(\"Paris\",\"alice\"):\"Biking\", (\"Paris\",\"bob\"): \"Dancing\"},\n",
    "    (\"private\", \"weight\"):\n",
    "        {(\"Paris\",\"alice\"):68, (\"Paris\",\"bob\"): 83, (\"London\",\"charles\"): 112},\n",
    "    (\"private\", \"children\"):\n",
    "        {(\"Paris\", \"alice\"):np.nan, (\"Paris\",\"bob\"): 3, (\"London\",\"charles\"): 0}\n",
    "  }\n",
    ")\n",
    "d5"
   ]
  },
  {
   "cell_type": "markdown",
   "metadata": {
    "id": "TLPdGKG4M-IA"
   },
   "source": [
    "이제 `\"public\"` 열을 모두 담은 `DataFrame`을 손쉽게 만들 수 있습니다:"
   ]
  },
  {
   "cell_type": "code",
   "execution_count": 18,
   "metadata": {
    "execution": {
     "iopub.execute_input": "2021-10-05T02:31:42.345195Z",
     "iopub.status.busy": "2021-10-05T02:31:42.344964Z",
     "iopub.status.idle": "2021-10-05T02:31:42.351606Z",
     "shell.execute_reply": "2021-10-05T02:31:42.351215Z",
     "shell.execute_reply.started": "2021-10-05T02:31:42.345177Z"
    },
    "id": "Rf_CxwrbM-IA",
    "outputId": "396fdc60-b734-4c39-f991-a8c19e20b4c1"
   },
   "outputs": [
    {
     "data": {
      "text/html": [
       "<div>\n",
       "<style scoped>\n",
       "    .dataframe tbody tr th:only-of-type {\n",
       "        vertical-align: middle;\n",
       "    }\n",
       "\n",
       "    .dataframe tbody tr th {\n",
       "        vertical-align: top;\n",
       "    }\n",
       "\n",
       "    .dataframe thead th {\n",
       "        text-align: right;\n",
       "    }\n",
       "</style>\n",
       "<table border=\"1\" class=\"dataframe\">\n",
       "  <thead>\n",
       "    <tr style=\"text-align: right;\">\n",
       "      <th></th>\n",
       "      <th></th>\n",
       "      <th>birthyear</th>\n",
       "      <th>hobby</th>\n",
       "    </tr>\n",
       "  </thead>\n",
       "  <tbody>\n",
       "    <tr>\n",
       "      <th rowspan=\"2\" valign=\"top\">Paris</th>\n",
       "      <th>alice</th>\n",
       "      <td>1985</td>\n",
       "      <td>Biking</td>\n",
       "    </tr>\n",
       "    <tr>\n",
       "      <th>bob</th>\n",
       "      <td>1984</td>\n",
       "      <td>Dancing</td>\n",
       "    </tr>\n",
       "    <tr>\n",
       "      <th>London</th>\n",
       "      <th>charles</th>\n",
       "      <td>1992</td>\n",
       "      <td>NaN</td>\n",
       "    </tr>\n",
       "  </tbody>\n",
       "</table>\n",
       "</div>"
      ],
      "text/plain": [
       "                birthyear    hobby\n",
       "Paris  alice         1985   Biking\n",
       "       bob           1984  Dancing\n",
       "London charles       1992      NaN"
      ]
     },
     "execution_count": 18,
     "metadata": {},
     "output_type": "execute_result"
    }
   ],
   "source": [
    "d5[\"public\"]"
   ]
  },
  {
   "cell_type": "code",
   "execution_count": 19,
   "metadata": {
    "execution": {
     "iopub.execute_input": "2021-10-05T02:31:59.222640Z",
     "iopub.status.busy": "2021-10-05T02:31:59.222461Z",
     "iopub.status.idle": "2021-10-05T02:31:59.227691Z",
     "shell.execute_reply": "2021-10-05T02:31:59.227288Z",
     "shell.execute_reply.started": "2021-10-05T02:31:59.222622Z"
    },
    "id": "FLWD0l_9M-IA",
    "outputId": "2e1103e7-24a8-4c77-a92e-e1a08fe9b4c1"
   },
   "outputs": [
    {
     "data": {
      "text/plain": [
       "Paris   alice       Biking\n",
       "        bob        Dancing\n",
       "London  charles        NaN\n",
       "Name: (public, hobby), dtype: object"
      ]
     },
     "execution_count": 19,
     "metadata": {},
     "output_type": "execute_result"
    }
   ],
   "source": [
    "d5[\"public\", \"hobby\"]  # d5[\"public\"][\"hobby\"]와 같습니다."
   ]
  },
  {
   "cell_type": "code",
   "execution_count": 20,
   "metadata": {
    "execution": {
     "iopub.execute_input": "2021-10-05T03:13:42.037818Z",
     "iopub.status.busy": "2021-10-05T03:13:42.037575Z",
     "iopub.status.idle": "2021-10-05T03:13:42.044853Z",
     "shell.execute_reply": "2021-10-05T03:13:42.044447Z",
     "shell.execute_reply.started": "2021-10-05T03:13:42.037801Z"
    },
    "id": "sZ6w5c_nM-IA",
    "outputId": "2b13301b-6d9f-479a-bc99-05c21265c0b3"
   },
   "outputs": [
    {
     "data": {
      "text/html": [
       "<div>\n",
       "<style scoped>\n",
       "    .dataframe tbody tr th:only-of-type {\n",
       "        vertical-align: middle;\n",
       "    }\n",
       "\n",
       "    .dataframe tbody tr th {\n",
       "        vertical-align: top;\n",
       "    }\n",
       "\n",
       "    .dataframe thead tr th {\n",
       "        text-align: left;\n",
       "    }\n",
       "</style>\n",
       "<table border=\"1\" class=\"dataframe\">\n",
       "  <thead>\n",
       "    <tr>\n",
       "      <th></th>\n",
       "      <th></th>\n",
       "      <th colspan=\"2\" halign=\"left\">public</th>\n",
       "      <th colspan=\"2\" halign=\"left\">private</th>\n",
       "    </tr>\n",
       "    <tr>\n",
       "      <th></th>\n",
       "      <th></th>\n",
       "      <th>birthyear</th>\n",
       "      <th>hobby</th>\n",
       "      <th>weight</th>\n",
       "      <th>children</th>\n",
       "    </tr>\n",
       "  </thead>\n",
       "  <tbody>\n",
       "    <tr>\n",
       "      <th rowspan=\"2\" valign=\"top\">Paris</th>\n",
       "      <th>alice</th>\n",
       "      <td>1985</td>\n",
       "      <td>Biking</td>\n",
       "      <td>68</td>\n",
       "      <td>NaN</td>\n",
       "    </tr>\n",
       "    <tr>\n",
       "      <th>bob</th>\n",
       "      <td>1984</td>\n",
       "      <td>Dancing</td>\n",
       "      <td>83</td>\n",
       "      <td>3.0</td>\n",
       "    </tr>\n",
       "    <tr>\n",
       "      <th>London</th>\n",
       "      <th>charles</th>\n",
       "      <td>1992</td>\n",
       "      <td>NaN</td>\n",
       "      <td>112</td>\n",
       "      <td>0.0</td>\n",
       "    </tr>\n",
       "  </tbody>\n",
       "</table>\n",
       "</div>"
      ],
      "text/plain": [
       "                  public          private         \n",
       "               birthyear    hobby  weight children\n",
       "Paris  alice        1985   Biking      68      NaN\n",
       "       bob          1984  Dancing      83      3.0\n",
       "London charles      1992      NaN     112      0.0"
      ]
     },
     "execution_count": 20,
     "metadata": {},
     "output_type": "execute_result"
    }
   ],
   "source": [
    "d5"
   ]
  },
  {
   "cell_type": "markdown",
   "metadata": {},
   "source": [
    "## 전치\n",
    "\n",
    "`T` 속성을 사용해 열과 인덱스를 바꿀 수 있습니다:"
   ]
  },
  {
   "cell_type": "code",
   "execution_count": 23,
   "metadata": {
    "execution": {
     "iopub.execute_input": "2021-10-05T03:14:12.265882Z",
     "iopub.status.busy": "2021-10-05T03:14:12.265702Z",
     "iopub.status.idle": "2021-10-05T03:14:12.272783Z",
     "shell.execute_reply": "2021-10-05T03:14:12.272298Z",
     "shell.execute_reply.started": "2021-10-05T03:14:12.265863Z"
    }
   },
   "outputs": [
    {
     "data": {
      "text/html": [
       "<div>\n",
       "<style scoped>\n",
       "    .dataframe tbody tr th:only-of-type {\n",
       "        vertical-align: middle;\n",
       "    }\n",
       "\n",
       "    .dataframe tbody tr th {\n",
       "        vertical-align: top;\n",
       "    }\n",
       "\n",
       "    .dataframe thead tr th {\n",
       "        text-align: left;\n",
       "    }\n",
       "</style>\n",
       "<table border=\"1\" class=\"dataframe\">\n",
       "  <thead>\n",
       "    <tr>\n",
       "      <th></th>\n",
       "      <th colspan=\"2\" halign=\"left\">Paris</th>\n",
       "      <th>London</th>\n",
       "    </tr>\n",
       "    <tr>\n",
       "      <th></th>\n",
       "      <th>alice</th>\n",
       "      <th>bob</th>\n",
       "      <th>charles</th>\n",
       "    </tr>\n",
       "  </thead>\n",
       "  <tbody>\n",
       "    <tr>\n",
       "      <th>birthyear</th>\n",
       "      <td>1985</td>\n",
       "      <td>1984</td>\n",
       "      <td>1992</td>\n",
       "    </tr>\n",
       "    <tr>\n",
       "      <th>hobby</th>\n",
       "      <td>Biking</td>\n",
       "      <td>Dancing</td>\n",
       "      <td>NaN</td>\n",
       "    </tr>\n",
       "    <tr>\n",
       "      <th>weight</th>\n",
       "      <td>68</td>\n",
       "      <td>83</td>\n",
       "      <td>112</td>\n",
       "    </tr>\n",
       "    <tr>\n",
       "      <th>children</th>\n",
       "      <td>NaN</td>\n",
       "      <td>3.0</td>\n",
       "      <td>0.0</td>\n",
       "    </tr>\n",
       "  </tbody>\n",
       "</table>\n",
       "</div>"
      ],
      "text/plain": [
       "            Paris           London\n",
       "            alice      bob charles\n",
       "birthyear    1985     1984    1992\n",
       "hobby      Biking  Dancing     NaN\n",
       "weight         68       83     112\n",
       "children      NaN      3.0     0.0"
      ]
     },
     "execution_count": 23,
     "metadata": {},
     "output_type": "execute_result"
    }
   ],
   "source": [
    "d6 = d5.T\n",
    "d6"
   ]
  },
  {
   "cell_type": "markdown",
   "metadata": {
    "id": "0fpIZbVAM-IC"
   },
   "source": [
    "## 레벨 스택과 언스택\n",
    "\n",
    "`stack()` 메서드는 가장 낮은 열 레벨을 가장 낮은 인덱스 뒤에 추가합니다:"
   ]
  },
  {
   "cell_type": "code",
   "execution_count": 25,
   "metadata": {
    "execution": {
     "iopub.execute_input": "2021-10-05T03:14:17.669177Z",
     "iopub.status.busy": "2021-10-05T03:14:17.668999Z",
     "iopub.status.idle": "2021-10-05T03:14:17.679628Z",
     "shell.execute_reply": "2021-10-05T03:14:17.679240Z",
     "shell.execute_reply.started": "2021-10-05T03:14:17.669157Z"
    },
    "id": "Teiz2eunM-IC",
    "outputId": "9d016ac1-38a9-4e95-ffb4-e8d50ca9f29d"
   },
   "outputs": [
    {
     "data": {
      "text/html": [
       "<div>\n",
       "<style scoped>\n",
       "    .dataframe tbody tr th:only-of-type {\n",
       "        vertical-align: middle;\n",
       "    }\n",
       "\n",
       "    .dataframe tbody tr th {\n",
       "        vertical-align: top;\n",
       "    }\n",
       "\n",
       "    .dataframe thead th {\n",
       "        text-align: right;\n",
       "    }\n",
       "</style>\n",
       "<table border=\"1\" class=\"dataframe\">\n",
       "  <thead>\n",
       "    <tr style=\"text-align: right;\">\n",
       "      <th></th>\n",
       "      <th></th>\n",
       "      <th>London</th>\n",
       "      <th>Paris</th>\n",
       "    </tr>\n",
       "  </thead>\n",
       "  <tbody>\n",
       "    <tr>\n",
       "      <th rowspan=\"3\" valign=\"top\">birthyear</th>\n",
       "      <th>alice</th>\n",
       "      <td>NaN</td>\n",
       "      <td>1985</td>\n",
       "    </tr>\n",
       "    <tr>\n",
       "      <th>bob</th>\n",
       "      <td>NaN</td>\n",
       "      <td>1984</td>\n",
       "    </tr>\n",
       "    <tr>\n",
       "      <th>charles</th>\n",
       "      <td>1992</td>\n",
       "      <td>NaN</td>\n",
       "    </tr>\n",
       "    <tr>\n",
       "      <th rowspan=\"2\" valign=\"top\">hobby</th>\n",
       "      <th>alice</th>\n",
       "      <td>NaN</td>\n",
       "      <td>Biking</td>\n",
       "    </tr>\n",
       "    <tr>\n",
       "      <th>bob</th>\n",
       "      <td>NaN</td>\n",
       "      <td>Dancing</td>\n",
       "    </tr>\n",
       "    <tr>\n",
       "      <th rowspan=\"3\" valign=\"top\">weight</th>\n",
       "      <th>alice</th>\n",
       "      <td>NaN</td>\n",
       "      <td>68</td>\n",
       "    </tr>\n",
       "    <tr>\n",
       "      <th>bob</th>\n",
       "      <td>NaN</td>\n",
       "      <td>83</td>\n",
       "    </tr>\n",
       "    <tr>\n",
       "      <th>charles</th>\n",
       "      <td>112</td>\n",
       "      <td>NaN</td>\n",
       "    </tr>\n",
       "    <tr>\n",
       "      <th rowspan=\"2\" valign=\"top\">children</th>\n",
       "      <th>bob</th>\n",
       "      <td>NaN</td>\n",
       "      <td>3.0</td>\n",
       "    </tr>\n",
       "    <tr>\n",
       "      <th>charles</th>\n",
       "      <td>0.0</td>\n",
       "      <td>NaN</td>\n",
       "    </tr>\n",
       "  </tbody>\n",
       "</table>\n",
       "</div>"
      ],
      "text/plain": [
       "                  London    Paris\n",
       "birthyear alice      NaN     1985\n",
       "          bob        NaN     1984\n",
       "          charles   1992      NaN\n",
       "hobby     alice      NaN   Biking\n",
       "          bob        NaN  Dancing\n",
       "weight    alice      NaN       68\n",
       "          bob        NaN       83\n",
       "          charles    112      NaN\n",
       "children  bob        NaN      3.0\n",
       "          charles    0.0      NaN"
      ]
     },
     "execution_count": 25,
     "metadata": {},
     "output_type": "execute_result"
    }
   ],
   "source": [
    "d7 = d6.stack()\n",
    "d7"
   ]
  },
  {
   "cell_type": "code",
   "execution_count": 26,
   "metadata": {
    "execution": {
     "iopub.execute_input": "2021-10-05T03:14:28.854400Z",
     "iopub.status.busy": "2021-10-05T03:14:28.854218Z",
     "iopub.status.idle": "2021-10-05T03:14:28.860463Z",
     "shell.execute_reply": "2021-10-05T03:14:28.860063Z",
     "shell.execute_reply.started": "2021-10-05T03:14:28.854379Z"
    }
   },
   "outputs": [
    {
     "data": {
      "text/html": [
       "<div>\n",
       "<style scoped>\n",
       "    .dataframe tbody tr th:only-of-type {\n",
       "        vertical-align: middle;\n",
       "    }\n",
       "\n",
       "    .dataframe tbody tr th {\n",
       "        vertical-align: top;\n",
       "    }\n",
       "\n",
       "    .dataframe thead tr th {\n",
       "        text-align: left;\n",
       "    }\n",
       "</style>\n",
       "<table border=\"1\" class=\"dataframe\">\n",
       "  <thead>\n",
       "    <tr>\n",
       "      <th></th>\n",
       "      <th colspan=\"2\" halign=\"left\">Paris</th>\n",
       "      <th>London</th>\n",
       "    </tr>\n",
       "    <tr>\n",
       "      <th></th>\n",
       "      <th>alice</th>\n",
       "      <th>bob</th>\n",
       "      <th>charles</th>\n",
       "    </tr>\n",
       "  </thead>\n",
       "  <tbody>\n",
       "    <tr>\n",
       "      <th>birthyear</th>\n",
       "      <td>1985</td>\n",
       "      <td>1984</td>\n",
       "      <td>1992</td>\n",
       "    </tr>\n",
       "    <tr>\n",
       "      <th>hobby</th>\n",
       "      <td>Biking</td>\n",
       "      <td>Dancing</td>\n",
       "      <td>NaN</td>\n",
       "    </tr>\n",
       "    <tr>\n",
       "      <th>weight</th>\n",
       "      <td>68</td>\n",
       "      <td>83</td>\n",
       "      <td>112</td>\n",
       "    </tr>\n",
       "    <tr>\n",
       "      <th>children</th>\n",
       "      <td>NaN</td>\n",
       "      <td>3.0</td>\n",
       "      <td>0.0</td>\n",
       "    </tr>\n",
       "  </tbody>\n",
       "</table>\n",
       "</div>"
      ],
      "text/plain": [
       "            Paris           London\n",
       "            alice      bob charles\n",
       "birthyear    1985     1984    1992\n",
       "hobby      Biking  Dancing     NaN\n",
       "weight         68       83     112\n",
       "children      NaN      3.0     0.0"
      ]
     },
     "execution_count": 26,
     "metadata": {},
     "output_type": "execute_result"
    }
   ],
   "source": [
    "d6"
   ]
  },
  {
   "cell_type": "markdown",
   "metadata": {
    "id": "M0HPN6BqM-IC"
   },
   "source": [
    "`NaN` 값이 생겼습니다. 이전에 없던 조합이 생겼기 때문입니다(예를 들어 `London`에 `bob`이 없었습니다).\n",
    "\n",
    "`unstack()`을 호출하면 반대가 됩니다. 여기에서도 많은 `NaN` 값이 생성됩니다."
   ]
  },
  {
   "cell_type": "code",
   "execution_count": null,
   "metadata": {
    "id": "3uopvktKM-IC",
    "outputId": "5af5517a-8028-400e-d87a-48603c6d1087"
   },
   "outputs": [],
   "source": [
    "d8 = d7.unstack()\n",
    "d8"
   ]
  },
  {
   "cell_type": "markdown",
   "metadata": {
    "id": "Y-Hvtz84M-ID"
   },
   "source": [
    "`unstack`을 다시 호출하면 `Series` 객체가 만들어 집니다:"
   ]
  },
  {
   "cell_type": "code",
   "execution_count": null,
   "metadata": {
    "id": "jPGBMMRjM-ID",
    "outputId": "228fa8fe-3d91-4d3d-ad87-98d231ca7d14"
   },
   "outputs": [],
   "source": [
    "d9 = d8.unstack()\n",
    "d9"
   ]
  },
  {
   "cell_type": "markdown",
   "metadata": {
    "id": "gU2L92hDM-ID"
   },
   "source": [
    "`stack()`과 `unstack()` 메서드를 사용할 때 스택/언스택할 `level`을 선택할 수 있습니다. 심지어 한 번에 여러 개의 레벨을 스택/언스택할 수도 있습니다:"
   ]
  },
  {
   "cell_type": "code",
   "execution_count": null,
   "metadata": {
    "id": "gmrkcK3WM-ID",
    "outputId": "4dd67968-6a6a-4efd-f671-112153a1633e",
    "scrolled": true
   },
   "outputs": [],
   "source": [
    "d10 = d9.unstack(level = (0,1))\n",
    "d10"
   ]
  },
  {
   "cell_type": "markdown",
   "metadata": {
    "id": "Az7UQs3RM-ID"
   },
   "source": [
    "## 대부분의 메서드는 수정된 복사본을 반환합니다\n",
    "\n",
    "눈치챘겠지만 `stack()`과 `unstack()` 메서드는 객체를 수정하지 않습니다. 대신 복사본을 만들어 반환합니다. 판다스에 있는 대부분의 메서드들이 이렇게 동작합니다."
   ]
  },
  {
   "cell_type": "markdown",
   "metadata": {
    "id": "QZ_ALtyaM-ID"
   },
   "source": [
    "## 행 참조하기\n",
    "\n",
    "`people` `DataFrame`으로 돌아가 보죠:"
   ]
  },
  {
   "cell_type": "code",
   "execution_count": null,
   "metadata": {
    "id": "Qi1N92NQM-ID",
    "outputId": "76a53537-e833-4d5c-ab41-d4da25969164"
   },
   "outputs": [],
   "source": [
    "people"
   ]
  },
  {
   "cell_type": "markdown",
   "metadata": {
    "id": "HXC0Sp9qM-IE"
   },
   "source": [
    "`loc` 속성으로 열 대신 행을 참조할 수 있습니다. `DataFrame`의 열 이름이 행 인덱스 레이블로 매핑된 `Series` 객체가 반환됩니다:"
   ]
  },
  {
   "cell_type": "code",
   "execution_count": null,
   "metadata": {
    "id": "-4JUdnadM-IE",
    "outputId": "fd5edb26-82c9-40de-a27b-182f2de3c18f"
   },
   "outputs": [],
   "source": [
    "people.loc[\"charles\"]"
   ]
  },
  {
   "cell_type": "markdown",
   "metadata": {
    "id": "3afqr5a7M-IE"
   },
   "source": [
    "`iloc` 속성을 사용해 정수 인덱스로 행을 참조할 수 있습니다:"
   ]
  },
  {
   "cell_type": "code",
   "execution_count": null,
   "metadata": {
    "id": "DD0ycHGvM-IE",
    "outputId": "df265c5b-5d4f-4718-a105-8040987fbc8f"
   },
   "outputs": [],
   "source": [
    "people.iloc[2]"
   ]
  },
  {
   "cell_type": "markdown",
   "metadata": {
    "id": "Y0-tzb_jM-IE"
   },
   "source": [
    "행을 슬라이싱할 수 있으며 `DataFrame` 객체가 반환됩니다:"
   ]
  },
  {
   "cell_type": "code",
   "execution_count": null,
   "metadata": {
    "id": "vbA-PBkNM-IE",
    "outputId": "42f1adba-7d56-4deb-b76a-d0fb97203f27"
   },
   "outputs": [],
   "source": [
    "people.iloc[1:3]"
   ]
  },
  {
   "cell_type": "markdown",
   "metadata": {
    "id": "jFpqM3vjM-IE"
   },
   "source": [
    "마자믹으로 불리언 배열을 전달하여 해당하는 행을 가져올 수 있습니다:"
   ]
  },
  {
   "cell_type": "code",
   "execution_count": null,
   "metadata": {
    "id": "mGUE3LntM-IE",
    "outputId": "c1fea2de-8f56-4ad1-f5bb-6085f8e81968"
   },
   "outputs": [],
   "source": [
    "people[np.array([True, False, True])]"
   ]
  },
  {
   "cell_type": "markdown",
   "metadata": {
    "id": "4xO1TmmuM-IF"
   },
   "source": [
    "불리언 표현식을 사용할 때 아주 유용합니다:"
   ]
  },
  {
   "cell_type": "code",
   "execution_count": null,
   "metadata": {
    "id": "_73ArskNM-IF",
    "outputId": "811f0320-db56-4c4f-cbbf-c065f34058cb"
   },
   "outputs": [],
   "source": [
    "people[people[\"birthyear\"] < 1990]"
   ]
  },
  {
   "cell_type": "markdown",
   "metadata": {
    "id": "zjXkZfqyM-IF"
   },
   "source": [
    "## 열 추가, 삭제\n",
    "\n",
    "`DataFrame`을 `Series`의 딕셔너리처럼 다룰 수 있습니다. 따라서 다음 같이 쓸 수 있습니다:"
   ]
  },
  {
   "cell_type": "code",
   "execution_count": null,
   "metadata": {
    "id": "Ki-NdoNxM-IF",
    "outputId": "654437c3-b12b-4a09-89bf-ac45bb033340"
   },
   "outputs": [],
   "source": [
    "people"
   ]
  },
  {
   "cell_type": "code",
   "execution_count": null,
   "metadata": {
    "id": "8apPVBPvM-IO",
    "outputId": "7fb4e9f9-73da-4001-c4cd-6742b497b610"
   },
   "outputs": [],
   "source": [
    "people[\"age\"] = 2018 - people[\"birthyear\"]  # \"age\" 열을 추가합니다\n",
    "people[\"over 30\"] = people[\"age\"] > 30      # \"over 30\" 열을 추가합니다\n",
    "birthyears = people.pop(\"birthyear\")\n",
    "del people[\"children\"]\n",
    "\n",
    "people"
   ]
  },
  {
   "cell_type": "code",
   "execution_count": null,
   "metadata": {
    "id": "qGZfNpKXM-IO",
    "outputId": "3321a99d-1cb7-48be-9c56-ad95d75f455a"
   },
   "outputs": [],
   "source": [
    "birthyears"
   ]
  },
  {
   "cell_type": "markdown",
   "metadata": {
    "id": "JMd1kbqHM-IO"
   },
   "source": [
    "새로운 열을 추가할 때 행의 개수는 같아야 합니다. 누락된 행은 `NaN`으로 채워지고 추가적인 행은 무시됩니다:"
   ]
  },
  {
   "cell_type": "code",
   "execution_count": null,
   "metadata": {
    "id": "SiW39FJ4M-IO",
    "outputId": "86b04ed1-5533-481e-a1f6-541cd1149334"
   },
   "outputs": [],
   "source": [
    "people[\"pets\"] = pd.Series({\"bob\": 0, \"charles\": 5, \"eugene\":1})  # alice 누락됨, eugene은 무시됨\n",
    "people"
   ]
  },
  {
   "cell_type": "markdown",
   "metadata": {
    "id": "70JeVDPcM-IP"
   },
   "source": [
    "새로운 열을 추가할 때 기본적으로 (오른쪽) 끝에 추가됩니다. `insert()` 메서드를 사용해 다른 곳에 열을 추가할 수 있습니다:"
   ]
  },
  {
   "cell_type": "code",
   "execution_count": null,
   "metadata": {
    "id": "VuTKlopIM-IP",
    "outputId": "51d74d36-0c86-465b-e74a-4ea245051987"
   },
   "outputs": [],
   "source": [
    "people.insert(1, \"height\", [172, 181, 185])\n",
    "people"
   ]
  },
  {
   "cell_type": "markdown",
   "metadata": {
    "id": "iEOzrKJzM-IP"
   },
   "source": [
    "## 새로운 열 할당하기\n",
    "\n",
    "`assign()` 메서드를 호출하여 새로운 열을 만들 수도 있습니다. 이는 새로운 `DataFrame` 객체를 반환하며 원본 객체는 변경되지 않습니다:"
   ]
  },
  {
   "cell_type": "code",
   "execution_count": null,
   "metadata": {
    "id": "jOZ3Le35M-IP",
    "outputId": "e8c2b35c-603f-4e85-e4e7-03c75602f100"
   },
   "outputs": [],
   "source": [
    "people.assign(\n",
    "    body_mass_index = people[\"weight\"] / (people[\"height\"] / 100) ** 2,\n",
    "    has_pets = people[\"pets\"] > 0\n",
    ")"
   ]
  },
  {
   "cell_type": "markdown",
   "metadata": {
    "id": "HRVO6lQmM-IP"
   },
   "source": [
    "할당문 안에서 만든 열은 접근할 수 없습니다:"
   ]
  },
  {
   "cell_type": "code",
   "execution_count": null,
   "metadata": {
    "id": "5M3xuBSFM-IP",
    "outputId": "c6b7725e-094a-4a11-ba6c-b7c32a800170"
   },
   "outputs": [],
   "source": [
    "try:\n",
    "    people.assign(\n",
    "        body_mass_index = people[\"weight\"] / (people[\"height\"] / 100) ** 2,\n",
    "        overweight = people[\"body_mass_index\"] > 25\n",
    "    )\n",
    "except KeyError as e:\n",
    "    print(\"키 에러:\", e)"
   ]
  },
  {
   "cell_type": "markdown",
   "metadata": {
    "id": "hdhF1QblM-IP"
   },
   "source": [
    "해결책은 두 개의 연속된 할당문으로 나누는 것입니다:"
   ]
  },
  {
   "cell_type": "code",
   "execution_count": null,
   "metadata": {
    "id": "hbiSUEm8M-IP",
    "outputId": "3bc2be38-eb0d-4e85-c594-7396953c34c2"
   },
   "outputs": [],
   "source": [
    "d6 = people.assign(body_mass_index = people[\"weight\"] / (people[\"height\"] / 100) ** 2)\n",
    "d6.assign(overweight = d6[\"body_mass_index\"] > 25)"
   ]
  },
  {
   "cell_type": "markdown",
   "metadata": {
    "id": "Y3khZbxCM-IP"
   },
   "source": [
    "임시 변수 `d6`를 만들면 불편합니다. `assign()` 메서드를 연결하고 싶겠지만 `people` 객체가 첫 번째 할당문에서 실제로 수정되지 않기 때문에 작동하지 않습니다:"
   ]
  },
  {
   "cell_type": "code",
   "execution_count": null,
   "metadata": {
    "id": "wZO7f7AuM-IP",
    "outputId": "fc7fb92a-98ac-48e4-88c4-1b3ad15f2df1"
   },
   "outputs": [],
   "source": [
    "try:\n",
    "    (people\n",
    "         .assign(body_mass_index = people[\"weight\"] / (people[\"height\"] / 100) ** 2)\n",
    "         .assign(overweight = people[\"body_mass_index\"] > 25)\n",
    "    )\n",
    "except KeyError as e:\n",
    "    print(\"키 에러:\", e)"
   ]
  },
  {
   "cell_type": "markdown",
   "metadata": {
    "id": "RyV536U2M-IQ"
   },
   "source": [
    "하지만 걱정하지 마세요. 간단한 방법이 있습니다. `assign()` 메서드에 함수(전형적으로 `lambda` 함수)를 전달하면 `DataFrame`을 매개변수로 이 함수를 호출할 것입니다:"
   ]
  },
  {
   "cell_type": "code",
   "execution_count": null,
   "metadata": {
    "id": "UkJrInFVM-IQ",
    "outputId": "05ce276d-c221-4ad6-9104-283491d836e1"
   },
   "outputs": [],
   "source": [
    "(people\n",
    "     .assign(body_mass_index = lambda df: df[\"weight\"] / (df[\"height\"] / 100) ** 2)\n",
    "     .assign(overweight = lambda df: df[\"body_mass_index\"] > 25)\n",
    ")"
   ]
  },
  {
   "cell_type": "markdown",
   "metadata": {
    "id": "xDpdrbP8M-IQ"
   },
   "source": [
    "문제가 해결되었군요!"
   ]
  },
  {
   "cell_type": "markdown",
   "metadata": {
    "id": "YkJ9SUDHM-IQ"
   },
   "source": [
    "## 표현식 평가\n",
    "\n",
    "판다스가 제공하는 뛰어난 기능 하나는 표현식 평가입니다. 이는 `numexpr` 라이브러리에 의존하기 때문에 설치가 되어 있어야 합니다."
   ]
  },
  {
   "cell_type": "code",
   "execution_count": null,
   "metadata": {
    "id": "s5qRHONLM-IQ",
    "outputId": "105bd438-800b-4f0e-d590-0be264a353a7"
   },
   "outputs": [],
   "source": [
    "people.eval(\"weight / (height/100) ** 2 > 25\")"
   ]
  },
  {
   "cell_type": "markdown",
   "metadata": {
    "id": "r55losFtM-IQ"
   },
   "source": [
    "할당 표현식도 지원됩니다. `inplace=True`로 지정하면 수정된 복사본을 만들지 않고 바로 `DataFrame`을 변경합니다:"
   ]
  },
  {
   "cell_type": "code",
   "execution_count": null,
   "metadata": {
    "id": "Ttyml83UM-IQ",
    "outputId": "bbdaa8f7-b5e0-42de-b6a4-7b029d92207a"
   },
   "outputs": [],
   "source": [
    "people.eval(\"body_mass_index = weight / (height/100) ** 2\", inplace=True)\n",
    "people"
   ]
  },
  {
   "cell_type": "markdown",
   "metadata": {
    "id": "ucEK7ZaJM-IQ"
   },
   "source": [
    "`'@'`를 접두어로 사용하여 지역 변수나 전역 변수를 참조할 수 있습니다:"
   ]
  },
  {
   "cell_type": "code",
   "execution_count": null,
   "metadata": {
    "id": "XYfhBGZoM-IQ",
    "outputId": "bf59f6ee-d5e3-4d20-dc7d-9db7cbcab777"
   },
   "outputs": [],
   "source": [
    "overweight_threshold = 30\n",
    "people.eval(\"overweight = body_mass_index > @overweight_threshold\", inplace=True)\n",
    "people"
   ]
  },
  {
   "cell_type": "markdown",
   "metadata": {
    "id": "oj7ugg_nM-IR"
   },
   "source": [
    "## `DataFrame` 쿼리하기\n",
    "\n",
    "`query()` 메서드를 사용하면 쿼리 표현식에 기반하여 `DataFrame`을 필터링할 수 있습니다:"
   ]
  },
  {
   "cell_type": "code",
   "execution_count": null,
   "metadata": {
    "id": "OZqyFSyuM-IR",
    "outputId": "1eeb989c-e31c-40a6-86e2-de8776c77603"
   },
   "outputs": [],
   "source": [
    "people.query(\"age > 30 and pets == 0\")"
   ]
  },
  {
   "cell_type": "markdown",
   "metadata": {
    "id": "ir71A2vwM-IR"
   },
   "source": [
    "## `DataFrame` 정렬\n",
    "\n",
    "`sort_index` 메서드를 호출하여 `DataFrame`을 정렬할 수 있습니다. 기본적으로 인덱스 레이블을 기준으로 오름차순으로 행을 정렬합니다. 여기에서는 내림차순으로 정렬해 보죠:"
   ]
  },
  {
   "cell_type": "code",
   "execution_count": null,
   "metadata": {
    "id": "0tLfCLFTM-IR",
    "outputId": "862b3185-51fe-4904-8fc9-c1f97f71a168"
   },
   "outputs": [],
   "source": [
    "people.sort_index(ascending=False)"
   ]
  },
  {
   "cell_type": "markdown",
   "metadata": {
    "id": "QW-_Aj3AM-IR"
   },
   "source": [
    "`sort_index`는 `DataFrame`의 정렬된 *복사본*을 반환합니다. `people`을 직접 수정하려면 `inplace` 매개변수를 `True`로 지정합니다. 또한 `axis=1`로 지정하여 열 대신 행을 정렬할 수 있습니다:"
   ]
  },
  {
   "cell_type": "code",
   "execution_count": null,
   "metadata": {
    "id": "Snmt1sq6M-IR",
    "outputId": "8bfa6f18-25b9-4e57-a7f9-e446753687ab"
   },
   "outputs": [],
   "source": [
    "people.sort_index(axis=1, inplace=True)\n",
    "people"
   ]
  },
  {
   "cell_type": "markdown",
   "metadata": {
    "id": "HaW6WmpRM-IR"
   },
   "source": [
    "레이블이 아니라 값을 기준으로 `DataFrame`을 정렬하려면 `sort_values`에 정렬하려는 열을 지정합니다:"
   ]
  },
  {
   "cell_type": "code",
   "execution_count": null,
   "metadata": {
    "id": "6uWJ9a_NM-IR",
    "outputId": "3e213237-312e-4ff9-c794-e7a24a9f5820"
   },
   "outputs": [],
   "source": [
    "people.sort_values(by=\"age\", inplace=True)\n",
    "people"
   ]
  },
  {
   "cell_type": "markdown",
   "metadata": {
    "id": "Gq_nIesHM-IR"
   },
   "source": [
    "## `DataFrame` 그래프 그리기\n",
    "\n",
    "`Series`와 마찬가지로 판다스는 `DataFrame` 기반으로 멋진 그래프를 손쉽게 그릴 수 있습니다.\n",
    "\n",
    "예를 들어 `plot` 메서드를 호출하여 `DataFrame`의 데이터에서 선 그래프를 쉽게 그릴 수 있습니다:"
   ]
  },
  {
   "cell_type": "code",
   "execution_count": null,
   "metadata": {
    "id": "4ckfY5a7M-IR",
    "outputId": "a9a3f858-5fb9-416f-c4bf-b2492d177c09"
   },
   "outputs": [],
   "source": [
    "people.plot(kind = \"line\", x = \"body_mass_index\", y = [\"height\", \"weight\"])\n",
    "plt.show()"
   ]
  },
  {
   "cell_type": "markdown",
   "metadata": {
    "id": "xtI84_GWM-IR"
   },
   "source": [
    "맷플롯립의 함수가 지원하는 다른 매개변수를 사용할 수 있습니다. 예를 들어, 산점도를 그릴 때 맷플롯립의 `scatter()` 함수의 `s` 매개변수를 사용해 크기를 지정할 수 있습니다:"
   ]
  },
  {
   "cell_type": "code",
   "execution_count": null,
   "metadata": {
    "id": "M1QFWCfoM-IS",
    "outputId": "f4eacc81-0754-4746-cba5-9a439b6f386f",
    "scrolled": true
   },
   "outputs": [],
   "source": [
    "people.plot(kind = \"scatter\", x = \"height\", y = \"weight\", s=[40, 120, 200])\n",
    "plt.show()"
   ]
  },
  {
   "cell_type": "markdown",
   "metadata": {
    "id": "qIz-u0k-M-IS"
   },
   "source": [
    "선택할 수 있는 옵션이 많습니다. 판다스 문서의 [시각화](http://pandas.pydata.org/pandas-docs/stable/visualization.html) 페이지에서 마음에 드는 그래프를 찾아 예제 코드를 살펴 보세요."
   ]
  },
  {
   "cell_type": "markdown",
   "metadata": {
    "id": "JmcVTb1YM-IS"
   },
   "source": [
    "## `DataFrame` 연산\n",
    "\n",
    "`DataFrame`이 넘파이 배열을 흉내내려는 것은 아니지만 몇 가지 비슷한 점이 있습니다. 예제 `DataFrame`을 만들어 보죠:"
   ]
  },
  {
   "cell_type": "code",
   "execution_count": null,
   "metadata": {
    "id": "2ecM2Ss1M-IS",
    "outputId": "3ede4d77-dba6-4cf2-c63f-8e7eb329616e"
   },
   "outputs": [],
   "source": [
    "grades_array = np.array([[8,8,9],[10,9,9],[4, 8, 2], [9, 10, 10]])\n",
    "grades = pd.DataFrame(grades_array, columns=[\"sep\", \"oct\", \"nov\"], index=[\"alice\",\"bob\",\"charles\",\"darwin\"])\n",
    "grades"
   ]
  },
  {
   "cell_type": "markdown",
   "metadata": {
    "id": "CX8BUMkWM-IS"
   },
   "source": [
    "`DataFrame`에 넘파이 수학 함수를 적용하면 모든 값에 이 함수가 적용됩니다:"
   ]
  },
  {
   "cell_type": "code",
   "execution_count": null,
   "metadata": {
    "id": "W912UpDWM-IS",
    "outputId": "305b2282-9202-4b87-97fc-08b2a97fe704"
   },
   "outputs": [],
   "source": [
    "np.sqrt(grades)"
   ]
  },
  {
   "cell_type": "markdown",
   "metadata": {
    "id": "k91RlDZyM-IS"
   },
   "source": [
    "비슷하게 `DataFrame`에 하나의 값을 더하면 `DataFrame`의 모든 원소에 이 값이 더해집니다. 이를 *브로드캐스팅*이라고 합니다:"
   ]
  },
  {
   "cell_type": "code",
   "execution_count": null,
   "metadata": {
    "id": "2ZWaWnxVM-IS",
    "outputId": "6556fb12-f37e-4926-821a-aed08214f1e2"
   },
   "outputs": [],
   "source": [
    "grades + 1"
   ]
  },
  {
   "cell_type": "markdown",
   "metadata": {
    "id": "7Ej4CIwEM-IS"
   },
   "source": [
    "물론 산술 연산(`*`,`/`,`**`...)과 조건 연산(`>`, `==`...)을 포함해 모든 이항 연산에도 마찬가지 입니다:"
   ]
  },
  {
   "cell_type": "code",
   "execution_count": null,
   "metadata": {
    "id": "jzIMkBQxM-IS",
    "outputId": "97b9f513-03bc-4f33-8496-0f612c25e3a4"
   },
   "outputs": [],
   "source": [
    "grades >= 5"
   ]
  },
  {
   "cell_type": "markdown",
   "metadata": {
    "id": "Z0dpE9XzM-IT"
   },
   "source": [
    "`DataFrame`의 `max`, `sum`, `mean` 같은 집계 연산은 각 열에 적용되어 `Series` 객체가 반환됩니다:"
   ]
  },
  {
   "cell_type": "code",
   "execution_count": null,
   "metadata": {
    "id": "Kl03ucmzM-IT",
    "outputId": "534ccde5-f48b-4edb-ff8d-766d475277b1"
   },
   "outputs": [],
   "source": [
    "grades.mean()"
   ]
  },
  {
   "cell_type": "markdown",
   "metadata": {
    "id": "GKqOlwSwM-IT"
   },
   "source": [
    "`all` 메서드도 집계 연산입니다: 모든 값이 `True`인지 아닌지 확인합니다. 모든 학생의 점수가 `5` 이상인 월을 찾아 보죠:"
   ]
  },
  {
   "cell_type": "code",
   "execution_count": null,
   "metadata": {
    "id": "n9WBGzeVM-IT",
    "outputId": "f98c76ef-af2f-497e-efea-f2a3ec87c02f"
   },
   "outputs": [],
   "source": [
    "(grades > 5).all()"
   ]
  },
  {
   "cell_type": "markdown",
   "metadata": {
    "id": "adiK7BYZM-IT"
   },
   "source": [
    "Most of these functions take an optional `axis` parameter which lets you specify along which axis of the `DataFrame` you want the operation executed. The default is `axis=0`, meaning that the operation is executed vertically (on each column). You can set `axis=1` to execute the operation horizontally (on each row). For example, let's find out which students had all grades greater than `5`:"
   ]
  },
  {
   "cell_type": "code",
   "execution_count": null,
   "metadata": {
    "id": "g_vXgs_5M-IT",
    "outputId": "bcd12e71-be96-417a-90de-b041f92c36d0"
   },
   "outputs": [],
   "source": [
    "(grades > 5).all(axis = 1)"
   ]
  },
  {
   "cell_type": "markdown",
   "metadata": {
    "id": "_R0lgvgkM-IT"
   },
   "source": [
    "`any` 메서드는 하나라도 참이면 `True`를 반환합니다. 한 번이라도 10점을 받은 사람을 찾아 보죠:"
   ]
  },
  {
   "cell_type": "code",
   "execution_count": null,
   "metadata": {
    "id": "GkrgE7pUM-IT",
    "outputId": "2d5bfef8-0df8-4cdd-d9da-3abb45199f0f"
   },
   "outputs": [],
   "source": [
    "(grades == 10).any(axis = 1)"
   ]
  },
  {
   "cell_type": "markdown",
   "metadata": {
    "id": "rqlnVJZMM-IT"
   },
   "source": [
    "`DataFrame`에 `Series` 객체를 더하면 (또는 다른 이항 연산을 수행하면) 판다스는 `DataFrame`에 있는 모든 *행*에 이 연산을 브로드캐스팅합니다. 이는 `Series` 객체가 `DataFrame`의 행의 개수와 크기가 같을 때만 동작합니다. 예를 들어 `DataFrame`의 `mean`(`Series` 객체)을 빼보죠:"
   ]
  },
  {
   "cell_type": "code",
   "execution_count": null,
   "metadata": {
    "id": "FnXDwjWzM-IT",
    "outputId": "d85305a9-4738-42a1-a4c6-577e09fae46a"
   },
   "outputs": [],
   "source": [
    "grades - grades.mean()  # grades - [7.75, 8.75, 7.50] 와 동일"
   ]
  },
  {
   "cell_type": "markdown",
   "metadata": {
    "id": "FEeOdSKpM-IU"
   },
   "source": [
    "모든 9월 성적에서 `7.75`를 빼고, 10월 성적에서 `8.75`를 빼고, 11월 성적에서 `7.50`을 뺍니다. 이는 다음 `DataFrame`을 빼는 것과 같습니다:"
   ]
  },
  {
   "cell_type": "code",
   "execution_count": null,
   "metadata": {
    "id": "4EN3T6zwM-IU",
    "outputId": "8ccb2417-fb77-4f71-9dcf-d2ecb68d39b7"
   },
   "outputs": [],
   "source": [
    "pd.DataFrame([[7.75, 8.75, 7.50]]*4, index=grades.index, columns=grades.columns)"
   ]
  },
  {
   "cell_type": "markdown",
   "metadata": {
    "id": "c03-iKuhM-IU"
   },
   "source": [
    "모든 성적의 전체 평균을 빼고 싶다면 다음과 같은 방법을 사용합니다:"
   ]
  },
  {
   "cell_type": "code",
   "execution_count": null,
   "metadata": {
    "id": "2HEyzi8DM-IU",
    "outputId": "5e6fdf69-cdfe-4294-9111-9e0ce62e4f7b",
    "scrolled": true
   },
   "outputs": [],
   "source": [
    "grades - grades.values.mean() # 모든 점수에서 전체 평균(8.00)을 뺍니다"
   ]
  },
  {
   "cell_type": "markdown",
   "metadata": {
    "id": "WZvn3UidM-IU"
   },
   "source": [
    "## 자동 정렬\n",
    "\n",
    "`Series`와 비슷하게 여러 개의 `DataFrame`에 대한 연산을 수행하면 판다스는 자동으로 행 인덱스 레이블로 정렬하지만 열 이름으로도 정렬할 수 있습니다. 10월부터 12월까지 보너스 포인트를 담은 `DataFrame`을 만들어 보겠습니다:"
   ]
  },
  {
   "cell_type": "code",
   "execution_count": null,
   "metadata": {
    "id": "9oW30UwRM-IU",
    "outputId": "32bc95e9-40a7-4210-9d71-65885998498c"
   },
   "outputs": [],
   "source": [
    "bonus_array = np.array([[0,np.nan,2],[np.nan,1,0],[0, 1, 0], [3, 3, 0]])\n",
    "bonus_points = pd.DataFrame(bonus_array, columns=[\"oct\", \"nov\", \"dec\"], index=[\"bob\",\"colin\", \"darwin\", \"charles\"])\n",
    "bonus_points"
   ]
  },
  {
   "cell_type": "code",
   "execution_count": null,
   "metadata": {
    "id": "YtxCpl6_M-IU",
    "outputId": "f2bb2dbc-8e99-4d1c-8a27-c4706b4cab7b",
    "scrolled": true
   },
   "outputs": [],
   "source": [
    "grades + bonus_points"
   ]
  },
  {
   "cell_type": "markdown",
   "metadata": {
    "id": "qxvYhrctM-IU"
   },
   "source": [
    "덧셈 연산이 수행되었지만 너무 많은 원소가 `NaN`이 되었습니다. `DataFrame`을 정렬할 때 일부 열과 행이 한 쪽에만 있기 때문입니다. 다른 쪽에는 누란되었다고 간주합니다(`NaN`). `NaN`에 어떤 수를 더하면 `NaN`이 됩니다.\n",
    "\n",
    "## 누락된 데이터 다루기\n",
    "\n",
    "실제 데이터에서 누락된 데이터를 다루는 경우는 자주 발생합니다. 판다스는 누락된 데이터를 다룰 수 있는 몇 가지 방법을 제공합니다.\n",
    "\n",
    "위 데이터에 있는 문제를 해결해 보죠. 예를 들어, 누락된 데이터는 `NaN`이 아니라 0이 되어야 한다고 결정할 수 있습니다. `fillna()` 메서드를 사용해 모든 `NaN` 값을 어떤 값으로 바꿀 수 있습니다:"
   ]
  },
  {
   "cell_type": "code",
   "execution_count": null,
   "metadata": {
    "id": "e72b7a7BM-IU",
    "outputId": "fa30abce-bc91-4023-e2e4-8e0295d2f208",
    "scrolled": true
   },
   "outputs": [],
   "source": [
    "(grades + bonus_points).fillna(0)"
   ]
  },
  {
   "cell_type": "markdown",
   "metadata": {
    "id": "SJn4-rneM-IU"
   },
   "source": [
    "9월의 점수를 0으로 만드는 것은 공정하지 않습니다. 누락된 점수는 그대로 두고, 누락된 보너스 포인트는 0으로 바꿀 수 있습니다:"
   ]
  },
  {
   "cell_type": "code",
   "execution_count": null,
   "metadata": {
    "id": "YCqdQvWwM-IV",
    "outputId": "01481042-8d43-4e7b-a46d-a147f37bd6da"
   },
   "outputs": [],
   "source": [
    "fixed_bonus_points = bonus_points.fillna(0)\n",
    "fixed_bonus_points.insert(0, \"sep\", 0)\n",
    "fixed_bonus_points.loc[\"alice\"] = 0\n",
    "grades + fixed_bonus_points"
   ]
  },
  {
   "cell_type": "markdown",
   "metadata": {
    "id": "kMIO4GTkM-IV"
   },
   "source": [
    "훨씬 낫네요: 일부 데이터를 꾸며냈지만 덜 불공정합니다.\n",
    "\n",
    "누락된 값을 다루는 또 다른 방법은 보간입니다. `bonus_points` `DataFrame`을 다시 보죠:"
   ]
  },
  {
   "cell_type": "code",
   "execution_count": null,
   "metadata": {
    "id": "y__NRIyDM-IV",
    "outputId": "a7c1bd63-a2db-4b85-f673-e464c5884bc5"
   },
   "outputs": [],
   "source": [
    "bonus_points"
   ]
  },
  {
   "cell_type": "markdown",
   "metadata": {
    "id": "z4fsYeX5M-IV"
   },
   "source": [
    "`interpolate` 메서드를 사용해 보죠. 기본적으로 수직 방향(`axis=0`)으로 보간합니다. 따라서 수평으로(`axis=1`)으로 보간하도록 지정합니다."
   ]
  },
  {
   "cell_type": "code",
   "execution_count": null,
   "metadata": {
    "id": "8-IjeE_bM-IV",
    "outputId": "175b6965-1983-4ded-aaa7-bd775433e76f"
   },
   "outputs": [],
   "source": [
    "bonus_points.interpolate(axis=1)"
   ]
  },
  {
   "cell_type": "markdown",
   "metadata": {
    "id": "dXaewLPpM-IV"
   },
   "source": [
    "bob의 보너스 포인트는 10월에 0이고 12월에 2입니다. 11월을 보간하면 평균 보너스 포인트 1을 얻습니다. colin의 보너스 포인트는 11월에 1이지만 9월에 포인트는 얼마인지 모릅니다. 따라서 보간할 수 없고 10월의 포인트는 그대로 누락된 값으로 남아 있습니다. 이를 해결하려면 보간하기 전에 9월의 보너스 포인트를 0으로 설정해야 합니다."
   ]
  },
  {
   "cell_type": "code",
   "execution_count": null,
   "metadata": {
    "id": "CAvX2UiOM-IV",
    "outputId": "d9b8f742-c02f-4427-d39d-035ddf10e318"
   },
   "outputs": [],
   "source": [
    "better_bonus_points = bonus_points.copy()\n",
    "better_bonus_points.insert(0, \"sep\", 0)\n",
    "better_bonus_points.loc[\"alice\"] = 0\n",
    "better_bonus_points = better_bonus_points.interpolate(axis=1)\n",
    "better_bonus_points"
   ]
  },
  {
   "cell_type": "markdown",
   "metadata": {
    "id": "jJlA2PQDM-IV"
   },
   "source": [
    "좋습니다. 이제 모든 보너스 포인트가 합리적으로 보간되었습니다. 최종 점수를 확인해 보죠:"
   ]
  },
  {
   "cell_type": "code",
   "execution_count": null,
   "metadata": {
    "id": "30fR2aGpM-IV",
    "outputId": "82de53f0-d698-4029-d664-73280cccd514"
   },
   "outputs": [],
   "source": [
    "grades + better_bonus_points"
   ]
  },
  {
   "cell_type": "markdown",
   "metadata": {
    "id": "oR0WZm3yM-IV"
   },
   "source": [
    "9월 열이 오른쪽에 추가되었는데 좀 이상합니다. 이는 더하려는 `DataFrame`이 정확히 같은 열을 가지고 있지 않기 때문입니다(`grade` `DataFrame`에는 `\"dec\"` 열이 없습니다). 따라서 판다스는 알파벳 순서로 최종 열을 정렬합니다. 이를 해결하려면 덧셈을 하기 전에 누락된 열을 추가하면 됩니다:"
   ]
  },
  {
   "cell_type": "code",
   "execution_count": null,
   "metadata": {
    "id": "LixTwz8CM-IV",
    "outputId": "836f3d28-df8d-4c05-b87c-864edd7bf10e",
    "scrolled": true
   },
   "outputs": [],
   "source": [
    "grades[\"dec\"] = np.nan\n",
    "final_grades = grades + better_bonus_points\n",
    "final_grades"
   ]
  },
  {
   "cell_type": "markdown",
   "metadata": {
    "id": "V5fag46mM-IV"
   },
   "source": [
    "12월과 colin에 대해 할 수 있는 것이 많지 않습니다. 보너스 포인트를 만드는 것이 나쁘지만 점수를 합리적으로 올릴 수는 없습니다(어떤 선생님들은 그럴 수 있지만). `dropna()` 메서드를 사용해 모두 `NaN`인 행을 삭제합니다:"
   ]
  },
  {
   "cell_type": "code",
   "execution_count": null,
   "metadata": {
    "id": "A0E67JASM-IW",
    "outputId": "2a375634-f8db-4b20-ff33-5dcb50970732"
   },
   "outputs": [],
   "source": [
    "final_grades_clean = final_grades.dropna(how=\"all\")\n",
    "final_grades_clean"
   ]
  },
  {
   "cell_type": "markdown",
   "metadata": {
    "id": "_DYNjg7YM-IW"
   },
   "source": [
    "그다음 `axis` 매개변수를 `1`로 지정하여 모두 `NaN`인 열을 삭제합니다:"
   ]
  },
  {
   "cell_type": "code",
   "execution_count": null,
   "metadata": {
    "id": "r6K9KytHM-IW",
    "outputId": "6fe7b892-a916-4f9e-b3e2-0ec9bd4c2229"
   },
   "outputs": [],
   "source": [
    "final_grades_clean = final_grades_clean.dropna(axis=1, how=\"all\")\n",
    "final_grades_clean"
   ]
  },
  {
   "cell_type": "markdown",
   "metadata": {
    "id": "cmxrP3xeM-IW"
   },
   "source": [
    "## `groupby`로 집계하기\n",
    "\n",
    "SQL과 비슷하게 판다스는 데이터를 그룹핑하고 각 그룹에 대해 연산을 수행할 수 있습니다.\n",
    "\n",
    "먼저 그루핑을 위해 각 사람의 데이터를 추가로 만들겠습니다. `NaN` 값을 어떻게 다루는지 보기 위해 `final_grades` `DataFrame`을 다시 사용하겠습니다:"
   ]
  },
  {
   "cell_type": "code",
   "execution_count": null,
   "metadata": {
    "id": "nPjA4P2iM-IW",
    "outputId": "b4b251f4-ee02-46d7-f4e5-80805a240477",
    "scrolled": true
   },
   "outputs": [],
   "source": [
    "final_grades[\"hobby\"] = [\"Biking\", \"Dancing\", np.nan, \"Dancing\", \"Biking\"]\n",
    "final_grades"
   ]
  },
  {
   "cell_type": "markdown",
   "metadata": {
    "id": "pnVt5GFFM-IW"
   },
   "source": [
    "hobby로 이 `DataFrame`을 그룹핑해 보죠:"
   ]
  },
  {
   "cell_type": "code",
   "execution_count": null,
   "metadata": {
    "id": "ccD8caPiM-IW",
    "outputId": "24143f0a-9232-440b-ab8f-fc59b4ae7d32"
   },
   "outputs": [],
   "source": [
    "grouped_grades = final_grades.groupby(\"hobby\")\n",
    "grouped_grades"
   ]
  },
  {
   "cell_type": "markdown",
   "metadata": {
    "id": "HukSMQxUM-IW"
   },
   "source": [
    "이제 hobby마다 평균 점수를 계산할 수 있습니다:"
   ]
  },
  {
   "cell_type": "code",
   "execution_count": null,
   "metadata": {
    "id": "C374wcQ8M-IW",
    "outputId": "169abb14-04d7-4a73-80f0-e0185ea741fc"
   },
   "outputs": [],
   "source": [
    "grouped_grades.mean()"
   ]
  },
  {
   "cell_type": "markdown",
   "metadata": {
    "id": "faUIDp9MM-IX"
   },
   "source": [
    "아주 쉽네요! 평균을 계산할 때 `NaN` 값은 그냥 무시됩니다."
   ]
  },
  {
   "cell_type": "markdown",
   "metadata": {
    "id": "h9s5TakpM-IX"
   },
   "source": [
    "## 피봇 테이블\n",
    "\n",
    "판다스는 스프레드시트와 비슷하 [피봇 테이블](https://en.wikipedia.org/wiki/Pivot_table)을 지원하여 데이터를 빠르게 요약할 수 있습니다. 어떻게 동작하는 알아 보기 위해 간단한 `DataFrame`을 만들어 보죠:"
   ]
  },
  {
   "cell_type": "code",
   "execution_count": null,
   "metadata": {
    "id": "RhRGkrcvM-IX",
    "outputId": "9836137a-5bcb-45d2-ea1f-ec0dc9e43a05"
   },
   "outputs": [],
   "source": [
    "bonus_points"
   ]
  },
  {
   "cell_type": "code",
   "execution_count": null,
   "metadata": {
    "id": "5Pg00OHZM-IX",
    "outputId": "b3eb3449-c1b3-4775-eabf-b63876549204"
   },
   "outputs": [],
   "source": [
    "more_grades = final_grades_clean.stack().reset_index()\n",
    "more_grades.columns = [\"name\", \"month\", \"grade\"]\n",
    "more_grades[\"bonus\"] = [np.nan, np.nan, np.nan, 0, np.nan, 2, 3, 3, 0, 0, 1, 0]\n",
    "more_grades"
   ]
  },
  {
   "cell_type": "markdown",
   "metadata": {
    "id": "KPPG_-kpM-IX"
   },
   "source": [
    "이제 이 `DataFrame`에 대해 `pd.pivot_table()` 함수를 호출하고 `name` 열로 그룹핑합니다. 기본적으로 `pivot_table()`은 수치 열의 평균을 계산합니다:"
   ]
  },
  {
   "cell_type": "code",
   "execution_count": null,
   "metadata": {
    "id": "qjg192Q1M-IX",
    "outputId": "d2bc5327-3e57-4595-9e2d-99299db4081f"
   },
   "outputs": [],
   "source": [
    "pd.pivot_table(more_grades, index=\"name\")"
   ]
  },
  {
   "cell_type": "markdown",
   "metadata": {
    "id": "N_YqjtlYM-IX"
   },
   "source": [
    "집계 함수를 `aggfunc` 매개변수로 바꿀 수 있습니다. 또한 집계 대상의 열을 리스트로 지정할 수 있습니다:"
   ]
  },
  {
   "cell_type": "code",
   "execution_count": null,
   "metadata": {
    "id": "rQZPOIIiM-IX",
    "outputId": "bc2ba65c-75b1-454f-830a-fa0707b7f73a"
   },
   "outputs": [],
   "source": [
    "pd.pivot_table(more_grades, index=\"name\", values=[\"grade\",\"bonus\"], aggfunc=np.max)"
   ]
  },
  {
   "cell_type": "markdown",
   "metadata": {
    "id": "vcmLK1PeM-IX"
   },
   "source": [
    "`columns` 매개변수를 지정하여 수평으로 집계할 수 있고 `margins=True`로 설정해 각 행과 열에 대해 전체 합을 계산할 수 있습니다:"
   ]
  },
  {
   "cell_type": "code",
   "execution_count": null,
   "metadata": {
    "id": "7Bsy2gaBM-IX",
    "outputId": "59ab42e2-c5cf-4683-8ed6-b491ef622dff"
   },
   "outputs": [],
   "source": [
    "pd.pivot_table(more_grades, index=\"name\", values=\"grade\", columns=\"month\", margins=True)"
   ]
  },
  {
   "cell_type": "markdown",
   "metadata": {
    "id": "tHwBz985M-IX"
   },
   "source": [
    "마지막으로 여러 개의 인덱스나 열 이름을 지정하면 판다스가 다중 레벨 인덱스를 만듭니다:"
   ]
  },
  {
   "cell_type": "code",
   "execution_count": null,
   "metadata": {
    "id": "2PlypUqgM-IY",
    "outputId": "7465bc62-ea8e-4e23-bbb3-ed69d6673929"
   },
   "outputs": [],
   "source": [
    "pd.pivot_table(more_grades, index=(\"name\", \"month\"), margins=True)"
   ]
  },
  {
   "cell_type": "markdown",
   "metadata": {
    "id": "ea9AEfTOM-IY"
   },
   "source": [
    "## 함수\n",
    "\n",
    "큰 `DataFrame`을 다룰 때 내용을 간단히 요약하는 것이 도움이 됩니다. 판다스는 이를 위한 몇 가지 함수를 제공합니다. 먼저 수치 값, 누락된 값, 텍스트 값이 섞인 큰 `DataFrame`을 만들어 보죠. 주피터 노트북은 이 `DataFrame`의 일부만 보여줍니다:"
   ]
  },
  {
   "cell_type": "code",
   "execution_count": null,
   "metadata": {
    "id": "JAlEWhu_M-IY",
    "outputId": "86bd7063-1da8-4137-bb03-b4751a39742b"
   },
   "outputs": [],
   "source": [
    "much_data = np.fromfunction(lambda x,y: (x+y*y)%17*11, (10000, 26))\n",
    "large_df = pd.DataFrame(much_data, columns=list(\"ABCDEFGHIJKLMNOPQRSTUVWXYZ\"))\n",
    "large_df[large_df % 16 == 0] = np.nan\n",
    "large_df.insert(3,\"some_text\", \"Blabla\")\n",
    "large_df"
   ]
  },
  {
   "cell_type": "markdown",
   "metadata": {
    "id": "GIYSoadeM-IY"
   },
   "source": [
    "`head()` 메서드는 처음 5개 행을 반환합니다:"
   ]
  },
  {
   "cell_type": "code",
   "execution_count": null,
   "metadata": {
    "id": "FwuBfUMRM-IY",
    "outputId": "2dc7f303-5fef-41b9-9691-346ca9bff395"
   },
   "outputs": [],
   "source": [
    "large_df.head()"
   ]
  },
  {
   "cell_type": "markdown",
   "metadata": {
    "id": "1qAnAflBM-IY"
   },
   "source": [
    "마지막 5개 행을 반환하는 `tail()` 함수도 있습니다. 원하는 행 개수를 전달할 수도 있습니다:"
   ]
  },
  {
   "cell_type": "code",
   "execution_count": null,
   "metadata": {
    "id": "ogKs7WR_M-IY",
    "outputId": "7352c577-8852-44a5-9118-232ce9297afe"
   },
   "outputs": [],
   "source": [
    "large_df.tail(n=2)"
   ]
  },
  {
   "cell_type": "markdown",
   "metadata": {
    "id": "c0-jBsvwM-IY"
   },
   "source": [
    "`info()` 메서드는 각 열의 내용을 요약하여 출력합니다:"
   ]
  },
  {
   "cell_type": "code",
   "execution_count": null,
   "metadata": {
    "id": "JqRypRotM-IY",
    "outputId": "cedb60ef-7fd6-4362-9e26-c401f052e9e3"
   },
   "outputs": [],
   "source": [
    "large_df.info()"
   ]
  },
  {
   "cell_type": "markdown",
   "metadata": {
    "id": "7bENXDOYM-IY"
   },
   "source": [
    "마지막으로 `describe()` 메서드는 각 열에 대한 주요 집계 연산을 수행한 결과를 보여줍니다:\n",
    "\n",
    "Finally, the `describe()` method gives a nice overview of the main aggregated values over each column:\n",
    "* `count`: null(NaN)이 아닌 값의 개수\n",
    "* `mean`: null이 아닌 값의 평균\n",
    "* `std`: null이 아닌 값의 [표준 편차](https://ko.wikipedia.org/wiki/%ED%91%9C%EC%A4%80_%ED%8E%B8%EC%B0%A8)\n",
    "* `min`: null이 아닌 값의 최솟값\n",
    "* `25%`, `50%`, `75%`: null이 아닌 값의 25번째, 50번째, 75번째 [백분위수](https://ko.wikipedia.org/wiki/%EB%B0%B1%EB%B6%84%EC%9C%84%EC%88%98)\n",
    "* `max`: null이 아닌 값의 최댓값"
   ]
  },
  {
   "cell_type": "code",
   "execution_count": null,
   "metadata": {
    "id": "-DbLXAYJM-IY",
    "outputId": "94c5e308-25ba-4741-f3b7-45a00cd0794e"
   },
   "outputs": [],
   "source": [
    "large_df.describe()"
   ]
  },
  {
   "cell_type": "markdown",
   "metadata": {
    "id": "QJ3Ne9H5M-IY"
   },
   "source": [
    "# 저장 & 로딩\n",
    "\n",
    "판다스는 `DataFrame`를 여러 가지 포맷으로 저장할 수 있습니다. CSV, Excel, JSON, HTML, HDF5, SQL 데이터베이스 같은 포맷이 가능합니다. 예제를 위해 `DataFrame`을 하나 만들어 보겠습니다:"
   ]
  },
  {
   "cell_type": "code",
   "execution_count": null,
   "metadata": {
    "id": "BSkinZ90M-IZ",
    "outputId": "c14be1b4-5d9e-4613-ad63-de66e47cc6b6"
   },
   "outputs": [],
   "source": [
    "my_df = pd.DataFrame(\n",
    "    [[\"Biking\", 68.5, 1985, np.nan], [\"Dancing\", 83.1, 1984, 3]], \n",
    "    columns=[\"hobby\",\"weight\",\"birthyear\",\"children\"],\n",
    "    index=[\"alice\", \"bob\"]\n",
    ")\n",
    "my_df"
   ]
  },
  {
   "cell_type": "markdown",
   "metadata": {
    "id": "y7LIB7-6M-IZ"
   },
   "source": [
    "## 저장\n",
    "\n",
    "CSV, HTML, JSON로 저장해 보죠:"
   ]
  },
  {
   "cell_type": "code",
   "execution_count": null,
   "metadata": {
    "id": "RU_zLyufM-IZ"
   },
   "outputs": [],
   "source": [
    "my_df.to_csv(\"my_df.csv\")\n",
    "my_df.to_html(\"my_df.html\")\n",
    "my_df.to_json(\"my_df.json\")"
   ]
  },
  {
   "cell_type": "markdown",
   "metadata": {
    "id": "5Dii938YM-IZ"
   },
   "source": [
    "저장된 내용을 확인해 보죠:"
   ]
  },
  {
   "cell_type": "code",
   "execution_count": null,
   "metadata": {
    "id": "CaFJDf7cM-IZ",
    "outputId": "f52ec08e-7f75-4050-c1ef-f9d2809bfc53"
   },
   "outputs": [],
   "source": [
    "for filename in (\"my_df.csv\", \"my_df.html\", \"my_df.json\"):\n",
    "    print(\"#\", filename)\n",
    "    with open(filename, \"rt\") as f:\n",
    "        print(f.read())\n",
    "        print()\n"
   ]
  },
  {
   "cell_type": "markdown",
   "metadata": {
    "id": "3HYyH1l0M-IZ"
   },
   "source": [
    "인덱스는 (이름 없이) CSV 파일의 첫 번째 열에 저장되었습니다. HTML에서는 `<th>` 태그와 JSON에서는 키로 저장되었습니다.\n",
    "\n",
    "다른 포맷으로 저장하는 것도 비슷합니다. 하지만 일부 포맷은 추가적인 라이브러리 설치가 필요합니다. 예를 들어, 엑셀로 저장하려면 openpyxl 라이브러리가 필요합니다:"
   ]
  },
  {
   "cell_type": "code",
   "execution_count": null,
   "metadata": {
    "id": "JRxd3FRyM-IZ",
    "outputId": "c0eaa4fc-2475-4fde-bc48-3e44d71cba17"
   },
   "outputs": [],
   "source": [
    "try:\n",
    "    my_df.to_excel(\"my_df.xlsx\", sheet_name='People')\n",
    "except ImportError as e:\n",
    "    print(e)"
   ]
  },
  {
   "cell_type": "markdown",
   "metadata": {
    "id": "hOF9saFFM-IZ"
   },
   "source": [
    "## 로딩\n",
    "\n",
    "CSV 파일을 `DataFrame`으로 로드해 보죠:"
   ]
  },
  {
   "cell_type": "code",
   "execution_count": null,
   "metadata": {
    "id": "nSx5xHCVM-IZ",
    "outputId": "5b4ae8b2-854a-47c8-8151-fcb9b234f58d"
   },
   "outputs": [],
   "source": [
    "my_df_loaded = pd.read_csv(\"my_df.csv\", index_col=0)\n",
    "my_df_loaded"
   ]
  },
  {
   "cell_type": "markdown",
   "metadata": {
    "id": "tNlCBSa9M-IZ"
   },
   "source": [
    "예상할 수 있듯이 `read_json`, `read_html`, `read_excel` 함수도 있습니다. 인터넷에서 데이터를 바로 읽을 수도 있습니다. 예를 들어 깃허브에서 1,000개의 U.S. 도시를 로드해 보죠:"
   ]
  },
  {
   "cell_type": "code",
   "execution_count": null,
   "metadata": {
    "id": "0EvE2qCwM-IZ",
    "outputId": "1590d0ef-3f12-47f7-c44f-78609437a765"
   },
   "outputs": [],
   "source": [
    "us_cities = None\n",
    "try:\n",
    "    csv_url = \"https://raw.githubusercontent.com/plotly/datasets/master/us-cities-top-1k.csv\"\n",
    "    us_cities = pd.read_csv(csv_url, index_col=0)\n",
    "    us_cities = us_cities.head()\n",
    "except IOError as e:\n",
    "    print(e)\n",
    "us_cities"
   ]
  },
  {
   "cell_type": "markdown",
   "metadata": {
    "id": "WF5PHdlJM-Ia"
   },
   "source": [
    "이외에도 많은 옵션이 있습니다. 특히 datetime 포맷에 관련된 옵션이 많습니다. 더 자세한 내용은 온라인 [문서](http://pandas.pydata.org/pandas-docs/stable/io.html)를 참고하세요."
   ]
  },
  {
   "cell_type": "markdown",
   "metadata": {
    "id": "4SUmBKIyM-Ia"
   },
   "source": [
    "# `DataFrame` 합치기\n",
    "\n",
    "## SQL 조인\n",
    "\n",
    "판다스의 강력한 기능 중 하나는 `DataFrame`에 대해 SQL 같은 조인(join)을 수행할 수 있는 것입니다. 여러 종류의 조인이 지원됩니다. 이너 조인(inner join), 레프트/라이트 아우터 조인(left/right outer join), 풀 조인(full join)입니다. 이에 대해 알아 보기 위해 간단한 `DataFrame`을 만들어 보죠:"
   ]
  },
  {
   "cell_type": "code",
   "execution_count": null,
   "metadata": {
    "id": "DPTIRsrjM-Ia",
    "outputId": "a894886a-e906-40f3-ecb0-faf2a523e91c"
   },
   "outputs": [],
   "source": [
    "city_loc = pd.DataFrame(\n",
    "    [\n",
    "        [\"CA\", \"San Francisco\", 37.781334, -122.416728],\n",
    "        [\"NY\", \"New York\", 40.705649, -74.008344],\n",
    "        [\"FL\", \"Miami\", 25.791100, -80.320733],\n",
    "        [\"OH\", \"Cleveland\", 41.473508, -81.739791],\n",
    "        [\"UT\", \"Salt Lake City\", 40.755851, -111.896657]\n",
    "    ], columns=[\"state\", \"city\", \"lat\", \"lng\"])\n",
    "city_loc"
   ]
  },
  {
   "cell_type": "code",
   "execution_count": null,
   "metadata": {
    "id": "c0HAlM76M-Ia",
    "outputId": "3aa1d1df-fbf0-45b4-b8dc-1eda6a10d9d3"
   },
   "outputs": [],
   "source": [
    "city_pop = pd.DataFrame(\n",
    "    [\n",
    "        [808976, \"San Francisco\", \"California\"],\n",
    "        [8363710, \"New York\", \"New-York\"],\n",
    "        [413201, \"Miami\", \"Florida\"],\n",
    "        [2242193, \"Houston\", \"Texas\"]\n",
    "    ], index=[3,4,5,6], columns=[\"population\", \"city\", \"state\"])\n",
    "city_pop"
   ]
  },
  {
   "cell_type": "markdown",
   "metadata": {
    "id": "UrWn0n8uM-Ia"
   },
   "source": [
    "이제 `merge()` 함수를 사용해 이 `DataFrame`을 조인해 보죠:"
   ]
  },
  {
   "cell_type": "code",
   "execution_count": null,
   "metadata": {
    "id": "AgSQECd0M-Ia",
    "outputId": "5d3893eb-591d-4e0a-e7e5-717e79345567"
   },
   "outputs": [],
   "source": [
    "pd.merge(left=city_loc, right=city_pop, on=\"city\")"
   ]
  },
  {
   "cell_type": "markdown",
   "metadata": {
    "id": "0ciEjT7CM-Ia"
   },
   "source": [
    "두 `DataFrame`은 `state`란 이름의 열을 가지고 있으므로 `state_x`와 `state_y`로 이름이 바뀌었습니다.\n",
    "\n",
    "또한 Cleveland, Salt Lake City, Houston은 두 `DataFrame`에 모두 존재하지 않기 때문에 삭제되었습니다. SQL의 `INNER JOIN`과 동일합니다. 도시를 삭제하지 않고 `NaN`으로 채우는 `FULL OUTER JOIN`을 원하면 `how=\"outer\"`로 지정합니다:"
   ]
  },
  {
   "cell_type": "code",
   "execution_count": null,
   "metadata": {
    "id": "_1Cq0BlDM-Ia",
    "outputId": "5480bc9f-b764-4493-d789-29a25d42dc6c"
   },
   "outputs": [],
   "source": [
    "all_cities = pd.merge(left=city_loc, right=city_pop, on=\"city\", how=\"outer\")\n",
    "all_cities"
   ]
  },
  {
   "cell_type": "markdown",
   "metadata": {
    "id": "h6xO0cZyM-Ia"
   },
   "source": [
    "물론 `LEFT OUTER JOIN`은 `how=\"left\"`로 지정할 수 있습니다. 왼쪽의 `DataFrame`에 있는 도시만 남습니다. 비슷하게 `how=\"right\"`는 오른쪽 `DataFrame`에 있는 도시만 결과에 남습니다. 예를 들면:"
   ]
  },
  {
   "cell_type": "code",
   "execution_count": null,
   "metadata": {
    "id": "O6Bf9hNdM-Ia",
    "outputId": "be5a9cdf-9e59-4d22-d0a3-431b784f95b2"
   },
   "outputs": [],
   "source": [
    "pd.merge(left=city_loc, right=city_pop, on=\"city\", how=\"right\")"
   ]
  },
  {
   "cell_type": "markdown",
   "metadata": {
    "id": "wFEwvNqFM-Ia"
   },
   "source": [
    "조인할 키가 `DataFrame` 인덱스라면 `left_index=True`나 `right_index=True`로 지정해야 합니다. 키 열의 이름이 다르면 `left_on`과 `right_on`을 사용합니다. 예를 들어:"
   ]
  },
  {
   "cell_type": "code",
   "execution_count": null,
   "metadata": {
    "id": "OFhkI4G1M-Ia",
    "outputId": "7d9c9ff6-1e5d-4ee1-a888-64f2fdd9165b"
   },
   "outputs": [],
   "source": [
    "city_pop2 = city_pop.copy()\n",
    "city_pop2.columns = [\"population\", \"name\", \"state\"]\n",
    "pd.merge(left=city_loc, right=city_pop2, left_on=\"city\", right_on=\"name\")"
   ]
  },
  {
   "cell_type": "markdown",
   "metadata": {
    "id": "MLsOLWNKM-Ib"
   },
   "source": [
    "## 연결\n",
    "\n",
    "`DataFrame`을 조인하는 대신 그냥 연결할 수도 있습니다. `concat()` 함수가 하는 일입니다:"
   ]
  },
  {
   "cell_type": "code",
   "execution_count": null,
   "metadata": {
    "id": "ROeqj-tvM-Ib",
    "outputId": "efb54ea5-8022-4327-8062-530e2a20be68"
   },
   "outputs": [],
   "source": [
    "result_concat = pd.concat([city_loc, city_pop])\n",
    "result_concat"
   ]
  },
  {
   "cell_type": "markdown",
   "metadata": {
    "id": "OzqusnGXM-Ib"
   },
   "source": [
    "이 연산은 (행을 따라) 수직적으로 데이터를 연결하고 (열을 따라) 수평으로 연결하지 않습니다. 이 예에서 동일한 인덱스를 가진 행이 있습니다(예를 들면 3). 판다스는 이를 우아하게 처리합니다:"
   ]
  },
  {
   "cell_type": "code",
   "execution_count": null,
   "metadata": {
    "id": "6FCd0O-4M-Ib",
    "outputId": "89980bc7-8d86-4e7a-9678-fb3c4af1a5b2"
   },
   "outputs": [],
   "source": [
    "result_concat.loc[3]"
   ]
  },
  {
   "cell_type": "markdown",
   "metadata": {
    "id": "tuX9WZQaM-Ib"
   },
   "source": [
    "또는 인덱스를 무시하도록 설정할 수 있습니다:"
   ]
  },
  {
   "cell_type": "code",
   "execution_count": null,
   "metadata": {
    "id": "x9vKSPbUM-Ib",
    "outputId": "8c87d2ff-2132-4319-9328-4083849efb4b"
   },
   "outputs": [],
   "source": [
    "pd.concat([city_loc, city_pop], ignore_index=True)"
   ]
  },
  {
   "cell_type": "markdown",
   "metadata": {
    "id": "-HLNPnSwM-Ib"
   },
   "source": [
    "한 `DataFrame`에 열이 없을 때 `NaN`이 채워져 있는 것처럼 동작합니다. `join=\"inner\"`로 설정하면 *양쪽*의 `DataFrame`에 존재하는 열만 반환됩니다:"
   ]
  },
  {
   "cell_type": "code",
   "execution_count": null,
   "metadata": {
    "id": "52LD6JCUM-Ib",
    "outputId": "063213e5-d880-432e-ec38-9a3606309242"
   },
   "outputs": [],
   "source": [
    "pd.concat([city_loc, city_pop], join=\"inner\")"
   ]
  },
  {
   "cell_type": "markdown",
   "metadata": {
    "id": "S8j_fpsEM-Ib"
   },
   "source": [
    "`axis=1`로 설정하면 `DataFrame`을 수직이 아니라 수평으로 연결할 수 있습니다:"
   ]
  },
  {
   "cell_type": "code",
   "execution_count": null,
   "metadata": {
    "id": "5dMoyaW6M-Ib",
    "outputId": "e78e3081-2020-4f05-e6b4-21368ee86043",
    "scrolled": true
   },
   "outputs": [],
   "source": [
    "pd.concat([city_loc, city_pop], axis=1)"
   ]
  },
  {
   "cell_type": "markdown",
   "metadata": {
    "id": "y-y-0TzPM-Ib"
   },
   "source": [
    "이 경우 인덱스가 잘 정렬되지 않기 때문에 의미가 없습니다(예를 들어 Cleveland와 San Francisco의 인덱스 레이블이 `3`이기 때문에 동일한 행에 놓여 있습니다). 이 `DataFrame`을 연결하기 전에 도시로 인덱스를 재설정해 보죠:"
   ]
  },
  {
   "cell_type": "code",
   "execution_count": null,
   "metadata": {
    "id": "HDVtHTHlM-Ib",
    "outputId": "94268bf5-cacb-46f9-bc30-6bed618e8231",
    "scrolled": true
   },
   "outputs": [],
   "source": [
    "pd.concat([city_loc.set_index(\"city\"), city_pop.set_index(\"city\")], axis=1)"
   ]
  },
  {
   "cell_type": "markdown",
   "metadata": {
    "id": "ja-QqJ6KM-Ic"
   },
   "source": [
    "`FULL OUTER JOIN`을 수행한 것과 비슷합니다. 하지만 `state` 열이 `state_x`와 `state_y`로 바뀌지 않았고 `city` 열이 인덱스가 되었습니다."
   ]
  },
  {
   "cell_type": "markdown",
   "metadata": {
    "id": "nlDkwibUM-Ic"
   },
   "source": [
    "`append()` 메서드는 `DataFrame`을 수직으로 연결하는 단축 메서드입니다:"
   ]
  },
  {
   "cell_type": "code",
   "execution_count": null,
   "metadata": {
    "id": "jWJtZv3uM-Ic",
    "outputId": "517e7727-9876-4bf8-ddc2-7efd810f2294"
   },
   "outputs": [],
   "source": [
    "city_loc.append(city_pop)"
   ]
  },
  {
   "cell_type": "markdown",
   "metadata": {
    "id": "rWmtdooeM-Ic"
   },
   "source": [
    "판다스의 다른 메서드와 마찬가지로 `append()` 메서드는 실제 `city_loc`을 수정하지 않습니다. 복사본을 만들어 수정한 다음 반환합니다."
   ]
  },
  {
   "cell_type": "markdown",
   "metadata": {
    "id": "RnrOfgu5M-Ic"
   },
   "source": [
    "# 범주\n",
    "\n",
    "범주로 표현된 값을 가진 경우가 흔합니다. 예를 들어 `1`은 여성, `2`는 남성이거나 `\"A\"`는 좋은 것, `\"B\"`는 평균, `\"C\"`는 나쁜 것 등입니다. 범주형 값을 읽기 힘들고 다루기 번거롭습니다. 하지만 판다스에서는 간단합니다. 예를 들기 위해 앞서 만든 `city_pop` `DataFrame`에 범주를 표현하는 열을 추가해 보겠습니다:"
   ]
  },
  {
   "cell_type": "code",
   "execution_count": null,
   "metadata": {
    "id": "TIjVoQh_M-Ic",
    "outputId": "11bfcf2e-260d-4a6e-9ca7-099f9a2a13c5"
   },
   "outputs": [],
   "source": [
    "city_eco = city_pop.copy()\n",
    "city_eco[\"eco_code\"] = [17, 17, 34, 20]\n",
    "city_eco"
   ]
  },
  {
   "cell_type": "markdown",
   "metadata": {
    "id": "nbHlmaidM-Ic"
   },
   "source": [
    "이제 `eco_code`열은 의미없는 코드입니다. 이를 바꿔 보죠. 먼저 `eco_code`를 기반으로 새로운 범주형 열을 만듭니다:"
   ]
  },
  {
   "cell_type": "code",
   "execution_count": null,
   "metadata": {
    "id": "n_-_nGmtM-Ic",
    "outputId": "0498a0e4-2fcc-4c97-8861-f7abd6970f5a"
   },
   "outputs": [],
   "source": [
    "city_eco[\"economy\"] = city_eco[\"eco_code\"].astype('category')\n",
    "city_eco[\"economy\"].cat.categories"
   ]
  },
  {
   "cell_type": "markdown",
   "metadata": {
    "id": "dABY-7ZrM-Ic"
   },
   "source": [
    "의미있는 이름을 가진 범주를 지정할 수 있습니다:"
   ]
  },
  {
   "cell_type": "code",
   "execution_count": null,
   "metadata": {
    "id": "xnujwScEM-Ic",
    "outputId": "4dc22e11-2546-410b-a88c-245150b26276"
   },
   "outputs": [],
   "source": [
    "city_eco[\"economy\"].cat.categories = [\"Finance\", \"Energy\", \"Tourism\"]\n",
    "city_eco"
   ]
  },
  {
   "cell_type": "markdown",
   "metadata": {
    "id": "enLvlnlBM-Ic"
   },
   "source": [
    "범주형 값은 알파벳 순서가 아니라 범주형 순서로 정렬합니다:"
   ]
  },
  {
   "cell_type": "code",
   "execution_count": null,
   "metadata": {
    "id": "mB62UL1xM-Ic",
    "outputId": "89bef347-e235-4fbc-b2d3-58fff92f58a9"
   },
   "outputs": [],
   "source": [
    "city_eco.sort_values(by=\"economy\", ascending=False)"
   ]
  },
  {
   "cell_type": "markdown",
   "metadata": {
    "id": "yFDUlSFOM-Ic"
   },
   "source": [
    "# 그 다음엔?\n",
    "\n",
    "이제 알았겠지만 판다스는 매우 커다란 라이브러리이고 기능이 많습니다. 가장 중요한 기능들을 둘러 보았지만 빙산의 일각일 뿐입니다. 더 많은 것을 익히려면 실전 데이터로 직접 실습해 보는 것이 제일 좋습니다. 판다스의 훌륭한 [문서](http://pandas.pydata.org/pandas-docs/stable/index.html)와 [쿡북](http://pandas.pydata.org/pandas-docs/stable/cookbook.html)을 보는 것도 좋습니다."
   ]
  }
 ],
 "metadata": {
  "colab": {
   "name": "tools_pandas.ipynb",
   "provenance": []
  },
  "kernelspec": {
   "display_name": "Python 3 (ipykernel)",
   "language": "python",
   "name": "python3"
  },
  "language_info": {
   "codemirror_mode": {
    "name": "ipython",
    "version": 3
   },
   "file_extension": ".py",
   "mimetype": "text/x-python",
   "name": "python",
   "nbconvert_exporter": "python",
   "pygments_lexer": "ipython3",
   "version": "3.9.7"
  },
  "toc": {
   "toc_cell": false,
   "toc_number_sections": true,
   "toc_section_display": "none",
   "toc_threshold": 6,
   "toc_window_display": true
  }
 },
 "nbformat": 4,
 "nbformat_minor": 4
}
